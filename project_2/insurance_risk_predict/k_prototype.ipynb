{
 "cells": [
  {
   "cell_type": "code",
   "execution_count": 49,
   "id": "6eec2f8a-0379-4541-9c82-a9fe7d2bf2c8",
   "metadata": {
    "tags": []
   },
   "outputs": [],
   "source": [
    "# Import module for data manipulation\n",
    "import pandas as pd\n",
    "# Import module for linear algebra\n",
    "import numpy as np\n",
    "# Import module for data visualization\n",
    "from plotnine import *\n",
    "import plotnine\n",
    "# Import module for k-protoype cluster\n",
    "from kmodes.kprototypes import KPrototypes\n",
    "# Ignore warnings\n",
    "import warnings\n",
    "warnings.filterwarnings('ignore', category = FutureWarning)\n",
    "# Format scientific notation from Pandas\n",
    "pd.set_option('display.float_format', lambda x: '%.3f' % x)"
   ]
  },
  {
   "cell_type": "code",
   "execution_count": 24,
   "id": "f598d655-5774-4bce-8882-ff27b7d8333a",
   "metadata": {
    "tags": []
   },
   "outputs": [
    {
     "name": "stdout",
     "output_type": "stream",
     "text": [
      "Dimension data: 60392 rows and 15 columns\n"
     ]
    },
    {
     "data": {
      "text/html": [
       "<div>\n",
       "<style scoped>\n",
       "    .dataframe tbody tr th:only-of-type {\n",
       "        vertical-align: middle;\n",
       "    }\n",
       "\n",
       "    .dataframe tbody tr th {\n",
       "        vertical-align: top;\n",
       "    }\n",
       "\n",
       "    .dataframe thead th {\n",
       "        text-align: right;\n",
       "    }\n",
       "</style>\n",
       "<table border=\"1\" class=\"dataframe\">\n",
       "  <thead>\n",
       "    <tr style=\"text-align: right;\">\n",
       "      <th></th>\n",
       "      <th>pol_number</th>\n",
       "      <th>pol_eff_dt</th>\n",
       "      <th>gender</th>\n",
       "      <th>agecat</th>\n",
       "      <th>date_of_birth</th>\n",
       "      <th>credit_score</th>\n",
       "      <th>area</th>\n",
       "      <th>traffic_index</th>\n",
       "      <th>veh_age</th>\n",
       "      <th>veh_body</th>\n",
       "      <th>veh_value</th>\n",
       "      <th>claim_office</th>\n",
       "      <th>numclaims</th>\n",
       "      <th>claimcst0</th>\n",
       "      <th>annual_premium</th>\n",
       "    </tr>\n",
       "  </thead>\n",
       "  <tbody>\n",
       "    <tr>\n",
       "      <th>0</th>\n",
       "      <td>43124327</td>\n",
       "      <td>12/30/2020</td>\n",
       "      <td>F</td>\n",
       "      <td>4.000</td>\n",
       "      <td>7/12/1968</td>\n",
       "      <td>381.000</td>\n",
       "      <td>D</td>\n",
       "      <td>133.600</td>\n",
       "      <td>2</td>\n",
       "      <td>HBACK</td>\n",
       "      <td>1.331</td>\n",
       "      <td>NaN</td>\n",
       "      <td>0</td>\n",
       "      <td>0.000</td>\n",
       "      <td>716.530</td>\n",
       "    </tr>\n",
       "    <tr>\n",
       "      <th>1</th>\n",
       "      <td>21919609</td>\n",
       "      <td>12/30/2020</td>\n",
       "      <td>F</td>\n",
       "      <td>2.000</td>\n",
       "      <td>11/5/1982</td>\n",
       "      <td>549.000</td>\n",
       "      <td>D</td>\n",
       "      <td>163.600</td>\n",
       "      <td>1</td>\n",
       "      <td>UTE</td>\n",
       "      <td>3.740</td>\n",
       "      <td>NaN</td>\n",
       "      <td>0</td>\n",
       "      <td>0.000</td>\n",
       "      <td>716.530</td>\n",
       "    </tr>\n",
       "    <tr>\n",
       "      <th>2</th>\n",
       "      <td>72577057</td>\n",
       "      <td>12/30/2020</td>\n",
       "      <td>M</td>\n",
       "      <td>2.000</td>\n",
       "      <td>11/26/1983</td>\n",
       "      <td>649.000</td>\n",
       "      <td>B</td>\n",
       "      <td>117.500</td>\n",
       "      <td>4</td>\n",
       "      <td>COUPE</td>\n",
       "      <td>0.880</td>\n",
       "      <td>NaN</td>\n",
       "      <td>0</td>\n",
       "      <td>0.000</td>\n",
       "      <td>716.530</td>\n",
       "    </tr>\n",
       "    <tr>\n",
       "      <th>3</th>\n",
       "      <td>92175225</td>\n",
       "      <td>12/30/2020</td>\n",
       "      <td>M</td>\n",
       "      <td>4.000</td>\n",
       "      <td>11/2/1960</td>\n",
       "      <td>743.000</td>\n",
       "      <td>B</td>\n",
       "      <td>100.700</td>\n",
       "      <td>3</td>\n",
       "      <td>SEDAN</td>\n",
       "      <td>1.045</td>\n",
       "      <td>NaN</td>\n",
       "      <td>0</td>\n",
       "      <td>0.000</td>\n",
       "      <td>716.530</td>\n",
       "    </tr>\n",
       "    <tr>\n",
       "      <th>4</th>\n",
       "      <td>66223239</td>\n",
       "      <td>12/30/2020</td>\n",
       "      <td>F</td>\n",
       "      <td>4.000</td>\n",
       "      <td>1/4/1968</td>\n",
       "      <td>817.000</td>\n",
       "      <td>C</td>\n",
       "      <td>115.500</td>\n",
       "      <td>4</td>\n",
       "      <td>HBACK</td>\n",
       "      <td>0.473</td>\n",
       "      <td>NaN</td>\n",
       "      <td>0</td>\n",
       "      <td>0.000</td>\n",
       "      <td>716.530</td>\n",
       "    </tr>\n",
       "  </tbody>\n",
       "</table>\n",
       "</div>"
      ],
      "text/plain": [
       "   pol_number  pol_eff_dt gender  agecat date_of_birth  credit_score area  \\\n",
       "0    43124327  12/30/2020      F   4.000     7/12/1968       381.000    D   \n",
       "1    21919609  12/30/2020      F   2.000     11/5/1982       549.000    D   \n",
       "2    72577057  12/30/2020      M   2.000    11/26/1983       649.000    B   \n",
       "3    92175225  12/30/2020      M   4.000     11/2/1960       743.000    B   \n",
       "4    66223239  12/30/2020      F   4.000      1/4/1968       817.000    C   \n",
       "\n",
       "   traffic_index  veh_age veh_body  veh_value claim_office  numclaims  \\\n",
       "0        133.600        2    HBACK      1.331          NaN          0   \n",
       "1        163.600        1      UTE      3.740          NaN          0   \n",
       "2        117.500        4    COUPE      0.880          NaN          0   \n",
       "3        100.700        3    SEDAN      1.045          NaN          0   \n",
       "4        115.500        4    HBACK      0.473          NaN          0   \n",
       "\n",
       "   claimcst0  annual_premium  \n",
       "0      0.000         716.530  \n",
       "1      0.000         716.530  \n",
       "2      0.000         716.530  \n",
       "3      0.000         716.530  \n",
       "4      0.000         716.530  "
      ]
     },
     "execution_count": 24,
     "metadata": {},
     "output_type": "execute_result"
    }
   ],
   "source": [
    "# Load the data\n",
    "df = pd.read_csv('data.csv')\n",
    "# The dimension of data\n",
    "print('Dimension data: {} rows and {} columns'.format(len(df), len(df.columns)))\n",
    "# Print the first 5 rows\n",
    "df.head()"
   ]
  },
  {
   "cell_type": "code",
   "execution_count": 25,
   "id": "7ce0da40-320a-426a-8c48-a2ce3c2e839d",
   "metadata": {
    "tags": []
   },
   "outputs": [
    {
     "name": "stdout",
     "output_type": "stream",
     "text": [
      "<class 'pandas.core.frame.DataFrame'>\n",
      "RangeIndex: 60392 entries, 0 to 60391\n",
      "Data columns (total 15 columns):\n",
      " #   Column          Non-Null Count  Dtype  \n",
      "---  ------          --------------  -----  \n",
      " 0   pol_number      60392 non-null  int64  \n",
      " 1   pol_eff_dt      60392 non-null  object \n",
      " 2   gender          60392 non-null  object \n",
      " 3   agecat          55561 non-null  float64\n",
      " 4   date_of_birth   60392 non-null  object \n",
      " 5   credit_score    57591 non-null  float64\n",
      " 6   area            60392 non-null  object \n",
      " 7   traffic_index   56889 non-null  float64\n",
      " 8   veh_age         60392 non-null  int64  \n",
      " 9   veh_body        60392 non-null  object \n",
      " 10  veh_value       60392 non-null  float64\n",
      " 11  claim_office    10030 non-null  object \n",
      " 12  numclaims       60392 non-null  int64  \n",
      " 13  claimcst0       60392 non-null  float64\n",
      " 14  annual_premium  60392 non-null  float64\n",
      "dtypes: float64(6), int64(3), object(6)\n",
      "memory usage: 6.9+ MB\n"
     ]
    }
   ],
   "source": [
    "# Inspect the data type\n",
    "df.info()"
   ]
  },
  {
   "cell_type": "code",
   "execution_count": 26,
   "id": "0ed58b2b-5727-4bcf-b728-0e427ce55781",
   "metadata": {
    "tags": []
   },
   "outputs": [],
   "source": [
    "import datetime\n",
    "\n",
    "features = df\n",
    "# features = features.drop(columns=['pol_number', 'claim_office', 'annual_premium'])\n",
    "features = features.drop(columns=['claim_office', 'annual_premium'])\n",
    "# features[np.isnan(features['agecat'])]\n",
    "\n",
    "def get_age_at_eff_dt(pol_eff_dt_str, date_of_birth_str):\n",
    "    pol_eff_dt = datetime.datetime.strptime(pol_eff_dt_str, '%m/%d/%Y')\n",
    "    date_of_birth = datetime.datetime.strptime(date_of_birth_str, '%m/%d/%Y')\n",
    "    age_at_eff_dt = pol_eff_dt - date_of_birth\n",
    "    return age_at_eff_dt.days//365\n",
    "\n",
    "features['age_at_eff_dt'] = features.apply(lambda row: get_age_at_eff_dt(row['pol_eff_dt'], row['date_of_birth']), axis = 1)\n",
    "features = features.drop(columns=['agecat', 'date_of_birth','pol_eff_dt'])"
   ]
  },
  {
   "cell_type": "code",
   "execution_count": 27,
   "id": "1b3eaced-96ee-486f-a23b-399500fe3647",
   "metadata": {
    "tags": []
   },
   "outputs": [
    {
     "data": {
      "text/plain": [
       "gender       2\n",
       "area         6\n",
       "veh_body    13\n",
       "dtype: int64"
      ]
     },
     "execution_count": 27,
     "metadata": {},
     "output_type": "execute_result"
    }
   ],
   "source": [
    "# Inspect the categorical variables\n",
    "features.select_dtypes('object').nunique()"
   ]
  },
  {
   "cell_type": "code",
   "execution_count": 28,
   "id": "59419d59-7473-481f-a330-d362b654f7de",
   "metadata": {
    "tags": []
   },
   "outputs": [
    {
     "data": {
      "text/html": [
       "<div>\n",
       "<style scoped>\n",
       "    .dataframe tbody tr th:only-of-type {\n",
       "        vertical-align: middle;\n",
       "    }\n",
       "\n",
       "    .dataframe tbody tr th {\n",
       "        vertical-align: top;\n",
       "    }\n",
       "\n",
       "    .dataframe thead th {\n",
       "        text-align: right;\n",
       "    }\n",
       "</style>\n",
       "<table border=\"1\" class=\"dataframe\">\n",
       "  <thead>\n",
       "    <tr style=\"text-align: right;\">\n",
       "      <th></th>\n",
       "      <th>pol_number</th>\n",
       "      <th>credit_score</th>\n",
       "      <th>traffic_index</th>\n",
       "      <th>veh_age</th>\n",
       "      <th>veh_value</th>\n",
       "      <th>numclaims</th>\n",
       "      <th>claimcst0</th>\n",
       "      <th>age_at_eff_dt</th>\n",
       "    </tr>\n",
       "  </thead>\n",
       "  <tbody>\n",
       "    <tr>\n",
       "      <th>count</th>\n",
       "      <td>60392.000</td>\n",
       "      <td>57591.000</td>\n",
       "      <td>56889.000</td>\n",
       "      <td>60392.000</td>\n",
       "      <td>60392.000</td>\n",
       "      <td>60392.000</td>\n",
       "      <td>60392.000</td>\n",
       "      <td>60392.000</td>\n",
       "    </tr>\n",
       "    <tr>\n",
       "      <th>mean</th>\n",
       "      <td>54992042.969</td>\n",
       "      <td>662.193</td>\n",
       "      <td>103.893</td>\n",
       "      <td>2.674</td>\n",
       "      <td>1.956</td>\n",
       "      <td>0.214</td>\n",
       "      <td>644.876</td>\n",
       "      <td>50.279</td>\n",
       "    </tr>\n",
       "    <tr>\n",
       "      <th>std</th>\n",
       "      <td>25870034.663</td>\n",
       "      <td>136.450</td>\n",
       "      <td>33.689</td>\n",
       "      <td>1.068</td>\n",
       "      <td>1.330</td>\n",
       "      <td>0.552</td>\n",
       "      <td>3354.632</td>\n",
       "      <td>15.324</td>\n",
       "    </tr>\n",
       "    <tr>\n",
       "      <th>min</th>\n",
       "      <td>10000396.000</td>\n",
       "      <td>301.000</td>\n",
       "      <td>0.000</td>\n",
       "      <td>1.000</td>\n",
       "      <td>0.000</td>\n",
       "      <td>0.000</td>\n",
       "      <td>0.000</td>\n",
       "      <td>20.000</td>\n",
       "    </tr>\n",
       "    <tr>\n",
       "      <th>25%</th>\n",
       "      <td>32804730.500</td>\n",
       "      <td>602.000</td>\n",
       "      <td>80.300</td>\n",
       "      <td>2.000</td>\n",
       "      <td>1.111</td>\n",
       "      <td>0.000</td>\n",
       "      <td>0.000</td>\n",
       "      <td>39.000</td>\n",
       "    </tr>\n",
       "    <tr>\n",
       "      <th>50%</th>\n",
       "      <td>55001798.500</td>\n",
       "      <td>682.000</td>\n",
       "      <td>108.300</td>\n",
       "      <td>3.000</td>\n",
       "      <td>1.650</td>\n",
       "      <td>0.000</td>\n",
       "      <td>0.000</td>\n",
       "      <td>50.000</td>\n",
       "    </tr>\n",
       "    <tr>\n",
       "      <th>75%</th>\n",
       "      <td>77296135.000</td>\n",
       "      <td>772.000</td>\n",
       "      <td>132.000</td>\n",
       "      <td>4.000</td>\n",
       "      <td>2.365</td>\n",
       "      <td>0.000</td>\n",
       "      <td>0.000</td>\n",
       "      <td>60.000</td>\n",
       "    </tr>\n",
       "    <tr>\n",
       "      <th>max</th>\n",
       "      <td>99998382.000</td>\n",
       "      <td>850.000</td>\n",
       "      <td>207.000</td>\n",
       "      <td>4.000</td>\n",
       "      <td>38.016</td>\n",
       "      <td>5.000</td>\n",
       "      <td>69478.898</td>\n",
       "      <td>97.000</td>\n",
       "    </tr>\n",
       "  </tbody>\n",
       "</table>\n",
       "</div>"
      ],
      "text/plain": [
       "        pol_number  credit_score  traffic_index   veh_age  veh_value  \\\n",
       "count    60392.000     57591.000      56889.000 60392.000  60392.000   \n",
       "mean  54992042.969       662.193        103.893     2.674      1.956   \n",
       "std   25870034.663       136.450         33.689     1.068      1.330   \n",
       "min   10000396.000       301.000          0.000     1.000      0.000   \n",
       "25%   32804730.500       602.000         80.300     2.000      1.111   \n",
       "50%   55001798.500       682.000        108.300     3.000      1.650   \n",
       "75%   77296135.000       772.000        132.000     4.000      2.365   \n",
       "max   99998382.000       850.000        207.000     4.000     38.016   \n",
       "\n",
       "       numclaims  claimcst0  age_at_eff_dt  \n",
       "count  60392.000  60392.000      60392.000  \n",
       "mean       0.214    644.876         50.279  \n",
       "std        0.552   3354.632         15.324  \n",
       "min        0.000      0.000         20.000  \n",
       "25%        0.000      0.000         39.000  \n",
       "50%        0.000      0.000         50.000  \n",
       "75%        0.000      0.000         60.000  \n",
       "max        5.000  69478.898         97.000  "
      ]
     },
     "execution_count": 28,
     "metadata": {},
     "output_type": "execute_result"
    }
   ],
   "source": [
    "# Inspect the numerical variables\n",
    "features.describe()"
   ]
  },
  {
   "cell_type": "code",
   "execution_count": 29,
   "id": "a564c8a5-d9b7-4a27-bc10-6a5273ec7273",
   "metadata": {
    "tags": []
   },
   "outputs": [
    {
     "data": {
      "text/plain": [
       "pol_number          0\n",
       "gender              0\n",
       "credit_score     2801\n",
       "area                0\n",
       "traffic_index    3503\n",
       "veh_age             0\n",
       "veh_body            0\n",
       "veh_value           0\n",
       "numclaims           0\n",
       "claimcst0           0\n",
       "age_at_eff_dt       0\n",
       "dtype: int64"
      ]
     },
     "execution_count": 29,
     "metadata": {},
     "output_type": "execute_result"
    }
   ],
   "source": [
    "# Check missing value\n",
    "features.isna().sum()\n",
    "# features['credit_score'].isna() and features['traffic_index'].isna()"
   ]
  },
  {
   "cell_type": "code",
   "execution_count": 30,
   "id": "e4a4f69e-db2a-4036-aeeb-aa4f8abb9bf4",
   "metadata": {
    "tags": []
   },
   "outputs": [],
   "source": [
    "features = features.dropna()"
   ]
  },
  {
   "cell_type": "code",
   "execution_count": 33,
   "id": "edbe3904-aa59-4ab9-8fde-22a9cdae598d",
   "metadata": {
    "tags": []
   },
   "outputs": [],
   "source": [
    "features.to_excel('features.xlsx')"
   ]
  },
  {
   "cell_type": "code",
   "execution_count": 35,
   "id": "9fe21872-f3fa-4f04-89b2-f161a2f56262",
   "metadata": {
    "tags": []
   },
   "outputs": [
    {
     "name": "stdout",
     "output_type": "stream",
     "text": [
      "<class 'pandas.core.frame.DataFrame'>\n",
      "Int64Index: 54252 entries, 0 to 60389\n",
      "Data columns (total 11 columns):\n",
      " #   Column         Non-Null Count  Dtype  \n",
      "---  ------         --------------  -----  \n",
      " 0   pol_number     54252 non-null  int64  \n",
      " 1   gender         54252 non-null  object \n",
      " 2   credit_score   54252 non-null  float64\n",
      " 3   area           54252 non-null  object \n",
      " 4   traffic_index  54252 non-null  float64\n",
      " 5   veh_age        54252 non-null  int64  \n",
      " 6   veh_body       54252 non-null  object \n",
      " 7   veh_value      54252 non-null  float64\n",
      " 8   numclaims      54252 non-null  int64  \n",
      " 9   claimcst0      54252 non-null  float64\n",
      " 10  age_at_eff_dt  54252 non-null  int64  \n",
      "dtypes: float64(4), int64(4), object(3)\n",
      "memory usage: 5.0+ MB\n"
     ]
    }
   ],
   "source": [
    "features.info()"
   ]
  },
  {
   "cell_type": "code",
   "execution_count": 41,
   "id": "3806bfec-60ed-42b2-bfba-5c422c812a3d",
   "metadata": {
    "tags": []
   },
   "outputs": [],
   "source": [
    "from sklearn.preprocessing import MinMaxScaler\n",
    "\n",
    "scaler = MinMaxScaler()\n",
    "scaler.fit(features[['credit_score', 'traffic_index', 'veh_age', 'veh_value', 'numclaims', 'claimcst0', 'age_at_eff_dt']])\n",
    "transformed_numeric_features = scaler.transform(features[['credit_score', 'traffic_index', 'veh_age', 'veh_value', 'numclaims', 'claimcst0', 'age_at_eff_dt']])\n",
    "features[['credit_score_new', 'traffic_index_new', 'veh_age_new', 'veh_value_new', 'numclaims_new', 'claimcst0_new', 'age_at_eff_dt_new']] = transformed_numeric_features"
   ]
  },
  {
   "cell_type": "code",
   "execution_count": 42,
   "id": "f16616e0-1fcf-475c-a9fa-cde1819a7b55",
   "metadata": {
    "tags": []
   },
   "outputs": [
    {
     "name": "stdout",
     "output_type": "stream",
     "text": [
      "<class 'pandas.core.frame.DataFrame'>\n",
      "Int64Index: 54252 entries, 0 to 60389\n",
      "Data columns (total 18 columns):\n",
      " #   Column             Non-Null Count  Dtype  \n",
      "---  ------             --------------  -----  \n",
      " 0   pol_number         54252 non-null  int64  \n",
      " 1   gender             54252 non-null  object \n",
      " 2   credit_score       54252 non-null  float64\n",
      " 3   area               54252 non-null  object \n",
      " 4   traffic_index      54252 non-null  float64\n",
      " 5   veh_age            54252 non-null  int64  \n",
      " 6   veh_body           54252 non-null  object \n",
      " 7   veh_value          54252 non-null  float64\n",
      " 8   numclaims          54252 non-null  int64  \n",
      " 9   claimcst0          54252 non-null  float64\n",
      " 10  age_at_eff_dt      54252 non-null  int64  \n",
      " 11  credit_score_new   54252 non-null  float64\n",
      " 12  traffic_index_new  54252 non-null  float64\n",
      " 13  veh_age_new        54252 non-null  float64\n",
      " 14  veh_value_new      54252 non-null  float64\n",
      " 15  numclaims_new      54252 non-null  float64\n",
      " 16  claimcst0_new      54252 non-null  float64\n",
      " 17  age_at_eff_dt_new  54252 non-null  float64\n",
      "dtypes: float64(11), int64(4), object(3)\n",
      "memory usage: 7.9+ MB\n"
     ]
    }
   ],
   "source": [
    "features.info()"
   ]
  },
  {
   "cell_type": "code",
   "execution_count": 45,
   "id": "7b22701f-5fe3-4da0-8353-7cb08245c0f4",
   "metadata": {
    "tags": []
   },
   "outputs": [],
   "source": [
    "# Convert dataframe to matrix\n",
    "dfMatrix = features[['gender', 'area', 'veh_body', 'credit_score_new', 'traffic_index_new', 'veh_age_new', 'veh_value_new', 'numclaims_new', 'claimcst0_new', 'age_at_eff_dt_new']].to_numpy()"
   ]
  },
  {
   "cell_type": "code",
   "execution_count": 46,
   "id": "43e562d2-9c8e-409e-aed4-9b63099f6486",
   "metadata": {
    "tags": []
   },
   "outputs": [
    {
     "data": {
      "text/plain": [
       "array([['F', 'D', 'HBACK', ..., 0.0, 0.0, 0.41558441558441556],\n",
       "       ['F', 'D', 'UTE', ..., 0.0, 0.0, 0.2337662337662338],\n",
       "       ['M', 'B', 'COUPE', ..., 0.0, 0.0, 0.2207792207792208],\n",
       "       ...,\n",
       "       ['F', 'C', 'HBACK', ..., 0.0, 0.0, 0.5584415584415585],\n",
       "       ['M', 'D', 'HBACK', ..., 0.0, 0.0, 0.4935064935064935],\n",
       "       ['M', 'F', 'STNWG', ..., 0.0, 0.0, 0.44155844155844154]],\n",
       "      dtype=object)"
      ]
     },
     "execution_count": 46,
     "metadata": {},
     "output_type": "execute_result"
    }
   ],
   "source": [
    "dfMatrix"
   ]
  },
  {
   "cell_type": "code",
   "execution_count": 47,
   "id": "90961b79-52c7-4570-aee4-1a3a219ac3af",
   "metadata": {
    "tags": []
   },
   "outputs": [
    {
     "name": "stdout",
     "output_type": "stream",
     "text": [
      "Categorical columns           : ['gender', 'area', 'veh_body']\n",
      "Categorical columns position  : [0, 1, 2]\n"
     ]
    }
   ],
   "source": [
    "# Get the position of categorical columns\n",
    "features_final = features[['gender', 'area', 'veh_body', 'credit_score_new', 'traffic_index_new', 'veh_age_new', 'veh_value_new', 'numclaims_new', 'claimcst0_new', 'age_at_eff_dt_new']]\n",
    "catColumnsPos = [features_final.columns.get_loc(col) for col in list(features_final.select_dtypes('object').columns)]\n",
    "print('Categorical columns           : {}'.format(list(features_final.select_dtypes('object').columns)))\n",
    "print('Categorical columns position  : {}'.format(catColumnsPos))"
   ]
  },
  {
   "cell_type": "code",
   "execution_count": 68,
   "id": "2ee7d901-760b-4848-8aac-14d4488dab0d",
   "metadata": {
    "tags": []
   },
   "outputs": [],
   "source": [
    "cost = []\n",
    "kprototypes = []"
   ]
  },
  {
   "cell_type": "code",
   "execution_count": 69,
   "id": "a2906996-dcfd-4fc3-81a5-c759cdc4dc55",
   "metadata": {
    "tags": []
   },
   "outputs": [
    {
     "name": "stdout",
     "output_type": "stream",
     "text": [
      "Cluster initiation: 1\n",
      "Cluster initiation: 2\n",
      "Cluster initiation: 3\n",
      "Cluster initiation: 4\n",
      "Cluster initiation: 5\n",
      "Cluster initiation: 6\n",
      "Cluster initiation: 7\n",
      "Cluster initiation: 8\n",
      "Cluster initiation: 9\n"
     ]
    }
   ],
   "source": [
    "# Choose optimal K using Elbow method\n",
    "for cluster in range(1, 10):\n",
    "    try:\n",
    "        kprototype = KPrototypes(n_jobs = -1, n_clusters = cluster, init = 'Huang', random_state = 0)\n",
    "        kprototype.fit_predict(dfMatrix, categorical = catColumnsPos)\n",
    "        cost.append(kprototype.cost_)\n",
    "        print('Cluster initiation: {}'.format(cluster))\n",
    "        kprototypes.append(kprototype)\n",
    "    except:\n",
    "        break\n",
    "# Converting the results into a dataframe and plotting them\n",
    "df_cost = pd.DataFrame({'Cluster':range(1, 10), 'Cost':cost})"
   ]
  },
  {
   "cell_type": "code",
   "execution_count": 70,
   "id": "09834245-fe28-48cc-8d32-dc5d2fb2e7dc",
   "metadata": {
    "tags": []
   },
   "outputs": [
    {
     "data": {
      "image/png": "[encoded data removed]",
      "text/plain": [
       "<Figure size 800x480 with 1 Axes>"
      ]
     },
     "metadata": {
      "needs_background": "light"
     },
     "output_type": "display_data"
    },
    {
     "data": {
      "text/plain": [
       "<ggplot: (8789804104644)>"
      ]
     },
     "execution_count": 70,
     "metadata": {},
     "output_type": "execute_result"
    }
   ],
   "source": [
    "# Data viz\n",
    "plotnine.options.figure_size = (8, 4.8)\n",
    "(\n",
    "    ggplot(data = df_cost)+\n",
    "    geom_line(aes(x = 'Cluster',\n",
    "                  y = 'Cost'))+\n",
    "    geom_point(aes(x = 'Cluster',\n",
    "                   y = 'Cost'))+\n",
    "    geom_label(aes(x = 'Cluster',\n",
    "                   y = 'Cost',\n",
    "                   label = 'Cluster'),\n",
    "               size = 10,\n",
    "               nudge_y = 1000) +\n",
    "    labs(title = 'Optimal number of cluster with Elbow Method')+\n",
    "    xlab('Number of Clusters k')+\n",
    "    ylab('Cost')+\n",
    "    theme_minimal()\n",
    ")"
   ]
  },
  {
   "cell_type": "code",
   "execution_count": 56,
   "id": "944a6848-af6e-449a-97f6-6017fedce0cd",
   "metadata": {
    "tags": []
   },
   "outputs": [
    {
     "data": {
      "text/plain": [
       "array([2, 2, 1, ..., 0, 2, 2], dtype=uint16)"
      ]
     },
     "execution_count": 56,
     "metadata": {},
     "output_type": "execute_result"
    }
   ],
   "source": [
    "# Fit the cluster\n",
    "kprototype = KPrototypes(n_jobs = -1, n_clusters = 3, init = 'Huang', random_state = 0)\n",
    "kprototype.fit_predict(dfMatrix, categorical = catColumnsPos)"
   ]
  },
  {
   "cell_type": "code",
   "execution_count": 58,
   "id": "c855a9f8-dc38-4eca-ba0e-97caee00a4c5",
   "metadata": {
    "tags": []
   },
   "outputs": [],
   "source": [
    "clusters = _"
   ]
  },
  {
   "cell_type": "code",
   "execution_count": 67,
   "id": "a05ec56c-54c7-4666-9f5a-cab60db25033",
   "metadata": {
    "tags": []
   },
   "outputs": [
    {
     "name": "stdout",
     "output_type": "stream",
     "text": [
      "The average silhouette score for k-prototype clustering with 3 clusters is 0.108883\n"
     ]
    }
   ],
   "source": [
    "from sklearn.cluster import KMeans\n",
    "# from sklearn_extra.cluster import KPrototypes\n",
    "from sklearn.metrics import silhouette_score\n",
    "from gower import gower_matrix\n",
    "\n",
    "# kproto = KPrototypes(n_clusters=n_clusters, categorical=cat_cols, random_state=random_state)\n",
    "# clusters = kproto.fit_predict(X)\n",
    "\n",
    "silhouette_avg = silhouette_score(gower_matrix(dfMatrix), clusters, metric='precomputed')\n",
    "print(\"The average silhouette score for k-prototype clustering with %d clusters is %f\" % (3, silhouette_avg))"
   ]
  },
  {
   "cell_type": "code",
   "execution_count": 73,
   "id": "accf0373-7ffe-4303-bdd3-f1e9da537dde",
   "metadata": {
    "tags": []
   },
   "outputs": [
    {
     "name": "stdout",
     "output_type": "stream",
     "text": [
      "Stored 'kprototypes' (list)\n"
     ]
    }
   ],
   "source": [
    "%store kprototypes"
   ]
  },
  {
   "cell_type": "code",
   "execution_count": 74,
   "id": "ccf7fb6c-e707-4dd1-a8b0-2774993009e7",
   "metadata": {
    "tags": []
   },
   "outputs": [],
   "source": [
    "kprototype_3 = kprototypes[2]"
   ]
  },
  {
   "cell_type": "code",
   "execution_count": 78,
   "id": "d088b6ea-422f-49e2-a27d-5a4d002f946f",
   "metadata": {
    "tags": []
   },
   "outputs": [
    {
     "data": {
      "text/plain": [
       "15557.619427119453"
      ]
     },
     "execution_count": 78,
     "metadata": {},
     "output_type": "execute_result"
    }
   ],
   "source": [
    "# Cluster centorid\n",
    "# kprototype_3.cluster_centroids_\n",
    "# Check the iteration of the clusters created\n",
    "# kprototype_3.n_iter_\n",
    "# # Check the cost of the clusters created\n",
    "kprototype_3.cost_"
   ]
  },
  {
   "cell_type": "code",
   "execution_count": 85,
   "id": "6f70b73c-4e77-40c1-b167-b5fd420efe1d",
   "metadata": {
    "tags": []
   },
   "outputs": [
    {
     "ename": "KeyboardInterrupt",
     "evalue": "",
     "output_type": "error",
     "traceback": [
      "\u001b[0;31m---------------------------------------------------------------------------\u001b[0m",
      "\u001b[0;31mKeyboardInterrupt\u001b[0m                         Traceback (most recent call last)",
      "Cell \u001b[0;32mIn[85], line 2\u001b[0m\n\u001b[1;32m      1\u001b[0m kprototype_5 \u001b[38;5;241m=\u001b[39m kprototypes[\u001b[38;5;241m4\u001b[39m]\n\u001b[0;32m----> 2\u001b[0m silhouette_avg \u001b[38;5;241m=\u001b[39m silhouette_score(\u001b[43mgower_matrix\u001b[49m\u001b[43m(\u001b[49m\u001b[43mdfMatrix\u001b[49m\u001b[43m)\u001b[49m, kprototype_5\u001b[38;5;241m.\u001b[39mlabels_, metric\u001b[38;5;241m=\u001b[39m\u001b[38;5;124m'\u001b[39m\u001b[38;5;124mprecomputed\u001b[39m\u001b[38;5;124m'\u001b[39m)\n\u001b[1;32m      3\u001b[0m \u001b[38;5;28mprint\u001b[39m(\u001b[38;5;124m\"\u001b[39m\u001b[38;5;124mThe average silhouette score for k-prototype clustering with \u001b[39m\u001b[38;5;132;01m%d\u001b[39;00m\u001b[38;5;124m clusters is \u001b[39m\u001b[38;5;132;01m%f\u001b[39;00m\u001b[38;5;124m\"\u001b[39m \u001b[38;5;241m%\u001b[39m (\u001b[38;5;241m5\u001b[39m, silhouette_avg))\n",
      "File \u001b[0;32m~/anaconda3/envs/pycaret/lib/python3.8/site-packages/gower/gower_dist.py:89\u001b[0m, in \u001b[0;36mgower_matrix\u001b[0;34m(data_x, data_y, weight, cat_features)\u001b[0m\n\u001b[1;32m     87\u001b[0m     j_start \u001b[38;5;241m=\u001b[39m \u001b[38;5;241m0\u001b[39m\n\u001b[1;32m     88\u001b[0m \u001b[38;5;66;03m# call the main function\u001b[39;00m\n\u001b[0;32m---> 89\u001b[0m res \u001b[38;5;241m=\u001b[39m \u001b[43mgower_get\u001b[49m\u001b[43m(\u001b[49m\u001b[43mX_cat\u001b[49m\u001b[43m[\u001b[49m\u001b[43mi\u001b[49m\u001b[43m,\u001b[49m\u001b[43m:\u001b[49m\u001b[43m]\u001b[49m\u001b[43m,\u001b[49m\u001b[43m \u001b[49m\n\u001b[1;32m     90\u001b[0m \u001b[43m                  \u001b[49m\u001b[43mX_num\u001b[49m\u001b[43m[\u001b[49m\u001b[43mi\u001b[49m\u001b[43m,\u001b[49m\u001b[43m:\u001b[49m\u001b[43m]\u001b[49m\u001b[43m,\u001b[49m\n\u001b[1;32m     91\u001b[0m \u001b[43m                  \u001b[49m\u001b[43mY_cat\u001b[49m\u001b[43m[\u001b[49m\u001b[43mj_start\u001b[49m\u001b[43m:\u001b[49m\u001b[43my_n_rows\u001b[49m\u001b[43m,\u001b[49m\u001b[43m:\u001b[49m\u001b[43m]\u001b[49m\u001b[43m,\u001b[49m\n\u001b[1;32m     92\u001b[0m \u001b[43m                  \u001b[49m\u001b[43mY_num\u001b[49m\u001b[43m[\u001b[49m\u001b[43mj_start\u001b[49m\u001b[43m:\u001b[49m\u001b[43my_n_rows\u001b[49m\u001b[43m,\u001b[49m\u001b[43m:\u001b[49m\u001b[43m]\u001b[49m\u001b[43m,\u001b[49m\n\u001b[1;32m     93\u001b[0m \u001b[43m                  \u001b[49m\u001b[43mweight_cat\u001b[49m\u001b[43m,\u001b[49m\n\u001b[1;32m     94\u001b[0m \u001b[43m                  \u001b[49m\u001b[43mweight_num\u001b[49m\u001b[43m,\u001b[49m\n\u001b[1;32m     95\u001b[0m \u001b[43m                  \u001b[49m\u001b[43mweight_sum\u001b[49m\u001b[43m,\u001b[49m\n\u001b[1;32m     96\u001b[0m \u001b[43m                  \u001b[49m\u001b[43mcat_features\u001b[49m\u001b[43m,\u001b[49m\n\u001b[1;32m     97\u001b[0m \u001b[43m                  \u001b[49m\u001b[43mnum_ranges\u001b[49m\u001b[43m,\u001b[49m\n\u001b[1;32m     98\u001b[0m \u001b[43m                  \u001b[49m\u001b[43mnum_max\u001b[49m\u001b[43m)\u001b[49m \n\u001b[1;32m     99\u001b[0m \u001b[38;5;66;03m#print(res)\u001b[39;00m\n\u001b[1;32m    100\u001b[0m out[i,j_start:]\u001b[38;5;241m=\u001b[39mres\n",
      "File \u001b[0;32m~/anaconda3/envs/pycaret/lib/python3.8/site-packages/gower/gower_dist.py:115\u001b[0m, in \u001b[0;36mgower_get\u001b[0;34m(xi_cat, xi_num, xj_cat, xj_num, feature_weight_cat, feature_weight_num, feature_weight_sum, categorical_features, ranges_of_numeric, max_of_numeric)\u001b[0m\n\u001b[1;32m    112\u001b[0m sum_cat \u001b[38;5;241m=\u001b[39m np\u001b[38;5;241m.\u001b[39mmultiply(feature_weight_cat,sij_cat)\u001b[38;5;241m.\u001b[39msum(axis\u001b[38;5;241m=\u001b[39m\u001b[38;5;241m1\u001b[39m) \n\u001b[1;32m    114\u001b[0m \u001b[38;5;66;03m# numerical columns\u001b[39;00m\n\u001b[0;32m--> 115\u001b[0m abs_delta\u001b[38;5;241m=\u001b[39m\u001b[43mnp\u001b[49m\u001b[38;5;241;43m.\u001b[39;49m\u001b[43mabsolute\u001b[49m\u001b[43m(\u001b[49m\u001b[43mxi_num\u001b[49m\u001b[38;5;241;43m-\u001b[39;49m\u001b[43mxj_num\u001b[49m\u001b[43m)\u001b[49m\n\u001b[1;32m    116\u001b[0m sij_num\u001b[38;5;241m=\u001b[39mnp\u001b[38;5;241m.\u001b[39mdivide(abs_delta, ranges_of_numeric, out\u001b[38;5;241m=\u001b[39mnp\u001b[38;5;241m.\u001b[39mzeros_like(abs_delta), where\u001b[38;5;241m=\u001b[39mranges_of_numeric\u001b[38;5;241m!=\u001b[39m\u001b[38;5;241m0\u001b[39m)\n\u001b[1;32m    118\u001b[0m sum_num \u001b[38;5;241m=\u001b[39m np\u001b[38;5;241m.\u001b[39mmultiply(feature_weight_num,sij_num)\u001b[38;5;241m.\u001b[39msum(axis\u001b[38;5;241m=\u001b[39m\u001b[38;5;241m1\u001b[39m)\n",
      "\u001b[0;31mKeyboardInterrupt\u001b[0m: "
     ]
    }
   ],
   "source": [
    "kprototype_5 = kprototypes[4]\n",
    "silhouette_avg = silhouette_score(gower_matrix(dfMatrix), kprototype_5.labels_, metric='precomputed')\n",
    "print(\"The average silhouette score for k-prototype clustering with %d clusters is %f\" % (5, silhouette_avg))"
   ]
  },
  {
   "cell_type": "code",
   "execution_count": 80,
   "id": "e5a757b8-ea13-43a5-a1ec-c43ac46c59d6",
   "metadata": {
    "tags": []
   },
   "outputs": [],
   "source": [
    "# Add the cluster to the dataframe\n",
    "features['Cluster Labels'] = kprototype_3.labels_\n",
    "features['Segment'] = features['Cluster Labels'].map({0:'First', 1:'Second', 2:'Third'})\n",
    "# Order the cluster\n",
    "features['Segment'] = features['Segment'].astype('category')\n",
    "features['Segment'] = features['Segment'].cat.reorder_categories(['First','Second','Third'])"
   ]
  },
  {
   "cell_type": "code",
   "execution_count": 82,
   "id": "3874810a-9ebd-4c55-8695-960648b73df8",
   "metadata": {
    "tags": []
   },
   "outputs": [
    {
     "data": {
      "text/html": [
       "<div>\n",
       "<style scoped>\n",
       "    .dataframe tbody tr th:only-of-type {\n",
       "        vertical-align: middle;\n",
       "    }\n",
       "\n",
       "    .dataframe tbody tr th {\n",
       "        vertical-align: top;\n",
       "    }\n",
       "\n",
       "    .dataframe thead th {\n",
       "        text-align: right;\n",
       "    }\n",
       "</style>\n",
       "<table border=\"1\" class=\"dataframe\">\n",
       "  <thead>\n",
       "    <tr style=\"text-align: right;\">\n",
       "      <th></th>\n",
       "      <th>Segment</th>\n",
       "      <th>Total</th>\n",
       "      <th>gender</th>\n",
       "      <th>area</th>\n",
       "      <th>veh_body</th>\n",
       "      <th>credit_score</th>\n",
       "      <th>traffic_index</th>\n",
       "      <th>veh_age</th>\n",
       "      <th>veh_value</th>\n",
       "      <th>numclaims</th>\n",
       "      <th>claimcst0</th>\n",
       "      <th>age_at_eff_dt</th>\n",
       "    </tr>\n",
       "  </thead>\n",
       "  <tbody>\n",
       "    <tr>\n",
       "      <th>0</th>\n",
       "      <td>First</td>\n",
       "      <td>20902</td>\n",
       "      <td>F</td>\n",
       "      <td>C</td>\n",
       "      <td>SEDAN</td>\n",
       "      <td>729.861</td>\n",
       "      <td>106.574</td>\n",
       "      <td>3.507</td>\n",
       "      <td>1.305</td>\n",
       "      <td>0.089</td>\n",
       "      <td>43.882</td>\n",
       "      <td>54.723</td>\n",
       "    </tr>\n",
       "    <tr>\n",
       "      <th>1</th>\n",
       "      <td>Second</td>\n",
       "      <td>11813</td>\n",
       "      <td>M</td>\n",
       "      <td>A</td>\n",
       "      <td>STNWG</td>\n",
       "      <td>514.107</td>\n",
       "      <td>97.623</td>\n",
       "      <td>3.262</td>\n",
       "      <td>1.767</td>\n",
       "      <td>0.491</td>\n",
       "      <td>1259.950</td>\n",
       "      <td>43.733</td>\n",
       "    </tr>\n",
       "    <tr>\n",
       "      <th>2</th>\n",
       "      <td>Third</td>\n",
       "      <td>21537</td>\n",
       "      <td>F</td>\n",
       "      <td>C</td>\n",
       "      <td>HBACK</td>\n",
       "      <td>677.522</td>\n",
       "      <td>104.663</td>\n",
       "      <td>1.545</td>\n",
       "      <td>2.680</td>\n",
       "      <td>0.172</td>\n",
       "      <td>852.410</td>\n",
       "      <td>51.402</td>\n",
       "    </tr>\n",
       "  </tbody>\n",
       "</table>\n",
       "</div>"
      ],
      "text/plain": [
       "  Segment  Total gender area veh_body  credit_score  traffic_index  veh_age  \\\n",
       "0   First  20902      F    C    SEDAN       729.861        106.574    3.507   \n",
       "1  Second  11813      M    A    STNWG       514.107         97.623    3.262   \n",
       "2   Third  21537      F    C    HBACK       677.522        104.663    1.545   \n",
       "\n",
       "   veh_value  numclaims  claimcst0  age_at_eff_dt  \n",
       "0      1.305      0.089     43.882         54.723  \n",
       "1      1.767      0.491   1259.950         43.733  \n",
       "2      2.680      0.172    852.410         51.402  "
      ]
     },
     "execution_count": 82,
     "metadata": {},
     "output_type": "execute_result"
    }
   ],
   "source": [
    "# Cluster interpretation\n",
    "# ['gender', 'area', 'veh_body', 'credit_score_new', 'traffic_index_new', \n",
    "# 'veh_age_new', 'veh_value_new', 'numclaims_new', 'claimcst0_new', \n",
    "# 'age_at_eff_dt_new']]\n",
    "\n",
    "features.rename(columns = {'Cluster Labels':'Total'}, inplace = True)\n",
    "features.groupby('Segment').agg(\n",
    "    {\n",
    "        'Total':'count',\n",
    "        'gender': lambda x: x.value_counts().index[0],\n",
    "        'area': lambda x: x.value_counts().index[0],\n",
    "        'veh_body': lambda x: x.value_counts().index[0],\n",
    "        'credit_score': 'mean',\n",
    "        'traffic_index': 'mean',\n",
    "        'veh_age': 'mean',\n",
    "        'veh_value': 'mean',\n",
    "        'numclaims': 'mean',\n",
    "        'claimcst0': 'mean',\n",
    "        'age_at_eff_dt': 'mean'\n",
    "    }\n",
    ").reset_index()"
   ]
  }
 ],
 "metadata": {
  "kernelspec": {
   "display_name": "pycaret",
   "language": "python",
   "name": "pycaret"
  },
  "language_info": {
   "codemirror_mode": {
    "name": "ipython",
    "version": 3
   },
   "file_extension": ".py",
   "mimetype": "text/x-python",
   "name": "python",
   "nbconvert_exporter": "python",
   "pygments_lexer": "ipython3",
   "version": "3.8.16"
  }
 },
 "nbformat": 4,
 "nbformat_minor": 5
}
