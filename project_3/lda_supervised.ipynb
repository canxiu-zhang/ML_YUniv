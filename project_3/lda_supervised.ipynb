{
 "cells": [
  {
   "cell_type": "code",
   "execution_count": 61,
   "id": "02061740-ba53-4d84-a63e-19b98417f78f",
   "metadata": {
    "tags": []
   },
   "outputs": [],
   "source": [
    "import pandas as pd\n",
    "from pycaret.nlp import *"
   ]
  },
  {
   "cell_type": "code",
   "execution_count": 2,
   "id": "db1054d1-9c3f-44f0-9d7b-6623cff953db",
   "metadata": {
    "tags": []
   },
   "outputs": [],
   "source": [
    "df_train = pd.read_csv('dataset/Corona_NLP_train.csv', encoding='latin-1')\n",
    "df_test = pd.read_csv('dataset/Corona_NLP_test.csv', encoding='latin-1')"
   ]
  },
  {
   "cell_type": "code",
   "execution_count": 3,
   "id": "0985d1d0-944a-415c-8c95-ed9a1b85f0aa",
   "metadata": {},
   "outputs": [
    {
     "data": {
      "text/html": [
       "<div>\n",
       "<style scoped>\n",
       "    .dataframe tbody tr th:only-of-type {\n",
       "        vertical-align: middle;\n",
       "    }\n",
       "\n",
       "    .dataframe tbody tr th {\n",
       "        vertical-align: top;\n",
       "    }\n",
       "\n",
       "    .dataframe thead th {\n",
       "        text-align: right;\n",
       "    }\n",
       "</style>\n",
       "<table border=\"1\" class=\"dataframe\">\n",
       "  <thead>\n",
       "    <tr style=\"text-align: right;\">\n",
       "      <th></th>\n",
       "      <th>UserName</th>\n",
       "      <th>ScreenName</th>\n",
       "      <th>Location</th>\n",
       "      <th>TweetAt</th>\n",
       "      <th>OriginalTweet</th>\n",
       "      <th>Sentiment</th>\n",
       "    </tr>\n",
       "  </thead>\n",
       "  <tbody>\n",
       "    <tr>\n",
       "      <th>0</th>\n",
       "      <td>3799</td>\n",
       "      <td>48751</td>\n",
       "      <td>London</td>\n",
       "      <td>16-03-2020</td>\n",
       "      <td>@MeNyrbie @Phil_Gahan @Chrisitv https://t.co/i...</td>\n",
       "      <td>Neutral</td>\n",
       "    </tr>\n",
       "    <tr>\n",
       "      <th>1</th>\n",
       "      <td>3800</td>\n",
       "      <td>48752</td>\n",
       "      <td>UK</td>\n",
       "      <td>16-03-2020</td>\n",
       "      <td>advice Talk to your neighbours family to excha...</td>\n",
       "      <td>Positive</td>\n",
       "    </tr>\n",
       "    <tr>\n",
       "      <th>2</th>\n",
       "      <td>3801</td>\n",
       "      <td>48753</td>\n",
       "      <td>Vagabonds</td>\n",
       "      <td>16-03-2020</td>\n",
       "      <td>Coronavirus Australia: Woolworths to give elde...</td>\n",
       "      <td>Positive</td>\n",
       "    </tr>\n",
       "    <tr>\n",
       "      <th>3</th>\n",
       "      <td>3802</td>\n",
       "      <td>48754</td>\n",
       "      <td>NaN</td>\n",
       "      <td>16-03-2020</td>\n",
       "      <td>My food stock is not the only one which is emp...</td>\n",
       "      <td>Positive</td>\n",
       "    </tr>\n",
       "    <tr>\n",
       "      <th>4</th>\n",
       "      <td>3803</td>\n",
       "      <td>48755</td>\n",
       "      <td>NaN</td>\n",
       "      <td>16-03-2020</td>\n",
       "      <td>Me, ready to go at supermarket during the #COV...</td>\n",
       "      <td>Extremely Negative</td>\n",
       "    </tr>\n",
       "  </tbody>\n",
       "</table>\n",
       "</div>"
      ],
      "text/plain": [
       "   UserName  ScreenName   Location     TweetAt  \\\n",
       "0      3799       48751     London  16-03-2020   \n",
       "1      3800       48752         UK  16-03-2020   \n",
       "2      3801       48753  Vagabonds  16-03-2020   \n",
       "3      3802       48754        NaN  16-03-2020   \n",
       "4      3803       48755        NaN  16-03-2020   \n",
       "\n",
       "                                       OriginalTweet           Sentiment  \n",
       "0  @MeNyrbie @Phil_Gahan @Chrisitv https://t.co/i...             Neutral  \n",
       "1  advice Talk to your neighbours family to excha...            Positive  \n",
       "2  Coronavirus Australia: Woolworths to give elde...            Positive  \n",
       "3  My food stock is not the only one which is emp...            Positive  \n",
       "4  Me, ready to go at supermarket during the #COV...  Extremely Negative  "
      ]
     },
     "execution_count": 3,
     "metadata": {},
     "output_type": "execute_result"
    }
   ],
   "source": [
    "df_train.head()"
   ]
  },
  {
   "cell_type": "code",
   "execution_count": 19,
   "id": "7b04f74d-cfc2-4127-b595-ff2342dc9c61",
   "metadata": {
    "tags": []
   },
   "outputs": [
    {
     "data": {
      "text/plain": [
       "array(['Neutral', 'Positive', 'Extremely Negative', 'Negative',\n",
       "       'Extremely Positive'], dtype=object)"
      ]
     },
     "execution_count": 19,
     "metadata": {},
     "output_type": "execute_result"
    }
   ],
   "source": [
    "df_train['Sentiment'].unique()"
   ]
  },
  {
   "cell_type": "code",
   "execution_count": 21,
   "id": "72c0bea3-3a4f-46ab-958c-da3abaab9041",
   "metadata": {
    "tags": []
   },
   "outputs": [],
   "source": [
    "def sentiment_encoder(sentiment:str):\n",
    "    if sentiment == 'Extremely Negative':\n",
    "        return -2\n",
    "    elif sentiment == 'Negative':\n",
    "        return -1\n",
    "    elif sentiment == 'Neutral':\n",
    "        return 0\n",
    "    elif sentiment == 'Positive':\n",
    "        return 1\n",
    "    elif sentiment == 'Extremely Positive':\n",
    "        return 2\n",
    "df_train['encoded_sentiment'] = df_train.apply(lambda row: sentiment_encoder(row['Sentiment']),axis=1)"
   ]
  },
  {
   "cell_type": "code",
   "execution_count": 22,
   "id": "e108ccf0-8452-433b-a72f-9e45854e7804",
   "metadata": {
    "tags": []
   },
   "outputs": [
    {
     "data": {
      "text/html": [
       "<div>\n",
       "<style scoped>\n",
       "    .dataframe tbody tr th:only-of-type {\n",
       "        vertical-align: middle;\n",
       "    }\n",
       "\n",
       "    .dataframe tbody tr th {\n",
       "        vertical-align: top;\n",
       "    }\n",
       "\n",
       "    .dataframe thead th {\n",
       "        text-align: right;\n",
       "    }\n",
       "</style>\n",
       "<table border=\"1\" class=\"dataframe\">\n",
       "  <thead>\n",
       "    <tr style=\"text-align: right;\">\n",
       "      <th></th>\n",
       "      <th>UserName</th>\n",
       "      <th>ScreenName</th>\n",
       "      <th>Location</th>\n",
       "      <th>TweetAt</th>\n",
       "      <th>OriginalTweet</th>\n",
       "      <th>Sentiment</th>\n",
       "      <th>encoded_sentiment</th>\n",
       "    </tr>\n",
       "  </thead>\n",
       "  <tbody>\n",
       "    <tr>\n",
       "      <th>0</th>\n",
       "      <td>3799</td>\n",
       "      <td>48751</td>\n",
       "      <td>London</td>\n",
       "      <td>16-03-2020</td>\n",
       "      <td>@MeNyrbie @Phil_Gahan @Chrisitv https://t.co/i...</td>\n",
       "      <td>Neutral</td>\n",
       "      <td>0</td>\n",
       "    </tr>\n",
       "    <tr>\n",
       "      <th>1</th>\n",
       "      <td>3800</td>\n",
       "      <td>48752</td>\n",
       "      <td>UK</td>\n",
       "      <td>16-03-2020</td>\n",
       "      <td>advice Talk to your neighbours family to excha...</td>\n",
       "      <td>Positive</td>\n",
       "      <td>1</td>\n",
       "    </tr>\n",
       "    <tr>\n",
       "      <th>2</th>\n",
       "      <td>3801</td>\n",
       "      <td>48753</td>\n",
       "      <td>Vagabonds</td>\n",
       "      <td>16-03-2020</td>\n",
       "      <td>Coronavirus Australia: Woolworths to give elde...</td>\n",
       "      <td>Positive</td>\n",
       "      <td>1</td>\n",
       "    </tr>\n",
       "    <tr>\n",
       "      <th>3</th>\n",
       "      <td>3802</td>\n",
       "      <td>48754</td>\n",
       "      <td>NaN</td>\n",
       "      <td>16-03-2020</td>\n",
       "      <td>My food stock is not the only one which is emp...</td>\n",
       "      <td>Positive</td>\n",
       "      <td>1</td>\n",
       "    </tr>\n",
       "    <tr>\n",
       "      <th>4</th>\n",
       "      <td>3803</td>\n",
       "      <td>48755</td>\n",
       "      <td>NaN</td>\n",
       "      <td>16-03-2020</td>\n",
       "      <td>Me, ready to go at supermarket during the #COV...</td>\n",
       "      <td>Extremely Negative</td>\n",
       "      <td>-2</td>\n",
       "    </tr>\n",
       "  </tbody>\n",
       "</table>\n",
       "</div>"
      ],
      "text/plain": [
       "   UserName  ScreenName   Location     TweetAt  \\\n",
       "0      3799       48751     London  16-03-2020   \n",
       "1      3800       48752         UK  16-03-2020   \n",
       "2      3801       48753  Vagabonds  16-03-2020   \n",
       "3      3802       48754        NaN  16-03-2020   \n",
       "4      3803       48755        NaN  16-03-2020   \n",
       "\n",
       "                                       OriginalTweet           Sentiment  \\\n",
       "0  @MeNyrbie @Phil_Gahan @Chrisitv https://t.co/i...             Neutral   \n",
       "1  advice Talk to your neighbours family to excha...            Positive   \n",
       "2  Coronavirus Australia: Woolworths to give elde...            Positive   \n",
       "3  My food stock is not the only one which is emp...            Positive   \n",
       "4  Me, ready to go at supermarket during the #COV...  Extremely Negative   \n",
       "\n",
       "   encoded_sentiment  \n",
       "0                  0  \n",
       "1                  1  \n",
       "2                  1  \n",
       "3                  1  \n",
       "4                 -2  "
      ]
     },
     "execution_count": 22,
     "metadata": {},
     "output_type": "execute_result"
    }
   ],
   "source": [
    "df_train.head()"
   ]
  },
  {
   "cell_type": "code",
   "execution_count": 24,
   "id": "2c7c12c6-5f9d-490d-8888-c14ba05ee907",
   "metadata": {
    "tags": []
   },
   "outputs": [
    {
     "data": {
      "text/html": [
       "<style type=\"text/css\">\n",
       "</style>\n",
       "<table id=\"T_995cc\">\n",
       "  <thead>\n",
       "    <tr>\n",
       "      <th id=\"T_995cc_level0_col0\" class=\"col_heading level0 col0\" >Description</th>\n",
       "      <th id=\"T_995cc_level0_col1\" class=\"col_heading level0 col1\" >Value</th>\n",
       "    </tr>\n",
       "  </thead>\n",
       "  <tbody>\n",
       "    <tr>\n",
       "      <td id=\"T_995cc_row0_col0\" class=\"data row0 col0\" >session_id</td>\n",
       "      <td id=\"T_995cc_row0_col1\" class=\"data row0 col1\" >3461</td>\n",
       "    </tr>\n",
       "    <tr>\n",
       "      <td id=\"T_995cc_row1_col0\" class=\"data row1 col0\" >Documents</td>\n",
       "      <td id=\"T_995cc_row1_col1\" class=\"data row1 col1\" >41157</td>\n",
       "    </tr>\n",
       "    <tr>\n",
       "      <td id=\"T_995cc_row2_col0\" class=\"data row2 col0\" >Vocab Size</td>\n",
       "      <td id=\"T_995cc_row2_col1\" class=\"data row2 col1\" >36129</td>\n",
       "    </tr>\n",
       "    <tr>\n",
       "      <td id=\"T_995cc_row3_col0\" class=\"data row3 col0\" >Custom Stopwords</td>\n",
       "      <td id=\"T_995cc_row3_col1\" class=\"data row3 col1\" >True</td>\n",
       "    </tr>\n",
       "  </tbody>\n",
       "</table>\n"
      ],
      "text/plain": [
       "<pandas.io.formats.style.Styler at 0x7fb766dd2040>"
      ]
     },
     "metadata": {},
     "output_type": "display_data"
    },
    {
     "data": {
      "application/vnd.jupyter.widget-view+json": {
       "model_id": "",
       "version_major": 2,
       "version_minor": 0
      },
      "text/plain": [
       "IntProgress(value=0, description='Processing: ', max=11)"
      ]
     },
     "metadata": {},
     "output_type": "display_data"
    },
    {
     "data": {
      "application/vnd.jupyter.widget-view+json": {
       "model_id": "73feb2234d8d4f1f866903e1c8bfa217",
       "version_major": 2,
       "version_minor": 0
      },
      "text/plain": [
       "Output()"
      ]
     },
     "metadata": {},
     "output_type": "display_data"
    },
    {
     "data": {
      "text/html": [
       "        <script type=\"text/javascript\">\n",
       "        window.PlotlyConfig = {MathJaxConfig: 'local'};\n",
       "        if (window.MathJax && window.MathJax.Hub && window.MathJax.Hub.Config) {window.MathJax.Hub.Config({SVG: {font: \"STIX-Web\"}});}\n",
       "        if (typeof require !== 'undefined') {\n",
       "        require.undef(\"plotly\");\n",
       "        requirejs.config({\n",
       "            paths: {\n",
       "                'plotly': ['https://cdn.plot.ly/plotly-2.18.0.min']\n",
       "            }\n",
       "        });\n",
       "        require(['plotly'], function(Plotly) {\n",
       "            window._Plotly = Plotly;\n",
       "        });\n",
       "        }\n",
       "        </script>\n",
       "        "
      ]
     },
     "metadata": {},
     "output_type": "display_data"
    },
    {
     "data": {
      "application/vnd.plotly.v1+json": {
       "config": {
        "plotlyServerURL": "https://plot.ly"
       },
       "data": [
        {
         "hovertemplate": "Metric=R2<br># Topics=%{x}<br>R2=%{y}<extra></extra>",
         "legendgroup": "R2",
         "line": {
          "color": "#636efa",
          "dash": "solid",
          "shape": "linear"
         },
         "marker": {
          "symbol": "circle"
         },
         "mode": "lines",
         "name": "R2",
         "orientation": "v",
         "showlegend": true,
         "type": "scatter",
         "x": [
          4
         ],
         "xaxis": "x",
         "y": [
          0.9999999954834378
         ],
         "yaxis": "y"
        }
       ],
       "layout": {
        "autosize": true,
        "legend": {
         "title": {
          "text": "Metric"
         },
         "tracegroupgap": 0
        },
        "plot_bgcolor": "rgb(245,245,245)",
        "template": {
         "data": {
          "bar": [
           {
            "error_x": {
             "color": "#2a3f5f"
            },
            "error_y": {
             "color": "#2a3f5f"
            },
            "marker": {
             "line": {
              "color": "#E5ECF6",
              "width": 0.5
             },
             "pattern": {
              "fillmode": "overlay",
              "size": 10,
              "solidity": 0.2
             }
            },
            "type": "bar"
           }
          ],
          "barpolar": [
           {
            "marker": {
             "line": {
              "color": "#E5ECF6",
              "width": 0.5
             },
             "pattern": {
              "fillmode": "overlay",
              "size": 10,
              "solidity": 0.2
             }
            },
            "type": "barpolar"
           }
          ],
          "carpet": [
           {
            "aaxis": {
             "endlinecolor": "#2a3f5f",
             "gridcolor": "white",
             "linecolor": "white",
             "minorgridcolor": "white",
             "startlinecolor": "#2a3f5f"
            },
            "baxis": {
             "endlinecolor": "#2a3f5f",
             "gridcolor": "white",
             "linecolor": "white",
             "minorgridcolor": "white",
             "startlinecolor": "#2a3f5f"
            },
            "type": "carpet"
           }
          ],
          "choropleth": [
           {
            "colorbar": {
             "outlinewidth": 0,
             "ticks": ""
            },
            "type": "choropleth"
           }
          ],
          "contour": [
           {
            "colorbar": {
             "outlinewidth": 0,
             "ticks": ""
            },
            "colorscale": [
             [
              0,
              "#0d0887"
             ],
             [
              0.1111111111111111,
              "#46039f"
             ],
             [
              0.2222222222222222,
              "#7201a8"
             ],
             [
              0.3333333333333333,
              "#9c179e"
             ],
             [
              0.4444444444444444,
              "#bd3786"
             ],
             [
              0.5555555555555556,
              "#d8576b"
             ],
             [
              0.6666666666666666,
              "#ed7953"
             ],
             [
              0.7777777777777778,
              "#fb9f3a"
             ],
             [
              0.8888888888888888,
              "#fdca26"
             ],
             [
              1,
              "#f0f921"
             ]
            ],
            "type": "contour"
           }
          ],
          "contourcarpet": [
           {
            "colorbar": {
             "outlinewidth": 0,
             "ticks": ""
            },
            "type": "contourcarpet"
           }
          ],
          "heatmap": [
           {
            "colorbar": {
             "outlinewidth": 0,
             "ticks": ""
            },
            "colorscale": [
             [
              0,
              "#0d0887"
             ],
             [
              0.1111111111111111,
              "#46039f"
             ],
             [
              0.2222222222222222,
              "#7201a8"
             ],
             [
              0.3333333333333333,
              "#9c179e"
             ],
             [
              0.4444444444444444,
              "#bd3786"
             ],
             [
              0.5555555555555556,
              "#d8576b"
             ],
             [
              0.6666666666666666,
              "#ed7953"
             ],
             [
              0.7777777777777778,
              "#fb9f3a"
             ],
             [
              0.8888888888888888,
              "#fdca26"
             ],
             [
              1,
              "#f0f921"
             ]
            ],
            "type": "heatmap"
           }
          ],
          "heatmapgl": [
           {
            "colorbar": {
             "outlinewidth": 0,
             "ticks": ""
            },
            "colorscale": [
             [
              0,
              "#0d0887"
             ],
             [
              0.1111111111111111,
              "#46039f"
             ],
             [
              0.2222222222222222,
              "#7201a8"
             ],
             [
              0.3333333333333333,
              "#9c179e"
             ],
             [
              0.4444444444444444,
              "#bd3786"
             ],
             [
              0.5555555555555556,
              "#d8576b"
             ],
             [
              0.6666666666666666,
              "#ed7953"
             ],
             [
              0.7777777777777778,
              "#fb9f3a"
             ],
             [
              0.8888888888888888,
              "#fdca26"
             ],
             [
              1,
              "#f0f921"
             ]
            ],
            "type": "heatmapgl"
           }
          ],
          "histogram": [
           {
            "marker": {
             "pattern": {
              "fillmode": "overlay",
              "size": 10,
              "solidity": 0.2
             }
            },
            "type": "histogram"
           }
          ],
          "histogram2d": [
           {
            "colorbar": {
             "outlinewidth": 0,
             "ticks": ""
            },
            "colorscale": [
             [
              0,
              "#0d0887"
             ],
             [
              0.1111111111111111,
              "#46039f"
             ],
             [
              0.2222222222222222,
              "#7201a8"
             ],
             [
              0.3333333333333333,
              "#9c179e"
             ],
             [
              0.4444444444444444,
              "#bd3786"
             ],
             [
              0.5555555555555556,
              "#d8576b"
             ],
             [
              0.6666666666666666,
              "#ed7953"
             ],
             [
              0.7777777777777778,
              "#fb9f3a"
             ],
             [
              0.8888888888888888,
              "#fdca26"
             ],
             [
              1,
              "#f0f921"
             ]
            ],
            "type": "histogram2d"
           }
          ],
          "histogram2dcontour": [
           {
            "colorbar": {
             "outlinewidth": 0,
             "ticks": ""
            },
            "colorscale": [
             [
              0,
              "#0d0887"
             ],
             [
              0.1111111111111111,
              "#46039f"
             ],
             [
              0.2222222222222222,
              "#7201a8"
             ],
             [
              0.3333333333333333,
              "#9c179e"
             ],
             [
              0.4444444444444444,
              "#bd3786"
             ],
             [
              0.5555555555555556,
              "#d8576b"
             ],
             [
              0.6666666666666666,
              "#ed7953"
             ],
             [
              0.7777777777777778,
              "#fb9f3a"
             ],
             [
              0.8888888888888888,
              "#fdca26"
             ],
             [
              1,
              "#f0f921"
             ]
            ],
            "type": "histogram2dcontour"
           }
          ],
          "mesh3d": [
           {
            "colorbar": {
             "outlinewidth": 0,
             "ticks": ""
            },
            "type": "mesh3d"
           }
          ],
          "parcoords": [
           {
            "line": {
             "colorbar": {
              "outlinewidth": 0,
              "ticks": ""
             }
            },
            "type": "parcoords"
           }
          ],
          "pie": [
           {
            "automargin": true,
            "type": "pie"
           }
          ],
          "scatter": [
           {
            "fillpattern": {
             "fillmode": "overlay",
             "size": 10,
             "solidity": 0.2
            },
            "type": "scatter"
           }
          ],
          "scatter3d": [
           {
            "line": {
             "colorbar": {
              "outlinewidth": 0,
              "ticks": ""
             }
            },
            "marker": {
             "colorbar": {
              "outlinewidth": 0,
              "ticks": ""
             }
            },
            "type": "scatter3d"
           }
          ],
          "scattercarpet": [
           {
            "marker": {
             "colorbar": {
              "outlinewidth": 0,
              "ticks": ""
             }
            },
            "type": "scattercarpet"
           }
          ],
          "scattergeo": [
           {
            "marker": {
             "colorbar": {
              "outlinewidth": 0,
              "ticks": ""
             }
            },
            "type": "scattergeo"
           }
          ],
          "scattergl": [
           {
            "marker": {
             "colorbar": {
              "outlinewidth": 0,
              "ticks": ""
             }
            },
            "type": "scattergl"
           }
          ],
          "scattermapbox": [
           {
            "marker": {
             "colorbar": {
              "outlinewidth": 0,
              "ticks": ""
             }
            },
            "type": "scattermapbox"
           }
          ],
          "scatterpolar": [
           {
            "marker": {
             "colorbar": {
              "outlinewidth": 0,
              "ticks": ""
             }
            },
            "type": "scatterpolar"
           }
          ],
          "scatterpolargl": [
           {
            "marker": {
             "colorbar": {
              "outlinewidth": 0,
              "ticks": ""
             }
            },
            "type": "scatterpolargl"
           }
          ],
          "scatterternary": [
           {
            "marker": {
             "colorbar": {
              "outlinewidth": 0,
              "ticks": ""
             }
            },
            "type": "scatterternary"
           }
          ],
          "surface": [
           {
            "colorbar": {
             "outlinewidth": 0,
             "ticks": ""
            },
            "colorscale": [
             [
              0,
              "#0d0887"
             ],
             [
              0.1111111111111111,
              "#46039f"
             ],
             [
              0.2222222222222222,
              "#7201a8"
             ],
             [
              0.3333333333333333,
              "#9c179e"
             ],
             [
              0.4444444444444444,
              "#bd3786"
             ],
             [
              0.5555555555555556,
              "#d8576b"
             ],
             [
              0.6666666666666666,
              "#ed7953"
             ],
             [
              0.7777777777777778,
              "#fb9f3a"
             ],
             [
              0.8888888888888888,
              "#fdca26"
             ],
             [
              1,
              "#f0f921"
             ]
            ],
            "type": "surface"
           }
          ],
          "table": [
           {
            "cells": {
             "fill": {
              "color": "#EBF0F8"
             },
             "line": {
              "color": "white"
             }
            },
            "header": {
             "fill": {
              "color": "#C8D4E3"
             },
             "line": {
              "color": "white"
             }
            },
            "type": "table"
           }
          ]
         },
         "layout": {
          "annotationdefaults": {
           "arrowcolor": "#2a3f5f",
           "arrowhead": 0,
           "arrowwidth": 1
          },
          "autotypenumbers": "strict",
          "coloraxis": {
           "colorbar": {
            "outlinewidth": 0,
            "ticks": ""
           }
          },
          "colorscale": {
           "diverging": [
            [
             0,
             "#8e0152"
            ],
            [
             0.1,
             "#c51b7d"
            ],
            [
             0.2,
             "#de77ae"
            ],
            [
             0.3,
             "#f1b6da"
            ],
            [
             0.4,
             "#fde0ef"
            ],
            [
             0.5,
             "#f7f7f7"
            ],
            [
             0.6,
             "#e6f5d0"
            ],
            [
             0.7,
             "#b8e186"
            ],
            [
             0.8,
             "#7fbc41"
            ],
            [
             0.9,
             "#4d9221"
            ],
            [
             1,
             "#276419"
            ]
           ],
           "sequential": [
            [
             0,
             "#0d0887"
            ],
            [
             0.1111111111111111,
             "#46039f"
            ],
            [
             0.2222222222222222,
             "#7201a8"
            ],
            [
             0.3333333333333333,
             "#9c179e"
            ],
            [
             0.4444444444444444,
             "#bd3786"
            ],
            [
             0.5555555555555556,
             "#d8576b"
            ],
            [
             0.6666666666666666,
             "#ed7953"
            ],
            [
             0.7777777777777778,
             "#fb9f3a"
            ],
            [
             0.8888888888888888,
             "#fdca26"
            ],
            [
             1,
             "#f0f921"
            ]
           ],
           "sequentialminus": [
            [
             0,
             "#0d0887"
            ],
            [
             0.1111111111111111,
             "#46039f"
            ],
            [
             0.2222222222222222,
             "#7201a8"
            ],
            [
             0.3333333333333333,
             "#9c179e"
            ],
            [
             0.4444444444444444,
             "#bd3786"
            ],
            [
             0.5555555555555556,
             "#d8576b"
            ],
            [
             0.6666666666666666,
             "#ed7953"
            ],
            [
             0.7777777777777778,
             "#fb9f3a"
            ],
            [
             0.8888888888888888,
             "#fdca26"
            ],
            [
             1,
             "#f0f921"
            ]
           ]
          },
          "colorway": [
           "#636efa",
           "#EF553B",
           "#00cc96",
           "#ab63fa",
           "#FFA15A",
           "#19d3f3",
           "#FF6692",
           "#B6E880",
           "#FF97FF",
           "#FECB52"
          ],
          "font": {
           "color": "#2a3f5f"
          },
          "geo": {
           "bgcolor": "white",
           "lakecolor": "white",
           "landcolor": "#E5ECF6",
           "showlakes": true,
           "showland": true,
           "subunitcolor": "white"
          },
          "hoverlabel": {
           "align": "left"
          },
          "hovermode": "closest",
          "mapbox": {
           "style": "light"
          },
          "paper_bgcolor": "white",
          "plot_bgcolor": "#E5ECF6",
          "polar": {
           "angularaxis": {
            "gridcolor": "white",
            "linecolor": "white",
            "ticks": ""
           },
           "bgcolor": "#E5ECF6",
           "radialaxis": {
            "gridcolor": "white",
            "linecolor": "white",
            "ticks": ""
           }
          },
          "scene": {
           "xaxis": {
            "backgroundcolor": "#E5ECF6",
            "gridcolor": "white",
            "gridwidth": 2,
            "linecolor": "white",
            "showbackground": true,
            "ticks": "",
            "zerolinecolor": "white"
           },
           "yaxis": {
            "backgroundcolor": "#E5ECF6",
            "gridcolor": "white",
            "gridwidth": 2,
            "linecolor": "white",
            "showbackground": true,
            "ticks": "",
            "zerolinecolor": "white"
           },
           "zaxis": {
            "backgroundcolor": "#E5ECF6",
            "gridcolor": "white",
            "gridwidth": 2,
            "linecolor": "white",
            "showbackground": true,
            "ticks": "",
            "zerolinecolor": "white"
           }
          },
          "shapedefaults": {
           "line": {
            "color": "#2a3f5f"
           }
          },
          "ternary": {
           "aaxis": {
            "gridcolor": "white",
            "linecolor": "white",
            "ticks": ""
           },
           "baxis": {
            "gridcolor": "white",
            "linecolor": "white",
            "ticks": ""
           },
           "bgcolor": "#E5ECF6",
           "caxis": {
            "gridcolor": "white",
            "linecolor": "white",
            "ticks": ""
           }
          },
          "title": {
           "x": 0.05
          },
          "xaxis": {
           "automargin": true,
           "gridcolor": "white",
           "linecolor": "white",
           "ticks": "",
           "title": {
            "standoff": 15
           },
           "zerolinecolor": "white",
           "zerolinewidth": 2
          },
          "yaxis": {
           "automargin": true,
           "gridcolor": "white",
           "linecolor": "white",
           "ticks": "",
           "title": {
            "standoff": 15
           },
           "zerolinecolor": "white",
           "zerolinewidth": 2
          }
         }
        },
        "title": {
         "text": "Linear Regression Metrics and # of Topics"
        },
        "xaxis": {
         "anchor": "y",
         "autorange": true,
         "domain": [
          0,
          1
         ],
         "range": [
          3,
          5
         ],
         "title": {
          "text": "# Topics"
         },
         "type": "linear"
        },
        "yaxis": {
         "anchor": "x",
         "autorange": true,
         "domain": [
          0,
          1
         ],
         "range": [
          -4.516562235323818e-09,
          1.9999999954834378
         ],
         "title": {
          "text": "R2"
         },
         "type": "linear"
        }
       }
      },
      "image/png": "[encoded data removed]",
      "text/html": [
       "<div>                            <div id=\"d6f170ec-7de3-4852-98dd-715a70e1c633\" class=\"plotly-graph-div\" style=\"height:525px; width:100%;\"></div>            <script type=\"text/javascript\">                require([\"plotly\"], function(Plotly) {                    window.PLOTLYENV=window.PLOTLYENV || {};                                    if (document.getElementById(\"d6f170ec-7de3-4852-98dd-715a70e1c633\")) {                    Plotly.newPlot(                        \"d6f170ec-7de3-4852-98dd-715a70e1c633\",                        [{\"hovertemplate\":\"Metric=R2<br># Topics=%{x}<br>R2=%{y}<extra></extra>\",\"legendgroup\":\"R2\",\"line\":{\"color\":\"#636efa\",\"dash\":\"solid\",\"shape\":\"linear\"},\"marker\":{\"symbol\":\"circle\"},\"mode\":\"lines\",\"name\":\"R2\",\"orientation\":\"v\",\"showlegend\":true,\"x\":[4],\"xaxis\":\"x\",\"y\":[0.9999999954834378],\"yaxis\":\"y\",\"type\":\"scatter\"}],                        {\"template\":{\"data\":{\"histogram2dcontour\":[{\"type\":\"histogram2dcontour\",\"colorbar\":{\"outlinewidth\":0,\"ticks\":\"\"},\"colorscale\":[[0.0,\"#0d0887\"],[0.1111111111111111,\"#46039f\"],[0.2222222222222222,\"#7201a8\"],[0.3333333333333333,\"#9c179e\"],[0.4444444444444444,\"#bd3786\"],[0.5555555555555556,\"#d8576b\"],[0.6666666666666666,\"#ed7953\"],[0.7777777777777778,\"#fb9f3a\"],[0.8888888888888888,\"#fdca26\"],[1.0,\"#f0f921\"]]}],\"choropleth\":[{\"type\":\"choropleth\",\"colorbar\":{\"outlinewidth\":0,\"ticks\":\"\"}}],\"histogram2d\":[{\"type\":\"histogram2d\",\"colorbar\":{\"outlinewidth\":0,\"ticks\":\"\"},\"colorscale\":[[0.0,\"#0d0887\"],[0.1111111111111111,\"#46039f\"],[0.2222222222222222,\"#7201a8\"],[0.3333333333333333,\"#9c179e\"],[0.4444444444444444,\"#bd3786\"],[0.5555555555555556,\"#d8576b\"],[0.6666666666666666,\"#ed7953\"],[0.7777777777777778,\"#fb9f3a\"],[0.8888888888888888,\"#fdca26\"],[1.0,\"#f0f921\"]]}],\"heatmap\":[{\"type\":\"heatmap\",\"colorbar\":{\"outlinewidth\":0,\"ticks\":\"\"},\"colorscale\":[[0.0,\"#0d0887\"],[0.1111111111111111,\"#46039f\"],[0.2222222222222222,\"#7201a8\"],[0.3333333333333333,\"#9c179e\"],[0.4444444444444444,\"#bd3786\"],[0.5555555555555556,\"#d8576b\"],[0.6666666666666666,\"#ed7953\"],[0.7777777777777778,\"#fb9f3a\"],[0.8888888888888888,\"#fdca26\"],[1.0,\"#f0f921\"]]}],\"heatmapgl\":[{\"type\":\"heatmapgl\",\"colorbar\":{\"outlinewidth\":0,\"ticks\":\"\"},\"colorscale\":[[0.0,\"#0d0887\"],[0.1111111111111111,\"#46039f\"],[0.2222222222222222,\"#7201a8\"],[0.3333333333333333,\"#9c179e\"],[0.4444444444444444,\"#bd3786\"],[0.5555555555555556,\"#d8576b\"],[0.6666666666666666,\"#ed7953\"],[0.7777777777777778,\"#fb9f3a\"],[0.8888888888888888,\"#fdca26\"],[1.0,\"#f0f921\"]]}],\"contourcarpet\":[{\"type\":\"contourcarpet\",\"colorbar\":{\"outlinewidth\":0,\"ticks\":\"\"}}],\"contour\":[{\"type\":\"contour\",\"colorbar\":{\"outlinewidth\":0,\"ticks\":\"\"},\"colorscale\":[[0.0,\"#0d0887\"],[0.1111111111111111,\"#46039f\"],[0.2222222222222222,\"#7201a8\"],[0.3333333333333333,\"#9c179e\"],[0.4444444444444444,\"#bd3786\"],[0.5555555555555556,\"#d8576b\"],[0.6666666666666666,\"#ed7953\"],[0.7777777777777778,\"#fb9f3a\"],[0.8888888888888888,\"#fdca26\"],[1.0,\"#f0f921\"]]}],\"surface\":[{\"type\":\"surface\",\"colorbar\":{\"outlinewidth\":0,\"ticks\":\"\"},\"colorscale\":[[0.0,\"#0d0887\"],[0.1111111111111111,\"#46039f\"],[0.2222222222222222,\"#7201a8\"],[0.3333333333333333,\"#9c179e\"],[0.4444444444444444,\"#bd3786\"],[0.5555555555555556,\"#d8576b\"],[0.6666666666666666,\"#ed7953\"],[0.7777777777777778,\"#fb9f3a\"],[0.8888888888888888,\"#fdca26\"],[1.0,\"#f0f921\"]]}],\"mesh3d\":[{\"type\":\"mesh3d\",\"colorbar\":{\"outlinewidth\":0,\"ticks\":\"\"}}],\"scatter\":[{\"fillpattern\":{\"fillmode\":\"overlay\",\"size\":10,\"solidity\":0.2},\"type\":\"scatter\"}],\"parcoords\":[{\"type\":\"parcoords\",\"line\":{\"colorbar\":{\"outlinewidth\":0,\"ticks\":\"\"}}}],\"scatterpolargl\":[{\"type\":\"scatterpolargl\",\"marker\":{\"colorbar\":{\"outlinewidth\":0,\"ticks\":\"\"}}}],\"bar\":[{\"error_x\":{\"color\":\"#2a3f5f\"},\"error_y\":{\"color\":\"#2a3f5f\"},\"marker\":{\"line\":{\"color\":\"#E5ECF6\",\"width\":0.5},\"pattern\":{\"fillmode\":\"overlay\",\"size\":10,\"solidity\":0.2}},\"type\":\"bar\"}],\"scattergeo\":[{\"type\":\"scattergeo\",\"marker\":{\"colorbar\":{\"outlinewidth\":0,\"ticks\":\"\"}}}],\"scatterpolar\":[{\"type\":\"scatterpolar\",\"marker\":{\"colorbar\":{\"outlinewidth\":0,\"ticks\":\"\"}}}],\"histogram\":[{\"marker\":{\"pattern\":{\"fillmode\":\"overlay\",\"size\":10,\"solidity\":0.2}},\"type\":\"histogram\"}],\"scattergl\":[{\"type\":\"scattergl\",\"marker\":{\"colorbar\":{\"outlinewidth\":0,\"ticks\":\"\"}}}],\"scatter3d\":[{\"type\":\"scatter3d\",\"line\":{\"colorbar\":{\"outlinewidth\":0,\"ticks\":\"\"}},\"marker\":{\"colorbar\":{\"outlinewidth\":0,\"ticks\":\"\"}}}],\"scattermapbox\":[{\"type\":\"scattermapbox\",\"marker\":{\"colorbar\":{\"outlinewidth\":0,\"ticks\":\"\"}}}],\"scatterternary\":[{\"type\":\"scatterternary\",\"marker\":{\"colorbar\":{\"outlinewidth\":0,\"ticks\":\"\"}}}],\"scattercarpet\":[{\"type\":\"scattercarpet\",\"marker\":{\"colorbar\":{\"outlinewidth\":0,\"ticks\":\"\"}}}],\"carpet\":[{\"aaxis\":{\"endlinecolor\":\"#2a3f5f\",\"gridcolor\":\"white\",\"linecolor\":\"white\",\"minorgridcolor\":\"white\",\"startlinecolor\":\"#2a3f5f\"},\"baxis\":{\"endlinecolor\":\"#2a3f5f\",\"gridcolor\":\"white\",\"linecolor\":\"white\",\"minorgridcolor\":\"white\",\"startlinecolor\":\"#2a3f5f\"},\"type\":\"carpet\"}],\"table\":[{\"cells\":{\"fill\":{\"color\":\"#EBF0F8\"},\"line\":{\"color\":\"white\"}},\"header\":{\"fill\":{\"color\":\"#C8D4E3\"},\"line\":{\"color\":\"white\"}},\"type\":\"table\"}],\"barpolar\":[{\"marker\":{\"line\":{\"color\":\"#E5ECF6\",\"width\":0.5},\"pattern\":{\"fillmode\":\"overlay\",\"size\":10,\"solidity\":0.2}},\"type\":\"barpolar\"}],\"pie\":[{\"automargin\":true,\"type\":\"pie\"}]},\"layout\":{\"autotypenumbers\":\"strict\",\"colorway\":[\"#636efa\",\"#EF553B\",\"#00cc96\",\"#ab63fa\",\"#FFA15A\",\"#19d3f3\",\"#FF6692\",\"#B6E880\",\"#FF97FF\",\"#FECB52\"],\"font\":{\"color\":\"#2a3f5f\"},\"hovermode\":\"closest\",\"hoverlabel\":{\"align\":\"left\"},\"paper_bgcolor\":\"white\",\"plot_bgcolor\":\"#E5ECF6\",\"polar\":{\"bgcolor\":\"#E5ECF6\",\"angularaxis\":{\"gridcolor\":\"white\",\"linecolor\":\"white\",\"ticks\":\"\"},\"radialaxis\":{\"gridcolor\":\"white\",\"linecolor\":\"white\",\"ticks\":\"\"}},\"ternary\":{\"bgcolor\":\"#E5ECF6\",\"aaxis\":{\"gridcolor\":\"white\",\"linecolor\":\"white\",\"ticks\":\"\"},\"baxis\":{\"gridcolor\":\"white\",\"linecolor\":\"white\",\"ticks\":\"\"},\"caxis\":{\"gridcolor\":\"white\",\"linecolor\":\"white\",\"ticks\":\"\"}},\"coloraxis\":{\"colorbar\":{\"outlinewidth\":0,\"ticks\":\"\"}},\"colorscale\":{\"sequential\":[[0.0,\"#0d0887\"],[0.1111111111111111,\"#46039f\"],[0.2222222222222222,\"#7201a8\"],[0.3333333333333333,\"#9c179e\"],[0.4444444444444444,\"#bd3786\"],[0.5555555555555556,\"#d8576b\"],[0.6666666666666666,\"#ed7953\"],[0.7777777777777778,\"#fb9f3a\"],[0.8888888888888888,\"#fdca26\"],[1.0,\"#f0f921\"]],\"sequentialminus\":[[0.0,\"#0d0887\"],[0.1111111111111111,\"#46039f\"],[0.2222222222222222,\"#7201a8\"],[0.3333333333333333,\"#9c179e\"],[0.4444444444444444,\"#bd3786\"],[0.5555555555555556,\"#d8576b\"],[0.6666666666666666,\"#ed7953\"],[0.7777777777777778,\"#fb9f3a\"],[0.8888888888888888,\"#fdca26\"],[1.0,\"#f0f921\"]],\"diverging\":[[0,\"#8e0152\"],[0.1,\"#c51b7d\"],[0.2,\"#de77ae\"],[0.3,\"#f1b6da\"],[0.4,\"#fde0ef\"],[0.5,\"#f7f7f7\"],[0.6,\"#e6f5d0\"],[0.7,\"#b8e186\"],[0.8,\"#7fbc41\"],[0.9,\"#4d9221\"],[1,\"#276419\"]]},\"xaxis\":{\"gridcolor\":\"white\",\"linecolor\":\"white\",\"ticks\":\"\",\"title\":{\"standoff\":15},\"zerolinecolor\":\"white\",\"automargin\":true,\"zerolinewidth\":2},\"yaxis\":{\"gridcolor\":\"white\",\"linecolor\":\"white\",\"ticks\":\"\",\"title\":{\"standoff\":15},\"zerolinecolor\":\"white\",\"automargin\":true,\"zerolinewidth\":2},\"scene\":{\"xaxis\":{\"backgroundcolor\":\"#E5ECF6\",\"gridcolor\":\"white\",\"linecolor\":\"white\",\"showbackground\":true,\"ticks\":\"\",\"zerolinecolor\":\"white\",\"gridwidth\":2},\"yaxis\":{\"backgroundcolor\":\"#E5ECF6\",\"gridcolor\":\"white\",\"linecolor\":\"white\",\"showbackground\":true,\"ticks\":\"\",\"zerolinecolor\":\"white\",\"gridwidth\":2},\"zaxis\":{\"backgroundcolor\":\"#E5ECF6\",\"gridcolor\":\"white\",\"linecolor\":\"white\",\"showbackground\":true,\"ticks\":\"\",\"zerolinecolor\":\"white\",\"gridwidth\":2}},\"shapedefaults\":{\"line\":{\"color\":\"#2a3f5f\"}},\"annotationdefaults\":{\"arrowcolor\":\"#2a3f5f\",\"arrowhead\":0,\"arrowwidth\":1},\"geo\":{\"bgcolor\":\"white\",\"landcolor\":\"#E5ECF6\",\"subunitcolor\":\"white\",\"showland\":true,\"showlakes\":true,\"lakecolor\":\"white\"},\"title\":{\"x\":0.05},\"mapbox\":{\"style\":\"light\"}}},\"xaxis\":{\"anchor\":\"y\",\"domain\":[0.0,1.0],\"title\":{\"text\":\"# Topics\"}},\"yaxis\":{\"anchor\":\"x\",\"domain\":[0.0,1.0],\"title\":{\"text\":\"R2\"}},\"legend\":{\"title\":{\"text\":\"Metric\"},\"tracegroupgap\":0},\"title\":{\"text\":\"Linear Regression Metrics and # of Topics\"},\"plot_bgcolor\":\"rgb(245,245,245)\"},                        {\"responsive\": true}                    ).then(function(){\n",
       "                            \n",
       "var gd = document.getElementById('d6f170ec-7de3-4852-98dd-715a70e1c633');\n",
       "var x = new MutationObserver(function (mutations, observer) {{\n",
       "        var display = window.getComputedStyle(gd).display;\n",
       "        if (!display || display === 'none') {{\n",
       "            console.log([gd, 'removed!']);\n",
       "            Plotly.purge(gd);\n",
       "            observer.disconnect();\n",
       "        }}\n",
       "}});\n",
       "\n",
       "// Listen for the removal of the full notebook cells\n",
       "var notebookContainer = gd.closest('#notebook-container');\n",
       "if (notebookContainer) {{\n",
       "    x.observe(notebookContainer, {childList: true});\n",
       "}}\n",
       "\n",
       "// Listen for the clearing of the current output cell\n",
       "var outputEl = gd.closest('.output');\n",
       "if (outputEl) {{\n",
       "    x.observe(outputEl, {childList: true});\n",
       "}}\n",
       "\n",
       "                        })                };                });            </script>        </div>"
      ]
     },
     "metadata": {},
     "output_type": "display_data"
    },
    {
     "name": "stdout",
     "output_type": "stream",
     "text": [
      "Best Model: Latent Dirichlet Allocation | # Topics: 4 | R2 : 1.0\n"
     ]
    }
   ],
   "source": [
    "# supervised\n",
    "exp_name = setup(data = df_train, target = 'OriginalTweet', custom_stopwords=['covid', 'coronavirus', 'virus', 'pandemic', 'https', 'co'])\n",
    "tuned_lda = tune_model(model = 'lda', supervised_target = 'encoded_sentiment', custom_grid=[4])"
   ]
  },
  {
   "cell_type": "code",
   "execution_count": 40,
   "id": "d5e7f767-2312-4199-b404-46962577899d",
   "metadata": {
    "tags": []
   },
   "outputs": [
    {
     "data": {
      "text/plain": [
       "<gensim.models.ldamodel.LdaModel at 0x7fb75d890eb0>"
      ]
     },
     "execution_count": 40,
     "metadata": {},
     "output_type": "execute_result"
    }
   ],
   "source": [
    "tuned_lda"
   ]
  },
  {
   "cell_type": "code",
   "execution_count": 42,
   "id": "8af03489-deff-47d6-8054-0afff3486cc1",
   "metadata": {
    "tags": []
   },
   "outputs": [
    {
     "name": "stdout",
     "output_type": "stream",
     "text": [
      "Model Succesfully Saved\n"
     ]
    },
    {
     "data": {
      "text/plain": [
       "(<gensim.models.ldamodel.LdaModel at 0x7fb75d890eb0>, 'tuned_lda.pkl')"
      ]
     },
     "execution_count": 42,
     "metadata": {},
     "output_type": "execute_result"
    }
   ],
   "source": [
    "pycaret.nlp.save_model(tuned_lda, 'tuned_lda', verbose=True)"
   ]
  },
  {
   "cell_type": "code",
   "execution_count": 62,
   "id": "2cc96456-ee4c-43d8-9b01-621b7403b61b",
   "metadata": {
    "tags": []
   },
   "outputs": [
    {
     "name": "stdout",
     "output_type": "stream",
     "text": [
      "Model Sucessfully Loaded\n"
     ]
    }
   ],
   "source": [
    "saved_lda = load_model('tuned_lda')"
   ]
  },
  {
   "cell_type": "code",
   "execution_count": 63,
   "id": "f8aead74-a73f-4a59-8149-9b73e4fbb51b",
   "metadata": {
    "tags": []
   },
   "outputs": [
    {
     "data": {
      "text/html": [
       "        <script type=\"text/javascript\">\n",
       "        window.PlotlyConfig = {MathJaxConfig: 'local'};\n",
       "        if (window.MathJax && window.MathJax.Hub && window.MathJax.Hub.Config) {window.MathJax.Hub.Config({SVG: {font: \"STIX-Web\"}});}\n",
       "        if (typeof require !== 'undefined') {\n",
       "        require.undef(\"plotly\");\n",
       "        requirejs.config({\n",
       "            paths: {\n",
       "                'plotly': ['https://cdn.plot.ly/plotly-2.18.0.min']\n",
       "            }\n",
       "        });\n",
       "        require(['plotly'], function(Plotly) {\n",
       "            window._Plotly = Plotly;\n",
       "        });\n",
       "        }\n",
       "        </script>\n",
       "        "
      ]
     },
     "metadata": {},
     "output_type": "display_data"
    },
    {
     "data": {
      "application/vnd.plotly.v1+json": {
       "config": {
        "plotlyServerURL": "https://plot.ly"
       },
       "data": [
        {
         "alignmentgroup": "True",
         "customdata": [
          [
           "amp, company, customer, shop, delivery, want, retail, local, order, give"
          ],
          [
           "consumer, online, demand, shopping, help, due, new, crisis, take, may"
          ],
          [
           "price, oil, market, low, high, global, mask, economy, year, fall"
          ],
          [
           "store, food, grocery, supermarket, go, people, get, need, worker, time"
          ]
         ],
         "hovertemplate": "Topic=%{x}<br>Documents=%{y}<br>Keyword=%{customdata[0]}<extra></extra>",
         "legendgroup": "",
         "marker": {
          "color": "#636efa",
          "pattern": {
           "shape": ""
          }
         },
         "name": "",
         "offsetgroup": "",
         "orientation": "v",
         "showlegend": false,
         "textposition": "auto",
         "type": "bar",
         "x": [
          "Topic 0",
          "Topic 1",
          "Topic 2",
          "Topic 3"
         ],
         "xaxis": "x",
         "y": [
          340,
          8442,
          1379,
          30996
         ],
         "yaxis": "y"
        }
       ],
       "layout": {
        "autosize": true,
        "barmode": "relative",
        "legend": {
         "tracegroupgap": 0
        },
        "template": {
         "data": {
          "bar": [
           {
            "error_x": {
             "color": "#2a3f5f"
            },
            "error_y": {
             "color": "#2a3f5f"
            },
            "marker": {
             "line": {
              "color": "#E5ECF6",
              "width": 0.5
             },
             "pattern": {
              "fillmode": "overlay",
              "size": 10,
              "solidity": 0.2
             }
            },
            "type": "bar"
           }
          ],
          "barpolar": [
           {
            "marker": {
             "line": {
              "color": "#E5ECF6",
              "width": 0.5
             },
             "pattern": {
              "fillmode": "overlay",
              "size": 10,
              "solidity": 0.2
             }
            },
            "type": "barpolar"
           }
          ],
          "carpet": [
           {
            "aaxis": {
             "endlinecolor": "#2a3f5f",
             "gridcolor": "white",
             "linecolor": "white",
             "minorgridcolor": "white",
             "startlinecolor": "#2a3f5f"
            },
            "baxis": {
             "endlinecolor": "#2a3f5f",
             "gridcolor": "white",
             "linecolor": "white",
             "minorgridcolor": "white",
             "startlinecolor": "#2a3f5f"
            },
            "type": "carpet"
           }
          ],
          "choropleth": [
           {
            "colorbar": {
             "outlinewidth": 0,
             "ticks": ""
            },
            "type": "choropleth"
           }
          ],
          "contour": [
           {
            "colorbar": {
             "outlinewidth": 0,
             "ticks": ""
            },
            "colorscale": [
             [
              0,
              "#0d0887"
             ],
             [
              0.1111111111111111,
              "#46039f"
             ],
             [
              0.2222222222222222,
              "#7201a8"
             ],
             [
              0.3333333333333333,
              "#9c179e"
             ],
             [
              0.4444444444444444,
              "#bd3786"
             ],
             [
              0.5555555555555556,
              "#d8576b"
             ],
             [
              0.6666666666666666,
              "#ed7953"
             ],
             [
              0.7777777777777778,
              "#fb9f3a"
             ],
             [
              0.8888888888888888,
              "#fdca26"
             ],
             [
              1,
              "#f0f921"
             ]
            ],
            "type": "contour"
           }
          ],
          "contourcarpet": [
           {
            "colorbar": {
             "outlinewidth": 0,
             "ticks": ""
            },
            "type": "contourcarpet"
           }
          ],
          "heatmap": [
           {
            "colorbar": {
             "outlinewidth": 0,
             "ticks": ""
            },
            "colorscale": [
             [
              0,
              "#0d0887"
             ],
             [
              0.1111111111111111,
              "#46039f"
             ],
             [
              0.2222222222222222,
              "#7201a8"
             ],
             [
              0.3333333333333333,
              "#9c179e"
             ],
             [
              0.4444444444444444,
              "#bd3786"
             ],
             [
              0.5555555555555556,
              "#d8576b"
             ],
             [
              0.6666666666666666,
              "#ed7953"
             ],
             [
              0.7777777777777778,
              "#fb9f3a"
             ],
             [
              0.8888888888888888,
              "#fdca26"
             ],
             [
              1,
              "#f0f921"
             ]
            ],
            "type": "heatmap"
           }
          ],
          "heatmapgl": [
           {
            "colorbar": {
             "outlinewidth": 0,
             "ticks": ""
            },
            "colorscale": [
             [
              0,
              "#0d0887"
             ],
             [
              0.1111111111111111,
              "#46039f"
             ],
             [
              0.2222222222222222,
              "#7201a8"
             ],
             [
              0.3333333333333333,
              "#9c179e"
             ],
             [
              0.4444444444444444,
              "#bd3786"
             ],
             [
              0.5555555555555556,
              "#d8576b"
             ],
             [
              0.6666666666666666,
              "#ed7953"
             ],
             [
              0.7777777777777778,
              "#fb9f3a"
             ],
             [
              0.8888888888888888,
              "#fdca26"
             ],
             [
              1,
              "#f0f921"
             ]
            ],
            "type": "heatmapgl"
           }
          ],
          "histogram": [
           {
            "marker": {
             "pattern": {
              "fillmode": "overlay",
              "size": 10,
              "solidity": 0.2
             }
            },
            "type": "histogram"
           }
          ],
          "histogram2d": [
           {
            "colorbar": {
             "outlinewidth": 0,
             "ticks": ""
            },
            "colorscale": [
             [
              0,
              "#0d0887"
             ],
             [
              0.1111111111111111,
              "#46039f"
             ],
             [
              0.2222222222222222,
              "#7201a8"
             ],
             [
              0.3333333333333333,
              "#9c179e"
             ],
             [
              0.4444444444444444,
              "#bd3786"
             ],
             [
              0.5555555555555556,
              "#d8576b"
             ],
             [
              0.6666666666666666,
              "#ed7953"
             ],
             [
              0.7777777777777778,
              "#fb9f3a"
             ],
             [
              0.8888888888888888,
              "#fdca26"
             ],
             [
              1,
              "#f0f921"
             ]
            ],
            "type": "histogram2d"
           }
          ],
          "histogram2dcontour": [
           {
            "colorbar": {
             "outlinewidth": 0,
             "ticks": ""
            },
            "colorscale": [
             [
              0,
              "#0d0887"
             ],
             [
              0.1111111111111111,
              "#46039f"
             ],
             [
              0.2222222222222222,
              "#7201a8"
             ],
             [
              0.3333333333333333,
              "#9c179e"
             ],
             [
              0.4444444444444444,
              "#bd3786"
             ],
             [
              0.5555555555555556,
              "#d8576b"
             ],
             [
              0.6666666666666666,
              "#ed7953"
             ],
             [
              0.7777777777777778,
              "#fb9f3a"
             ],
             [
              0.8888888888888888,
              "#fdca26"
             ],
             [
              1,
              "#f0f921"
             ]
            ],
            "type": "histogram2dcontour"
           }
          ],
          "mesh3d": [
           {
            "colorbar": {
             "outlinewidth": 0,
             "ticks": ""
            },
            "type": "mesh3d"
           }
          ],
          "parcoords": [
           {
            "line": {
             "colorbar": {
              "outlinewidth": 0,
              "ticks": ""
             }
            },
            "type": "parcoords"
           }
          ],
          "pie": [
           {
            "automargin": true,
            "type": "pie"
           }
          ],
          "scatter": [
           {
            "fillpattern": {
             "fillmode": "overlay",
             "size": 10,
             "solidity": 0.2
            },
            "type": "scatter"
           }
          ],
          "scatter3d": [
           {
            "line": {
             "colorbar": {
              "outlinewidth": 0,
              "ticks": ""
             }
            },
            "marker": {
             "colorbar": {
              "outlinewidth": 0,
              "ticks": ""
             }
            },
            "type": "scatter3d"
           }
          ],
          "scattercarpet": [
           {
            "marker": {
             "colorbar": {
              "outlinewidth": 0,
              "ticks": ""
             }
            },
            "type": "scattercarpet"
           }
          ],
          "scattergeo": [
           {
            "marker": {
             "colorbar": {
              "outlinewidth": 0,
              "ticks": ""
             }
            },
            "type": "scattergeo"
           }
          ],
          "scattergl": [
           {
            "marker": {
             "colorbar": {
              "outlinewidth": 0,
              "ticks": ""
             }
            },
            "type": "scattergl"
           }
          ],
          "scattermapbox": [
           {
            "marker": {
             "colorbar": {
              "outlinewidth": 0,
              "ticks": ""
             }
            },
            "type": "scattermapbox"
           }
          ],
          "scatterpolar": [
           {
            "marker": {
             "colorbar": {
              "outlinewidth": 0,
              "ticks": ""
             }
            },
            "type": "scatterpolar"
           }
          ],
          "scatterpolargl": [
           {
            "marker": {
             "colorbar": {
              "outlinewidth": 0,
              "ticks": ""
             }
            },
            "type": "scatterpolargl"
           }
          ],
          "scatterternary": [
           {
            "marker": {
             "colorbar": {
              "outlinewidth": 0,
              "ticks": ""
             }
            },
            "type": "scatterternary"
           }
          ],
          "surface": [
           {
            "colorbar": {
             "outlinewidth": 0,
             "ticks": ""
            },
            "colorscale": [
             [
              0,
              "#0d0887"
             ],
             [
              0.1111111111111111,
              "#46039f"
             ],
             [
              0.2222222222222222,
              "#7201a8"
             ],
             [
              0.3333333333333333,
              "#9c179e"
             ],
             [
              0.4444444444444444,
              "#bd3786"
             ],
             [
              0.5555555555555556,
              "#d8576b"
             ],
             [
              0.6666666666666666,
              "#ed7953"
             ],
             [
              0.7777777777777778,
              "#fb9f3a"
             ],
             [
              0.8888888888888888,
              "#fdca26"
             ],
             [
              1,
              "#f0f921"
             ]
            ],
            "type": "surface"
           }
          ],
          "table": [
           {
            "cells": {
             "fill": {
              "color": "#EBF0F8"
             },
             "line": {
              "color": "white"
             }
            },
            "header": {
             "fill": {
              "color": "#C8D4E3"
             },
             "line": {
              "color": "white"
             }
            },
            "type": "table"
           }
          ]
         },
         "layout": {
          "annotationdefaults": {
           "arrowcolor": "#2a3f5f",
           "arrowhead": 0,
           "arrowwidth": 1
          },
          "autotypenumbers": "strict",
          "coloraxis": {
           "colorbar": {
            "outlinewidth": 0,
            "ticks": ""
           }
          },
          "colorscale": {
           "diverging": [
            [
             0,
             "#8e0152"
            ],
            [
             0.1,
             "#c51b7d"
            ],
            [
             0.2,
             "#de77ae"
            ],
            [
             0.3,
             "#f1b6da"
            ],
            [
             0.4,
             "#fde0ef"
            ],
            [
             0.5,
             "#f7f7f7"
            ],
            [
             0.6,
             "#e6f5d0"
            ],
            [
             0.7,
             "#b8e186"
            ],
            [
             0.8,
             "#7fbc41"
            ],
            [
             0.9,
             "#4d9221"
            ],
            [
             1,
             "#276419"
            ]
           ],
           "sequential": [
            [
             0,
             "#0d0887"
            ],
            [
             0.1111111111111111,
             "#46039f"
            ],
            [
             0.2222222222222222,
             "#7201a8"
            ],
            [
             0.3333333333333333,
             "#9c179e"
            ],
            [
             0.4444444444444444,
             "#bd3786"
            ],
            [
             0.5555555555555556,
             "#d8576b"
            ],
            [
             0.6666666666666666,
             "#ed7953"
            ],
            [
             0.7777777777777778,
             "#fb9f3a"
            ],
            [
             0.8888888888888888,
             "#fdca26"
            ],
            [
             1,
             "#f0f921"
            ]
           ],
           "sequentialminus": [
            [
             0,
             "#0d0887"
            ],
            [
             0.1111111111111111,
             "#46039f"
            ],
            [
             0.2222222222222222,
             "#7201a8"
            ],
            [
             0.3333333333333333,
             "#9c179e"
            ],
            [
             0.4444444444444444,
             "#bd3786"
            ],
            [
             0.5555555555555556,
             "#d8576b"
            ],
            [
             0.6666666666666666,
             "#ed7953"
            ],
            [
             0.7777777777777778,
             "#fb9f3a"
            ],
            [
             0.8888888888888888,
             "#fdca26"
            ],
            [
             1,
             "#f0f921"
            ]
           ]
          },
          "colorway": [
           "#636efa",
           "#EF553B",
           "#00cc96",
           "#ab63fa",
           "#FFA15A",
           "#19d3f3",
           "#FF6692",
           "#B6E880",
           "#FF97FF",
           "#FECB52"
          ],
          "font": {
           "color": "#2a3f5f"
          },
          "geo": {
           "bgcolor": "white",
           "lakecolor": "white",
           "landcolor": "#E5ECF6",
           "showlakes": true,
           "showland": true,
           "subunitcolor": "white"
          },
          "hoverlabel": {
           "align": "left"
          },
          "hovermode": "closest",
          "mapbox": {
           "style": "light"
          },
          "paper_bgcolor": "white",
          "plot_bgcolor": "#E5ECF6",
          "polar": {
           "angularaxis": {
            "gridcolor": "white",
            "linecolor": "white",
            "ticks": ""
           },
           "bgcolor": "#E5ECF6",
           "radialaxis": {
            "gridcolor": "white",
            "linecolor": "white",
            "ticks": ""
           }
          },
          "scene": {
           "xaxis": {
            "backgroundcolor": "#E5ECF6",
            "gridcolor": "white",
            "gridwidth": 2,
            "linecolor": "white",
            "showbackground": true,
            "ticks": "",
            "zerolinecolor": "white"
           },
           "yaxis": {
            "backgroundcolor": "#E5ECF6",
            "gridcolor": "white",
            "gridwidth": 2,
            "linecolor": "white",
            "showbackground": true,
            "ticks": "",
            "zerolinecolor": "white"
           },
           "zaxis": {
            "backgroundcolor": "#E5ECF6",
            "gridcolor": "white",
            "gridwidth": 2,
            "linecolor": "white",
            "showbackground": true,
            "ticks": "",
            "zerolinecolor": "white"
           }
          },
          "shapedefaults": {
           "line": {
            "color": "#2a3f5f"
           }
          },
          "ternary": {
           "aaxis": {
            "gridcolor": "white",
            "linecolor": "white",
            "ticks": ""
           },
           "baxis": {
            "gridcolor": "white",
            "linecolor": "white",
            "ticks": ""
           },
           "bgcolor": "#E5ECF6",
           "caxis": {
            "gridcolor": "white",
            "linecolor": "white",
            "ticks": ""
           }
          },
          "title": {
           "x": 0.05
          },
          "xaxis": {
           "automargin": true,
           "gridcolor": "white",
           "linecolor": "white",
           "ticks": "",
           "title": {
            "standoff": 15
           },
           "zerolinecolor": "white",
           "zerolinewidth": 2
          },
          "yaxis": {
           "automargin": true,
           "gridcolor": "white",
           "linecolor": "white",
           "ticks": "",
           "title": {
            "standoff": 15
           },
           "zerolinecolor": "white",
           "zerolinewidth": 2
          }
         }
        },
        "title": {
         "text": "Document Distribution by Topics"
        },
        "xaxis": {
         "anchor": "y",
         "autorange": true,
         "domain": [
          0,
          1
         ],
         "range": [
          -0.5,
          3.5
         ],
         "title": {
          "text": "Topic"
         },
         "type": "category"
        },
        "yaxis": {
         "anchor": "x",
         "autorange": true,
         "domain": [
          0,
          1
         ],
         "range": [
          0,
          32627.368421052633
         ],
         "title": {
          "text": "Documents"
         },
         "type": "linear"
        }
       }
      },
      "image/png": "[encoded data removed]",
      "text/html": [
       "<div>                            <div id=\"3554e1a0-00cb-402c-80f1-411bb1a9ea3e\" class=\"plotly-graph-div\" style=\"height:525px; width:100%;\"></div>            <script type=\"text/javascript\">                require([\"plotly\"], function(Plotly) {                    window.PLOTLYENV=window.PLOTLYENV || {};                                    if (document.getElementById(\"3554e1a0-00cb-402c-80f1-411bb1a9ea3e\")) {                    Plotly.newPlot(                        \"3554e1a0-00cb-402c-80f1-411bb1a9ea3e\",                        [{\"alignmentgroup\":\"True\",\"customdata\":[[\"amp, company, customer, shop, delivery, want, retail, local, order, give\"],[\"consumer, online, demand, shopping, help, due, new, crisis, take, may\"],[\"price, oil, market, low, high, global, mask, economy, year, fall\"],[\"store, food, grocery, supermarket, go, people, get, need, worker, time\"]],\"hovertemplate\":\"Topic=%{x}<br>Documents=%{y}<br>Keyword=%{customdata[0]}<extra></extra>\",\"legendgroup\":\"\",\"marker\":{\"color\":\"#636efa\",\"pattern\":{\"shape\":\"\"}},\"name\":\"\",\"offsetgroup\":\"\",\"orientation\":\"v\",\"showlegend\":false,\"textposition\":\"auto\",\"x\":[\"Topic 0\",\"Topic 1\",\"Topic 2\",\"Topic 3\"],\"xaxis\":\"x\",\"y\":[340,8442,1379,30996],\"yaxis\":\"y\",\"type\":\"bar\"}],                        {\"template\":{\"data\":{\"histogram2dcontour\":[{\"type\":\"histogram2dcontour\",\"colorbar\":{\"outlinewidth\":0,\"ticks\":\"\"},\"colorscale\":[[0.0,\"#0d0887\"],[0.1111111111111111,\"#46039f\"],[0.2222222222222222,\"#7201a8\"],[0.3333333333333333,\"#9c179e\"],[0.4444444444444444,\"#bd3786\"],[0.5555555555555556,\"#d8576b\"],[0.6666666666666666,\"#ed7953\"],[0.7777777777777778,\"#fb9f3a\"],[0.8888888888888888,\"#fdca26\"],[1.0,\"#f0f921\"]]}],\"choropleth\":[{\"type\":\"choropleth\",\"colorbar\":{\"outlinewidth\":0,\"ticks\":\"\"}}],\"histogram2d\":[{\"type\":\"histogram2d\",\"colorbar\":{\"outlinewidth\":0,\"ticks\":\"\"},\"colorscale\":[[0.0,\"#0d0887\"],[0.1111111111111111,\"#46039f\"],[0.2222222222222222,\"#7201a8\"],[0.3333333333333333,\"#9c179e\"],[0.4444444444444444,\"#bd3786\"],[0.5555555555555556,\"#d8576b\"],[0.6666666666666666,\"#ed7953\"],[0.7777777777777778,\"#fb9f3a\"],[0.8888888888888888,\"#fdca26\"],[1.0,\"#f0f921\"]]}],\"heatmap\":[{\"type\":\"heatmap\",\"colorbar\":{\"outlinewidth\":0,\"ticks\":\"\"},\"colorscale\":[[0.0,\"#0d0887\"],[0.1111111111111111,\"#46039f\"],[0.2222222222222222,\"#7201a8\"],[0.3333333333333333,\"#9c179e\"],[0.4444444444444444,\"#bd3786\"],[0.5555555555555556,\"#d8576b\"],[0.6666666666666666,\"#ed7953\"],[0.7777777777777778,\"#fb9f3a\"],[0.8888888888888888,\"#fdca26\"],[1.0,\"#f0f921\"]]}],\"heatmapgl\":[{\"type\":\"heatmapgl\",\"colorbar\":{\"outlinewidth\":0,\"ticks\":\"\"},\"colorscale\":[[0.0,\"#0d0887\"],[0.1111111111111111,\"#46039f\"],[0.2222222222222222,\"#7201a8\"],[0.3333333333333333,\"#9c179e\"],[0.4444444444444444,\"#bd3786\"],[0.5555555555555556,\"#d8576b\"],[0.6666666666666666,\"#ed7953\"],[0.7777777777777778,\"#fb9f3a\"],[0.8888888888888888,\"#fdca26\"],[1.0,\"#f0f921\"]]}],\"contourcarpet\":[{\"type\":\"contourcarpet\",\"colorbar\":{\"outlinewidth\":0,\"ticks\":\"\"}}],\"contour\":[{\"type\":\"contour\",\"colorbar\":{\"outlinewidth\":0,\"ticks\":\"\"},\"colorscale\":[[0.0,\"#0d0887\"],[0.1111111111111111,\"#46039f\"],[0.2222222222222222,\"#7201a8\"],[0.3333333333333333,\"#9c179e\"],[0.4444444444444444,\"#bd3786\"],[0.5555555555555556,\"#d8576b\"],[0.6666666666666666,\"#ed7953\"],[0.7777777777777778,\"#fb9f3a\"],[0.8888888888888888,\"#fdca26\"],[1.0,\"#f0f921\"]]}],\"surface\":[{\"type\":\"surface\",\"colorbar\":{\"outlinewidth\":0,\"ticks\":\"\"},\"colorscale\":[[0.0,\"#0d0887\"],[0.1111111111111111,\"#46039f\"],[0.2222222222222222,\"#7201a8\"],[0.3333333333333333,\"#9c179e\"],[0.4444444444444444,\"#bd3786\"],[0.5555555555555556,\"#d8576b\"],[0.6666666666666666,\"#ed7953\"],[0.7777777777777778,\"#fb9f3a\"],[0.8888888888888888,\"#fdca26\"],[1.0,\"#f0f921\"]]}],\"mesh3d\":[{\"type\":\"mesh3d\",\"colorbar\":{\"outlinewidth\":0,\"ticks\":\"\"}}],\"scatter\":[{\"fillpattern\":{\"fillmode\":\"overlay\",\"size\":10,\"solidity\":0.2},\"type\":\"scatter\"}],\"parcoords\":[{\"type\":\"parcoords\",\"line\":{\"colorbar\":{\"outlinewidth\":0,\"ticks\":\"\"}}}],\"scatterpolargl\":[{\"type\":\"scatterpolargl\",\"marker\":{\"colorbar\":{\"outlinewidth\":0,\"ticks\":\"\"}}}],\"bar\":[{\"error_x\":{\"color\":\"#2a3f5f\"},\"error_y\":{\"color\":\"#2a3f5f\"},\"marker\":{\"line\":{\"color\":\"#E5ECF6\",\"width\":0.5},\"pattern\":{\"fillmode\":\"overlay\",\"size\":10,\"solidity\":0.2}},\"type\":\"bar\"}],\"scattergeo\":[{\"type\":\"scattergeo\",\"marker\":{\"colorbar\":{\"outlinewidth\":0,\"ticks\":\"\"}}}],\"scatterpolar\":[{\"type\":\"scatterpolar\",\"marker\":{\"colorbar\":{\"outlinewidth\":0,\"ticks\":\"\"}}}],\"histogram\":[{\"marker\":{\"pattern\":{\"fillmode\":\"overlay\",\"size\":10,\"solidity\":0.2}},\"type\":\"histogram\"}],\"scattergl\":[{\"type\":\"scattergl\",\"marker\":{\"colorbar\":{\"outlinewidth\":0,\"ticks\":\"\"}}}],\"scatter3d\":[{\"type\":\"scatter3d\",\"line\":{\"colorbar\":{\"outlinewidth\":0,\"ticks\":\"\"}},\"marker\":{\"colorbar\":{\"outlinewidth\":0,\"ticks\":\"\"}}}],\"scattermapbox\":[{\"type\":\"scattermapbox\",\"marker\":{\"colorbar\":{\"outlinewidth\":0,\"ticks\":\"\"}}}],\"scatterternary\":[{\"type\":\"scatterternary\",\"marker\":{\"colorbar\":{\"outlinewidth\":0,\"ticks\":\"\"}}}],\"scattercarpet\":[{\"type\":\"scattercarpet\",\"marker\":{\"colorbar\":{\"outlinewidth\":0,\"ticks\":\"\"}}}],\"carpet\":[{\"aaxis\":{\"endlinecolor\":\"#2a3f5f\",\"gridcolor\":\"white\",\"linecolor\":\"white\",\"minorgridcolor\":\"white\",\"startlinecolor\":\"#2a3f5f\"},\"baxis\":{\"endlinecolor\":\"#2a3f5f\",\"gridcolor\":\"white\",\"linecolor\":\"white\",\"minorgridcolor\":\"white\",\"startlinecolor\":\"#2a3f5f\"},\"type\":\"carpet\"}],\"table\":[{\"cells\":{\"fill\":{\"color\":\"#EBF0F8\"},\"line\":{\"color\":\"white\"}},\"header\":{\"fill\":{\"color\":\"#C8D4E3\"},\"line\":{\"color\":\"white\"}},\"type\":\"table\"}],\"barpolar\":[{\"marker\":{\"line\":{\"color\":\"#E5ECF6\",\"width\":0.5},\"pattern\":{\"fillmode\":\"overlay\",\"size\":10,\"solidity\":0.2}},\"type\":\"barpolar\"}],\"pie\":[{\"automargin\":true,\"type\":\"pie\"}]},\"layout\":{\"autotypenumbers\":\"strict\",\"colorway\":[\"#636efa\",\"#EF553B\",\"#00cc96\",\"#ab63fa\",\"#FFA15A\",\"#19d3f3\",\"#FF6692\",\"#B6E880\",\"#FF97FF\",\"#FECB52\"],\"font\":{\"color\":\"#2a3f5f\"},\"hovermode\":\"closest\",\"hoverlabel\":{\"align\":\"left\"},\"paper_bgcolor\":\"white\",\"plot_bgcolor\":\"#E5ECF6\",\"polar\":{\"bgcolor\":\"#E5ECF6\",\"angularaxis\":{\"gridcolor\":\"white\",\"linecolor\":\"white\",\"ticks\":\"\"},\"radialaxis\":{\"gridcolor\":\"white\",\"linecolor\":\"white\",\"ticks\":\"\"}},\"ternary\":{\"bgcolor\":\"#E5ECF6\",\"aaxis\":{\"gridcolor\":\"white\",\"linecolor\":\"white\",\"ticks\":\"\"},\"baxis\":{\"gridcolor\":\"white\",\"linecolor\":\"white\",\"ticks\":\"\"},\"caxis\":{\"gridcolor\":\"white\",\"linecolor\":\"white\",\"ticks\":\"\"}},\"coloraxis\":{\"colorbar\":{\"outlinewidth\":0,\"ticks\":\"\"}},\"colorscale\":{\"sequential\":[[0.0,\"#0d0887\"],[0.1111111111111111,\"#46039f\"],[0.2222222222222222,\"#7201a8\"],[0.3333333333333333,\"#9c179e\"],[0.4444444444444444,\"#bd3786\"],[0.5555555555555556,\"#d8576b\"],[0.6666666666666666,\"#ed7953\"],[0.7777777777777778,\"#fb9f3a\"],[0.8888888888888888,\"#fdca26\"],[1.0,\"#f0f921\"]],\"sequentialminus\":[[0.0,\"#0d0887\"],[0.1111111111111111,\"#46039f\"],[0.2222222222222222,\"#7201a8\"],[0.3333333333333333,\"#9c179e\"],[0.4444444444444444,\"#bd3786\"],[0.5555555555555556,\"#d8576b\"],[0.6666666666666666,\"#ed7953\"],[0.7777777777777778,\"#fb9f3a\"],[0.8888888888888888,\"#fdca26\"],[1.0,\"#f0f921\"]],\"diverging\":[[0,\"#8e0152\"],[0.1,\"#c51b7d\"],[0.2,\"#de77ae\"],[0.3,\"#f1b6da\"],[0.4,\"#fde0ef\"],[0.5,\"#f7f7f7\"],[0.6,\"#e6f5d0\"],[0.7,\"#b8e186\"],[0.8,\"#7fbc41\"],[0.9,\"#4d9221\"],[1,\"#276419\"]]},\"xaxis\":{\"gridcolor\":\"white\",\"linecolor\":\"white\",\"ticks\":\"\",\"title\":{\"standoff\":15},\"zerolinecolor\":\"white\",\"automargin\":true,\"zerolinewidth\":2},\"yaxis\":{\"gridcolor\":\"white\",\"linecolor\":\"white\",\"ticks\":\"\",\"title\":{\"standoff\":15},\"zerolinecolor\":\"white\",\"automargin\":true,\"zerolinewidth\":2},\"scene\":{\"xaxis\":{\"backgroundcolor\":\"#E5ECF6\",\"gridcolor\":\"white\",\"linecolor\":\"white\",\"showbackground\":true,\"ticks\":\"\",\"zerolinecolor\":\"white\",\"gridwidth\":2},\"yaxis\":{\"backgroundcolor\":\"#E5ECF6\",\"gridcolor\":\"white\",\"linecolor\":\"white\",\"showbackground\":true,\"ticks\":\"\",\"zerolinecolor\":\"white\",\"gridwidth\":2},\"zaxis\":{\"backgroundcolor\":\"#E5ECF6\",\"gridcolor\":\"white\",\"linecolor\":\"white\",\"showbackground\":true,\"ticks\":\"\",\"zerolinecolor\":\"white\",\"gridwidth\":2}},\"shapedefaults\":{\"line\":{\"color\":\"#2a3f5f\"}},\"annotationdefaults\":{\"arrowcolor\":\"#2a3f5f\",\"arrowhead\":0,\"arrowwidth\":1},\"geo\":{\"bgcolor\":\"white\",\"landcolor\":\"#E5ECF6\",\"subunitcolor\":\"white\",\"showland\":true,\"showlakes\":true,\"lakecolor\":\"white\"},\"title\":{\"x\":0.05},\"mapbox\":{\"style\":\"light\"}}},\"xaxis\":{\"anchor\":\"y\",\"domain\":[0.0,1.0],\"title\":{\"text\":\"Topic\"}},\"yaxis\":{\"anchor\":\"x\",\"domain\":[0.0,1.0],\"title\":{\"text\":\"Documents\"}},\"legend\":{\"tracegroupgap\":0},\"title\":{\"text\":\"Document Distribution by Topics\"},\"barmode\":\"relative\"},                        {\"responsive\": true}                    ).then(function(){\n",
       "                            \n",
       "var gd = document.getElementById('3554e1a0-00cb-402c-80f1-411bb1a9ea3e');\n",
       "var x = new MutationObserver(function (mutations, observer) {{\n",
       "        var display = window.getComputedStyle(gd).display;\n",
       "        if (!display || display === 'none') {{\n",
       "            console.log([gd, 'removed!']);\n",
       "            Plotly.purge(gd);\n",
       "            observer.disconnect();\n",
       "        }}\n",
       "}});\n",
       "\n",
       "// Listen for the removal of the full notebook cells\n",
       "var notebookContainer = gd.closest('#notebook-container');\n",
       "if (notebookContainer) {{\n",
       "    x.observe(notebookContainer, {childList: true});\n",
       "}}\n",
       "\n",
       "// Listen for the clearing of the current output cell\n",
       "var outputEl = gd.closest('.output');\n",
       "if (outputEl) {{\n",
       "    x.observe(outputEl, {childList: true});\n",
       "}}\n",
       "\n",
       "                        })                };                });            </script>        </div>"
      ]
     },
     "metadata": {},
     "output_type": "display_data"
    }
   ],
   "source": [
    "plot_model(saved_lda, plot = 'topic_distribution')"
   ]
  },
  {
   "cell_type": "code",
   "execution_count": 26,
   "id": "3062279c-9578-445b-933b-96ab894f339b",
   "metadata": {
    "tags": []
   },
   "outputs": [],
   "source": [
    "lda_df = assign_model(tuned_lda)"
   ]
  },
  {
   "cell_type": "code",
   "execution_count": 37,
   "id": "a5e4212e-692d-4f85-beda-9fd51a42b935",
   "metadata": {
    "tags": []
   },
   "outputs": [
    {
     "name": "stdout",
     "output_type": "stream",
     "text": [
      "Stored 'lda_df' (DataFrame)\n"
     ]
    }
   ],
   "source": [
    "%store lda_df"
   ]
  },
  {
   "cell_type": "code",
   "execution_count": 29,
   "id": "1870aa73-e7e0-4445-9db3-bbc59386d24c",
   "metadata": {
    "tags": []
   },
   "outputs": [
    {
     "data": {
      "text/html": [
       "<div>\n",
       "<style scoped>\n",
       "    .dataframe tbody tr th:only-of-type {\n",
       "        vertical-align: middle;\n",
       "    }\n",
       "\n",
       "    .dataframe tbody tr th {\n",
       "        vertical-align: top;\n",
       "    }\n",
       "\n",
       "    .dataframe thead th {\n",
       "        text-align: right;\n",
       "    }\n",
       "</style>\n",
       "<table border=\"1\" class=\"dataframe\">\n",
       "  <thead>\n",
       "    <tr style=\"text-align: right;\">\n",
       "      <th></th>\n",
       "      <th>UserName</th>\n",
       "      <th>ScreenName</th>\n",
       "      <th>Location</th>\n",
       "      <th>TweetAt</th>\n",
       "      <th>OriginalTweet</th>\n",
       "      <th>Sentiment</th>\n",
       "      <th>encoded_sentiment</th>\n",
       "      <th>Topic_0</th>\n",
       "      <th>Topic_1</th>\n",
       "      <th>Topic_2</th>\n",
       "      <th>Topic_3</th>\n",
       "      <th>Dominant_Topic</th>\n",
       "      <th>Perc_Dominant_Topic</th>\n",
       "    </tr>\n",
       "  </thead>\n",
       "  <tbody>\n",
       "    <tr>\n",
       "      <th>0</th>\n",
       "      <td>3799</td>\n",
       "      <td>48751</td>\n",
       "      <td>London</td>\n",
       "      <td>16-03-2020</td>\n",
       "      <td>chrisitv</td>\n",
       "      <td>Neutral</td>\n",
       "      <td>0</td>\n",
       "      <td>0.156953</td>\n",
       "      <td>0.299030</td>\n",
       "      <td>0.166625</td>\n",
       "      <td>0.377392</td>\n",
       "      <td>Topic 3</td>\n",
       "      <td>0.38</td>\n",
       "    </tr>\n",
       "    <tr>\n",
       "      <th>1</th>\n",
       "      <td>3800</td>\n",
       "      <td>48752</td>\n",
       "      <td>UK</td>\n",
       "      <td>16-03-2020</td>\n",
       "      <td>advice talk family exchange phone number creat...</td>\n",
       "      <td>Positive</td>\n",
       "      <td>1</td>\n",
       "      <td>0.444629</td>\n",
       "      <td>0.228631</td>\n",
       "      <td>0.093634</td>\n",
       "      <td>0.233107</td>\n",
       "      <td>Topic 0</td>\n",
       "      <td>0.44</td>\n",
       "    </tr>\n",
       "    <tr>\n",
       "      <th>2</th>\n",
       "      <td>3801</td>\n",
       "      <td>48753</td>\n",
       "      <td>Vagabonds</td>\n",
       "      <td>16-03-2020</td>\n",
       "      <td>give elderly_disable dedicated shopping hour</td>\n",
       "      <td>Positive</td>\n",
       "      <td>1</td>\n",
       "      <td>0.284236</td>\n",
       "      <td>0.287950</td>\n",
       "      <td>0.130590</td>\n",
       "      <td>0.297224</td>\n",
       "      <td>Topic 3</td>\n",
       "      <td>0.30</td>\n",
       "    </tr>\n",
       "    <tr>\n",
       "      <th>3</th>\n",
       "      <td>3802</td>\n",
       "      <td>48754</td>\n",
       "      <td>NaN</td>\n",
       "      <td>16-03-2020</td>\n",
       "      <td>food stock empty panic enough food take nee st...</td>\n",
       "      <td>Positive</td>\n",
       "      <td>1</td>\n",
       "      <td>0.090304</td>\n",
       "      <td>0.289617</td>\n",
       "      <td>0.096071</td>\n",
       "      <td>0.524009</td>\n",
       "      <td>Topic 3</td>\n",
       "      <td>0.52</td>\n",
       "    </tr>\n",
       "    <tr>\n",
       "      <th>4</th>\n",
       "      <td>3803</td>\n",
       "      <td>48755</td>\n",
       "      <td>NaN</td>\n",
       "      <td>16-03-2020</td>\n",
       "      <td>go supermarket outbreak paranoid food stock em...</td>\n",
       "      <td>Extremely Negative</td>\n",
       "      <td>-2</td>\n",
       "      <td>0.152644</td>\n",
       "      <td>0.219368</td>\n",
       "      <td>0.187600</td>\n",
       "      <td>0.440388</td>\n",
       "      <td>Topic 3</td>\n",
       "      <td>0.44</td>\n",
       "    </tr>\n",
       "    <tr>\n",
       "      <th>...</th>\n",
       "      <td>...</td>\n",
       "      <td>...</td>\n",
       "      <td>...</td>\n",
       "      <td>...</td>\n",
       "      <td>...</td>\n",
       "      <td>...</td>\n",
       "      <td>...</td>\n",
       "      <td>...</td>\n",
       "      <td>...</td>\n",
       "      <td>...</td>\n",
       "      <td>...</td>\n",
       "      <td>...</td>\n",
       "      <td>...</td>\n",
       "    </tr>\n",
       "    <tr>\n",
       "      <th>41152</th>\n",
       "      <td>44951</td>\n",
       "      <td>89903</td>\n",
       "      <td>Wellington City, New Zealand</td>\n",
       "      <td>14-04-2020</td>\n",
       "      <td>airline offer stock shelf</td>\n",
       "      <td>Neutral</td>\n",
       "      <td>0</td>\n",
       "      <td>0.174666</td>\n",
       "      <td>0.236632</td>\n",
       "      <td>0.182901</td>\n",
       "      <td>0.405801</td>\n",
       "      <td>Topic 3</td>\n",
       "      <td>0.41</td>\n",
       "    </tr>\n",
       "    <tr>\n",
       "      <th>41153</th>\n",
       "      <td>44952</td>\n",
       "      <td>89904</td>\n",
       "      <td>NaN</td>\n",
       "      <td>14-04-2020</td>\n",
       "      <td>provide cite relate delay yet prompt reject po...</td>\n",
       "      <td>Extremely Negative</td>\n",
       "      <td>-2</td>\n",
       "      <td>0.128580</td>\n",
       "      <td>0.365202</td>\n",
       "      <td>0.093611</td>\n",
       "      <td>0.412607</td>\n",
       "      <td>Topic 3</td>\n",
       "      <td>0.41</td>\n",
       "    </tr>\n",
       "    <tr>\n",
       "      <th>41154</th>\n",
       "      <td>44953</td>\n",
       "      <td>89905</td>\n",
       "      <td>NaN</td>\n",
       "      <td>14-04-2020</td>\n",
       "      <td>know get tough kameronwild ration help</td>\n",
       "      <td>Positive</td>\n",
       "      <td>1</td>\n",
       "      <td>0.115775</td>\n",
       "      <td>0.379800</td>\n",
       "      <td>0.122387</td>\n",
       "      <td>0.382038</td>\n",
       "      <td>Topic 3</td>\n",
       "      <td>0.38</td>\n",
       "    </tr>\n",
       "    <tr>\n",
       "      <th>41155</th>\n",
       "      <td>44954</td>\n",
       "      <td>89906</td>\n",
       "      <td>NaN</td>\n",
       "      <td>14-04-2020</td>\n",
       "      <td>wrong start turn</td>\n",
       "      <td>Neutral</td>\n",
       "      <td>0</td>\n",
       "      <td>0.184421</td>\n",
       "      <td>0.305701</td>\n",
       "      <td>0.137307</td>\n",
       "      <td>0.372571</td>\n",
       "      <td>Topic 3</td>\n",
       "      <td>0.37</td>\n",
       "    </tr>\n",
       "    <tr>\n",
       "      <th>41156</th>\n",
       "      <td>44955</td>\n",
       "      <td>89907</td>\n",
       "      <td>i love you so much || he/him</td>\n",
       "      <td>14-04-2020</td>\n",
       "      <td>tartiicat new use rift go amazon rn normal mar...</td>\n",
       "      <td>Negative</td>\n",
       "      <td>-1</td>\n",
       "      <td>0.209907</td>\n",
       "      <td>0.198193</td>\n",
       "      <td>0.228278</td>\n",
       "      <td>0.363622</td>\n",
       "      <td>Topic 3</td>\n",
       "      <td>0.36</td>\n",
       "    </tr>\n",
       "  </tbody>\n",
       "</table>\n",
       "<p>41157 rows × 13 columns</p>\n",
       "</div>"
      ],
      "text/plain": [
       "       UserName  ScreenName                      Location     TweetAt  \\\n",
       "0          3799       48751                        London  16-03-2020   \n",
       "1          3800       48752                            UK  16-03-2020   \n",
       "2          3801       48753                     Vagabonds  16-03-2020   \n",
       "3          3802       48754                           NaN  16-03-2020   \n",
       "4          3803       48755                           NaN  16-03-2020   \n",
       "...         ...         ...                           ...         ...   \n",
       "41152     44951       89903  Wellington City, New Zealand  14-04-2020   \n",
       "41153     44952       89904                           NaN  14-04-2020   \n",
       "41154     44953       89905                           NaN  14-04-2020   \n",
       "41155     44954       89906                           NaN  14-04-2020   \n",
       "41156     44955       89907  i love you so much || he/him  14-04-2020   \n",
       "\n",
       "                                           OriginalTweet           Sentiment  \\\n",
       "0                                               chrisitv             Neutral   \n",
       "1      advice talk family exchange phone number creat...            Positive   \n",
       "2           give elderly_disable dedicated shopping hour            Positive   \n",
       "3      food stock empty panic enough food take nee st...            Positive   \n",
       "4      go supermarket outbreak paranoid food stock em...  Extremely Negative   \n",
       "...                                                  ...                 ...   \n",
       "41152                          airline offer stock shelf             Neutral   \n",
       "41153  provide cite relate delay yet prompt reject po...  Extremely Negative   \n",
       "41154             know get tough kameronwild ration help            Positive   \n",
       "41155                                   wrong start turn             Neutral   \n",
       "41156  tartiicat new use rift go amazon rn normal mar...            Negative   \n",
       "\n",
       "       encoded_sentiment   Topic_0   Topic_1   Topic_2   Topic_3  \\\n",
       "0                      0  0.156953  0.299030  0.166625  0.377392   \n",
       "1                      1  0.444629  0.228631  0.093634  0.233107   \n",
       "2                      1  0.284236  0.287950  0.130590  0.297224   \n",
       "3                      1  0.090304  0.289617  0.096071  0.524009   \n",
       "4                     -2  0.152644  0.219368  0.187600  0.440388   \n",
       "...                  ...       ...       ...       ...       ...   \n",
       "41152                  0  0.174666  0.236632  0.182901  0.405801   \n",
       "41153                 -2  0.128580  0.365202  0.093611  0.412607   \n",
       "41154                  1  0.115775  0.379800  0.122387  0.382038   \n",
       "41155                  0  0.184421  0.305701  0.137307  0.372571   \n",
       "41156                 -1  0.209907  0.198193  0.228278  0.363622   \n",
       "\n",
       "      Dominant_Topic  Perc_Dominant_Topic  \n",
       "0            Topic 3                 0.38  \n",
       "1            Topic 0                 0.44  \n",
       "2            Topic 3                 0.30  \n",
       "3            Topic 3                 0.52  \n",
       "4            Topic 3                 0.44  \n",
       "...              ...                  ...  \n",
       "41152        Topic 3                 0.41  \n",
       "41153        Topic 3                 0.41  \n",
       "41154        Topic 3                 0.38  \n",
       "41155        Topic 3                 0.37  \n",
       "41156        Topic 3                 0.36  \n",
       "\n",
       "[41157 rows x 13 columns]"
      ]
     },
     "execution_count": 29,
     "metadata": {},
     "output_type": "execute_result"
    }
   ],
   "source": [
    "lda_df"
   ]
  },
  {
   "cell_type": "code",
   "execution_count": 27,
   "id": "94446e80-8b40-4253-9aa1-4a5afd26a990",
   "metadata": {
    "tags": []
   },
   "outputs": [
    {
     "data": {
      "text/html": [
       "<style type=\"text/css\">\n",
       "#T_422fd_row5_col1, #T_422fd_row29_col1, #T_422fd_row44_col1 {\n",
       "  background-color: lightgreen;\n",
       "}\n",
       "</style>\n",
       "<table id=\"T_422fd\">\n",
       "  <thead>\n",
       "    <tr>\n",
       "      <th class=\"blank level0\" >&nbsp;</th>\n",
       "      <th id=\"T_422fd_level0_col0\" class=\"col_heading level0 col0\" >Description</th>\n",
       "      <th id=\"T_422fd_level0_col1\" class=\"col_heading level0 col1\" >Value</th>\n",
       "    </tr>\n",
       "  </thead>\n",
       "  <tbody>\n",
       "    <tr>\n",
       "      <th id=\"T_422fd_level0_row0\" class=\"row_heading level0 row0\" >0</th>\n",
       "      <td id=\"T_422fd_row0_col0\" class=\"data row0 col0\" >session_id</td>\n",
       "      <td id=\"T_422fd_row0_col1\" class=\"data row0 col1\" >1663</td>\n",
       "    </tr>\n",
       "    <tr>\n",
       "      <th id=\"T_422fd_level0_row1\" class=\"row_heading level0 row1\" >1</th>\n",
       "      <td id=\"T_422fd_row1_col0\" class=\"data row1 col0\" >Target</td>\n",
       "      <td id=\"T_422fd_row1_col1\" class=\"data row1 col1\" >Sentiment</td>\n",
       "    </tr>\n",
       "    <tr>\n",
       "      <th id=\"T_422fd_level0_row2\" class=\"row_heading level0 row2\" >2</th>\n",
       "      <td id=\"T_422fd_row2_col0\" class=\"data row2 col0\" >Target Type</td>\n",
       "      <td id=\"T_422fd_row2_col1\" class=\"data row2 col1\" >Multiclass</td>\n",
       "    </tr>\n",
       "    <tr>\n",
       "      <th id=\"T_422fd_level0_row3\" class=\"row_heading level0 row3\" >3</th>\n",
       "      <td id=\"T_422fd_row3_col0\" class=\"data row3 col0\" >Label Encoded</td>\n",
       "      <td id=\"T_422fd_row3_col1\" class=\"data row3 col1\" >Extremely Negative: 0, Extremely Positive: 1, Negative: 2, Neutral: 3, Positive: 4</td>\n",
       "    </tr>\n",
       "    <tr>\n",
       "      <th id=\"T_422fd_level0_row4\" class=\"row_heading level0 row4\" >4</th>\n",
       "      <td id=\"T_422fd_row4_col0\" class=\"data row4 col0\" >Original Data</td>\n",
       "      <td id=\"T_422fd_row4_col1\" class=\"data row4 col1\" >(41157, 13)</td>\n",
       "    </tr>\n",
       "    <tr>\n",
       "      <th id=\"T_422fd_level0_row5\" class=\"row_heading level0 row5\" >5</th>\n",
       "      <td id=\"T_422fd_row5_col0\" class=\"data row5 col0\" >Missing Values</td>\n",
       "      <td id=\"T_422fd_row5_col1\" class=\"data row5 col1\" >True</td>\n",
       "    </tr>\n",
       "    <tr>\n",
       "      <th id=\"T_422fd_level0_row6\" class=\"row_heading level0 row6\" >6</th>\n",
       "      <td id=\"T_422fd_row6_col0\" class=\"data row6 col0\" >Numeric Features</td>\n",
       "      <td id=\"T_422fd_row6_col1\" class=\"data row6 col1\" >4</td>\n",
       "    </tr>\n",
       "    <tr>\n",
       "      <th id=\"T_422fd_level0_row7\" class=\"row_heading level0 row7\" >7</th>\n",
       "      <td id=\"T_422fd_row7_col0\" class=\"data row7 col0\" >Categorical Features</td>\n",
       "      <td id=\"T_422fd_row7_col1\" class=\"data row7 col1\" >1</td>\n",
       "    </tr>\n",
       "    <tr>\n",
       "      <th id=\"T_422fd_level0_row8\" class=\"row_heading level0 row8\" >8</th>\n",
       "      <td id=\"T_422fd_row8_col0\" class=\"data row8 col0\" >Ordinal Features</td>\n",
       "      <td id=\"T_422fd_row8_col1\" class=\"data row8 col1\" >False</td>\n",
       "    </tr>\n",
       "    <tr>\n",
       "      <th id=\"T_422fd_level0_row9\" class=\"row_heading level0 row9\" >9</th>\n",
       "      <td id=\"T_422fd_row9_col0\" class=\"data row9 col0\" >High Cardinality Features</td>\n",
       "      <td id=\"T_422fd_row9_col1\" class=\"data row9 col1\" >False</td>\n",
       "    </tr>\n",
       "    <tr>\n",
       "      <th id=\"T_422fd_level0_row10\" class=\"row_heading level0 row10\" >10</th>\n",
       "      <td id=\"T_422fd_row10_col0\" class=\"data row10 col0\" >High Cardinality Method</td>\n",
       "      <td id=\"T_422fd_row10_col1\" class=\"data row10 col1\" >None</td>\n",
       "    </tr>\n",
       "    <tr>\n",
       "      <th id=\"T_422fd_level0_row11\" class=\"row_heading level0 row11\" >11</th>\n",
       "      <td id=\"T_422fd_row11_col0\" class=\"data row11 col0\" >Transformed Train Set</td>\n",
       "      <td id=\"T_422fd_row11_col1\" class=\"data row11 col1\" >(32925, 9)</td>\n",
       "    </tr>\n",
       "    <tr>\n",
       "      <th id=\"T_422fd_level0_row12\" class=\"row_heading level0 row12\" >12</th>\n",
       "      <td id=\"T_422fd_row12_col0\" class=\"data row12 col0\" >Transformed Test Set</td>\n",
       "      <td id=\"T_422fd_row12_col1\" class=\"data row12 col1\" >(8232, 9)</td>\n",
       "    </tr>\n",
       "    <tr>\n",
       "      <th id=\"T_422fd_level0_row13\" class=\"row_heading level0 row13\" >13</th>\n",
       "      <td id=\"T_422fd_row13_col0\" class=\"data row13 col0\" >Shuffle Train-Test</td>\n",
       "      <td id=\"T_422fd_row13_col1\" class=\"data row13 col1\" >True</td>\n",
       "    </tr>\n",
       "    <tr>\n",
       "      <th id=\"T_422fd_level0_row14\" class=\"row_heading level0 row14\" >14</th>\n",
       "      <td id=\"T_422fd_row14_col0\" class=\"data row14 col0\" >Stratify Train-Test</td>\n",
       "      <td id=\"T_422fd_row14_col1\" class=\"data row14 col1\" >False</td>\n",
       "    </tr>\n",
       "    <tr>\n",
       "      <th id=\"T_422fd_level0_row15\" class=\"row_heading level0 row15\" >15</th>\n",
       "      <td id=\"T_422fd_row15_col0\" class=\"data row15 col0\" >Fold Generator</td>\n",
       "      <td id=\"T_422fd_row15_col1\" class=\"data row15 col1\" >KFold</td>\n",
       "    </tr>\n",
       "    <tr>\n",
       "      <th id=\"T_422fd_level0_row16\" class=\"row_heading level0 row16\" >16</th>\n",
       "      <td id=\"T_422fd_row16_col0\" class=\"data row16 col0\" >Fold Number</td>\n",
       "      <td id=\"T_422fd_row16_col1\" class=\"data row16 col1\" >10</td>\n",
       "    </tr>\n",
       "    <tr>\n",
       "      <th id=\"T_422fd_level0_row17\" class=\"row_heading level0 row17\" >17</th>\n",
       "      <td id=\"T_422fd_row17_col0\" class=\"data row17 col0\" >CPU Jobs</td>\n",
       "      <td id=\"T_422fd_row17_col1\" class=\"data row17 col1\" >-1</td>\n",
       "    </tr>\n",
       "    <tr>\n",
       "      <th id=\"T_422fd_level0_row18\" class=\"row_heading level0 row18\" >18</th>\n",
       "      <td id=\"T_422fd_row18_col0\" class=\"data row18 col0\" >Use GPU</td>\n",
       "      <td id=\"T_422fd_row18_col1\" class=\"data row18 col1\" >False</td>\n",
       "    </tr>\n",
       "    <tr>\n",
       "      <th id=\"T_422fd_level0_row19\" class=\"row_heading level0 row19\" >19</th>\n",
       "      <td id=\"T_422fd_row19_col0\" class=\"data row19 col0\" >Log Experiment</td>\n",
       "      <td id=\"T_422fd_row19_col1\" class=\"data row19 col1\" >False</td>\n",
       "    </tr>\n",
       "    <tr>\n",
       "      <th id=\"T_422fd_level0_row20\" class=\"row_heading level0 row20\" >20</th>\n",
       "      <td id=\"T_422fd_row20_col0\" class=\"data row20 col0\" >Experiment Name</td>\n",
       "      <td id=\"T_422fd_row20_col1\" class=\"data row20 col1\" >clf-default-name</td>\n",
       "    </tr>\n",
       "    <tr>\n",
       "      <th id=\"T_422fd_level0_row21\" class=\"row_heading level0 row21\" >21</th>\n",
       "      <td id=\"T_422fd_row21_col0\" class=\"data row21 col0\" >USI</td>\n",
       "      <td id=\"T_422fd_row21_col1\" class=\"data row21 col1\" >0612</td>\n",
       "    </tr>\n",
       "    <tr>\n",
       "      <th id=\"T_422fd_level0_row22\" class=\"row_heading level0 row22\" >22</th>\n",
       "      <td id=\"T_422fd_row22_col0\" class=\"data row22 col0\" >Imputation Type</td>\n",
       "      <td id=\"T_422fd_row22_col1\" class=\"data row22 col1\" >simple</td>\n",
       "    </tr>\n",
       "    <tr>\n",
       "      <th id=\"T_422fd_level0_row23\" class=\"row_heading level0 row23\" >23</th>\n",
       "      <td id=\"T_422fd_row23_col0\" class=\"data row23 col0\" >Iterative Imputation Iteration</td>\n",
       "      <td id=\"T_422fd_row23_col1\" class=\"data row23 col1\" >None</td>\n",
       "    </tr>\n",
       "    <tr>\n",
       "      <th id=\"T_422fd_level0_row24\" class=\"row_heading level0 row24\" >24</th>\n",
       "      <td id=\"T_422fd_row24_col0\" class=\"data row24 col0\" >Numeric Imputer</td>\n",
       "      <td id=\"T_422fd_row24_col1\" class=\"data row24 col1\" >mean</td>\n",
       "    </tr>\n",
       "    <tr>\n",
       "      <th id=\"T_422fd_level0_row25\" class=\"row_heading level0 row25\" >25</th>\n",
       "      <td id=\"T_422fd_row25_col0\" class=\"data row25 col0\" >Iterative Imputation Numeric Model</td>\n",
       "      <td id=\"T_422fd_row25_col1\" class=\"data row25 col1\" >None</td>\n",
       "    </tr>\n",
       "    <tr>\n",
       "      <th id=\"T_422fd_level0_row26\" class=\"row_heading level0 row26\" >26</th>\n",
       "      <td id=\"T_422fd_row26_col0\" class=\"data row26 col0\" >Categorical Imputer</td>\n",
       "      <td id=\"T_422fd_row26_col1\" class=\"data row26 col1\" >constant</td>\n",
       "    </tr>\n",
       "    <tr>\n",
       "      <th id=\"T_422fd_level0_row27\" class=\"row_heading level0 row27\" >27</th>\n",
       "      <td id=\"T_422fd_row27_col0\" class=\"data row27 col0\" >Iterative Imputation Categorical Model</td>\n",
       "      <td id=\"T_422fd_row27_col1\" class=\"data row27 col1\" >None</td>\n",
       "    </tr>\n",
       "    <tr>\n",
       "      <th id=\"T_422fd_level0_row28\" class=\"row_heading level0 row28\" >28</th>\n",
       "      <td id=\"T_422fd_row28_col0\" class=\"data row28 col0\" >Unknown Categoricals Handling</td>\n",
       "      <td id=\"T_422fd_row28_col1\" class=\"data row28 col1\" >least_frequent</td>\n",
       "    </tr>\n",
       "    <tr>\n",
       "      <th id=\"T_422fd_level0_row29\" class=\"row_heading level0 row29\" >29</th>\n",
       "      <td id=\"T_422fd_row29_col0\" class=\"data row29 col0\" >Normalize</td>\n",
       "      <td id=\"T_422fd_row29_col1\" class=\"data row29 col1\" >True</td>\n",
       "    </tr>\n",
       "    <tr>\n",
       "      <th id=\"T_422fd_level0_row30\" class=\"row_heading level0 row30\" >30</th>\n",
       "      <td id=\"T_422fd_row30_col0\" class=\"data row30 col0\" >Normalize Method</td>\n",
       "      <td id=\"T_422fd_row30_col1\" class=\"data row30 col1\" >robust</td>\n",
       "    </tr>\n",
       "    <tr>\n",
       "      <th id=\"T_422fd_level0_row31\" class=\"row_heading level0 row31\" >31</th>\n",
       "      <td id=\"T_422fd_row31_col0\" class=\"data row31 col0\" >Transformation</td>\n",
       "      <td id=\"T_422fd_row31_col1\" class=\"data row31 col1\" >False</td>\n",
       "    </tr>\n",
       "    <tr>\n",
       "      <th id=\"T_422fd_level0_row32\" class=\"row_heading level0 row32\" >32</th>\n",
       "      <td id=\"T_422fd_row32_col0\" class=\"data row32 col0\" >Transformation Method</td>\n",
       "      <td id=\"T_422fd_row32_col1\" class=\"data row32 col1\" >None</td>\n",
       "    </tr>\n",
       "    <tr>\n",
       "      <th id=\"T_422fd_level0_row33\" class=\"row_heading level0 row33\" >33</th>\n",
       "      <td id=\"T_422fd_row33_col0\" class=\"data row33 col0\" >PCA</td>\n",
       "      <td id=\"T_422fd_row33_col1\" class=\"data row33 col1\" >False</td>\n",
       "    </tr>\n",
       "    <tr>\n",
       "      <th id=\"T_422fd_level0_row34\" class=\"row_heading level0 row34\" >34</th>\n",
       "      <td id=\"T_422fd_row34_col0\" class=\"data row34 col0\" >PCA Method</td>\n",
       "      <td id=\"T_422fd_row34_col1\" class=\"data row34 col1\" >None</td>\n",
       "    </tr>\n",
       "    <tr>\n",
       "      <th id=\"T_422fd_level0_row35\" class=\"row_heading level0 row35\" >35</th>\n",
       "      <td id=\"T_422fd_row35_col0\" class=\"data row35 col0\" >PCA Components</td>\n",
       "      <td id=\"T_422fd_row35_col1\" class=\"data row35 col1\" >None</td>\n",
       "    </tr>\n",
       "    <tr>\n",
       "      <th id=\"T_422fd_level0_row36\" class=\"row_heading level0 row36\" >36</th>\n",
       "      <td id=\"T_422fd_row36_col0\" class=\"data row36 col0\" >Ignore Low Variance</td>\n",
       "      <td id=\"T_422fd_row36_col1\" class=\"data row36 col1\" >False</td>\n",
       "    </tr>\n",
       "    <tr>\n",
       "      <th id=\"T_422fd_level0_row37\" class=\"row_heading level0 row37\" >37</th>\n",
       "      <td id=\"T_422fd_row37_col0\" class=\"data row37 col0\" >Combine Rare Levels</td>\n",
       "      <td id=\"T_422fd_row37_col1\" class=\"data row37 col1\" >False</td>\n",
       "    </tr>\n",
       "    <tr>\n",
       "      <th id=\"T_422fd_level0_row38\" class=\"row_heading level0 row38\" >38</th>\n",
       "      <td id=\"T_422fd_row38_col0\" class=\"data row38 col0\" >Rare Level Threshold</td>\n",
       "      <td id=\"T_422fd_row38_col1\" class=\"data row38 col1\" >None</td>\n",
       "    </tr>\n",
       "    <tr>\n",
       "      <th id=\"T_422fd_level0_row39\" class=\"row_heading level0 row39\" >39</th>\n",
       "      <td id=\"T_422fd_row39_col0\" class=\"data row39 col0\" >Numeric Binning</td>\n",
       "      <td id=\"T_422fd_row39_col1\" class=\"data row39 col1\" >False</td>\n",
       "    </tr>\n",
       "    <tr>\n",
       "      <th id=\"T_422fd_level0_row40\" class=\"row_heading level0 row40\" >40</th>\n",
       "      <td id=\"T_422fd_row40_col0\" class=\"data row40 col0\" >Remove Outliers</td>\n",
       "      <td id=\"T_422fd_row40_col1\" class=\"data row40 col1\" >False</td>\n",
       "    </tr>\n",
       "    <tr>\n",
       "      <th id=\"T_422fd_level0_row41\" class=\"row_heading level0 row41\" >41</th>\n",
       "      <td id=\"T_422fd_row41_col0\" class=\"data row41 col0\" >Outliers Threshold</td>\n",
       "      <td id=\"T_422fd_row41_col1\" class=\"data row41 col1\" >None</td>\n",
       "    </tr>\n",
       "    <tr>\n",
       "      <th id=\"T_422fd_level0_row42\" class=\"row_heading level0 row42\" >42</th>\n",
       "      <td id=\"T_422fd_row42_col0\" class=\"data row42 col0\" >Remove Multicollinearity</td>\n",
       "      <td id=\"T_422fd_row42_col1\" class=\"data row42 col1\" >False</td>\n",
       "    </tr>\n",
       "    <tr>\n",
       "      <th id=\"T_422fd_level0_row43\" class=\"row_heading level0 row43\" >43</th>\n",
       "      <td id=\"T_422fd_row43_col0\" class=\"data row43 col0\" >Multicollinearity Threshold</td>\n",
       "      <td id=\"T_422fd_row43_col1\" class=\"data row43 col1\" >None</td>\n",
       "    </tr>\n",
       "    <tr>\n",
       "      <th id=\"T_422fd_level0_row44\" class=\"row_heading level0 row44\" >44</th>\n",
       "      <td id=\"T_422fd_row44_col0\" class=\"data row44 col0\" >Remove Perfect Collinearity</td>\n",
       "      <td id=\"T_422fd_row44_col1\" class=\"data row44 col1\" >True</td>\n",
       "    </tr>\n",
       "    <tr>\n",
       "      <th id=\"T_422fd_level0_row45\" class=\"row_heading level0 row45\" >45</th>\n",
       "      <td id=\"T_422fd_row45_col0\" class=\"data row45 col0\" >Clustering</td>\n",
       "      <td id=\"T_422fd_row45_col1\" class=\"data row45 col1\" >False</td>\n",
       "    </tr>\n",
       "    <tr>\n",
       "      <th id=\"T_422fd_level0_row46\" class=\"row_heading level0 row46\" >46</th>\n",
       "      <td id=\"T_422fd_row46_col0\" class=\"data row46 col0\" >Clustering Iteration</td>\n",
       "      <td id=\"T_422fd_row46_col1\" class=\"data row46 col1\" >None</td>\n",
       "    </tr>\n",
       "    <tr>\n",
       "      <th id=\"T_422fd_level0_row47\" class=\"row_heading level0 row47\" >47</th>\n",
       "      <td id=\"T_422fd_row47_col0\" class=\"data row47 col0\" >Polynomial Features</td>\n",
       "      <td id=\"T_422fd_row47_col1\" class=\"data row47 col1\" >False</td>\n",
       "    </tr>\n",
       "    <tr>\n",
       "      <th id=\"T_422fd_level0_row48\" class=\"row_heading level0 row48\" >48</th>\n",
       "      <td id=\"T_422fd_row48_col0\" class=\"data row48 col0\" >Polynomial Degree</td>\n",
       "      <td id=\"T_422fd_row48_col1\" class=\"data row48 col1\" >None</td>\n",
       "    </tr>\n",
       "    <tr>\n",
       "      <th id=\"T_422fd_level0_row49\" class=\"row_heading level0 row49\" >49</th>\n",
       "      <td id=\"T_422fd_row49_col0\" class=\"data row49 col0\" >Trignometry Features</td>\n",
       "      <td id=\"T_422fd_row49_col1\" class=\"data row49 col1\" >False</td>\n",
       "    </tr>\n",
       "    <tr>\n",
       "      <th id=\"T_422fd_level0_row50\" class=\"row_heading level0 row50\" >50</th>\n",
       "      <td id=\"T_422fd_row50_col0\" class=\"data row50 col0\" >Polynomial Threshold</td>\n",
       "      <td id=\"T_422fd_row50_col1\" class=\"data row50 col1\" >None</td>\n",
       "    </tr>\n",
       "    <tr>\n",
       "      <th id=\"T_422fd_level0_row51\" class=\"row_heading level0 row51\" >51</th>\n",
       "      <td id=\"T_422fd_row51_col0\" class=\"data row51 col0\" >Group Features</td>\n",
       "      <td id=\"T_422fd_row51_col1\" class=\"data row51 col1\" >False</td>\n",
       "    </tr>\n",
       "    <tr>\n",
       "      <th id=\"T_422fd_level0_row52\" class=\"row_heading level0 row52\" >52</th>\n",
       "      <td id=\"T_422fd_row52_col0\" class=\"data row52 col0\" >Feature Selection</td>\n",
       "      <td id=\"T_422fd_row52_col1\" class=\"data row52 col1\" >False</td>\n",
       "    </tr>\n",
       "    <tr>\n",
       "      <th id=\"T_422fd_level0_row53\" class=\"row_heading level0 row53\" >53</th>\n",
       "      <td id=\"T_422fd_row53_col0\" class=\"data row53 col0\" >Feature Selection Method</td>\n",
       "      <td id=\"T_422fd_row53_col1\" class=\"data row53 col1\" >classic</td>\n",
       "    </tr>\n",
       "    <tr>\n",
       "      <th id=\"T_422fd_level0_row54\" class=\"row_heading level0 row54\" >54</th>\n",
       "      <td id=\"T_422fd_row54_col0\" class=\"data row54 col0\" >Features Selection Threshold</td>\n",
       "      <td id=\"T_422fd_row54_col1\" class=\"data row54 col1\" >None</td>\n",
       "    </tr>\n",
       "    <tr>\n",
       "      <th id=\"T_422fd_level0_row55\" class=\"row_heading level0 row55\" >55</th>\n",
       "      <td id=\"T_422fd_row55_col0\" class=\"data row55 col0\" >Feature Interaction</td>\n",
       "      <td id=\"T_422fd_row55_col1\" class=\"data row55 col1\" >False</td>\n",
       "    </tr>\n",
       "    <tr>\n",
       "      <th id=\"T_422fd_level0_row56\" class=\"row_heading level0 row56\" >56</th>\n",
       "      <td id=\"T_422fd_row56_col0\" class=\"data row56 col0\" >Feature Ratio</td>\n",
       "      <td id=\"T_422fd_row56_col1\" class=\"data row56 col1\" >False</td>\n",
       "    </tr>\n",
       "    <tr>\n",
       "      <th id=\"T_422fd_level0_row57\" class=\"row_heading level0 row57\" >57</th>\n",
       "      <td id=\"T_422fd_row57_col0\" class=\"data row57 col0\" >Interaction Threshold</td>\n",
       "      <td id=\"T_422fd_row57_col1\" class=\"data row57 col1\" >None</td>\n",
       "    </tr>\n",
       "    <tr>\n",
       "      <th id=\"T_422fd_level0_row58\" class=\"row_heading level0 row58\" >58</th>\n",
       "      <td id=\"T_422fd_row58_col0\" class=\"data row58 col0\" >Fix Imbalance</td>\n",
       "      <td id=\"T_422fd_row58_col1\" class=\"data row58 col1\" >False</td>\n",
       "    </tr>\n",
       "    <tr>\n",
       "      <th id=\"T_422fd_level0_row59\" class=\"row_heading level0 row59\" >59</th>\n",
       "      <td id=\"T_422fd_row59_col0\" class=\"data row59 col0\" >Fix Imbalance Method</td>\n",
       "      <td id=\"T_422fd_row59_col1\" class=\"data row59 col1\" >SMOTE</td>\n",
       "    </tr>\n",
       "  </tbody>\n",
       "</table>\n"
      ],
      "text/plain": [
       "<pandas.io.formats.style.Styler at 0x7fb75e902e20>"
      ]
     },
     "metadata": {},
     "output_type": "display_data"
    }
   ],
   "source": [
    "from pycaret.classification import *\n",
    "classification = setup(data = lda_df,  \n",
    "                 target = 'Sentiment',\n",
    "                train_size = 0.8,\n",
    "                fold_strategy = 'kfold',\n",
    "                ignore_features=['UserName', 'ScreenName', 'Location', 'TweetAt', 'OriginalTweet', 'Dominant_Topic', 'Perc_Dominant_Topic'],\n",
    "                normalize = True,\n",
    "                 normalize_method = 'robust')"
   ]
  },
  {
   "cell_type": "code",
   "execution_count": 28,
   "id": "8046e4cc-491d-490d-8c00-50b6b9cb8d46",
   "metadata": {
    "tags": []
   },
   "outputs": [
    {
     "data": {
      "text/html": [
       "<style type=\"text/css\">\n",
       "#T_edcaa th {\n",
       "  text-align: left;\n",
       "}\n",
       "#T_edcaa_row0_col0, #T_edcaa_row1_col0, #T_edcaa_row2_col0, #T_edcaa_row3_col0, #T_edcaa_row4_col0, #T_edcaa_row4_col2, #T_edcaa_row5_col0, #T_edcaa_row5_col2, #T_edcaa_row6_col0, #T_edcaa_row7_col0, #T_edcaa_row8_col0, #T_edcaa_row9_col0, #T_edcaa_row10_col0, #T_edcaa_row11_col0, #T_edcaa_row11_col1, #T_edcaa_row11_col2, #T_edcaa_row11_col3, #T_edcaa_row11_col4, #T_edcaa_row11_col5, #T_edcaa_row11_col6, #T_edcaa_row11_col7, #T_edcaa_row12_col0, #T_edcaa_row12_col1, #T_edcaa_row12_col2, #T_edcaa_row12_col3, #T_edcaa_row12_col4, #T_edcaa_row12_col5, #T_edcaa_row12_col6, #T_edcaa_row12_col7, #T_edcaa_row13_col0, #T_edcaa_row13_col1, #T_edcaa_row13_col2, #T_edcaa_row13_col3, #T_edcaa_row13_col4, #T_edcaa_row13_col5, #T_edcaa_row13_col6, #T_edcaa_row13_col7 {\n",
       "  text-align: left;\n",
       "}\n",
       "#T_edcaa_row0_col1, #T_edcaa_row0_col2, #T_edcaa_row0_col3, #T_edcaa_row0_col4, #T_edcaa_row0_col5, #T_edcaa_row0_col6, #T_edcaa_row0_col7, #T_edcaa_row1_col1, #T_edcaa_row1_col2, #T_edcaa_row1_col3, #T_edcaa_row1_col4, #T_edcaa_row1_col5, #T_edcaa_row1_col6, #T_edcaa_row1_col7, #T_edcaa_row2_col1, #T_edcaa_row2_col2, #T_edcaa_row2_col3, #T_edcaa_row2_col4, #T_edcaa_row2_col5, #T_edcaa_row2_col6, #T_edcaa_row2_col7, #T_edcaa_row3_col1, #T_edcaa_row3_col2, #T_edcaa_row3_col3, #T_edcaa_row3_col4, #T_edcaa_row3_col5, #T_edcaa_row3_col6, #T_edcaa_row3_col7, #T_edcaa_row4_col1, #T_edcaa_row4_col3, #T_edcaa_row4_col4, #T_edcaa_row4_col5, #T_edcaa_row4_col6, #T_edcaa_row4_col7, #T_edcaa_row5_col1, #T_edcaa_row5_col3, #T_edcaa_row5_col4, #T_edcaa_row5_col5, #T_edcaa_row5_col6, #T_edcaa_row5_col7, #T_edcaa_row6_col1, #T_edcaa_row6_col2, #T_edcaa_row6_col3, #T_edcaa_row6_col4, #T_edcaa_row6_col5, #T_edcaa_row6_col6, #T_edcaa_row6_col7, #T_edcaa_row7_col1, #T_edcaa_row7_col2, #T_edcaa_row7_col3, #T_edcaa_row7_col4, #T_edcaa_row7_col5, #T_edcaa_row7_col6, #T_edcaa_row7_col7, #T_edcaa_row8_col1, #T_edcaa_row8_col2, #T_edcaa_row8_col3, #T_edcaa_row8_col4, #T_edcaa_row8_col5, #T_edcaa_row8_col6, #T_edcaa_row8_col7, #T_edcaa_row9_col1, #T_edcaa_row9_col2, #T_edcaa_row9_col3, #T_edcaa_row9_col4, #T_edcaa_row9_col5, #T_edcaa_row9_col6, #T_edcaa_row9_col7, #T_edcaa_row10_col1, #T_edcaa_row10_col2, #T_edcaa_row10_col3, #T_edcaa_row10_col4, #T_edcaa_row10_col5, #T_edcaa_row10_col6, #T_edcaa_row10_col7 {\n",
       "  text-align: left;\n",
       "  background-color: yellow;\n",
       "}\n",
       "#T_edcaa_row0_col8, #T_edcaa_row1_col8, #T_edcaa_row3_col8, #T_edcaa_row4_col8, #T_edcaa_row5_col8, #T_edcaa_row6_col8, #T_edcaa_row7_col8, #T_edcaa_row8_col8, #T_edcaa_row9_col8, #T_edcaa_row10_col8, #T_edcaa_row11_col8, #T_edcaa_row12_col8, #T_edcaa_row13_col8 {\n",
       "  text-align: left;\n",
       "  background-color: lightgrey;\n",
       "}\n",
       "#T_edcaa_row2_col8 {\n",
       "  text-align: left;\n",
       "  background-color: yellow;\n",
       "  background-color: lightgrey;\n",
       "}\n",
       "</style>\n",
       "<table id=\"T_edcaa\">\n",
       "  <thead>\n",
       "    <tr>\n",
       "      <th class=\"blank level0\" >&nbsp;</th>\n",
       "      <th id=\"T_edcaa_level0_col0\" class=\"col_heading level0 col0\" >Model</th>\n",
       "      <th id=\"T_edcaa_level0_col1\" class=\"col_heading level0 col1\" >Accuracy</th>\n",
       "      <th id=\"T_edcaa_level0_col2\" class=\"col_heading level0 col2\" >AUC</th>\n",
       "      <th id=\"T_edcaa_level0_col3\" class=\"col_heading level0 col3\" >Recall</th>\n",
       "      <th id=\"T_edcaa_level0_col4\" class=\"col_heading level0 col4\" >Prec.</th>\n",
       "      <th id=\"T_edcaa_level0_col5\" class=\"col_heading level0 col5\" >F1</th>\n",
       "      <th id=\"T_edcaa_level0_col6\" class=\"col_heading level0 col6\" >Kappa</th>\n",
       "      <th id=\"T_edcaa_level0_col7\" class=\"col_heading level0 col7\" >MCC</th>\n",
       "      <th id=\"T_edcaa_level0_col8\" class=\"col_heading level0 col8\" >TT (Sec)</th>\n",
       "    </tr>\n",
       "  </thead>\n",
       "  <tbody>\n",
       "    <tr>\n",
       "      <th id=\"T_edcaa_level0_row0\" class=\"row_heading level0 row0\" >lr</th>\n",
       "      <td id=\"T_edcaa_row0_col0\" class=\"data row0 col0\" >Logistic Regression</td>\n",
       "      <td id=\"T_edcaa_row0_col1\" class=\"data row0 col1\" >1.0000</td>\n",
       "      <td id=\"T_edcaa_row0_col2\" class=\"data row0 col2\" >1.0000</td>\n",
       "      <td id=\"T_edcaa_row0_col3\" class=\"data row0 col3\" >1.0000</td>\n",
       "      <td id=\"T_edcaa_row0_col4\" class=\"data row0 col4\" >1.0000</td>\n",
       "      <td id=\"T_edcaa_row0_col5\" class=\"data row0 col5\" >1.0000</td>\n",
       "      <td id=\"T_edcaa_row0_col6\" class=\"data row0 col6\" >1.0000</td>\n",
       "      <td id=\"T_edcaa_row0_col7\" class=\"data row0 col7\" >1.0000</td>\n",
       "      <td id=\"T_edcaa_row0_col8\" class=\"data row0 col8\" >2.4550</td>\n",
       "    </tr>\n",
       "    <tr>\n",
       "      <th id=\"T_edcaa_level0_row1\" class=\"row_heading level0 row1\" >knn</th>\n",
       "      <td id=\"T_edcaa_row1_col0\" class=\"data row1 col0\" >K Neighbors Classifier</td>\n",
       "      <td id=\"T_edcaa_row1_col1\" class=\"data row1 col1\" >1.0000</td>\n",
       "      <td id=\"T_edcaa_row1_col2\" class=\"data row1 col2\" >1.0000</td>\n",
       "      <td id=\"T_edcaa_row1_col3\" class=\"data row1 col3\" >1.0000</td>\n",
       "      <td id=\"T_edcaa_row1_col4\" class=\"data row1 col4\" >1.0000</td>\n",
       "      <td id=\"T_edcaa_row1_col5\" class=\"data row1 col5\" >1.0000</td>\n",
       "      <td id=\"T_edcaa_row1_col6\" class=\"data row1 col6\" >1.0000</td>\n",
       "      <td id=\"T_edcaa_row1_col7\" class=\"data row1 col7\" >1.0000</td>\n",
       "      <td id=\"T_edcaa_row1_col8\" class=\"data row1 col8\" >0.2720</td>\n",
       "    </tr>\n",
       "    <tr>\n",
       "      <th id=\"T_edcaa_level0_row2\" class=\"row_heading level0 row2\" >nb</th>\n",
       "      <td id=\"T_edcaa_row2_col0\" class=\"data row2 col0\" >Naive Bayes</td>\n",
       "      <td id=\"T_edcaa_row2_col1\" class=\"data row2 col1\" >1.0000</td>\n",
       "      <td id=\"T_edcaa_row2_col2\" class=\"data row2 col2\" >1.0000</td>\n",
       "      <td id=\"T_edcaa_row2_col3\" class=\"data row2 col3\" >1.0000</td>\n",
       "      <td id=\"T_edcaa_row2_col4\" class=\"data row2 col4\" >1.0000</td>\n",
       "      <td id=\"T_edcaa_row2_col5\" class=\"data row2 col5\" >1.0000</td>\n",
       "      <td id=\"T_edcaa_row2_col6\" class=\"data row2 col6\" >1.0000</td>\n",
       "      <td id=\"T_edcaa_row2_col7\" class=\"data row2 col7\" >1.0000</td>\n",
       "      <td id=\"T_edcaa_row2_col8\" class=\"data row2 col8\" >0.0300</td>\n",
       "    </tr>\n",
       "    <tr>\n",
       "      <th id=\"T_edcaa_level0_row3\" class=\"row_heading level0 row3\" >dt</th>\n",
       "      <td id=\"T_edcaa_row3_col0\" class=\"data row3 col0\" >Decision Tree Classifier</td>\n",
       "      <td id=\"T_edcaa_row3_col1\" class=\"data row3 col1\" >1.0000</td>\n",
       "      <td id=\"T_edcaa_row3_col2\" class=\"data row3 col2\" >1.0000</td>\n",
       "      <td id=\"T_edcaa_row3_col3\" class=\"data row3 col3\" >1.0000</td>\n",
       "      <td id=\"T_edcaa_row3_col4\" class=\"data row3 col4\" >1.0000</td>\n",
       "      <td id=\"T_edcaa_row3_col5\" class=\"data row3 col5\" >1.0000</td>\n",
       "      <td id=\"T_edcaa_row3_col6\" class=\"data row3 col6\" >1.0000</td>\n",
       "      <td id=\"T_edcaa_row3_col7\" class=\"data row3 col7\" >1.0000</td>\n",
       "      <td id=\"T_edcaa_row3_col8\" class=\"data row3 col8\" >0.0650</td>\n",
       "    </tr>\n",
       "    <tr>\n",
       "      <th id=\"T_edcaa_level0_row4\" class=\"row_heading level0 row4\" >svm</th>\n",
       "      <td id=\"T_edcaa_row4_col0\" class=\"data row4 col0\" >SVM - Linear Kernel</td>\n",
       "      <td id=\"T_edcaa_row4_col1\" class=\"data row4 col1\" >1.0000</td>\n",
       "      <td id=\"T_edcaa_row4_col2\" class=\"data row4 col2\" >0.0000</td>\n",
       "      <td id=\"T_edcaa_row4_col3\" class=\"data row4 col3\" >1.0000</td>\n",
       "      <td id=\"T_edcaa_row4_col4\" class=\"data row4 col4\" >1.0000</td>\n",
       "      <td id=\"T_edcaa_row4_col5\" class=\"data row4 col5\" >1.0000</td>\n",
       "      <td id=\"T_edcaa_row4_col6\" class=\"data row4 col6\" >1.0000</td>\n",
       "      <td id=\"T_edcaa_row4_col7\" class=\"data row4 col7\" >1.0000</td>\n",
       "      <td id=\"T_edcaa_row4_col8\" class=\"data row4 col8\" >0.0890</td>\n",
       "    </tr>\n",
       "    <tr>\n",
       "      <th id=\"T_edcaa_level0_row5\" class=\"row_heading level0 row5\" >ridge</th>\n",
       "      <td id=\"T_edcaa_row5_col0\" class=\"data row5 col0\" >Ridge Classifier</td>\n",
       "      <td id=\"T_edcaa_row5_col1\" class=\"data row5 col1\" >1.0000</td>\n",
       "      <td id=\"T_edcaa_row5_col2\" class=\"data row5 col2\" >0.0000</td>\n",
       "      <td id=\"T_edcaa_row5_col3\" class=\"data row5 col3\" >1.0000</td>\n",
       "      <td id=\"T_edcaa_row5_col4\" class=\"data row5 col4\" >1.0000</td>\n",
       "      <td id=\"T_edcaa_row5_col5\" class=\"data row5 col5\" >1.0000</td>\n",
       "      <td id=\"T_edcaa_row5_col6\" class=\"data row5 col6\" >1.0000</td>\n",
       "      <td id=\"T_edcaa_row5_col7\" class=\"data row5 col7\" >1.0000</td>\n",
       "      <td id=\"T_edcaa_row5_col8\" class=\"data row5 col8\" >0.0370</td>\n",
       "    </tr>\n",
       "    <tr>\n",
       "      <th id=\"T_edcaa_level0_row6\" class=\"row_heading level0 row6\" >rf</th>\n",
       "      <td id=\"T_edcaa_row6_col0\" class=\"data row6 col0\" >Random Forest Classifier</td>\n",
       "      <td id=\"T_edcaa_row6_col1\" class=\"data row6 col1\" >1.0000</td>\n",
       "      <td id=\"T_edcaa_row6_col2\" class=\"data row6 col2\" >1.0000</td>\n",
       "      <td id=\"T_edcaa_row6_col3\" class=\"data row6 col3\" >1.0000</td>\n",
       "      <td id=\"T_edcaa_row6_col4\" class=\"data row6 col4\" >1.0000</td>\n",
       "      <td id=\"T_edcaa_row6_col5\" class=\"data row6 col5\" >1.0000</td>\n",
       "      <td id=\"T_edcaa_row6_col6\" class=\"data row6 col6\" >1.0000</td>\n",
       "      <td id=\"T_edcaa_row6_col7\" class=\"data row6 col7\" >1.0000</td>\n",
       "      <td id=\"T_edcaa_row6_col8\" class=\"data row6 col8\" >1.5310</td>\n",
       "    </tr>\n",
       "    <tr>\n",
       "      <th id=\"T_edcaa_level0_row7\" class=\"row_heading level0 row7\" >ada</th>\n",
       "      <td id=\"T_edcaa_row7_col0\" class=\"data row7 col0\" >Ada Boost Classifier</td>\n",
       "      <td id=\"T_edcaa_row7_col1\" class=\"data row7 col1\" >1.0000</td>\n",
       "      <td id=\"T_edcaa_row7_col2\" class=\"data row7 col2\" >1.0000</td>\n",
       "      <td id=\"T_edcaa_row7_col3\" class=\"data row7 col3\" >1.0000</td>\n",
       "      <td id=\"T_edcaa_row7_col4\" class=\"data row7 col4\" >1.0000</td>\n",
       "      <td id=\"T_edcaa_row7_col5\" class=\"data row7 col5\" >1.0000</td>\n",
       "      <td id=\"T_edcaa_row7_col6\" class=\"data row7 col6\" >1.0000</td>\n",
       "      <td id=\"T_edcaa_row7_col7\" class=\"data row7 col7\" >1.0000</td>\n",
       "      <td id=\"T_edcaa_row7_col8\" class=\"data row7 col8\" >1.6150</td>\n",
       "    </tr>\n",
       "    <tr>\n",
       "      <th id=\"T_edcaa_level0_row8\" class=\"row_heading level0 row8\" >gbc</th>\n",
       "      <td id=\"T_edcaa_row8_col0\" class=\"data row8 col0\" >Gradient Boosting Classifier</td>\n",
       "      <td id=\"T_edcaa_row8_col1\" class=\"data row8 col1\" >1.0000</td>\n",
       "      <td id=\"T_edcaa_row8_col2\" class=\"data row8 col2\" >1.0000</td>\n",
       "      <td id=\"T_edcaa_row8_col3\" class=\"data row8 col3\" >1.0000</td>\n",
       "      <td id=\"T_edcaa_row8_col4\" class=\"data row8 col4\" >1.0000</td>\n",
       "      <td id=\"T_edcaa_row8_col5\" class=\"data row8 col5\" >1.0000</td>\n",
       "      <td id=\"T_edcaa_row8_col6\" class=\"data row8 col6\" >1.0000</td>\n",
       "      <td id=\"T_edcaa_row8_col7\" class=\"data row8 col7\" >1.0000</td>\n",
       "      <td id=\"T_edcaa_row8_col8\" class=\"data row8 col8\" >24.5800</td>\n",
       "    </tr>\n",
       "    <tr>\n",
       "      <th id=\"T_edcaa_level0_row9\" class=\"row_heading level0 row9\" >et</th>\n",
       "      <td id=\"T_edcaa_row9_col0\" class=\"data row9 col0\" >Extra Trees Classifier</td>\n",
       "      <td id=\"T_edcaa_row9_col1\" class=\"data row9 col1\" >1.0000</td>\n",
       "      <td id=\"T_edcaa_row9_col2\" class=\"data row9 col2\" >1.0000</td>\n",
       "      <td id=\"T_edcaa_row9_col3\" class=\"data row9 col3\" >1.0000</td>\n",
       "      <td id=\"T_edcaa_row9_col4\" class=\"data row9 col4\" >1.0000</td>\n",
       "      <td id=\"T_edcaa_row9_col5\" class=\"data row9 col5\" >1.0000</td>\n",
       "      <td id=\"T_edcaa_row9_col6\" class=\"data row9 col6\" >1.0000</td>\n",
       "      <td id=\"T_edcaa_row9_col7\" class=\"data row9 col7\" >1.0000</td>\n",
       "      <td id=\"T_edcaa_row9_col8\" class=\"data row9 col8\" >0.7510</td>\n",
       "    </tr>\n",
       "    <tr>\n",
       "      <th id=\"T_edcaa_level0_row10\" class=\"row_heading level0 row10\" >lightgbm</th>\n",
       "      <td id=\"T_edcaa_row10_col0\" class=\"data row10 col0\" >Light Gradient Boosting Machine</td>\n",
       "      <td id=\"T_edcaa_row10_col1\" class=\"data row10 col1\" >1.0000</td>\n",
       "      <td id=\"T_edcaa_row10_col2\" class=\"data row10 col2\" >1.0000</td>\n",
       "      <td id=\"T_edcaa_row10_col3\" class=\"data row10 col3\" >1.0000</td>\n",
       "      <td id=\"T_edcaa_row10_col4\" class=\"data row10 col4\" >1.0000</td>\n",
       "      <td id=\"T_edcaa_row10_col5\" class=\"data row10 col5\" >1.0000</td>\n",
       "      <td id=\"T_edcaa_row10_col6\" class=\"data row10 col6\" >1.0000</td>\n",
       "      <td id=\"T_edcaa_row10_col7\" class=\"data row10 col7\" >1.0000</td>\n",
       "      <td id=\"T_edcaa_row10_col8\" class=\"data row10 col8\" >1.1600</td>\n",
       "    </tr>\n",
       "    <tr>\n",
       "      <th id=\"T_edcaa_level0_row11\" class=\"row_heading level0 row11\" >lda</th>\n",
       "      <td id=\"T_edcaa_row11_col0\" class=\"data row11 col0\" >Linear Discriminant Analysis</td>\n",
       "      <td id=\"T_edcaa_row11_col1\" class=\"data row11 col1\" >0.2892</td>\n",
       "      <td id=\"T_edcaa_row11_col2\" class=\"data row11 col2\" >0.5547</td>\n",
       "      <td id=\"T_edcaa_row11_col3\" class=\"data row11 col3\" >0.2145</td>\n",
       "      <td id=\"T_edcaa_row11_col4\" class=\"data row11 col4\" >0.1843</td>\n",
       "      <td id=\"T_edcaa_row11_col5\" class=\"data row11 col5\" >0.1876</td>\n",
       "      <td id=\"T_edcaa_row11_col6\" class=\"data row11 col6\" >0.0252</td>\n",
       "      <td id=\"T_edcaa_row11_col7\" class=\"data row11 col7\" >0.0349</td>\n",
       "      <td id=\"T_edcaa_row11_col8\" class=\"data row11 col8\" >0.1300</td>\n",
       "    </tr>\n",
       "    <tr>\n",
       "      <th id=\"T_edcaa_level0_row12\" class=\"row_heading level0 row12\" >dummy</th>\n",
       "      <td id=\"T_edcaa_row12_col0\" class=\"data row12 col0\" >Dummy Classifier</td>\n",
       "      <td id=\"T_edcaa_row12_col1\" class=\"data row12 col1\" >0.2798</td>\n",
       "      <td id=\"T_edcaa_row12_col2\" class=\"data row12 col2\" >0.5000</td>\n",
       "      <td id=\"T_edcaa_row12_col3\" class=\"data row12 col3\" >0.2000</td>\n",
       "      <td id=\"T_edcaa_row12_col4\" class=\"data row12 col4\" >0.0784</td>\n",
       "      <td id=\"T_edcaa_row12_col5\" class=\"data row12 col5\" >0.1224</td>\n",
       "      <td id=\"T_edcaa_row12_col6\" class=\"data row12 col6\" >0.0000</td>\n",
       "      <td id=\"T_edcaa_row12_col7\" class=\"data row12 col7\" >0.0000</td>\n",
       "      <td id=\"T_edcaa_row12_col8\" class=\"data row12 col8\" >0.0320</td>\n",
       "    </tr>\n",
       "    <tr>\n",
       "      <th id=\"T_edcaa_level0_row13\" class=\"row_heading level0 row13\" >qda</th>\n",
       "      <td id=\"T_edcaa_row13_col0\" class=\"data row13 col0\" >Quadratic Discriminant Analysis</td>\n",
       "      <td id=\"T_edcaa_row13_col1\" class=\"data row13 col1\" >0.1329</td>\n",
       "      <td id=\"T_edcaa_row13_col2\" class=\"data row13 col2\" >0.0000</td>\n",
       "      <td id=\"T_edcaa_row13_col3\" class=\"data row13 col3\" >0.2000</td>\n",
       "      <td id=\"T_edcaa_row13_col4\" class=\"data row13 col4\" >0.0177</td>\n",
       "      <td id=\"T_edcaa_row13_col5\" class=\"data row13 col5\" >0.0312</td>\n",
       "      <td id=\"T_edcaa_row13_col6\" class=\"data row13 col6\" >0.0000</td>\n",
       "      <td id=\"T_edcaa_row13_col7\" class=\"data row13 col7\" >0.0000</td>\n",
       "      <td id=\"T_edcaa_row13_col8\" class=\"data row13 col8\" >0.0500</td>\n",
       "    </tr>\n",
       "  </tbody>\n",
       "</table>\n"
      ],
      "text/plain": [
       "<pandas.io.formats.style.Styler at 0x7fb75e91aca0>"
      ]
     },
     "metadata": {},
     "output_type": "display_data"
    }
   ],
   "source": [
    "best_model = compare_models()"
   ]
  },
  {
   "cell_type": "code",
   "execution_count": 48,
   "id": "eb624d16-2ae3-4367-a5ae-2e8832fa98b4",
   "metadata": {
    "tags": []
   },
   "outputs": [],
   "source": [
    "from sklearn.model_selection import train_test_split\n",
    "lda_train, lda_test = train_test_split(lda_df, test_size=0.2, random_state=42)"
   ]
  },
  {
   "cell_type": "code",
   "execution_count": 55,
   "id": "4ed5e178-6ad7-4620-bdef-5fbb8493839c",
   "metadata": {
    "tags": []
   },
   "outputs": [
    {
     "data": {
      "text/html": [
       "<style type=\"text/css\">\n",
       "#T_074d9_row5_col1, #T_074d9_row29_col1, #T_074d9_row44_col1 {\n",
       "  background-color: lightgreen;\n",
       "}\n",
       "</style>\n",
       "<table id=\"T_074d9\">\n",
       "  <thead>\n",
       "    <tr>\n",
       "      <th class=\"blank level0\" >&nbsp;</th>\n",
       "      <th id=\"T_074d9_level0_col0\" class=\"col_heading level0 col0\" >Description</th>\n",
       "      <th id=\"T_074d9_level0_col1\" class=\"col_heading level0 col1\" >Value</th>\n",
       "    </tr>\n",
       "  </thead>\n",
       "  <tbody>\n",
       "    <tr>\n",
       "      <th id=\"T_074d9_level0_row0\" class=\"row_heading level0 row0\" >0</th>\n",
       "      <td id=\"T_074d9_row0_col0\" class=\"data row0 col0\" >session_id</td>\n",
       "      <td id=\"T_074d9_row0_col1\" class=\"data row0 col1\" >733</td>\n",
       "    </tr>\n",
       "    <tr>\n",
       "      <th id=\"T_074d9_level0_row1\" class=\"row_heading level0 row1\" >1</th>\n",
       "      <td id=\"T_074d9_row1_col0\" class=\"data row1 col0\" >Target</td>\n",
       "      <td id=\"T_074d9_row1_col1\" class=\"data row1 col1\" >encoded_sentiment</td>\n",
       "    </tr>\n",
       "    <tr>\n",
       "      <th id=\"T_074d9_level0_row2\" class=\"row_heading level0 row2\" >2</th>\n",
       "      <td id=\"T_074d9_row2_col0\" class=\"data row2 col0\" >Target Type</td>\n",
       "      <td id=\"T_074d9_row2_col1\" class=\"data row2 col1\" >Multiclass</td>\n",
       "    </tr>\n",
       "    <tr>\n",
       "      <th id=\"T_074d9_level0_row3\" class=\"row_heading level0 row3\" >3</th>\n",
       "      <td id=\"T_074d9_row3_col0\" class=\"data row3 col0\" >Label Encoded</td>\n",
       "      <td id=\"T_074d9_row3_col1\" class=\"data row3 col1\" >None</td>\n",
       "    </tr>\n",
       "    <tr>\n",
       "      <th id=\"T_074d9_level0_row4\" class=\"row_heading level0 row4\" >4</th>\n",
       "      <td id=\"T_074d9_row4_col0\" class=\"data row4 col0\" >Original Data</td>\n",
       "      <td id=\"T_074d9_row4_col1\" class=\"data row4 col1\" >(32925, 13)</td>\n",
       "    </tr>\n",
       "    <tr>\n",
       "      <th id=\"T_074d9_level0_row5\" class=\"row_heading level0 row5\" >5</th>\n",
       "      <td id=\"T_074d9_row5_col0\" class=\"data row5 col0\" >Missing Values</td>\n",
       "      <td id=\"T_074d9_row5_col1\" class=\"data row5 col1\" >True</td>\n",
       "    </tr>\n",
       "    <tr>\n",
       "      <th id=\"T_074d9_level0_row6\" class=\"row_heading level0 row6\" >6</th>\n",
       "      <td id=\"T_074d9_row6_col0\" class=\"data row6 col0\" >Numeric Features</td>\n",
       "      <td id=\"T_074d9_row6_col1\" class=\"data row6 col1\" >1</td>\n",
       "    </tr>\n",
       "    <tr>\n",
       "      <th id=\"T_074d9_level0_row7\" class=\"row_heading level0 row7\" >7</th>\n",
       "      <td id=\"T_074d9_row7_col0\" class=\"data row7 col0\" >Categorical Features</td>\n",
       "      <td id=\"T_074d9_row7_col1\" class=\"data row7 col1\" >2</td>\n",
       "    </tr>\n",
       "    <tr>\n",
       "      <th id=\"T_074d9_level0_row8\" class=\"row_heading level0 row8\" >8</th>\n",
       "      <td id=\"T_074d9_row8_col0\" class=\"data row8 col0\" >Ordinal Features</td>\n",
       "      <td id=\"T_074d9_row8_col1\" class=\"data row8 col1\" >False</td>\n",
       "    </tr>\n",
       "    <tr>\n",
       "      <th id=\"T_074d9_level0_row9\" class=\"row_heading level0 row9\" >9</th>\n",
       "      <td id=\"T_074d9_row9_col0\" class=\"data row9 col0\" >High Cardinality Features</td>\n",
       "      <td id=\"T_074d9_row9_col1\" class=\"data row9 col1\" >False</td>\n",
       "    </tr>\n",
       "    <tr>\n",
       "      <th id=\"T_074d9_level0_row10\" class=\"row_heading level0 row10\" >10</th>\n",
       "      <td id=\"T_074d9_row10_col0\" class=\"data row10 col0\" >High Cardinality Method</td>\n",
       "      <td id=\"T_074d9_row10_col1\" class=\"data row10 col1\" >None</td>\n",
       "    </tr>\n",
       "    <tr>\n",
       "      <th id=\"T_074d9_level0_row11\" class=\"row_heading level0 row11\" >11</th>\n",
       "      <td id=\"T_074d9_row11_col0\" class=\"data row11 col0\" >Transformed Train Set</td>\n",
       "      <td id=\"T_074d9_row11_col1\" class=\"data row11 col1\" >(26340, 10)</td>\n",
       "    </tr>\n",
       "    <tr>\n",
       "      <th id=\"T_074d9_level0_row12\" class=\"row_heading level0 row12\" >12</th>\n",
       "      <td id=\"T_074d9_row12_col0\" class=\"data row12 col0\" >Transformed Test Set</td>\n",
       "      <td id=\"T_074d9_row12_col1\" class=\"data row12 col1\" >(6585, 10)</td>\n",
       "    </tr>\n",
       "    <tr>\n",
       "      <th id=\"T_074d9_level0_row13\" class=\"row_heading level0 row13\" >13</th>\n",
       "      <td id=\"T_074d9_row13_col0\" class=\"data row13 col0\" >Shuffle Train-Test</td>\n",
       "      <td id=\"T_074d9_row13_col1\" class=\"data row13 col1\" >True</td>\n",
       "    </tr>\n",
       "    <tr>\n",
       "      <th id=\"T_074d9_level0_row14\" class=\"row_heading level0 row14\" >14</th>\n",
       "      <td id=\"T_074d9_row14_col0\" class=\"data row14 col0\" >Stratify Train-Test</td>\n",
       "      <td id=\"T_074d9_row14_col1\" class=\"data row14 col1\" >False</td>\n",
       "    </tr>\n",
       "    <tr>\n",
       "      <th id=\"T_074d9_level0_row15\" class=\"row_heading level0 row15\" >15</th>\n",
       "      <td id=\"T_074d9_row15_col0\" class=\"data row15 col0\" >Fold Generator</td>\n",
       "      <td id=\"T_074d9_row15_col1\" class=\"data row15 col1\" >KFold</td>\n",
       "    </tr>\n",
       "    <tr>\n",
       "      <th id=\"T_074d9_level0_row16\" class=\"row_heading level0 row16\" >16</th>\n",
       "      <td id=\"T_074d9_row16_col0\" class=\"data row16 col0\" >Fold Number</td>\n",
       "      <td id=\"T_074d9_row16_col1\" class=\"data row16 col1\" >10</td>\n",
       "    </tr>\n",
       "    <tr>\n",
       "      <th id=\"T_074d9_level0_row17\" class=\"row_heading level0 row17\" >17</th>\n",
       "      <td id=\"T_074d9_row17_col0\" class=\"data row17 col0\" >CPU Jobs</td>\n",
       "      <td id=\"T_074d9_row17_col1\" class=\"data row17 col1\" >-1</td>\n",
       "    </tr>\n",
       "    <tr>\n",
       "      <th id=\"T_074d9_level0_row18\" class=\"row_heading level0 row18\" >18</th>\n",
       "      <td id=\"T_074d9_row18_col0\" class=\"data row18 col0\" >Use GPU</td>\n",
       "      <td id=\"T_074d9_row18_col1\" class=\"data row18 col1\" >False</td>\n",
       "    </tr>\n",
       "    <tr>\n",
       "      <th id=\"T_074d9_level0_row19\" class=\"row_heading level0 row19\" >19</th>\n",
       "      <td id=\"T_074d9_row19_col0\" class=\"data row19 col0\" >Log Experiment</td>\n",
       "      <td id=\"T_074d9_row19_col1\" class=\"data row19 col1\" >False</td>\n",
       "    </tr>\n",
       "    <tr>\n",
       "      <th id=\"T_074d9_level0_row20\" class=\"row_heading level0 row20\" >20</th>\n",
       "      <td id=\"T_074d9_row20_col0\" class=\"data row20 col0\" >Experiment Name</td>\n",
       "      <td id=\"T_074d9_row20_col1\" class=\"data row20 col1\" >clf-default-name</td>\n",
       "    </tr>\n",
       "    <tr>\n",
       "      <th id=\"T_074d9_level0_row21\" class=\"row_heading level0 row21\" >21</th>\n",
       "      <td id=\"T_074d9_row21_col0\" class=\"data row21 col0\" >USI</td>\n",
       "      <td id=\"T_074d9_row21_col1\" class=\"data row21 col1\" >5b81</td>\n",
       "    </tr>\n",
       "    <tr>\n",
       "      <th id=\"T_074d9_level0_row22\" class=\"row_heading level0 row22\" >22</th>\n",
       "      <td id=\"T_074d9_row22_col0\" class=\"data row22 col0\" >Imputation Type</td>\n",
       "      <td id=\"T_074d9_row22_col1\" class=\"data row22 col1\" >simple</td>\n",
       "    </tr>\n",
       "    <tr>\n",
       "      <th id=\"T_074d9_level0_row23\" class=\"row_heading level0 row23\" >23</th>\n",
       "      <td id=\"T_074d9_row23_col0\" class=\"data row23 col0\" >Iterative Imputation Iteration</td>\n",
       "      <td id=\"T_074d9_row23_col1\" class=\"data row23 col1\" >None</td>\n",
       "    </tr>\n",
       "    <tr>\n",
       "      <th id=\"T_074d9_level0_row24\" class=\"row_heading level0 row24\" >24</th>\n",
       "      <td id=\"T_074d9_row24_col0\" class=\"data row24 col0\" >Numeric Imputer</td>\n",
       "      <td id=\"T_074d9_row24_col1\" class=\"data row24 col1\" >mean</td>\n",
       "    </tr>\n",
       "    <tr>\n",
       "      <th id=\"T_074d9_level0_row25\" class=\"row_heading level0 row25\" >25</th>\n",
       "      <td id=\"T_074d9_row25_col0\" class=\"data row25 col0\" >Iterative Imputation Numeric Model</td>\n",
       "      <td id=\"T_074d9_row25_col1\" class=\"data row25 col1\" >None</td>\n",
       "    </tr>\n",
       "    <tr>\n",
       "      <th id=\"T_074d9_level0_row26\" class=\"row_heading level0 row26\" >26</th>\n",
       "      <td id=\"T_074d9_row26_col0\" class=\"data row26 col0\" >Categorical Imputer</td>\n",
       "      <td id=\"T_074d9_row26_col1\" class=\"data row26 col1\" >constant</td>\n",
       "    </tr>\n",
       "    <tr>\n",
       "      <th id=\"T_074d9_level0_row27\" class=\"row_heading level0 row27\" >27</th>\n",
       "      <td id=\"T_074d9_row27_col0\" class=\"data row27 col0\" >Iterative Imputation Categorical Model</td>\n",
       "      <td id=\"T_074d9_row27_col1\" class=\"data row27 col1\" >None</td>\n",
       "    </tr>\n",
       "    <tr>\n",
       "      <th id=\"T_074d9_level0_row28\" class=\"row_heading level0 row28\" >28</th>\n",
       "      <td id=\"T_074d9_row28_col0\" class=\"data row28 col0\" >Unknown Categoricals Handling</td>\n",
       "      <td id=\"T_074d9_row28_col1\" class=\"data row28 col1\" >least_frequent</td>\n",
       "    </tr>\n",
       "    <tr>\n",
       "      <th id=\"T_074d9_level0_row29\" class=\"row_heading level0 row29\" >29</th>\n",
       "      <td id=\"T_074d9_row29_col0\" class=\"data row29 col0\" >Normalize</td>\n",
       "      <td id=\"T_074d9_row29_col1\" class=\"data row29 col1\" >True</td>\n",
       "    </tr>\n",
       "    <tr>\n",
       "      <th id=\"T_074d9_level0_row30\" class=\"row_heading level0 row30\" >30</th>\n",
       "      <td id=\"T_074d9_row30_col0\" class=\"data row30 col0\" >Normalize Method</td>\n",
       "      <td id=\"T_074d9_row30_col1\" class=\"data row30 col1\" >robust</td>\n",
       "    </tr>\n",
       "    <tr>\n",
       "      <th id=\"T_074d9_level0_row31\" class=\"row_heading level0 row31\" >31</th>\n",
       "      <td id=\"T_074d9_row31_col0\" class=\"data row31 col0\" >Transformation</td>\n",
       "      <td id=\"T_074d9_row31_col1\" class=\"data row31 col1\" >False</td>\n",
       "    </tr>\n",
       "    <tr>\n",
       "      <th id=\"T_074d9_level0_row32\" class=\"row_heading level0 row32\" >32</th>\n",
       "      <td id=\"T_074d9_row32_col0\" class=\"data row32 col0\" >Transformation Method</td>\n",
       "      <td id=\"T_074d9_row32_col1\" class=\"data row32 col1\" >None</td>\n",
       "    </tr>\n",
       "    <tr>\n",
       "      <th id=\"T_074d9_level0_row33\" class=\"row_heading level0 row33\" >33</th>\n",
       "      <td id=\"T_074d9_row33_col0\" class=\"data row33 col0\" >PCA</td>\n",
       "      <td id=\"T_074d9_row33_col1\" class=\"data row33 col1\" >False</td>\n",
       "    </tr>\n",
       "    <tr>\n",
       "      <th id=\"T_074d9_level0_row34\" class=\"row_heading level0 row34\" >34</th>\n",
       "      <td id=\"T_074d9_row34_col0\" class=\"data row34 col0\" >PCA Method</td>\n",
       "      <td id=\"T_074d9_row34_col1\" class=\"data row34 col1\" >None</td>\n",
       "    </tr>\n",
       "    <tr>\n",
       "      <th id=\"T_074d9_level0_row35\" class=\"row_heading level0 row35\" >35</th>\n",
       "      <td id=\"T_074d9_row35_col0\" class=\"data row35 col0\" >PCA Components</td>\n",
       "      <td id=\"T_074d9_row35_col1\" class=\"data row35 col1\" >None</td>\n",
       "    </tr>\n",
       "    <tr>\n",
       "      <th id=\"T_074d9_level0_row36\" class=\"row_heading level0 row36\" >36</th>\n",
       "      <td id=\"T_074d9_row36_col0\" class=\"data row36 col0\" >Ignore Low Variance</td>\n",
       "      <td id=\"T_074d9_row36_col1\" class=\"data row36 col1\" >False</td>\n",
       "    </tr>\n",
       "    <tr>\n",
       "      <th id=\"T_074d9_level0_row37\" class=\"row_heading level0 row37\" >37</th>\n",
       "      <td id=\"T_074d9_row37_col0\" class=\"data row37 col0\" >Combine Rare Levels</td>\n",
       "      <td id=\"T_074d9_row37_col1\" class=\"data row37 col1\" >False</td>\n",
       "    </tr>\n",
       "    <tr>\n",
       "      <th id=\"T_074d9_level0_row38\" class=\"row_heading level0 row38\" >38</th>\n",
       "      <td id=\"T_074d9_row38_col0\" class=\"data row38 col0\" >Rare Level Threshold</td>\n",
       "      <td id=\"T_074d9_row38_col1\" class=\"data row38 col1\" >None</td>\n",
       "    </tr>\n",
       "    <tr>\n",
       "      <th id=\"T_074d9_level0_row39\" class=\"row_heading level0 row39\" >39</th>\n",
       "      <td id=\"T_074d9_row39_col0\" class=\"data row39 col0\" >Numeric Binning</td>\n",
       "      <td id=\"T_074d9_row39_col1\" class=\"data row39 col1\" >False</td>\n",
       "    </tr>\n",
       "    <tr>\n",
       "      <th id=\"T_074d9_level0_row40\" class=\"row_heading level0 row40\" >40</th>\n",
       "      <td id=\"T_074d9_row40_col0\" class=\"data row40 col0\" >Remove Outliers</td>\n",
       "      <td id=\"T_074d9_row40_col1\" class=\"data row40 col1\" >False</td>\n",
       "    </tr>\n",
       "    <tr>\n",
       "      <th id=\"T_074d9_level0_row41\" class=\"row_heading level0 row41\" >41</th>\n",
       "      <td id=\"T_074d9_row41_col0\" class=\"data row41 col0\" >Outliers Threshold</td>\n",
       "      <td id=\"T_074d9_row41_col1\" class=\"data row41 col1\" >None</td>\n",
       "    </tr>\n",
       "    <tr>\n",
       "      <th id=\"T_074d9_level0_row42\" class=\"row_heading level0 row42\" >42</th>\n",
       "      <td id=\"T_074d9_row42_col0\" class=\"data row42 col0\" >Remove Multicollinearity</td>\n",
       "      <td id=\"T_074d9_row42_col1\" class=\"data row42 col1\" >False</td>\n",
       "    </tr>\n",
       "    <tr>\n",
       "      <th id=\"T_074d9_level0_row43\" class=\"row_heading level0 row43\" >43</th>\n",
       "      <td id=\"T_074d9_row43_col0\" class=\"data row43 col0\" >Multicollinearity Threshold</td>\n",
       "      <td id=\"T_074d9_row43_col1\" class=\"data row43 col1\" >None</td>\n",
       "    </tr>\n",
       "    <tr>\n",
       "      <th id=\"T_074d9_level0_row44\" class=\"row_heading level0 row44\" >44</th>\n",
       "      <td id=\"T_074d9_row44_col0\" class=\"data row44 col0\" >Remove Perfect Collinearity</td>\n",
       "      <td id=\"T_074d9_row44_col1\" class=\"data row44 col1\" >True</td>\n",
       "    </tr>\n",
       "    <tr>\n",
       "      <th id=\"T_074d9_level0_row45\" class=\"row_heading level0 row45\" >45</th>\n",
       "      <td id=\"T_074d9_row45_col0\" class=\"data row45 col0\" >Clustering</td>\n",
       "      <td id=\"T_074d9_row45_col1\" class=\"data row45 col1\" >False</td>\n",
       "    </tr>\n",
       "    <tr>\n",
       "      <th id=\"T_074d9_level0_row46\" class=\"row_heading level0 row46\" >46</th>\n",
       "      <td id=\"T_074d9_row46_col0\" class=\"data row46 col0\" >Clustering Iteration</td>\n",
       "      <td id=\"T_074d9_row46_col1\" class=\"data row46 col1\" >None</td>\n",
       "    </tr>\n",
       "    <tr>\n",
       "      <th id=\"T_074d9_level0_row47\" class=\"row_heading level0 row47\" >47</th>\n",
       "      <td id=\"T_074d9_row47_col0\" class=\"data row47 col0\" >Polynomial Features</td>\n",
       "      <td id=\"T_074d9_row47_col1\" class=\"data row47 col1\" >False</td>\n",
       "    </tr>\n",
       "    <tr>\n",
       "      <th id=\"T_074d9_level0_row48\" class=\"row_heading level0 row48\" >48</th>\n",
       "      <td id=\"T_074d9_row48_col0\" class=\"data row48 col0\" >Polynomial Degree</td>\n",
       "      <td id=\"T_074d9_row48_col1\" class=\"data row48 col1\" >None</td>\n",
       "    </tr>\n",
       "    <tr>\n",
       "      <th id=\"T_074d9_level0_row49\" class=\"row_heading level0 row49\" >49</th>\n",
       "      <td id=\"T_074d9_row49_col0\" class=\"data row49 col0\" >Trignometry Features</td>\n",
       "      <td id=\"T_074d9_row49_col1\" class=\"data row49 col1\" >False</td>\n",
       "    </tr>\n",
       "    <tr>\n",
       "      <th id=\"T_074d9_level0_row50\" class=\"row_heading level0 row50\" >50</th>\n",
       "      <td id=\"T_074d9_row50_col0\" class=\"data row50 col0\" >Polynomial Threshold</td>\n",
       "      <td id=\"T_074d9_row50_col1\" class=\"data row50 col1\" >None</td>\n",
       "    </tr>\n",
       "    <tr>\n",
       "      <th id=\"T_074d9_level0_row51\" class=\"row_heading level0 row51\" >51</th>\n",
       "      <td id=\"T_074d9_row51_col0\" class=\"data row51 col0\" >Group Features</td>\n",
       "      <td id=\"T_074d9_row51_col1\" class=\"data row51 col1\" >False</td>\n",
       "    </tr>\n",
       "    <tr>\n",
       "      <th id=\"T_074d9_level0_row52\" class=\"row_heading level0 row52\" >52</th>\n",
       "      <td id=\"T_074d9_row52_col0\" class=\"data row52 col0\" >Feature Selection</td>\n",
       "      <td id=\"T_074d9_row52_col1\" class=\"data row52 col1\" >False</td>\n",
       "    </tr>\n",
       "    <tr>\n",
       "      <th id=\"T_074d9_level0_row53\" class=\"row_heading level0 row53\" >53</th>\n",
       "      <td id=\"T_074d9_row53_col0\" class=\"data row53 col0\" >Feature Selection Method</td>\n",
       "      <td id=\"T_074d9_row53_col1\" class=\"data row53 col1\" >classic</td>\n",
       "    </tr>\n",
       "    <tr>\n",
       "      <th id=\"T_074d9_level0_row54\" class=\"row_heading level0 row54\" >54</th>\n",
       "      <td id=\"T_074d9_row54_col0\" class=\"data row54 col0\" >Features Selection Threshold</td>\n",
       "      <td id=\"T_074d9_row54_col1\" class=\"data row54 col1\" >None</td>\n",
       "    </tr>\n",
       "    <tr>\n",
       "      <th id=\"T_074d9_level0_row55\" class=\"row_heading level0 row55\" >55</th>\n",
       "      <td id=\"T_074d9_row55_col0\" class=\"data row55 col0\" >Feature Interaction</td>\n",
       "      <td id=\"T_074d9_row55_col1\" class=\"data row55 col1\" >False</td>\n",
       "    </tr>\n",
       "    <tr>\n",
       "      <th id=\"T_074d9_level0_row56\" class=\"row_heading level0 row56\" >56</th>\n",
       "      <td id=\"T_074d9_row56_col0\" class=\"data row56 col0\" >Feature Ratio</td>\n",
       "      <td id=\"T_074d9_row56_col1\" class=\"data row56 col1\" >False</td>\n",
       "    </tr>\n",
       "    <tr>\n",
       "      <th id=\"T_074d9_level0_row57\" class=\"row_heading level0 row57\" >57</th>\n",
       "      <td id=\"T_074d9_row57_col0\" class=\"data row57 col0\" >Interaction Threshold</td>\n",
       "      <td id=\"T_074d9_row57_col1\" class=\"data row57 col1\" >None</td>\n",
       "    </tr>\n",
       "    <tr>\n",
       "      <th id=\"T_074d9_level0_row58\" class=\"row_heading level0 row58\" >58</th>\n",
       "      <td id=\"T_074d9_row58_col0\" class=\"data row58 col0\" >Fix Imbalance</td>\n",
       "      <td id=\"T_074d9_row58_col1\" class=\"data row58 col1\" >False</td>\n",
       "    </tr>\n",
       "    <tr>\n",
       "      <th id=\"T_074d9_level0_row59\" class=\"row_heading level0 row59\" >59</th>\n",
       "      <td id=\"T_074d9_row59_col0\" class=\"data row59 col0\" >Fix Imbalance Method</td>\n",
       "      <td id=\"T_074d9_row59_col1\" class=\"data row59 col1\" >SMOTE</td>\n",
       "    </tr>\n",
       "  </tbody>\n",
       "</table>\n"
      ],
      "text/plain": [
       "<pandas.io.formats.style.Styler at 0x7fb75e7d1760>"
      ]
     },
     "metadata": {},
     "output_type": "display_data"
    }
   ],
   "source": [
    "from pycaret.classification import *\n",
    "classification = setup(data = lda_train,  \n",
    "                 target = 'encoded_sentiment',\n",
    "                train_size = 0.8,\n",
    "                fold_strategy = 'kfold',\n",
    "                ignore_features=['UserName', 'ScreenName', 'Location', 'TweetAt', 'OriginalTweet', 'Topic_0', 'Topic_1', 'Topic_2','Topic_3'],\n",
    "                normalize = True,\n",
    "                 normalize_method = 'robust')"
   ]
  },
  {
   "cell_type": "code",
   "execution_count": 50,
   "id": "7fedddc4-1f7e-49b1-a205-c91c2a333184",
   "metadata": {
    "tags": []
   },
   "outputs": [
    {
     "data": {
      "text/html": [
       "<style type=\"text/css\">\n",
       "#T_23fd4 th {\n",
       "  text-align: left;\n",
       "}\n",
       "#T_23fd4_row0_col0, #T_23fd4_row1_col0, #T_23fd4_row2_col0, #T_23fd4_row3_col0, #T_23fd4_row4_col0, #T_23fd4_row4_col2, #T_23fd4_row5_col0, #T_23fd4_row5_col2, #T_23fd4_row6_col0, #T_23fd4_row7_col0, #T_23fd4_row8_col0, #T_23fd4_row9_col0, #T_23fd4_row10_col0, #T_23fd4_row11_col0, #T_23fd4_row11_col1, #T_23fd4_row11_col2, #T_23fd4_row11_col3, #T_23fd4_row11_col4, #T_23fd4_row11_col5, #T_23fd4_row11_col6, #T_23fd4_row11_col7, #T_23fd4_row12_col0, #T_23fd4_row12_col1, #T_23fd4_row12_col2, #T_23fd4_row12_col3, #T_23fd4_row12_col4, #T_23fd4_row12_col5, #T_23fd4_row12_col6, #T_23fd4_row12_col7, #T_23fd4_row13_col0, #T_23fd4_row13_col1, #T_23fd4_row13_col2, #T_23fd4_row13_col3, #T_23fd4_row13_col4, #T_23fd4_row13_col5, #T_23fd4_row13_col6, #T_23fd4_row13_col7 {\n",
       "  text-align: left;\n",
       "}\n",
       "#T_23fd4_row0_col1, #T_23fd4_row0_col2, #T_23fd4_row0_col3, #T_23fd4_row0_col4, #T_23fd4_row0_col5, #T_23fd4_row0_col6, #T_23fd4_row0_col7, #T_23fd4_row1_col1, #T_23fd4_row1_col2, #T_23fd4_row1_col3, #T_23fd4_row1_col4, #T_23fd4_row1_col5, #T_23fd4_row1_col6, #T_23fd4_row1_col7, #T_23fd4_row2_col1, #T_23fd4_row2_col2, #T_23fd4_row2_col3, #T_23fd4_row2_col4, #T_23fd4_row2_col5, #T_23fd4_row2_col6, #T_23fd4_row2_col7, #T_23fd4_row3_col1, #T_23fd4_row3_col2, #T_23fd4_row3_col3, #T_23fd4_row3_col4, #T_23fd4_row3_col5, #T_23fd4_row3_col6, #T_23fd4_row3_col7, #T_23fd4_row4_col1, #T_23fd4_row4_col3, #T_23fd4_row4_col4, #T_23fd4_row4_col5, #T_23fd4_row4_col6, #T_23fd4_row4_col7, #T_23fd4_row5_col1, #T_23fd4_row5_col3, #T_23fd4_row5_col4, #T_23fd4_row5_col5, #T_23fd4_row5_col6, #T_23fd4_row5_col7, #T_23fd4_row6_col1, #T_23fd4_row6_col2, #T_23fd4_row6_col3, #T_23fd4_row6_col4, #T_23fd4_row6_col5, #T_23fd4_row6_col6, #T_23fd4_row6_col7, #T_23fd4_row7_col1, #T_23fd4_row7_col2, #T_23fd4_row7_col3, #T_23fd4_row7_col4, #T_23fd4_row7_col5, #T_23fd4_row7_col6, #T_23fd4_row7_col7, #T_23fd4_row8_col1, #T_23fd4_row8_col2, #T_23fd4_row8_col3, #T_23fd4_row8_col4, #T_23fd4_row8_col5, #T_23fd4_row8_col6, #T_23fd4_row8_col7, #T_23fd4_row9_col1, #T_23fd4_row9_col2, #T_23fd4_row9_col3, #T_23fd4_row9_col4, #T_23fd4_row9_col5, #T_23fd4_row9_col6, #T_23fd4_row9_col7, #T_23fd4_row10_col1, #T_23fd4_row10_col2, #T_23fd4_row10_col3, #T_23fd4_row10_col4, #T_23fd4_row10_col5, #T_23fd4_row10_col6, #T_23fd4_row10_col7 {\n",
       "  text-align: left;\n",
       "  background-color: yellow;\n",
       "}\n",
       "#T_23fd4_row0_col8, #T_23fd4_row1_col8, #T_23fd4_row2_col8, #T_23fd4_row4_col8, #T_23fd4_row5_col8, #T_23fd4_row6_col8, #T_23fd4_row7_col8, #T_23fd4_row8_col8, #T_23fd4_row9_col8, #T_23fd4_row10_col8, #T_23fd4_row11_col8, #T_23fd4_row12_col8, #T_23fd4_row13_col8 {\n",
       "  text-align: left;\n",
       "  background-color: lightgrey;\n",
       "}\n",
       "#T_23fd4_row3_col8 {\n",
       "  text-align: left;\n",
       "  background-color: yellow;\n",
       "  background-color: lightgrey;\n",
       "}\n",
       "</style>\n",
       "<table id=\"T_23fd4\">\n",
       "  <thead>\n",
       "    <tr>\n",
       "      <th class=\"blank level0\" >&nbsp;</th>\n",
       "      <th id=\"T_23fd4_level0_col0\" class=\"col_heading level0 col0\" >Model</th>\n",
       "      <th id=\"T_23fd4_level0_col1\" class=\"col_heading level0 col1\" >Accuracy</th>\n",
       "      <th id=\"T_23fd4_level0_col2\" class=\"col_heading level0 col2\" >AUC</th>\n",
       "      <th id=\"T_23fd4_level0_col3\" class=\"col_heading level0 col3\" >Recall</th>\n",
       "      <th id=\"T_23fd4_level0_col4\" class=\"col_heading level0 col4\" >Prec.</th>\n",
       "      <th id=\"T_23fd4_level0_col5\" class=\"col_heading level0 col5\" >F1</th>\n",
       "      <th id=\"T_23fd4_level0_col6\" class=\"col_heading level0 col6\" >Kappa</th>\n",
       "      <th id=\"T_23fd4_level0_col7\" class=\"col_heading level0 col7\" >MCC</th>\n",
       "      <th id=\"T_23fd4_level0_col8\" class=\"col_heading level0 col8\" >TT (Sec)</th>\n",
       "    </tr>\n",
       "  </thead>\n",
       "  <tbody>\n",
       "    <tr>\n",
       "      <th id=\"T_23fd4_level0_row0\" class=\"row_heading level0 row0\" >lr</th>\n",
       "      <td id=\"T_23fd4_row0_col0\" class=\"data row0 col0\" >Logistic Regression</td>\n",
       "      <td id=\"T_23fd4_row0_col1\" class=\"data row0 col1\" >1.0000</td>\n",
       "      <td id=\"T_23fd4_row0_col2\" class=\"data row0 col2\" >1.0000</td>\n",
       "      <td id=\"T_23fd4_row0_col3\" class=\"data row0 col3\" >1.0000</td>\n",
       "      <td id=\"T_23fd4_row0_col4\" class=\"data row0 col4\" >1.0000</td>\n",
       "      <td id=\"T_23fd4_row0_col5\" class=\"data row0 col5\" >1.0000</td>\n",
       "      <td id=\"T_23fd4_row0_col6\" class=\"data row0 col6\" >1.0000</td>\n",
       "      <td id=\"T_23fd4_row0_col7\" class=\"data row0 col7\" >1.0000</td>\n",
       "      <td id=\"T_23fd4_row0_col8\" class=\"data row0 col8\" >2.2820</td>\n",
       "    </tr>\n",
       "    <tr>\n",
       "      <th id=\"T_23fd4_level0_row1\" class=\"row_heading level0 row1\" >knn</th>\n",
       "      <td id=\"T_23fd4_row1_col0\" class=\"data row1 col0\" >K Neighbors Classifier</td>\n",
       "      <td id=\"T_23fd4_row1_col1\" class=\"data row1 col1\" >1.0000</td>\n",
       "      <td id=\"T_23fd4_row1_col2\" class=\"data row1 col2\" >1.0000</td>\n",
       "      <td id=\"T_23fd4_row1_col3\" class=\"data row1 col3\" >1.0000</td>\n",
       "      <td id=\"T_23fd4_row1_col4\" class=\"data row1 col4\" >1.0000</td>\n",
       "      <td id=\"T_23fd4_row1_col5\" class=\"data row1 col5\" >1.0000</td>\n",
       "      <td id=\"T_23fd4_row1_col6\" class=\"data row1 col6\" >1.0000</td>\n",
       "      <td id=\"T_23fd4_row1_col7\" class=\"data row1 col7\" >1.0000</td>\n",
       "      <td id=\"T_23fd4_row1_col8\" class=\"data row1 col8\" >0.4320</td>\n",
       "    </tr>\n",
       "    <tr>\n",
       "      <th id=\"T_23fd4_level0_row2\" class=\"row_heading level0 row2\" >nb</th>\n",
       "      <td id=\"T_23fd4_row2_col0\" class=\"data row2 col0\" >Naive Bayes</td>\n",
       "      <td id=\"T_23fd4_row2_col1\" class=\"data row2 col1\" >1.0000</td>\n",
       "      <td id=\"T_23fd4_row2_col2\" class=\"data row2 col2\" >1.0000</td>\n",
       "      <td id=\"T_23fd4_row2_col3\" class=\"data row2 col3\" >1.0000</td>\n",
       "      <td id=\"T_23fd4_row2_col4\" class=\"data row2 col4\" >1.0000</td>\n",
       "      <td id=\"T_23fd4_row2_col5\" class=\"data row2 col5\" >1.0000</td>\n",
       "      <td id=\"T_23fd4_row2_col6\" class=\"data row2 col6\" >1.0000</td>\n",
       "      <td id=\"T_23fd4_row2_col7\" class=\"data row2 col7\" >1.0000</td>\n",
       "      <td id=\"T_23fd4_row2_col8\" class=\"data row2 col8\" >0.0570</td>\n",
       "    </tr>\n",
       "    <tr>\n",
       "      <th id=\"T_23fd4_level0_row3\" class=\"row_heading level0 row3\" >dt</th>\n",
       "      <td id=\"T_23fd4_row3_col0\" class=\"data row3 col0\" >Decision Tree Classifier</td>\n",
       "      <td id=\"T_23fd4_row3_col1\" class=\"data row3 col1\" >1.0000</td>\n",
       "      <td id=\"T_23fd4_row3_col2\" class=\"data row3 col2\" >1.0000</td>\n",
       "      <td id=\"T_23fd4_row3_col3\" class=\"data row3 col3\" >1.0000</td>\n",
       "      <td id=\"T_23fd4_row3_col4\" class=\"data row3 col4\" >1.0000</td>\n",
       "      <td id=\"T_23fd4_row3_col5\" class=\"data row3 col5\" >1.0000</td>\n",
       "      <td id=\"T_23fd4_row3_col6\" class=\"data row3 col6\" >1.0000</td>\n",
       "      <td id=\"T_23fd4_row3_col7\" class=\"data row3 col7\" >1.0000</td>\n",
       "      <td id=\"T_23fd4_row3_col8\" class=\"data row3 col8\" >0.0310</td>\n",
       "    </tr>\n",
       "    <tr>\n",
       "      <th id=\"T_23fd4_level0_row4\" class=\"row_heading level0 row4\" >svm</th>\n",
       "      <td id=\"T_23fd4_row4_col0\" class=\"data row4 col0\" >SVM - Linear Kernel</td>\n",
       "      <td id=\"T_23fd4_row4_col1\" class=\"data row4 col1\" >1.0000</td>\n",
       "      <td id=\"T_23fd4_row4_col2\" class=\"data row4 col2\" >0.0000</td>\n",
       "      <td id=\"T_23fd4_row4_col3\" class=\"data row4 col3\" >1.0000</td>\n",
       "      <td id=\"T_23fd4_row4_col4\" class=\"data row4 col4\" >1.0000</td>\n",
       "      <td id=\"T_23fd4_row4_col5\" class=\"data row4 col5\" >1.0000</td>\n",
       "      <td id=\"T_23fd4_row4_col6\" class=\"data row4 col6\" >1.0000</td>\n",
       "      <td id=\"T_23fd4_row4_col7\" class=\"data row4 col7\" >1.0000</td>\n",
       "      <td id=\"T_23fd4_row4_col8\" class=\"data row4 col8\" >0.0770</td>\n",
       "    </tr>\n",
       "    <tr>\n",
       "      <th id=\"T_23fd4_level0_row5\" class=\"row_heading level0 row5\" >ridge</th>\n",
       "      <td id=\"T_23fd4_row5_col0\" class=\"data row5 col0\" >Ridge Classifier</td>\n",
       "      <td id=\"T_23fd4_row5_col1\" class=\"data row5 col1\" >1.0000</td>\n",
       "      <td id=\"T_23fd4_row5_col2\" class=\"data row5 col2\" >0.0000</td>\n",
       "      <td id=\"T_23fd4_row5_col3\" class=\"data row5 col3\" >1.0000</td>\n",
       "      <td id=\"T_23fd4_row5_col4\" class=\"data row5 col4\" >1.0000</td>\n",
       "      <td id=\"T_23fd4_row5_col5\" class=\"data row5 col5\" >1.0000</td>\n",
       "      <td id=\"T_23fd4_row5_col6\" class=\"data row5 col6\" >1.0000</td>\n",
       "      <td id=\"T_23fd4_row5_col7\" class=\"data row5 col7\" >1.0000</td>\n",
       "      <td id=\"T_23fd4_row5_col8\" class=\"data row5 col8\" >0.0440</td>\n",
       "    </tr>\n",
       "    <tr>\n",
       "      <th id=\"T_23fd4_level0_row6\" class=\"row_heading level0 row6\" >rf</th>\n",
       "      <td id=\"T_23fd4_row6_col0\" class=\"data row6 col0\" >Random Forest Classifier</td>\n",
       "      <td id=\"T_23fd4_row6_col1\" class=\"data row6 col1\" >1.0000</td>\n",
       "      <td id=\"T_23fd4_row6_col2\" class=\"data row6 col2\" >1.0000</td>\n",
       "      <td id=\"T_23fd4_row6_col3\" class=\"data row6 col3\" >1.0000</td>\n",
       "      <td id=\"T_23fd4_row6_col4\" class=\"data row6 col4\" >1.0000</td>\n",
       "      <td id=\"T_23fd4_row6_col5\" class=\"data row6 col5\" >1.0000</td>\n",
       "      <td id=\"T_23fd4_row6_col6\" class=\"data row6 col6\" >1.0000</td>\n",
       "      <td id=\"T_23fd4_row6_col7\" class=\"data row6 col7\" >1.0000</td>\n",
       "      <td id=\"T_23fd4_row6_col8\" class=\"data row6 col8\" >0.7580</td>\n",
       "    </tr>\n",
       "    <tr>\n",
       "      <th id=\"T_23fd4_level0_row7\" class=\"row_heading level0 row7\" >ada</th>\n",
       "      <td id=\"T_23fd4_row7_col0\" class=\"data row7 col0\" >Ada Boost Classifier</td>\n",
       "      <td id=\"T_23fd4_row7_col1\" class=\"data row7 col1\" >1.0000</td>\n",
       "      <td id=\"T_23fd4_row7_col2\" class=\"data row7 col2\" >1.0000</td>\n",
       "      <td id=\"T_23fd4_row7_col3\" class=\"data row7 col3\" >1.0000</td>\n",
       "      <td id=\"T_23fd4_row7_col4\" class=\"data row7 col4\" >1.0000</td>\n",
       "      <td id=\"T_23fd4_row7_col5\" class=\"data row7 col5\" >1.0000</td>\n",
       "      <td id=\"T_23fd4_row7_col6\" class=\"data row7 col6\" >1.0000</td>\n",
       "      <td id=\"T_23fd4_row7_col7\" class=\"data row7 col7\" >1.0000</td>\n",
       "      <td id=\"T_23fd4_row7_col8\" class=\"data row7 col8\" >0.6860</td>\n",
       "    </tr>\n",
       "    <tr>\n",
       "      <th id=\"T_23fd4_level0_row8\" class=\"row_heading level0 row8\" >gbc</th>\n",
       "      <td id=\"T_23fd4_row8_col0\" class=\"data row8 col0\" >Gradient Boosting Classifier</td>\n",
       "      <td id=\"T_23fd4_row8_col1\" class=\"data row8 col1\" >1.0000</td>\n",
       "      <td id=\"T_23fd4_row8_col2\" class=\"data row8 col2\" >1.0000</td>\n",
       "      <td id=\"T_23fd4_row8_col3\" class=\"data row8 col3\" >1.0000</td>\n",
       "      <td id=\"T_23fd4_row8_col4\" class=\"data row8 col4\" >1.0000</td>\n",
       "      <td id=\"T_23fd4_row8_col5\" class=\"data row8 col5\" >1.0000</td>\n",
       "      <td id=\"T_23fd4_row8_col6\" class=\"data row8 col6\" >1.0000</td>\n",
       "      <td id=\"T_23fd4_row8_col7\" class=\"data row8 col7\" >1.0000</td>\n",
       "      <td id=\"T_23fd4_row8_col8\" class=\"data row8 col8\" >5.8190</td>\n",
       "    </tr>\n",
       "    <tr>\n",
       "      <th id=\"T_23fd4_level0_row9\" class=\"row_heading level0 row9\" >et</th>\n",
       "      <td id=\"T_23fd4_row9_col0\" class=\"data row9 col0\" >Extra Trees Classifier</td>\n",
       "      <td id=\"T_23fd4_row9_col1\" class=\"data row9 col1\" >1.0000</td>\n",
       "      <td id=\"T_23fd4_row9_col2\" class=\"data row9 col2\" >1.0000</td>\n",
       "      <td id=\"T_23fd4_row9_col3\" class=\"data row9 col3\" >1.0000</td>\n",
       "      <td id=\"T_23fd4_row9_col4\" class=\"data row9 col4\" >1.0000</td>\n",
       "      <td id=\"T_23fd4_row9_col5\" class=\"data row9 col5\" >1.0000</td>\n",
       "      <td id=\"T_23fd4_row9_col6\" class=\"data row9 col6\" >1.0000</td>\n",
       "      <td id=\"T_23fd4_row9_col7\" class=\"data row9 col7\" >1.0000</td>\n",
       "      <td id=\"T_23fd4_row9_col8\" class=\"data row9 col8\" >0.5970</td>\n",
       "    </tr>\n",
       "    <tr>\n",
       "      <th id=\"T_23fd4_level0_row10\" class=\"row_heading level0 row10\" >lightgbm</th>\n",
       "      <td id=\"T_23fd4_row10_col0\" class=\"data row10 col0\" >Light Gradient Boosting Machine</td>\n",
       "      <td id=\"T_23fd4_row10_col1\" class=\"data row10 col1\" >1.0000</td>\n",
       "      <td id=\"T_23fd4_row10_col2\" class=\"data row10 col2\" >1.0000</td>\n",
       "      <td id=\"T_23fd4_row10_col3\" class=\"data row10 col3\" >1.0000</td>\n",
       "      <td id=\"T_23fd4_row10_col4\" class=\"data row10 col4\" >1.0000</td>\n",
       "      <td id=\"T_23fd4_row10_col5\" class=\"data row10 col5\" >1.0000</td>\n",
       "      <td id=\"T_23fd4_row10_col6\" class=\"data row10 col6\" >1.0000</td>\n",
       "      <td id=\"T_23fd4_row10_col7\" class=\"data row10 col7\" >1.0000</td>\n",
       "      <td id=\"T_23fd4_row10_col8\" class=\"data row10 col8\" >0.6370</td>\n",
       "    </tr>\n",
       "    <tr>\n",
       "      <th id=\"T_23fd4_level0_row11\" class=\"row_heading level0 row11\" >lda</th>\n",
       "      <td id=\"T_23fd4_row11_col0\" class=\"data row11 col0\" >Linear Discriminant Analysis</td>\n",
       "      <td id=\"T_23fd4_row11_col1\" class=\"data row11 col1\" >0.2812</td>\n",
       "      <td id=\"T_23fd4_row11_col2\" class=\"data row11 col2\" >0.5314</td>\n",
       "      <td id=\"T_23fd4_row11_col3\" class=\"data row11 col3\" >0.2053</td>\n",
       "      <td id=\"T_23fd4_row11_col4\" class=\"data row11 col4\" >0.2562</td>\n",
       "      <td id=\"T_23fd4_row11_col5\" class=\"data row11 col5\" >0.1461</td>\n",
       "      <td id=\"T_23fd4_row11_col6\" class=\"data row11 col6\" >0.0082</td>\n",
       "      <td id=\"T_23fd4_row11_col7\" class=\"data row11 col7\" >0.0230</td>\n",
       "      <td id=\"T_23fd4_row11_col8\" class=\"data row11 col8\" >0.1040</td>\n",
       "    </tr>\n",
       "    <tr>\n",
       "      <th id=\"T_23fd4_level0_row12\" class=\"row_heading level0 row12\" >dummy</th>\n",
       "      <td id=\"T_23fd4_row12_col0\" class=\"data row12 col0\" >Dummy Classifier</td>\n",
       "      <td id=\"T_23fd4_row12_col1\" class=\"data row12 col1\" >0.2776</td>\n",
       "      <td id=\"T_23fd4_row12_col2\" class=\"data row12 col2\" >0.5000</td>\n",
       "      <td id=\"T_23fd4_row12_col3\" class=\"data row12 col3\" >0.2000</td>\n",
       "      <td id=\"T_23fd4_row12_col4\" class=\"data row12 col4\" >0.0771</td>\n",
       "      <td id=\"T_23fd4_row12_col5\" class=\"data row12 col5\" >0.1207</td>\n",
       "      <td id=\"T_23fd4_row12_col6\" class=\"data row12 col6\" >0.0000</td>\n",
       "      <td id=\"T_23fd4_row12_col7\" class=\"data row12 col7\" >0.0000</td>\n",
       "      <td id=\"T_23fd4_row12_col8\" class=\"data row12 col8\" >0.0320</td>\n",
       "    </tr>\n",
       "    <tr>\n",
       "      <th id=\"T_23fd4_level0_row13\" class=\"row_heading level0 row13\" >qda</th>\n",
       "      <td id=\"T_23fd4_row13_col0\" class=\"data row13 col0\" >Quadratic Discriminant Analysis</td>\n",
       "      <td id=\"T_23fd4_row13_col1\" class=\"data row13 col1\" >0.1334</td>\n",
       "      <td id=\"T_23fd4_row13_col2\" class=\"data row13 col2\" >0.0000</td>\n",
       "      <td id=\"T_23fd4_row13_col3\" class=\"data row13 col3\" >0.2000</td>\n",
       "      <td id=\"T_23fd4_row13_col4\" class=\"data row13 col4\" >0.0178</td>\n",
       "      <td id=\"T_23fd4_row13_col5\" class=\"data row13 col5\" >0.0314</td>\n",
       "      <td id=\"T_23fd4_row13_col6\" class=\"data row13 col6\" >0.0000</td>\n",
       "      <td id=\"T_23fd4_row13_col7\" class=\"data row13 col7\" >0.0000</td>\n",
       "      <td id=\"T_23fd4_row13_col8\" class=\"data row13 col8\" >0.0420</td>\n",
       "    </tr>\n",
       "  </tbody>\n",
       "</table>\n"
      ],
      "text/plain": [
       "<pandas.io.formats.style.Styler at 0x7fb4c0e698b0>"
      ]
     },
     "metadata": {},
     "output_type": "display_data"
    }
   ],
   "source": [
    "best_model = compare_models()"
   ]
  },
  {
   "cell_type": "code",
   "execution_count": 56,
   "id": "5db60d46-1615-499d-88bf-8e6ca99b6538",
   "metadata": {
    "tags": []
   },
   "outputs": [
    {
     "data": {
      "text/html": [
       "<style type=\"text/css\">\n",
       "#T_9dfc1_row10_col0, #T_9dfc1_row10_col1, #T_9dfc1_row10_col2, #T_9dfc1_row10_col3, #T_9dfc1_row10_col4, #T_9dfc1_row10_col5, #T_9dfc1_row10_col6 {\n",
       "  background: yellow;\n",
       "}\n",
       "</style>\n",
       "<table id=\"T_9dfc1\">\n",
       "  <thead>\n",
       "    <tr>\n",
       "      <th class=\"blank level0\" >&nbsp;</th>\n",
       "      <th id=\"T_9dfc1_level0_col0\" class=\"col_heading level0 col0\" >Accuracy</th>\n",
       "      <th id=\"T_9dfc1_level0_col1\" class=\"col_heading level0 col1\" >AUC</th>\n",
       "      <th id=\"T_9dfc1_level0_col2\" class=\"col_heading level0 col2\" >Recall</th>\n",
       "      <th id=\"T_9dfc1_level0_col3\" class=\"col_heading level0 col3\" >Prec.</th>\n",
       "      <th id=\"T_9dfc1_level0_col4\" class=\"col_heading level0 col4\" >F1</th>\n",
       "      <th id=\"T_9dfc1_level0_col5\" class=\"col_heading level0 col5\" >Kappa</th>\n",
       "      <th id=\"T_9dfc1_level0_col6\" class=\"col_heading level0 col6\" >MCC</th>\n",
       "    </tr>\n",
       "    <tr>\n",
       "      <th class=\"index_name level0\" >Fold</th>\n",
       "      <th class=\"blank col0\" >&nbsp;</th>\n",
       "      <th class=\"blank col1\" >&nbsp;</th>\n",
       "      <th class=\"blank col2\" >&nbsp;</th>\n",
       "      <th class=\"blank col3\" >&nbsp;</th>\n",
       "      <th class=\"blank col4\" >&nbsp;</th>\n",
       "      <th class=\"blank col5\" >&nbsp;</th>\n",
       "      <th class=\"blank col6\" >&nbsp;</th>\n",
       "    </tr>\n",
       "  </thead>\n",
       "  <tbody>\n",
       "    <tr>\n",
       "      <th id=\"T_9dfc1_level0_row0\" class=\"row_heading level0 row0\" >0</th>\n",
       "      <td id=\"T_9dfc1_row0_col0\" class=\"data row0 col0\" >1.0000</td>\n",
       "      <td id=\"T_9dfc1_row0_col1\" class=\"data row0 col1\" >1.0000</td>\n",
       "      <td id=\"T_9dfc1_row0_col2\" class=\"data row0 col2\" >1.0000</td>\n",
       "      <td id=\"T_9dfc1_row0_col3\" class=\"data row0 col3\" >1.0000</td>\n",
       "      <td id=\"T_9dfc1_row0_col4\" class=\"data row0 col4\" >1.0000</td>\n",
       "      <td id=\"T_9dfc1_row0_col5\" class=\"data row0 col5\" >1.0000</td>\n",
       "      <td id=\"T_9dfc1_row0_col6\" class=\"data row0 col6\" >1.0000</td>\n",
       "    </tr>\n",
       "    <tr>\n",
       "      <th id=\"T_9dfc1_level0_row1\" class=\"row_heading level0 row1\" >1</th>\n",
       "      <td id=\"T_9dfc1_row1_col0\" class=\"data row1 col0\" >1.0000</td>\n",
       "      <td id=\"T_9dfc1_row1_col1\" class=\"data row1 col1\" >1.0000</td>\n",
       "      <td id=\"T_9dfc1_row1_col2\" class=\"data row1 col2\" >1.0000</td>\n",
       "      <td id=\"T_9dfc1_row1_col3\" class=\"data row1 col3\" >1.0000</td>\n",
       "      <td id=\"T_9dfc1_row1_col4\" class=\"data row1 col4\" >1.0000</td>\n",
       "      <td id=\"T_9dfc1_row1_col5\" class=\"data row1 col5\" >1.0000</td>\n",
       "      <td id=\"T_9dfc1_row1_col6\" class=\"data row1 col6\" >1.0000</td>\n",
       "    </tr>\n",
       "    <tr>\n",
       "      <th id=\"T_9dfc1_level0_row2\" class=\"row_heading level0 row2\" >2</th>\n",
       "      <td id=\"T_9dfc1_row2_col0\" class=\"data row2 col0\" >1.0000</td>\n",
       "      <td id=\"T_9dfc1_row2_col1\" class=\"data row2 col1\" >1.0000</td>\n",
       "      <td id=\"T_9dfc1_row2_col2\" class=\"data row2 col2\" >1.0000</td>\n",
       "      <td id=\"T_9dfc1_row2_col3\" class=\"data row2 col3\" >1.0000</td>\n",
       "      <td id=\"T_9dfc1_row2_col4\" class=\"data row2 col4\" >1.0000</td>\n",
       "      <td id=\"T_9dfc1_row2_col5\" class=\"data row2 col5\" >1.0000</td>\n",
       "      <td id=\"T_9dfc1_row2_col6\" class=\"data row2 col6\" >1.0000</td>\n",
       "    </tr>\n",
       "    <tr>\n",
       "      <th id=\"T_9dfc1_level0_row3\" class=\"row_heading level0 row3\" >3</th>\n",
       "      <td id=\"T_9dfc1_row3_col0\" class=\"data row3 col0\" >1.0000</td>\n",
       "      <td id=\"T_9dfc1_row3_col1\" class=\"data row3 col1\" >1.0000</td>\n",
       "      <td id=\"T_9dfc1_row3_col2\" class=\"data row3 col2\" >1.0000</td>\n",
       "      <td id=\"T_9dfc1_row3_col3\" class=\"data row3 col3\" >1.0000</td>\n",
       "      <td id=\"T_9dfc1_row3_col4\" class=\"data row3 col4\" >1.0000</td>\n",
       "      <td id=\"T_9dfc1_row3_col5\" class=\"data row3 col5\" >1.0000</td>\n",
       "      <td id=\"T_9dfc1_row3_col6\" class=\"data row3 col6\" >1.0000</td>\n",
       "    </tr>\n",
       "    <tr>\n",
       "      <th id=\"T_9dfc1_level0_row4\" class=\"row_heading level0 row4\" >4</th>\n",
       "      <td id=\"T_9dfc1_row4_col0\" class=\"data row4 col0\" >1.0000</td>\n",
       "      <td id=\"T_9dfc1_row4_col1\" class=\"data row4 col1\" >1.0000</td>\n",
       "      <td id=\"T_9dfc1_row4_col2\" class=\"data row4 col2\" >1.0000</td>\n",
       "      <td id=\"T_9dfc1_row4_col3\" class=\"data row4 col3\" >1.0000</td>\n",
       "      <td id=\"T_9dfc1_row4_col4\" class=\"data row4 col4\" >1.0000</td>\n",
       "      <td id=\"T_9dfc1_row4_col5\" class=\"data row4 col5\" >1.0000</td>\n",
       "      <td id=\"T_9dfc1_row4_col6\" class=\"data row4 col6\" >1.0000</td>\n",
       "    </tr>\n",
       "    <tr>\n",
       "      <th id=\"T_9dfc1_level0_row5\" class=\"row_heading level0 row5\" >5</th>\n",
       "      <td id=\"T_9dfc1_row5_col0\" class=\"data row5 col0\" >1.0000</td>\n",
       "      <td id=\"T_9dfc1_row5_col1\" class=\"data row5 col1\" >1.0000</td>\n",
       "      <td id=\"T_9dfc1_row5_col2\" class=\"data row5 col2\" >1.0000</td>\n",
       "      <td id=\"T_9dfc1_row5_col3\" class=\"data row5 col3\" >1.0000</td>\n",
       "      <td id=\"T_9dfc1_row5_col4\" class=\"data row5 col4\" >1.0000</td>\n",
       "      <td id=\"T_9dfc1_row5_col5\" class=\"data row5 col5\" >1.0000</td>\n",
       "      <td id=\"T_9dfc1_row5_col6\" class=\"data row5 col6\" >1.0000</td>\n",
       "    </tr>\n",
       "    <tr>\n",
       "      <th id=\"T_9dfc1_level0_row6\" class=\"row_heading level0 row6\" >6</th>\n",
       "      <td id=\"T_9dfc1_row6_col0\" class=\"data row6 col0\" >1.0000</td>\n",
       "      <td id=\"T_9dfc1_row6_col1\" class=\"data row6 col1\" >1.0000</td>\n",
       "      <td id=\"T_9dfc1_row6_col2\" class=\"data row6 col2\" >1.0000</td>\n",
       "      <td id=\"T_9dfc1_row6_col3\" class=\"data row6 col3\" >1.0000</td>\n",
       "      <td id=\"T_9dfc1_row6_col4\" class=\"data row6 col4\" >1.0000</td>\n",
       "      <td id=\"T_9dfc1_row6_col5\" class=\"data row6 col5\" >1.0000</td>\n",
       "      <td id=\"T_9dfc1_row6_col6\" class=\"data row6 col6\" >1.0000</td>\n",
       "    </tr>\n",
       "    <tr>\n",
       "      <th id=\"T_9dfc1_level0_row7\" class=\"row_heading level0 row7\" >7</th>\n",
       "      <td id=\"T_9dfc1_row7_col0\" class=\"data row7 col0\" >1.0000</td>\n",
       "      <td id=\"T_9dfc1_row7_col1\" class=\"data row7 col1\" >1.0000</td>\n",
       "      <td id=\"T_9dfc1_row7_col2\" class=\"data row7 col2\" >1.0000</td>\n",
       "      <td id=\"T_9dfc1_row7_col3\" class=\"data row7 col3\" >1.0000</td>\n",
       "      <td id=\"T_9dfc1_row7_col4\" class=\"data row7 col4\" >1.0000</td>\n",
       "      <td id=\"T_9dfc1_row7_col5\" class=\"data row7 col5\" >1.0000</td>\n",
       "      <td id=\"T_9dfc1_row7_col6\" class=\"data row7 col6\" >1.0000</td>\n",
       "    </tr>\n",
       "    <tr>\n",
       "      <th id=\"T_9dfc1_level0_row8\" class=\"row_heading level0 row8\" >8</th>\n",
       "      <td id=\"T_9dfc1_row8_col0\" class=\"data row8 col0\" >1.0000</td>\n",
       "      <td id=\"T_9dfc1_row8_col1\" class=\"data row8 col1\" >1.0000</td>\n",
       "      <td id=\"T_9dfc1_row8_col2\" class=\"data row8 col2\" >1.0000</td>\n",
       "      <td id=\"T_9dfc1_row8_col3\" class=\"data row8 col3\" >1.0000</td>\n",
       "      <td id=\"T_9dfc1_row8_col4\" class=\"data row8 col4\" >1.0000</td>\n",
       "      <td id=\"T_9dfc1_row8_col5\" class=\"data row8 col5\" >1.0000</td>\n",
       "      <td id=\"T_9dfc1_row8_col6\" class=\"data row8 col6\" >1.0000</td>\n",
       "    </tr>\n",
       "    <tr>\n",
       "      <th id=\"T_9dfc1_level0_row9\" class=\"row_heading level0 row9\" >9</th>\n",
       "      <td id=\"T_9dfc1_row9_col0\" class=\"data row9 col0\" >1.0000</td>\n",
       "      <td id=\"T_9dfc1_row9_col1\" class=\"data row9 col1\" >1.0000</td>\n",
       "      <td id=\"T_9dfc1_row9_col2\" class=\"data row9 col2\" >1.0000</td>\n",
       "      <td id=\"T_9dfc1_row9_col3\" class=\"data row9 col3\" >1.0000</td>\n",
       "      <td id=\"T_9dfc1_row9_col4\" class=\"data row9 col4\" >1.0000</td>\n",
       "      <td id=\"T_9dfc1_row9_col5\" class=\"data row9 col5\" >1.0000</td>\n",
       "      <td id=\"T_9dfc1_row9_col6\" class=\"data row9 col6\" >1.0000</td>\n",
       "    </tr>\n",
       "    <tr>\n",
       "      <th id=\"T_9dfc1_level0_row10\" class=\"row_heading level0 row10\" >Mean</th>\n",
       "      <td id=\"T_9dfc1_row10_col0\" class=\"data row10 col0\" >1.0000</td>\n",
       "      <td id=\"T_9dfc1_row10_col1\" class=\"data row10 col1\" >1.0000</td>\n",
       "      <td id=\"T_9dfc1_row10_col2\" class=\"data row10 col2\" >1.0000</td>\n",
       "      <td id=\"T_9dfc1_row10_col3\" class=\"data row10 col3\" >1.0000</td>\n",
       "      <td id=\"T_9dfc1_row10_col4\" class=\"data row10 col4\" >1.0000</td>\n",
       "      <td id=\"T_9dfc1_row10_col5\" class=\"data row10 col5\" >1.0000</td>\n",
       "      <td id=\"T_9dfc1_row10_col6\" class=\"data row10 col6\" >1.0000</td>\n",
       "    </tr>\n",
       "    <tr>\n",
       "      <th id=\"T_9dfc1_level0_row11\" class=\"row_heading level0 row11\" >Std</th>\n",
       "      <td id=\"T_9dfc1_row11_col0\" class=\"data row11 col0\" >0.0000</td>\n",
       "      <td id=\"T_9dfc1_row11_col1\" class=\"data row11 col1\" >0.0000</td>\n",
       "      <td id=\"T_9dfc1_row11_col2\" class=\"data row11 col2\" >0.0000</td>\n",
       "      <td id=\"T_9dfc1_row11_col3\" class=\"data row11 col3\" >0.0000</td>\n",
       "      <td id=\"T_9dfc1_row11_col4\" class=\"data row11 col4\" >0.0000</td>\n",
       "      <td id=\"T_9dfc1_row11_col5\" class=\"data row11 col5\" >0.0000</td>\n",
       "      <td id=\"T_9dfc1_row11_col6\" class=\"data row11 col6\" >0.0000</td>\n",
       "    </tr>\n",
       "  </tbody>\n",
       "</table>\n"
      ],
      "text/plain": [
       "<pandas.io.formats.style.Styler at 0x7fb4c10a5e50>"
      ]
     },
     "metadata": {},
     "output_type": "display_data"
    }
   ],
   "source": [
    "# from pycaret.classification import *\n",
    "lr = create_model('lr')"
   ]
  },
  {
   "cell_type": "code",
   "execution_count": 57,
   "id": "038ffb09-cfb2-47d6-b950-608683df80ed",
   "metadata": {
    "tags": []
   },
   "outputs": [
    {
     "data": {
      "image/png": "[encoded data removed]",
      "text/plain": [
       "<Figure size 800x550 with 1 Axes>"
      ]
     },
     "metadata": {},
     "output_type": "display_data"
    }
   ],
   "source": [
    "plot_model(lr, plot = 'confusion_matrix')"
   ]
  },
  {
   "cell_type": "code",
   "execution_count": 58,
   "id": "4523ec49-4e67-4066-9a68-fb2ee1134cd0",
   "metadata": {
    "tags": []
   },
   "outputs": [
    {
     "data": {
      "text/html": [
       "<style type=\"text/css\">\n",
       "</style>\n",
       "<table id=\"T_a263b\">\n",
       "  <thead>\n",
       "    <tr>\n",
       "      <th class=\"blank level0\" >&nbsp;</th>\n",
       "      <th id=\"T_a263b_level0_col0\" class=\"col_heading level0 col0\" >Model</th>\n",
       "      <th id=\"T_a263b_level0_col1\" class=\"col_heading level0 col1\" >Accuracy</th>\n",
       "      <th id=\"T_a263b_level0_col2\" class=\"col_heading level0 col2\" >AUC</th>\n",
       "      <th id=\"T_a263b_level0_col3\" class=\"col_heading level0 col3\" >Recall</th>\n",
       "      <th id=\"T_a263b_level0_col4\" class=\"col_heading level0 col4\" >Prec.</th>\n",
       "      <th id=\"T_a263b_level0_col5\" class=\"col_heading level0 col5\" >F1</th>\n",
       "      <th id=\"T_a263b_level0_col6\" class=\"col_heading level0 col6\" >Kappa</th>\n",
       "      <th id=\"T_a263b_level0_col7\" class=\"col_heading level0 col7\" >MCC</th>\n",
       "    </tr>\n",
       "  </thead>\n",
       "  <tbody>\n",
       "    <tr>\n",
       "      <th id=\"T_a263b_level0_row0\" class=\"row_heading level0 row0\" >0</th>\n",
       "      <td id=\"T_a263b_row0_col0\" class=\"data row0 col0\" >Logistic Regression</td>\n",
       "      <td id=\"T_a263b_row0_col1\" class=\"data row0 col1\" >1.0000</td>\n",
       "      <td id=\"T_a263b_row0_col2\" class=\"data row0 col2\" >1.0000</td>\n",
       "      <td id=\"T_a263b_row0_col3\" class=\"data row0 col3\" >1.0000</td>\n",
       "      <td id=\"T_a263b_row0_col4\" class=\"data row0 col4\" >1.0000</td>\n",
       "      <td id=\"T_a263b_row0_col5\" class=\"data row0 col5\" >1.0000</td>\n",
       "      <td id=\"T_a263b_row0_col6\" class=\"data row0 col6\" >1.0000</td>\n",
       "      <td id=\"T_a263b_row0_col7\" class=\"data row0 col7\" >1.0000</td>\n",
       "    </tr>\n",
       "  </tbody>\n",
       "</table>\n"
      ],
      "text/plain": [
       "<pandas.io.formats.style.Styler at 0x7fb4c129c3a0>"
      ]
     },
     "metadata": {},
     "output_type": "display_data"
    }
   ],
   "source": [
    "pred_unseen = predict_model(lr, data = lda_test)"
   ]
  },
  {
   "cell_type": "code",
   "execution_count": 65,
   "id": "f9adbc7d-6cc4-4f36-834b-885dd0df05f0",
   "metadata": {
    "tags": []
   },
   "outputs": [
    {
     "name": "stdout",
     "output_type": "stream",
     "text": [
      "Model Succesfully Saved\n"
     ]
    },
    {
     "data": {
      "text/plain": [
       "(LogisticRegression(C=1.0, class_weight=None, dual=False, fit_intercept=True,\n",
       "                    intercept_scaling=1, l1_ratio=None, max_iter=1000,\n",
       "                    multi_class='auto', n_jobs=None, penalty='l2',\n",
       "                    random_state=733, solver='lbfgs', tol=0.0001, verbose=0,\n",
       "                    warm_start=False),\n",
       " 'saved_lr_model.pkl')"
      ]
     },
     "execution_count": 65,
     "metadata": {},
     "output_type": "execute_result"
    }
   ],
   "source": [
    "save_model(lr, 'saved_lr_model', verbose=True)"
   ]
  }
 ],
 "metadata": {
  "kernelspec": {
   "display_name": "pycaret",
   "language": "python",
   "name": "pycaret"
  },
  "language_info": {
   "codemirror_mode": {
    "name": "ipython",
    "version": 3
   },
   "file_extension": ".py",
   "mimetype": "text/x-python",
   "name": "python",
   "nbconvert_exporter": "python",
   "pygments_lexer": "ipython3",
   "version": "3.8.16"
  }
 },
 "nbformat": 4,
 "nbformat_minor": 5
}
