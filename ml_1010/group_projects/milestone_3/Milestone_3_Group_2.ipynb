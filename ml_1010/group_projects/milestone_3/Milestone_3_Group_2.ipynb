{
  "cells": [
    {
      "cell_type": "markdown",
      "metadata": {
        "id": "view-in-github",
        "colab_type": "text"
      },
      "source": [
        "<a href=\"https://colab.research.google.com/github/canxiu-zhang/ML_YUniv/blob/main/ml_1010/group_projects/milestone_3/Milestone_3_Group_2.ipynb\" target=\"_parent\"><img src=\"https://colab.research.google.com/assets/colab-badge.svg\" alt=\"Open In Colab\"/></a>"
      ]
    },
    {
      "cell_type": "markdown",
      "metadata": {
        "id": "4PcgTSjAj6ff"
      },
      "source": [
        "# Milestone 3"
      ]
    },
    {
      "cell_type": "markdown",
      "metadata": {
        "id": "B5nT3ynguoGv"
      },
      "source": [
        "## 1. EDA"
      ]
    },
    {
      "cell_type": "code",
      "execution_count": null,
      "metadata": {
        "id": "VRsL4skoSlpm"
      },
      "outputs": [],
      "source": [
        "import locale\n",
        "def getpreferredencoding(do_setlocale = True):\n",
        "    return \"UTF-8\"\n",
        "locale.getpreferredencoding = getpreferredencoding"
      ]
    },
    {
      "cell_type": "code",
      "execution_count": null,
      "metadata": {
        "colab": {
          "base_uri": "https://localhost:8080/"
        },
        "id": "S3ITtdVI6lf8",
        "outputId": "1ab03644-756c-41a5-ffa2-1a1ef6113573"
      },
      "outputs": [
        {
          "name": "stdout",
          "output_type": "stream",
          "text": [
            "Looking in indexes: https://pypi.org/simple, https://us-python.pkg.dev/colab-wheels/public/simple/\n",
            "Collecting contractions\n",
            "  Downloading contractions-0.1.73-py2.py3-none-any.whl (8.7 kB)\n",
            "Collecting textsearch>=0.0.21\n",
            "  Downloading textsearch-0.0.24-py2.py3-none-any.whl (7.6 kB)\n",
            "Collecting pyahocorasick\n",
            "  Downloading pyahocorasick-2.0.0-cp39-cp39-manylinux_2_5_x86_64.manylinux1_x86_64.whl (103 kB)\n",
            "\u001b[2K     \u001b[90m━━━━━━━━━━━━━━━━━━━━━━━━━━━━━━━━━━━━━━━\u001b[0m \u001b[32m103.2/103.2 kB\u001b[0m \u001b[31m3.2 MB/s\u001b[0m eta \u001b[36m0:00:00\u001b[0m\n",
            "\u001b[?25hCollecting anyascii\n",
            "  Downloading anyascii-0.3.2-py3-none-any.whl (289 kB)\n",
            "\u001b[2K     \u001b[90m━━━━━━━━━━━━━━━━━━━━━━━━━━━━━━━━━━━━━━\u001b[0m \u001b[32m289.9/289.9 kB\u001b[0m \u001b[31m12.0 MB/s\u001b[0m eta \u001b[36m0:00:00\u001b[0m\n",
            "\u001b[?25hInstalling collected packages: pyahocorasick, anyascii, textsearch, contractions\n",
            "Successfully installed anyascii-0.3.2 contractions-0.1.73 pyahocorasick-2.0.0 textsearch-0.0.24\n",
            "Looking in indexes: https://pypi.org/simple, https://us-python.pkg.dev/colab-wheels/public/simple/\n",
            "\u001b[31mERROR: Could not find a version that satisfies the requirement unicodedata (from versions: none)\u001b[0m\u001b[31m\n",
            "\u001b[0m\u001b[31mERROR: No matching distribution found for unicodedata\u001b[0m\u001b[31m\n",
            "\u001b[0mLooking in indexes: https://pypi.org/simple, https://us-python.pkg.dev/colab-wheels/public/simple/\n",
            "Collecting scikit-multilearn\n",
            "  Downloading scikit_multilearn-0.2.0-py3-none-any.whl (89 kB)\n",
            "\u001b[2K     \u001b[90m━━━━━━━━━━━━━━━━━━━━━━━━━━━━━━━━━━━━━━━━\u001b[0m \u001b[32m89.4/89.4 kB\u001b[0m \u001b[31m2.4 MB/s\u001b[0m eta \u001b[36m0:00:00\u001b[0m\n",
            "\u001b[?25hInstalling collected packages: scikit-multilearn\n",
            "Successfully installed scikit-multilearn-0.2.0\n"
          ]
        }
      ],
      "source": [
        "!pip install contractions\n",
        "!pip install unicodedata\n",
        "!pip install scikit-multilearn"
      ]
    },
    {
      "cell_type": "code",
      "execution_count": null,
      "metadata": {
        "colab": {
          "base_uri": "https://localhost:8080/"
        },
        "id": "I1scMCvNk0V8",
        "outputId": "c74aa32c-85bd-42ba-8ce6-a33a5688b613"
      },
      "outputs": [
        {
          "name": "stdout",
          "output_type": "stream",
          "text": [
            "Pretty printing has been turned OFF\n"
          ]
        }
      ],
      "source": [
        "import os\n",
        "import csv\n",
        "import pandas as pd\n",
        "import numpy as np\n",
        "import matplotlib.pyplot as plt\n",
        "import spacy\n",
        "import contractions\n",
        "import unicodedata\n",
        "import pprint\n",
        "%pprint"
      ]
    },
    {
      "cell_type": "code",
      "execution_count": null,
      "metadata": {
        "id": "dqHjOo68YyIK"
      },
      "outputs": [],
      "source": [
        "df = pd.read_csv('tmdb_movies_data.csv')"
      ]
    },
    {
      "cell_type": "markdown",
      "metadata": {
        "id": "-NZ68NvxuxqK"
      },
      "source": [
        "### Parse top 5 genres in a column into a binary vector"
      ]
    },
    {
      "cell_type": "code",
      "execution_count": null,
      "metadata": {
        "colab": {
          "base_uri": "https://localhost:8080/"
        },
        "id": "RoG-dRrvW_en",
        "outputId": "0c8fac20-e46b-424a-f932-687bcd28992d"
      },
      "outputs": [
        {
          "name": "stdout",
          "output_type": "stream",
          "text": [
            "       id                                           overview  \\\n",
            "0  135397  Twenty-two years after the events of Jurassic ...   \n",
            "1   76341  An apocalyptic story set in the furthest reach...   \n",
            "2  262500  Beatrice Prior must confront her inner demons ...   \n",
            "3  140607  Thirty years after defeating the Galactic Empi...   \n",
            "4  168259  Deckard Shaw seeks revenge against Dominic Tor...   \n",
            "\n",
            "                                      genres  Action  Comedy  Drama  Thriller  \\\n",
            "0  Action|Adventure|Science Fiction|Thriller       1       0      0         1   \n",
            "1  Action|Adventure|Science Fiction|Thriller       1       0      0         1   \n",
            "2         Adventure|Science Fiction|Thriller       0       0      0         1   \n",
            "3   Action|Adventure|Science Fiction|Fantasy       1       0      0         0   \n",
            "4                      Action|Crime|Thriller       1       0      0         1   \n",
            "\n",
            "   Romance  \n",
            "0        0  \n",
            "1        0  \n",
            "2        0  \n",
            "3        0  \n",
            "4        0  \n"
          ]
        }
      ],
      "source": [
        "# Identify the column that contains the multiple genre labels\n",
        "genre_column = 'genres'\n",
        "\n",
        "# Create a list of all possible genre labels in your dataset\n",
        "all_genres = ['Action', 'Comedy', 'Drama', 'Thriller', 'Romance']\n",
        "\n",
        "# Use get_dummies() to convert the genre column into binary columns\n",
        "genre_dummies = df[genre_column].str.get_dummies(sep='|').reindex(columns=all_genres, fill_value=1)\n",
        "\n",
        "# Merge the new DataFrame with the original DataFrame\n",
        "merged_df = pd.concat([df, genre_dummies], axis=1)\n",
        "\n",
        "# Drop columns from the DataFrame\n",
        "merged_df.drop(['imdb_id', 'popularity', 'budget', 'revenue', 'original_title', 'cast', 'homepage', 'director', 'tagline', 'keywords', 'runtime', 'production_companies', 'release_date', 'vote_count', 'vote_average', 'release_year', 'budget_adj', 'revenue_adj'], axis=1, inplace=True)\n",
        "\n",
        "# Print the new DataFrame\n",
        "print(merged_df.head())"
      ]
    },
    {
      "cell_type": "code",
      "execution_count": null,
      "metadata": {
        "colab": {
          "base_uri": "https://localhost:8080/"
        },
        "id": "6GKqJSJRmgJq",
        "outputId": "1e3fd925-00d1-4ea1-a47a-a9a5b809976e"
      },
      "outputs": [
        {
          "name": "stdout",
          "output_type": "stream",
          "text": [
            "id           0\n",
            "overview     4\n",
            "genres      23\n",
            "Action       0\n",
            "Comedy       0\n",
            "Drama        0\n",
            "Thriller     0\n",
            "Romance      0\n",
            "dtype: int64\n"
          ]
        }
      ],
      "source": [
        "missing_values_check = merged_df.isnull().sum()\n",
        "print(missing_values_check)"
      ]
    },
    {
      "cell_type": "code",
      "execution_count": null,
      "metadata": {
        "colab": {
          "base_uri": "https://localhost:8080/"
        },
        "id": "k3vOVRm-bOA-",
        "outputId": "87b1f9ce-408a-411b-9b03-978ef2aaea01"
      },
      "outputs": [
        {
          "name": "stdout",
          "output_type": "stream",
          "text": [
            "['Action', 'Comedy', 'Drama', 'Thriller', 'Romance']\n"
          ]
        }
      ],
      "source": [
        "categories = list(merged_df.columns.values)\n",
        "categories = categories[3:]\n",
        "print(categories)"
      ]
    },
    {
      "cell_type": "code",
      "execution_count": null,
      "metadata": {
        "colab": {
          "base_uri": "https://localhost:8080/",
          "height": 206
        },
        "id": "okfXO5XUeSv8",
        "outputId": "c39d6aa0-3c35-452b-f75c-eab6dab27c1c"
      },
      "outputs": [
        {
          "data": {
            "text/html": [
              "\n",
              "  <div id=\"df-110d72fc-1a86-473b-a6d0-8184e18bd42e\">\n",
              "    <div class=\"colab-df-container\">\n",
              "      <div>\n",
              "<style scoped>\n",
              "    .dataframe tbody tr th:only-of-type {\n",
              "        vertical-align: middle;\n",
              "    }\n",
              "\n",
              "    .dataframe tbody tr th {\n",
              "        vertical-align: top;\n",
              "    }\n",
              "\n",
              "    .dataframe thead th {\n",
              "        text-align: right;\n",
              "    }\n",
              "</style>\n",
              "<table border=\"1\" class=\"dataframe\">\n",
              "  <thead>\n",
              "    <tr style=\"text-align: right;\">\n",
              "      <th></th>\n",
              "      <th>category</th>\n",
              "      <th>number of overviews</th>\n",
              "    </tr>\n",
              "  </thead>\n",
              "  <tbody>\n",
              "    <tr>\n",
              "      <th>0</th>\n",
              "      <td>Action</td>\n",
              "      <td>2385</td>\n",
              "    </tr>\n",
              "    <tr>\n",
              "      <th>1</th>\n",
              "      <td>Comedy</td>\n",
              "      <td>3793</td>\n",
              "    </tr>\n",
              "    <tr>\n",
              "      <th>2</th>\n",
              "      <td>Drama</td>\n",
              "      <td>4761</td>\n",
              "    </tr>\n",
              "    <tr>\n",
              "      <th>3</th>\n",
              "      <td>Thriller</td>\n",
              "      <td>2908</td>\n",
              "    </tr>\n",
              "    <tr>\n",
              "      <th>4</th>\n",
              "      <td>Romance</td>\n",
              "      <td>1712</td>\n",
              "    </tr>\n",
              "  </tbody>\n",
              "</table>\n",
              "</div>\n",
              "      <button class=\"colab-df-convert\" onclick=\"convertToInteractive('df-110d72fc-1a86-473b-a6d0-8184e18bd42e')\"\n",
              "              title=\"Convert this dataframe to an interactive table.\"\n",
              "              style=\"display:none;\">\n",
              "        \n",
              "  <svg xmlns=\"http://www.w3.org/2000/svg\" height=\"24px\"viewBox=\"0 0 24 24\"\n",
              "       width=\"24px\">\n",
              "    <path d=\"M0 0h24v24H0V0z\" fill=\"none\"/>\n",
              "    <path d=\"M18.56 5.44l.94 2.06.94-2.06 2.06-.94-2.06-.94-.94-2.06-.94 2.06-2.06.94zm-11 1L8.5 8.5l.94-2.06 2.06-.94-2.06-.94L8.5 2.5l-.94 2.06-2.06.94zm10 10l.94 2.06.94-2.06 2.06-.94-2.06-.94-.94-2.06-.94 2.06-2.06.94z\"/><path d=\"M17.41 7.96l-1.37-1.37c-.4-.4-.92-.59-1.43-.59-.52 0-1.04.2-1.43.59L10.3 9.45l-7.72 7.72c-.78.78-.78 2.05 0 2.83L4 21.41c.39.39.9.59 1.41.59.51 0 1.02-.2 1.41-.59l7.78-7.78 2.81-2.81c.8-.78.8-2.07 0-2.86zM5.41 20L4 18.59l7.72-7.72 1.47 1.35L5.41 20z\"/>\n",
              "  </svg>\n",
              "      </button>\n",
              "      \n",
              "  <style>\n",
              "    .colab-df-container {\n",
              "      display:flex;\n",
              "      flex-wrap:wrap;\n",
              "      gap: 12px;\n",
              "    }\n",
              "\n",
              "    .colab-df-convert {\n",
              "      background-color: #E8F0FE;\n",
              "      border: none;\n",
              "      border-radius: 50%;\n",
              "      cursor: pointer;\n",
              "      display: none;\n",
              "      fill: #1967D2;\n",
              "      height: 32px;\n",
              "      padding: 0 0 0 0;\n",
              "      width: 32px;\n",
              "    }\n",
              "\n",
              "    .colab-df-convert:hover {\n",
              "      background-color: #E2EBFA;\n",
              "      box-shadow: 0px 1px 2px rgba(60, 64, 67, 0.3), 0px 1px 3px 1px rgba(60, 64, 67, 0.15);\n",
              "      fill: #174EA6;\n",
              "    }\n",
              "\n",
              "    [theme=dark] .colab-df-convert {\n",
              "      background-color: #3B4455;\n",
              "      fill: #D2E3FC;\n",
              "    }\n",
              "\n",
              "    [theme=dark] .colab-df-convert:hover {\n",
              "      background-color: #434B5C;\n",
              "      box-shadow: 0px 1px 3px 1px rgba(0, 0, 0, 0.15);\n",
              "      filter: drop-shadow(0px 1px 2px rgba(0, 0, 0, 0.3));\n",
              "      fill: #FFFFFF;\n",
              "    }\n",
              "  </style>\n",
              "\n",
              "      <script>\n",
              "        const buttonEl =\n",
              "          document.querySelector('#df-110d72fc-1a86-473b-a6d0-8184e18bd42e button.colab-df-convert');\n",
              "        buttonEl.style.display =\n",
              "          google.colab.kernel.accessAllowed ? 'block' : 'none';\n",
              "\n",
              "        async function convertToInteractive(key) {\n",
              "          const element = document.querySelector('#df-110d72fc-1a86-473b-a6d0-8184e18bd42e');\n",
              "          const dataTable =\n",
              "            await google.colab.kernel.invokeFunction('convertToInteractive',\n",
              "                                                     [key], {});\n",
              "          if (!dataTable) return;\n",
              "\n",
              "          const docLinkHtml = 'Like what you see? Visit the ' +\n",
              "            '<a target=\"_blank\" href=https://colab.research.google.com/notebooks/data_table.ipynb>data table notebook</a>'\n",
              "            + ' to learn more about interactive tables.';\n",
              "          element.innerHTML = '';\n",
              "          dataTable['output_type'] = 'display_data';\n",
              "          await google.colab.output.renderOutput(dataTable, element);\n",
              "          const docLink = document.createElement('div');\n",
              "          docLink.innerHTML = docLinkHtml;\n",
              "          element.appendChild(docLink);\n",
              "        }\n",
              "      </script>\n",
              "    </div>\n",
              "  </div>\n",
              "  "
            ],
            "text/plain": [
              "   category  number of overviews\n",
              "0    Action                 2385\n",
              "1    Comedy                 3793\n",
              "2     Drama                 4761\n",
              "3  Thriller                 2908\n",
              "4   Romance                 1712"
            ]
          },
          "execution_count": 9,
          "metadata": {},
          "output_type": "execute_result"
        }
      ],
      "source": [
        "# Calculating number of comments in each category\n",
        "\n",
        "counts = []\n",
        "for category in categories:\n",
        "    counts.append((category, merged_df[category].sum()))\n",
        "df_stats = pd.DataFrame(counts, columns=['category', 'number of overviews'])\n",
        "df_stats"
      ]
    },
    {
      "cell_type": "markdown",
      "metadata": {
        "id": "7wrvB4wCvV2i"
      },
      "source": [
        "## 2. Data Pre-Processing"
      ]
    },
    {
      "cell_type": "code",
      "execution_count": null,
      "metadata": {
        "colab": {
          "base_uri": "https://localhost:8080/"
        },
        "id": "3ks3m3VOfxBt",
        "outputId": "d74c0a49-2104-45ca-d51b-185e516941b6"
      },
      "outputs": [
        {
          "data": {
            "text/plain": [
              "(10866, 8)"
            ]
          },
          "execution_count": 10,
          "metadata": {},
          "output_type": "execute_result"
        }
      ],
      "source": [
        "data = merged_df\n",
        "data.shape"
      ]
    },
    {
      "cell_type": "code",
      "execution_count": null,
      "metadata": {
        "id": "PIPsQ-ysf38m"
      },
      "outputs": [],
      "source": [
        "import nltk\n",
        "from nltk.corpus import stopwords\n",
        "from nltk.stem.snowball import SnowballStemmer\n",
        "import re\n",
        "\n",
        "import sys\n",
        "import warnings\n",
        "\n",
        "if not sys.warnoptions:\n",
        "    warnings.simplefilter(\"ignore\")"
      ]
    },
    {
      "cell_type": "markdown",
      "metadata": {
        "id": "Cn39Kc_YvboA"
      },
      "source": [
        "### Cleaning Data"
      ]
    },
    {
      "cell_type": "code",
      "execution_count": null,
      "metadata": {
        "id": "oFY5eSjZf9f0"
      },
      "outputs": [],
      "source": [
        "def cleanHtml(sentence):\n",
        "    cleanr = re.compile('<.*?>')\n",
        "    cleantext = re.sub(cleanr, ' ', str(sentence))\n",
        "    return cleantext\n",
        "\n",
        "\n",
        "def cleanPunc(sentence): #function to clean the word of any punctuation or special characters\n",
        "    cleaned = re.sub(r'[?|!|\\'|\"|#]',r'',sentence)\n",
        "    cleaned = re.sub(r'[.|,|)|(|\\|/]',r' ',cleaned)\n",
        "    cleaned = cleaned.strip()\n",
        "    cleaned = cleaned.replace(\"\\n\",\" \")\n",
        "    return cleaned\n",
        "\n",
        "\n",
        "def keepAlpha(sentence):\n",
        "    alpha_sent = \"\"\n",
        "    for word in sentence.split():\n",
        "        alpha_word = re.sub('[^a-z A-Z]+', ' ', word)\n",
        "        alpha_sent += alpha_word\n",
        "        alpha_sent += \" \"\n",
        "    alpha_sent = alpha_sent.strip()\n",
        "    return alpha_sent\n",
        "\n",
        "def removeSpecial(sentence):\n",
        "    # Remove special characters using regular expression\n",
        "    clean_text = re.sub(r'[^\\w\\s]', '', sentence)\n",
        "    return clean_text\n",
        "\n",
        "def removeAccent(sentence):\n",
        "    # Remove accent characters using the unicodedata module\n",
        "    no_accent_text = ''.join(char for char in unicodedata.normalize('NFD', sentence) if unicodedata.category(char) != 'Mn')\n",
        "    return no_accent_text\n",
        "\n",
        "def removeContraction(sentence):\n",
        "    # Expand contractions using contractions library\n",
        "    expanded_text = contractions.fix(sentence)\n",
        "    return expanded_text"
      ]
    },
    {
      "cell_type": "code",
      "execution_count": null,
      "metadata": {
        "colab": {
          "base_uri": "https://localhost:8080/",
          "height": 424
        },
        "id": "47VpakS1f-YJ",
        "outputId": "0c486f6d-e04d-4fbf-9089-91b6ac2e0225"
      },
      "outputs": [
        {
          "data": {
            "text/html": [
              "\n",
              "  <div id=\"df-0f8d7ac6-61cb-42e4-a105-1bd0e88d6337\">\n",
              "    <div class=\"colab-df-container\">\n",
              "      <div>\n",
              "<style scoped>\n",
              "    .dataframe tbody tr th:only-of-type {\n",
              "        vertical-align: middle;\n",
              "    }\n",
              "\n",
              "    .dataframe tbody tr th {\n",
              "        vertical-align: top;\n",
              "    }\n",
              "\n",
              "    .dataframe thead th {\n",
              "        text-align: right;\n",
              "    }\n",
              "</style>\n",
              "<table border=\"1\" class=\"dataframe\">\n",
              "  <thead>\n",
              "    <tr style=\"text-align: right;\">\n",
              "      <th></th>\n",
              "      <th>id</th>\n",
              "      <th>overview</th>\n",
              "      <th>genres</th>\n",
              "      <th>Action</th>\n",
              "      <th>Comedy</th>\n",
              "      <th>Drama</th>\n",
              "      <th>Thriller</th>\n",
              "      <th>Romance</th>\n",
              "    </tr>\n",
              "  </thead>\n",
              "  <tbody>\n",
              "    <tr>\n",
              "      <th>0</th>\n",
              "      <td>135397</td>\n",
              "      <td>twenty two years after the events of jurassic ...</td>\n",
              "      <td>Action|Adventure|Science Fiction|Thriller</td>\n",
              "      <td>1</td>\n",
              "      <td>0</td>\n",
              "      <td>0</td>\n",
              "      <td>1</td>\n",
              "      <td>0</td>\n",
              "    </tr>\n",
              "    <tr>\n",
              "      <th>1</th>\n",
              "      <td>76341</td>\n",
              "      <td>an apocalyptic story set in the furthest reach...</td>\n",
              "      <td>Action|Adventure|Science Fiction|Thriller</td>\n",
              "      <td>1</td>\n",
              "      <td>0</td>\n",
              "      <td>0</td>\n",
              "      <td>1</td>\n",
              "      <td>0</td>\n",
              "    </tr>\n",
              "    <tr>\n",
              "      <th>2</th>\n",
              "      <td>262500</td>\n",
              "      <td>beatrice prior must confront her inner demons ...</td>\n",
              "      <td>Adventure|Science Fiction|Thriller</td>\n",
              "      <td>0</td>\n",
              "      <td>0</td>\n",
              "      <td>0</td>\n",
              "      <td>1</td>\n",
              "      <td>0</td>\n",
              "    </tr>\n",
              "    <tr>\n",
              "      <th>3</th>\n",
              "      <td>140607</td>\n",
              "      <td>thirty years after defeating the galactic empi...</td>\n",
              "      <td>Action|Adventure|Science Fiction|Fantasy</td>\n",
              "      <td>1</td>\n",
              "      <td>0</td>\n",
              "      <td>0</td>\n",
              "      <td>0</td>\n",
              "      <td>0</td>\n",
              "    </tr>\n",
              "    <tr>\n",
              "      <th>4</th>\n",
              "      <td>168259</td>\n",
              "      <td>deckard shaw seeks revenge against dominic tor...</td>\n",
              "      <td>Action|Crime|Thriller</td>\n",
              "      <td>1</td>\n",
              "      <td>0</td>\n",
              "      <td>0</td>\n",
              "      <td>1</td>\n",
              "      <td>0</td>\n",
              "    </tr>\n",
              "  </tbody>\n",
              "</table>\n",
              "</div>\n",
              "      <button class=\"colab-df-convert\" onclick=\"convertToInteractive('df-0f8d7ac6-61cb-42e4-a105-1bd0e88d6337')\"\n",
              "              title=\"Convert this dataframe to an interactive table.\"\n",
              "              style=\"display:none;\">\n",
              "        \n",
              "  <svg xmlns=\"http://www.w3.org/2000/svg\" height=\"24px\"viewBox=\"0 0 24 24\"\n",
              "       width=\"24px\">\n",
              "    <path d=\"M0 0h24v24H0V0z\" fill=\"none\"/>\n",
              "    <path d=\"M18.56 5.44l.94 2.06.94-2.06 2.06-.94-2.06-.94-.94-2.06-.94 2.06-2.06.94zm-11 1L8.5 8.5l.94-2.06 2.06-.94-2.06-.94L8.5 2.5l-.94 2.06-2.06.94zm10 10l.94 2.06.94-2.06 2.06-.94-2.06-.94-.94-2.06-.94 2.06-2.06.94z\"/><path d=\"M17.41 7.96l-1.37-1.37c-.4-.4-.92-.59-1.43-.59-.52 0-1.04.2-1.43.59L10.3 9.45l-7.72 7.72c-.78.78-.78 2.05 0 2.83L4 21.41c.39.39.9.59 1.41.59.51 0 1.02-.2 1.41-.59l7.78-7.78 2.81-2.81c.8-.78.8-2.07 0-2.86zM5.41 20L4 18.59l7.72-7.72 1.47 1.35L5.41 20z\"/>\n",
              "  </svg>\n",
              "      </button>\n",
              "      \n",
              "  <style>\n",
              "    .colab-df-container {\n",
              "      display:flex;\n",
              "      flex-wrap:wrap;\n",
              "      gap: 12px;\n",
              "    }\n",
              "\n",
              "    .colab-df-convert {\n",
              "      background-color: #E8F0FE;\n",
              "      border: none;\n",
              "      border-radius: 50%;\n",
              "      cursor: pointer;\n",
              "      display: none;\n",
              "      fill: #1967D2;\n",
              "      height: 32px;\n",
              "      padding: 0 0 0 0;\n",
              "      width: 32px;\n",
              "    }\n",
              "\n",
              "    .colab-df-convert:hover {\n",
              "      background-color: #E2EBFA;\n",
              "      box-shadow: 0px 1px 2px rgba(60, 64, 67, 0.3), 0px 1px 3px 1px rgba(60, 64, 67, 0.15);\n",
              "      fill: #174EA6;\n",
              "    }\n",
              "\n",
              "    [theme=dark] .colab-df-convert {\n",
              "      background-color: #3B4455;\n",
              "      fill: #D2E3FC;\n",
              "    }\n",
              "\n",
              "    [theme=dark] .colab-df-convert:hover {\n",
              "      background-color: #434B5C;\n",
              "      box-shadow: 0px 1px 3px 1px rgba(0, 0, 0, 0.15);\n",
              "      filter: drop-shadow(0px 1px 2px rgba(0, 0, 0, 0.3));\n",
              "      fill: #FFFFFF;\n",
              "    }\n",
              "  </style>\n",
              "\n",
              "      <script>\n",
              "        const buttonEl =\n",
              "          document.querySelector('#df-0f8d7ac6-61cb-42e4-a105-1bd0e88d6337 button.colab-df-convert');\n",
              "        buttonEl.style.display =\n",
              "          google.colab.kernel.accessAllowed ? 'block' : 'none';\n",
              "\n",
              "        async function convertToInteractive(key) {\n",
              "          const element = document.querySelector('#df-0f8d7ac6-61cb-42e4-a105-1bd0e88d6337');\n",
              "          const dataTable =\n",
              "            await google.colab.kernel.invokeFunction('convertToInteractive',\n",
              "                                                     [key], {});\n",
              "          if (!dataTable) return;\n",
              "\n",
              "          const docLinkHtml = 'Like what you see? Visit the ' +\n",
              "            '<a target=\"_blank\" href=https://colab.research.google.com/notebooks/data_table.ipynb>data table notebook</a>'\n",
              "            + ' to learn more about interactive tables.';\n",
              "          element.innerHTML = '';\n",
              "          dataTable['output_type'] = 'display_data';\n",
              "          await google.colab.output.renderOutput(dataTable, element);\n",
              "          const docLink = document.createElement('div');\n",
              "          docLink.innerHTML = docLinkHtml;\n",
              "          element.appendChild(docLink);\n",
              "        }\n",
              "      </script>\n",
              "    </div>\n",
              "  </div>\n",
              "  "
            ],
            "text/plain": [
              "       id                                           overview  \\\n",
              "0  135397  twenty two years after the events of jurassic ...   \n",
              "1   76341  an apocalyptic story set in the furthest reach...   \n",
              "2  262500  beatrice prior must confront her inner demons ...   \n",
              "3  140607  thirty years after defeating the galactic empi...   \n",
              "4  168259  deckard shaw seeks revenge against dominic tor...   \n",
              "\n",
              "                                      genres  Action  Comedy  Drama  Thriller  \\\n",
              "0  Action|Adventure|Science Fiction|Thriller       1       0      0         1   \n",
              "1  Action|Adventure|Science Fiction|Thriller       1       0      0         1   \n",
              "2         Adventure|Science Fiction|Thriller       0       0      0         1   \n",
              "3   Action|Adventure|Science Fiction|Fantasy       1       0      0         0   \n",
              "4                      Action|Crime|Thriller       1       0      0         1   \n",
              "\n",
              "   Romance  \n",
              "0        0  \n",
              "1        0  \n",
              "2        0  \n",
              "3        0  \n",
              "4        0  "
            ]
          },
          "execution_count": 13,
          "metadata": {},
          "output_type": "execute_result"
        }
      ],
      "source": [
        "data['overview'] = data['overview'].str.lower()\n",
        "data['overview'] = data['overview'].apply(cleanHtml)\n",
        "data['overview'] = data['overview'].apply(cleanPunc)\n",
        "data['overview'] = data['overview'].apply(keepAlpha)\n",
        "data['overview'] = data['overview'].apply(removeSpecial)\n",
        "data['overview'] = data['overview'].apply(removeAccent)\n",
        "data['overview'] = data['overview'].apply(removeContraction)\n",
        "data.head()"
      ]
    },
    {
      "cell_type": "markdown",
      "metadata": {
        "id": "CFPr_dg0vls-"
      },
      "source": [
        "### Removing Stop Words"
      ]
    },
    {
      "cell_type": "code",
      "execution_count": null,
      "metadata": {
        "colab": {
          "base_uri": "https://localhost:8080/"
        },
        "id": "iFLNpWeZgdWr",
        "outputId": "31508fb1-306e-4c43-984e-054f277b76ec"
      },
      "outputs": [
        {
          "name": "stderr",
          "output_type": "stream",
          "text": [
            "[nltk_data] Downloading package stopwords to /root/nltk_data...\n",
            "[nltk_data]   Unzipping corpora/stopwords.zip.\n"
          ]
        },
        {
          "data": {
            "text/plain": [
              "True"
            ]
          },
          "execution_count": 14,
          "metadata": {},
          "output_type": "execute_result"
        }
      ],
      "source": [
        "import nltk\n",
        "nltk.download('stopwords')"
      ]
    },
    {
      "cell_type": "code",
      "execution_count": null,
      "metadata": {
        "colab": {
          "base_uri": "https://localhost:8080/",
          "height": 406
        },
        "id": "fALRmY8cgaPL",
        "outputId": "632b076d-0ba6-4384-9d66-7c4faad4114f"
      },
      "outputs": [
        {
          "data": {
            "text/html": [
              "\n",
              "  <div id=\"df-8433af16-9b98-443b-8417-f9f12eb04a98\">\n",
              "    <div class=\"colab-df-container\">\n",
              "      <div>\n",
              "<style scoped>\n",
              "    .dataframe tbody tr th:only-of-type {\n",
              "        vertical-align: middle;\n",
              "    }\n",
              "\n",
              "    .dataframe tbody tr th {\n",
              "        vertical-align: top;\n",
              "    }\n",
              "\n",
              "    .dataframe thead th {\n",
              "        text-align: right;\n",
              "    }\n",
              "</style>\n",
              "<table border=\"1\" class=\"dataframe\">\n",
              "  <thead>\n",
              "    <tr style=\"text-align: right;\">\n",
              "      <th></th>\n",
              "      <th>id</th>\n",
              "      <th>overview</th>\n",
              "      <th>genres</th>\n",
              "      <th>Action</th>\n",
              "      <th>Comedy</th>\n",
              "      <th>Drama</th>\n",
              "      <th>Thriller</th>\n",
              "      <th>Romance</th>\n",
              "    </tr>\n",
              "  </thead>\n",
              "  <tbody>\n",
              "    <tr>\n",
              "      <th>0</th>\n",
              "      <td>135397</td>\n",
              "      <td>twenty  years   events  jurassic park isla nub...</td>\n",
              "      <td>Action|Adventure|Science Fiction|Thriller</td>\n",
              "      <td>1</td>\n",
              "      <td>0</td>\n",
              "      <td>0</td>\n",
              "      <td>1</td>\n",
              "      <td>0</td>\n",
              "    </tr>\n",
              "    <tr>\n",
              "      <th>1</th>\n",
              "      <td>76341</td>\n",
              "      <td>apocalyptic story set   furthest reaches   pl...</td>\n",
              "      <td>Action|Adventure|Science Fiction|Thriller</td>\n",
              "      <td>1</td>\n",
              "      <td>0</td>\n",
              "      <td>0</td>\n",
              "      <td>1</td>\n",
              "      <td>0</td>\n",
              "    </tr>\n",
              "    <tr>\n",
              "      <th>2</th>\n",
              "      <td>262500</td>\n",
              "      <td>beatrice prior must confront  inner demons  co...</td>\n",
              "      <td>Adventure|Science Fiction|Thriller</td>\n",
              "      <td>0</td>\n",
              "      <td>0</td>\n",
              "      <td>0</td>\n",
              "      <td>1</td>\n",
              "      <td>0</td>\n",
              "    </tr>\n",
              "    <tr>\n",
              "      <th>3</th>\n",
              "      <td>140607</td>\n",
              "      <td>thirty years  defeating  galactic empire han s...</td>\n",
              "      <td>Action|Adventure|Science Fiction|Fantasy</td>\n",
              "      <td>1</td>\n",
              "      <td>0</td>\n",
              "      <td>0</td>\n",
              "      <td>0</td>\n",
              "      <td>0</td>\n",
              "    </tr>\n",
              "    <tr>\n",
              "      <th>4</th>\n",
              "      <td>168259</td>\n",
              "      <td>deckard shaw seeks revenge  dominic toretto   ...</td>\n",
              "      <td>Action|Crime|Thriller</td>\n",
              "      <td>1</td>\n",
              "      <td>0</td>\n",
              "      <td>0</td>\n",
              "      <td>1</td>\n",
              "      <td>0</td>\n",
              "    </tr>\n",
              "  </tbody>\n",
              "</table>\n",
              "</div>\n",
              "      <button class=\"colab-df-convert\" onclick=\"convertToInteractive('df-8433af16-9b98-443b-8417-f9f12eb04a98')\"\n",
              "              title=\"Convert this dataframe to an interactive table.\"\n",
              "              style=\"display:none;\">\n",
              "        \n",
              "  <svg xmlns=\"http://www.w3.org/2000/svg\" height=\"24px\"viewBox=\"0 0 24 24\"\n",
              "       width=\"24px\">\n",
              "    <path d=\"M0 0h24v24H0V0z\" fill=\"none\"/>\n",
              "    <path d=\"M18.56 5.44l.94 2.06.94-2.06 2.06-.94-2.06-.94-.94-2.06-.94 2.06-2.06.94zm-11 1L8.5 8.5l.94-2.06 2.06-.94-2.06-.94L8.5 2.5l-.94 2.06-2.06.94zm10 10l.94 2.06.94-2.06 2.06-.94-2.06-.94-.94-2.06-.94 2.06-2.06.94z\"/><path d=\"M17.41 7.96l-1.37-1.37c-.4-.4-.92-.59-1.43-.59-.52 0-1.04.2-1.43.59L10.3 9.45l-7.72 7.72c-.78.78-.78 2.05 0 2.83L4 21.41c.39.39.9.59 1.41.59.51 0 1.02-.2 1.41-.59l7.78-7.78 2.81-2.81c.8-.78.8-2.07 0-2.86zM5.41 20L4 18.59l7.72-7.72 1.47 1.35L5.41 20z\"/>\n",
              "  </svg>\n",
              "      </button>\n",
              "      \n",
              "  <style>\n",
              "    .colab-df-container {\n",
              "      display:flex;\n",
              "      flex-wrap:wrap;\n",
              "      gap: 12px;\n",
              "    }\n",
              "\n",
              "    .colab-df-convert {\n",
              "      background-color: #E8F0FE;\n",
              "      border: none;\n",
              "      border-radius: 50%;\n",
              "      cursor: pointer;\n",
              "      display: none;\n",
              "      fill: #1967D2;\n",
              "      height: 32px;\n",
              "      padding: 0 0 0 0;\n",
              "      width: 32px;\n",
              "    }\n",
              "\n",
              "    .colab-df-convert:hover {\n",
              "      background-color: #E2EBFA;\n",
              "      box-shadow: 0px 1px 2px rgba(60, 64, 67, 0.3), 0px 1px 3px 1px rgba(60, 64, 67, 0.15);\n",
              "      fill: #174EA6;\n",
              "    }\n",
              "\n",
              "    [theme=dark] .colab-df-convert {\n",
              "      background-color: #3B4455;\n",
              "      fill: #D2E3FC;\n",
              "    }\n",
              "\n",
              "    [theme=dark] .colab-df-convert:hover {\n",
              "      background-color: #434B5C;\n",
              "      box-shadow: 0px 1px 3px 1px rgba(0, 0, 0, 0.15);\n",
              "      filter: drop-shadow(0px 1px 2px rgba(0, 0, 0, 0.3));\n",
              "      fill: #FFFFFF;\n",
              "    }\n",
              "  </style>\n",
              "\n",
              "      <script>\n",
              "        const buttonEl =\n",
              "          document.querySelector('#df-8433af16-9b98-443b-8417-f9f12eb04a98 button.colab-df-convert');\n",
              "        buttonEl.style.display =\n",
              "          google.colab.kernel.accessAllowed ? 'block' : 'none';\n",
              "\n",
              "        async function convertToInteractive(key) {\n",
              "          const element = document.querySelector('#df-8433af16-9b98-443b-8417-f9f12eb04a98');\n",
              "          const dataTable =\n",
              "            await google.colab.kernel.invokeFunction('convertToInteractive',\n",
              "                                                     [key], {});\n",
              "          if (!dataTable) return;\n",
              "\n",
              "          const docLinkHtml = 'Like what you see? Visit the ' +\n",
              "            '<a target=\"_blank\" href=https://colab.research.google.com/notebooks/data_table.ipynb>data table notebook</a>'\n",
              "            + ' to learn more about interactive tables.';\n",
              "          element.innerHTML = '';\n",
              "          dataTable['output_type'] = 'display_data';\n",
              "          await google.colab.output.renderOutput(dataTable, element);\n",
              "          const docLink = document.createElement('div');\n",
              "          docLink.innerHTML = docLinkHtml;\n",
              "          element.appendChild(docLink);\n",
              "        }\n",
              "      </script>\n",
              "    </div>\n",
              "  </div>\n",
              "  "
            ],
            "text/plain": [
              "       id                                           overview  \\\n",
              "0  135397  twenty  years   events  jurassic park isla nub...   \n",
              "1   76341   apocalyptic story set   furthest reaches   pl...   \n",
              "2  262500  beatrice prior must confront  inner demons  co...   \n",
              "3  140607  thirty years  defeating  galactic empire han s...   \n",
              "4  168259  deckard shaw seeks revenge  dominic toretto   ...   \n",
              "\n",
              "                                      genres  Action  Comedy  Drama  Thriller  \\\n",
              "0  Action|Adventure|Science Fiction|Thriller       1       0      0         1   \n",
              "1  Action|Adventure|Science Fiction|Thriller       1       0      0         1   \n",
              "2         Adventure|Science Fiction|Thriller       0       0      0         1   \n",
              "3   Action|Adventure|Science Fiction|Fantasy       1       0      0         0   \n",
              "4                      Action|Crime|Thriller       1       0      0         1   \n",
              "\n",
              "   Romance  \n",
              "0        0  \n",
              "1        0  \n",
              "2        0  \n",
              "3        0  \n",
              "4        0  "
            ]
          },
          "execution_count": 15,
          "metadata": {},
          "output_type": "execute_result"
        }
      ],
      "source": [
        "stop_words = set(stopwords.words('english'))\n",
        "stop_words.update(['zero','one','two','three','four','five','six','seven','eight','nine','ten','may','also','across','among','beside','however','yet','within'])\n",
        "re_stop_words = re.compile(r\"\\b(\" + \"|\".join(stop_words) + \")\\\\W\", re.I)\n",
        "def removeStopWords(sentence):\n",
        "    global re_stop_words\n",
        "    return re_stop_words.sub(\" \", sentence)\n",
        "\n",
        "data['overview'] = data['overview'].apply(removeStopWords)\n",
        "data.head()"
      ]
    },
    {
      "cell_type": "markdown",
      "metadata": {
        "id": "xziHnDtKvsUu"
      },
      "source": [
        "### Stemming"
      ]
    },
    {
      "cell_type": "code",
      "execution_count": null,
      "metadata": {
        "colab": {
          "base_uri": "https://localhost:8080/",
          "height": 406
        },
        "id": "8jJii_c4g0nj",
        "outputId": "d9a61859-897c-4b80-f282-2696a6f4bb35"
      },
      "outputs": [
        {
          "data": {
            "text/html": [
              "\n",
              "  <div id=\"df-b73a03b0-d6e1-48bb-ae5e-02b7b858021b\">\n",
              "    <div class=\"colab-df-container\">\n",
              "      <div>\n",
              "<style scoped>\n",
              "    .dataframe tbody tr th:only-of-type {\n",
              "        vertical-align: middle;\n",
              "    }\n",
              "\n",
              "    .dataframe tbody tr th {\n",
              "        vertical-align: top;\n",
              "    }\n",
              "\n",
              "    .dataframe thead th {\n",
              "        text-align: right;\n",
              "    }\n",
              "</style>\n",
              "<table border=\"1\" class=\"dataframe\">\n",
              "  <thead>\n",
              "    <tr style=\"text-align: right;\">\n",
              "      <th></th>\n",
              "      <th>id</th>\n",
              "      <th>overview</th>\n",
              "      <th>genres</th>\n",
              "      <th>Action</th>\n",
              "      <th>Comedy</th>\n",
              "      <th>Drama</th>\n",
              "      <th>Thriller</th>\n",
              "      <th>Romance</th>\n",
              "    </tr>\n",
              "  </thead>\n",
              "  <tbody>\n",
              "    <tr>\n",
              "      <th>0</th>\n",
              "      <td>135397</td>\n",
              "      <td>twenty  years   events  jurassic park isla nub...</td>\n",
              "      <td>Action|Adventure|Science Fiction|Thriller</td>\n",
              "      <td>1</td>\n",
              "      <td>0</td>\n",
              "      <td>0</td>\n",
              "      <td>1</td>\n",
              "      <td>0</td>\n",
              "    </tr>\n",
              "    <tr>\n",
              "      <th>1</th>\n",
              "      <td>76341</td>\n",
              "      <td>apocalyptic story set   furthest reaches   pl...</td>\n",
              "      <td>Action|Adventure|Science Fiction|Thriller</td>\n",
              "      <td>1</td>\n",
              "      <td>0</td>\n",
              "      <td>0</td>\n",
              "      <td>1</td>\n",
              "      <td>0</td>\n",
              "    </tr>\n",
              "    <tr>\n",
              "      <th>2</th>\n",
              "      <td>262500</td>\n",
              "      <td>beatrice prior must confront  inner demons  co...</td>\n",
              "      <td>Adventure|Science Fiction|Thriller</td>\n",
              "      <td>0</td>\n",
              "      <td>0</td>\n",
              "      <td>0</td>\n",
              "      <td>1</td>\n",
              "      <td>0</td>\n",
              "    </tr>\n",
              "    <tr>\n",
              "      <th>3</th>\n",
              "      <td>140607</td>\n",
              "      <td>thirty years  defeating  galactic empire han s...</td>\n",
              "      <td>Action|Adventure|Science Fiction|Fantasy</td>\n",
              "      <td>1</td>\n",
              "      <td>0</td>\n",
              "      <td>0</td>\n",
              "      <td>0</td>\n",
              "      <td>0</td>\n",
              "    </tr>\n",
              "    <tr>\n",
              "      <th>4</th>\n",
              "      <td>168259</td>\n",
              "      <td>deckard shaw seeks revenge  dominic toretto   ...</td>\n",
              "      <td>Action|Crime|Thriller</td>\n",
              "      <td>1</td>\n",
              "      <td>0</td>\n",
              "      <td>0</td>\n",
              "      <td>1</td>\n",
              "      <td>0</td>\n",
              "    </tr>\n",
              "  </tbody>\n",
              "</table>\n",
              "</div>\n",
              "      <button class=\"colab-df-convert\" onclick=\"convertToInteractive('df-b73a03b0-d6e1-48bb-ae5e-02b7b858021b')\"\n",
              "              title=\"Convert this dataframe to an interactive table.\"\n",
              "              style=\"display:none;\">\n",
              "        \n",
              "  <svg xmlns=\"http://www.w3.org/2000/svg\" height=\"24px\"viewBox=\"0 0 24 24\"\n",
              "       width=\"24px\">\n",
              "    <path d=\"M0 0h24v24H0V0z\" fill=\"none\"/>\n",
              "    <path d=\"M18.56 5.44l.94 2.06.94-2.06 2.06-.94-2.06-.94-.94-2.06-.94 2.06-2.06.94zm-11 1L8.5 8.5l.94-2.06 2.06-.94-2.06-.94L8.5 2.5l-.94 2.06-2.06.94zm10 10l.94 2.06.94-2.06 2.06-.94-2.06-.94-.94-2.06-.94 2.06-2.06.94z\"/><path d=\"M17.41 7.96l-1.37-1.37c-.4-.4-.92-.59-1.43-.59-.52 0-1.04.2-1.43.59L10.3 9.45l-7.72 7.72c-.78.78-.78 2.05 0 2.83L4 21.41c.39.39.9.59 1.41.59.51 0 1.02-.2 1.41-.59l7.78-7.78 2.81-2.81c.8-.78.8-2.07 0-2.86zM5.41 20L4 18.59l7.72-7.72 1.47 1.35L5.41 20z\"/>\n",
              "  </svg>\n",
              "      </button>\n",
              "      \n",
              "  <style>\n",
              "    .colab-df-container {\n",
              "      display:flex;\n",
              "      flex-wrap:wrap;\n",
              "      gap: 12px;\n",
              "    }\n",
              "\n",
              "    .colab-df-convert {\n",
              "      background-color: #E8F0FE;\n",
              "      border: none;\n",
              "      border-radius: 50%;\n",
              "      cursor: pointer;\n",
              "      display: none;\n",
              "      fill: #1967D2;\n",
              "      height: 32px;\n",
              "      padding: 0 0 0 0;\n",
              "      width: 32px;\n",
              "    }\n",
              "\n",
              "    .colab-df-convert:hover {\n",
              "      background-color: #E2EBFA;\n",
              "      box-shadow: 0px 1px 2px rgba(60, 64, 67, 0.3), 0px 1px 3px 1px rgba(60, 64, 67, 0.15);\n",
              "      fill: #174EA6;\n",
              "    }\n",
              "\n",
              "    [theme=dark] .colab-df-convert {\n",
              "      background-color: #3B4455;\n",
              "      fill: #D2E3FC;\n",
              "    }\n",
              "\n",
              "    [theme=dark] .colab-df-convert:hover {\n",
              "      background-color: #434B5C;\n",
              "      box-shadow: 0px 1px 3px 1px rgba(0, 0, 0, 0.15);\n",
              "      filter: drop-shadow(0px 1px 2px rgba(0, 0, 0, 0.3));\n",
              "      fill: #FFFFFF;\n",
              "    }\n",
              "  </style>\n",
              "\n",
              "      <script>\n",
              "        const buttonEl =\n",
              "          document.querySelector('#df-b73a03b0-d6e1-48bb-ae5e-02b7b858021b button.colab-df-convert');\n",
              "        buttonEl.style.display =\n",
              "          google.colab.kernel.accessAllowed ? 'block' : 'none';\n",
              "\n",
              "        async function convertToInteractive(key) {\n",
              "          const element = document.querySelector('#df-b73a03b0-d6e1-48bb-ae5e-02b7b858021b');\n",
              "          const dataTable =\n",
              "            await google.colab.kernel.invokeFunction('convertToInteractive',\n",
              "                                                     [key], {});\n",
              "          if (!dataTable) return;\n",
              "\n",
              "          const docLinkHtml = 'Like what you see? Visit the ' +\n",
              "            '<a target=\"_blank\" href=https://colab.research.google.com/notebooks/data_table.ipynb>data table notebook</a>'\n",
              "            + ' to learn more about interactive tables.';\n",
              "          element.innerHTML = '';\n",
              "          dataTable['output_type'] = 'display_data';\n",
              "          await google.colab.output.renderOutput(dataTable, element);\n",
              "          const docLink = document.createElement('div');\n",
              "          docLink.innerHTML = docLinkHtml;\n",
              "          element.appendChild(docLink);\n",
              "        }\n",
              "      </script>\n",
              "    </div>\n",
              "  </div>\n",
              "  "
            ],
            "text/plain": [
              "       id                                           overview  \\\n",
              "0  135397  twenty  years   events  jurassic park isla nub...   \n",
              "1   76341   apocalyptic story set   furthest reaches   pl...   \n",
              "2  262500  beatrice prior must confront  inner demons  co...   \n",
              "3  140607  thirty years  defeating  galactic empire han s...   \n",
              "4  168259  deckard shaw seeks revenge  dominic toretto   ...   \n",
              "\n",
              "                                      genres  Action  Comedy  Drama  Thriller  \\\n",
              "0  Action|Adventure|Science Fiction|Thriller       1       0      0         1   \n",
              "1  Action|Adventure|Science Fiction|Thriller       1       0      0         1   \n",
              "2         Adventure|Science Fiction|Thriller       0       0      0         1   \n",
              "3   Action|Adventure|Science Fiction|Fantasy       1       0      0         0   \n",
              "4                      Action|Crime|Thriller       1       0      0         1   \n",
              "\n",
              "   Romance  \n",
              "0        0  \n",
              "1        0  \n",
              "2        0  \n",
              "3        0  \n",
              "4        0  "
            ]
          },
          "execution_count": 16,
          "metadata": {},
          "output_type": "execute_result"
        }
      ],
      "source": [
        "stemmer = SnowballStemmer(\"english\")\n",
        "def stemming(sentence):\n",
        "    stemSentence = \"\"\n",
        "    for word in sentence.split():\n",
        "        stem = stemmer.stem(word)\n",
        "        stemSentence += stem\n",
        "        stemSentence += \" \"\n",
        "    stemSentence = stemSentence.strip()\n",
        "    return stemSentence\n",
        "\n",
        "# data['overview'] = data['overview'].apply(stemming)\n",
        "data.head()"
      ]
    },
    {
      "cell_type": "markdown",
      "metadata": {
        "id": "wb9GfqKd5yB7"
      },
      "source": [
        "### Lemmatization"
      ]
    },
    {
      "cell_type": "code",
      "execution_count": null,
      "metadata": {
        "colab": {
          "base_uri": "https://localhost:8080/",
          "height": 406
        },
        "id": "jXSnhsWM5xxb",
        "outputId": "3257a546-a90b-48b7-e00e-16eaa8bd7c07"
      },
      "outputs": [
        {
          "data": {
            "text/html": [
              "\n",
              "  <div id=\"df-628d02ce-f8e8-4417-8072-e56af61effb7\">\n",
              "    <div class=\"colab-df-container\">\n",
              "      <div>\n",
              "<style scoped>\n",
              "    .dataframe tbody tr th:only-of-type {\n",
              "        vertical-align: middle;\n",
              "    }\n",
              "\n",
              "    .dataframe tbody tr th {\n",
              "        vertical-align: top;\n",
              "    }\n",
              "\n",
              "    .dataframe thead th {\n",
              "        text-align: right;\n",
              "    }\n",
              "</style>\n",
              "<table border=\"1\" class=\"dataframe\">\n",
              "  <thead>\n",
              "    <tr style=\"text-align: right;\">\n",
              "      <th></th>\n",
              "      <th>id</th>\n",
              "      <th>overview</th>\n",
              "      <th>genres</th>\n",
              "      <th>Action</th>\n",
              "      <th>Comedy</th>\n",
              "      <th>Drama</th>\n",
              "      <th>Thriller</th>\n",
              "      <th>Romance</th>\n",
              "    </tr>\n",
              "  </thead>\n",
              "  <tbody>\n",
              "    <tr>\n",
              "      <th>0</th>\n",
              "      <td>135397</td>\n",
              "      <td>twenty  year  event  jurassic park isla nublar...</td>\n",
              "      <td>Action|Adventure|Science Fiction|Thriller</td>\n",
              "      <td>1</td>\n",
              "      <td>0</td>\n",
              "      <td>0</td>\n",
              "      <td>1</td>\n",
              "      <td>0</td>\n",
              "    </tr>\n",
              "    <tr>\n",
              "      <th>1</th>\n",
              "      <td>76341</td>\n",
              "      <td>apocalyptic story set  furth reach  planet  s...</td>\n",
              "      <td>Action|Adventure|Science Fiction|Thriller</td>\n",
              "      <td>1</td>\n",
              "      <td>0</td>\n",
              "      <td>0</td>\n",
              "      <td>1</td>\n",
              "      <td>0</td>\n",
              "    </tr>\n",
              "    <tr>\n",
              "      <th>2</th>\n",
              "      <td>262500</td>\n",
              "      <td>beatrice prior must confront  inner demon  con...</td>\n",
              "      <td>Adventure|Science Fiction|Thriller</td>\n",
              "      <td>0</td>\n",
              "      <td>0</td>\n",
              "      <td>0</td>\n",
              "      <td>1</td>\n",
              "      <td>0</td>\n",
              "    </tr>\n",
              "    <tr>\n",
              "      <th>3</th>\n",
              "      <td>140607</td>\n",
              "      <td>thirty year  defeat  galactic empire han solo ...</td>\n",
              "      <td>Action|Adventure|Science Fiction|Fantasy</td>\n",
              "      <td>1</td>\n",
              "      <td>0</td>\n",
              "      <td>0</td>\n",
              "      <td>0</td>\n",
              "      <td>0</td>\n",
              "    </tr>\n",
              "    <tr>\n",
              "      <th>4</th>\n",
              "      <td>168259</td>\n",
              "      <td>deckard shaw seek revenge  dominic toretto  fa...</td>\n",
              "      <td>Action|Crime|Thriller</td>\n",
              "      <td>1</td>\n",
              "      <td>0</td>\n",
              "      <td>0</td>\n",
              "      <td>1</td>\n",
              "      <td>0</td>\n",
              "    </tr>\n",
              "  </tbody>\n",
              "</table>\n",
              "</div>\n",
              "      <button class=\"colab-df-convert\" onclick=\"convertToInteractive('df-628d02ce-f8e8-4417-8072-e56af61effb7')\"\n",
              "              title=\"Convert this dataframe to an interactive table.\"\n",
              "              style=\"display:none;\">\n",
              "        \n",
              "  <svg xmlns=\"http://www.w3.org/2000/svg\" height=\"24px\"viewBox=\"0 0 24 24\"\n",
              "       width=\"24px\">\n",
              "    <path d=\"M0 0h24v24H0V0z\" fill=\"none\"/>\n",
              "    <path d=\"M18.56 5.44l.94 2.06.94-2.06 2.06-.94-2.06-.94-.94-2.06-.94 2.06-2.06.94zm-11 1L8.5 8.5l.94-2.06 2.06-.94-2.06-.94L8.5 2.5l-.94 2.06-2.06.94zm10 10l.94 2.06.94-2.06 2.06-.94-2.06-.94-.94-2.06-.94 2.06-2.06.94z\"/><path d=\"M17.41 7.96l-1.37-1.37c-.4-.4-.92-.59-1.43-.59-.52 0-1.04.2-1.43.59L10.3 9.45l-7.72 7.72c-.78.78-.78 2.05 0 2.83L4 21.41c.39.39.9.59 1.41.59.51 0 1.02-.2 1.41-.59l7.78-7.78 2.81-2.81c.8-.78.8-2.07 0-2.86zM5.41 20L4 18.59l7.72-7.72 1.47 1.35L5.41 20z\"/>\n",
              "  </svg>\n",
              "      </button>\n",
              "      \n",
              "  <style>\n",
              "    .colab-df-container {\n",
              "      display:flex;\n",
              "      flex-wrap:wrap;\n",
              "      gap: 12px;\n",
              "    }\n",
              "\n",
              "    .colab-df-convert {\n",
              "      background-color: #E8F0FE;\n",
              "      border: none;\n",
              "      border-radius: 50%;\n",
              "      cursor: pointer;\n",
              "      display: none;\n",
              "      fill: #1967D2;\n",
              "      height: 32px;\n",
              "      padding: 0 0 0 0;\n",
              "      width: 32px;\n",
              "    }\n",
              "\n",
              "    .colab-df-convert:hover {\n",
              "      background-color: #E2EBFA;\n",
              "      box-shadow: 0px 1px 2px rgba(60, 64, 67, 0.3), 0px 1px 3px 1px rgba(60, 64, 67, 0.15);\n",
              "      fill: #174EA6;\n",
              "    }\n",
              "\n",
              "    [theme=dark] .colab-df-convert {\n",
              "      background-color: #3B4455;\n",
              "      fill: #D2E3FC;\n",
              "    }\n",
              "\n",
              "    [theme=dark] .colab-df-convert:hover {\n",
              "      background-color: #434B5C;\n",
              "      box-shadow: 0px 1px 3px 1px rgba(0, 0, 0, 0.15);\n",
              "      filter: drop-shadow(0px 1px 2px rgba(0, 0, 0, 0.3));\n",
              "      fill: #FFFFFF;\n",
              "    }\n",
              "  </style>\n",
              "\n",
              "      <script>\n",
              "        const buttonEl =\n",
              "          document.querySelector('#df-628d02ce-f8e8-4417-8072-e56af61effb7 button.colab-df-convert');\n",
              "        buttonEl.style.display =\n",
              "          google.colab.kernel.accessAllowed ? 'block' : 'none';\n",
              "\n",
              "        async function convertToInteractive(key) {\n",
              "          const element = document.querySelector('#df-628d02ce-f8e8-4417-8072-e56af61effb7');\n",
              "          const dataTable =\n",
              "            await google.colab.kernel.invokeFunction('convertToInteractive',\n",
              "                                                     [key], {});\n",
              "          if (!dataTable) return;\n",
              "\n",
              "          const docLinkHtml = 'Like what you see? Visit the ' +\n",
              "            '<a target=\"_blank\" href=https://colab.research.google.com/notebooks/data_table.ipynb>data table notebook</a>'\n",
              "            + ' to learn more about interactive tables.';\n",
              "          element.innerHTML = '';\n",
              "          dataTable['output_type'] = 'display_data';\n",
              "          await google.colab.output.renderOutput(dataTable, element);\n",
              "          const docLink = document.createElement('div');\n",
              "          docLink.innerHTML = docLinkHtml;\n",
              "          element.appendChild(docLink);\n",
              "        }\n",
              "      </script>\n",
              "    </div>\n",
              "  </div>\n",
              "  "
            ],
            "text/plain": [
              "       id                                           overview  \\\n",
              "0  135397  twenty  year  event  jurassic park isla nublar...   \n",
              "1   76341   apocalyptic story set  furth reach  planet  s...   \n",
              "2  262500  beatrice prior must confront  inner demon  con...   \n",
              "3  140607  thirty year  defeat  galactic empire han solo ...   \n",
              "4  168259  deckard shaw seek revenge  dominic toretto  fa...   \n",
              "\n",
              "                                      genres  Action  Comedy  Drama  Thriller  \\\n",
              "0  Action|Adventure|Science Fiction|Thriller       1       0      0         1   \n",
              "1  Action|Adventure|Science Fiction|Thriller       1       0      0         1   \n",
              "2         Adventure|Science Fiction|Thriller       0       0      0         1   \n",
              "3   Action|Adventure|Science Fiction|Fantasy       1       0      0         0   \n",
              "4                      Action|Crime|Thriller       1       0      0         1   \n",
              "\n",
              "   Romance  \n",
              "0        0  \n",
              "1        0  \n",
              "2        0  \n",
              "3        0  \n",
              "4        0  "
            ]
          },
          "execution_count": 17,
          "metadata": {},
          "output_type": "execute_result"
        }
      ],
      "source": [
        "nlp = spacy.load('en_core_web_sm')\n",
        "def lemmatization(sentence):\n",
        "  doc = nlp(sentence)\n",
        "  lemmas = [token.lemma_ for token in doc]\n",
        "  lemmas = [l.strip() for l in lemmas]\n",
        "  return \" \".join(lemmas)\n",
        "\n",
        "data['overview'] = data['overview'].apply(lemmatization)\n",
        "data.head()"
      ]
    },
    {
      "cell_type": "markdown",
      "metadata": {
        "id": "7LoC5fApvyrq"
      },
      "source": [
        "### Train-Test Split"
      ]
    },
    {
      "cell_type": "code",
      "execution_count": null,
      "metadata": {
        "colab": {
          "base_uri": "https://localhost:8080/"
        },
        "id": "rmirAu-1hA04",
        "outputId": "423fbf64-2d71-43e5-cadd-b7da8ef916cf"
      },
      "outputs": [
        {
          "name": "stdout",
          "output_type": "stream",
          "text": [
            "(7606, 8)\n",
            "(3260, 8)\n"
          ]
        }
      ],
      "source": [
        "from sklearn.model_selection import train_test_split\n",
        "\n",
        "train, test = train_test_split(data, random_state=42, test_size=0.30, shuffle=True)\n",
        "\n",
        "print(train.shape)\n",
        "print(test.shape)"
      ]
    },
    {
      "cell_type": "code",
      "execution_count": null,
      "metadata": {
        "id": "JRu3o0u_CCax"
      },
      "outputs": [],
      "source": [
        "train.to_csv('train.csv')\n",
        "test.to_csv('test.csv')"
      ]
    },
    {
      "cell_type": "code",
      "execution_count": null,
      "metadata": {
        "id": "8A1d1MSB7_Rl"
      },
      "outputs": [],
      "source": [
        "train_new = pd.read_csv('train.csv')\n",
        "test_new = pd.read_csv('test.csv')"
      ]
    },
    {
      "cell_type": "code",
      "execution_count": null,
      "metadata": {
        "id": "eONLL0wz7_Rl"
      },
      "outputs": [],
      "source": []
    },
    {
      "cell_type": "code",
      "execution_count": null,
      "metadata": {
        "id": "kMUFrZXqhDld"
      },
      "outputs": [],
      "source": [
        "train_text = train['overview']\n",
        "test_text = test['overview']"
      ]
    },
    {
      "cell_type": "code",
      "execution_count": null,
      "metadata": {
        "colab": {
          "base_uri": "https://localhost:8080/",
          "height": 406
        },
        "id": "3FiXoEFFx-Z2",
        "outputId": "2730cb7c-5e0c-4146-c885-47d15093d602"
      },
      "outputs": [
        {
          "data": {
            "text/html": [
              "\n",
              "  <div id=\"df-e2cbafb7-efd5-47b3-990e-a6f8e3502f41\">\n",
              "    <div class=\"colab-df-container\">\n",
              "      <div>\n",
              "<style scoped>\n",
              "    .dataframe tbody tr th:only-of-type {\n",
              "        vertical-align: middle;\n",
              "    }\n",
              "\n",
              "    .dataframe tbody tr th {\n",
              "        vertical-align: top;\n",
              "    }\n",
              "\n",
              "    .dataframe thead th {\n",
              "        text-align: right;\n",
              "    }\n",
              "</style>\n",
              "<table border=\"1\" class=\"dataframe\">\n",
              "  <thead>\n",
              "    <tr style=\"text-align: right;\">\n",
              "      <th></th>\n",
              "      <th>id</th>\n",
              "      <th>overview</th>\n",
              "      <th>genres</th>\n",
              "      <th>Action</th>\n",
              "      <th>Comedy</th>\n",
              "      <th>Drama</th>\n",
              "      <th>Thriller</th>\n",
              "      <th>Romance</th>\n",
              "    </tr>\n",
              "  </thead>\n",
              "  <tbody>\n",
              "    <tr>\n",
              "      <th>4792</th>\n",
              "      <td>84334</td>\n",
              "      <td>south africans set  discover  happen  unlikel...</td>\n",
              "      <td>Documentary|Music</td>\n",
              "      <td>0</td>\n",
              "      <td>0</td>\n",
              "      <td>0</td>\n",
              "      <td>0</td>\n",
              "      <td>0</td>\n",
              "    </tr>\n",
              "    <tr>\n",
              "      <th>9906</th>\n",
              "      <td>24229</td>\n",
              "      <td>surprise  contract victim  try  run away  prof...</td>\n",
              "      <td>Crime|Drama|Mystery</td>\n",
              "      <td>0</td>\n",
              "      <td>0</td>\n",
              "      <td>1</td>\n",
              "      <td>0</td>\n",
              "      <td>0</td>\n",
              "    </tr>\n",
              "    <tr>\n",
              "      <th>5061</th>\n",
              "      <td>10943</td>\n",
              "      <td>cassie grant christina ricci  young girl  unit...</td>\n",
              "      <td>Horror|Thriller</td>\n",
              "      <td>0</td>\n",
              "      <td>0</td>\n",
              "      <td>0</td>\n",
              "      <td>1</td>\n",
              "      <td>0</td>\n",
              "    </tr>\n",
              "    <tr>\n",
              "      <th>9354</th>\n",
              "      <td>13888</td>\n",
              "      <td>sequel  classic  child  strand  beautiful isl...</td>\n",
              "      <td>Drama|Adventure|Romance</td>\n",
              "      <td>0</td>\n",
              "      <td>0</td>\n",
              "      <td>1</td>\n",
              "      <td>0</td>\n",
              "      <td>1</td>\n",
              "    </tr>\n",
              "    <tr>\n",
              "      <th>4696</th>\n",
              "      <td>103370</td>\n",
              "      <td>wall street investment banker  set  linchpin ...</td>\n",
              "      <td>Drama|Comedy|Crime</td>\n",
              "      <td>0</td>\n",
              "      <td>1</td>\n",
              "      <td>1</td>\n",
              "      <td>0</td>\n",
              "      <td>0</td>\n",
              "    </tr>\n",
              "  </tbody>\n",
              "</table>\n",
              "</div>\n",
              "      <button class=\"colab-df-convert\" onclick=\"convertToInteractive('df-e2cbafb7-efd5-47b3-990e-a6f8e3502f41')\"\n",
              "              title=\"Convert this dataframe to an interactive table.\"\n",
              "              style=\"display:none;\">\n",
              "        \n",
              "  <svg xmlns=\"http://www.w3.org/2000/svg\" height=\"24px\"viewBox=\"0 0 24 24\"\n",
              "       width=\"24px\">\n",
              "    <path d=\"M0 0h24v24H0V0z\" fill=\"none\"/>\n",
              "    <path d=\"M18.56 5.44l.94 2.06.94-2.06 2.06-.94-2.06-.94-.94-2.06-.94 2.06-2.06.94zm-11 1L8.5 8.5l.94-2.06 2.06-.94-2.06-.94L8.5 2.5l-.94 2.06-2.06.94zm10 10l.94 2.06.94-2.06 2.06-.94-2.06-.94-.94-2.06-.94 2.06-2.06.94z\"/><path d=\"M17.41 7.96l-1.37-1.37c-.4-.4-.92-.59-1.43-.59-.52 0-1.04.2-1.43.59L10.3 9.45l-7.72 7.72c-.78.78-.78 2.05 0 2.83L4 21.41c.39.39.9.59 1.41.59.51 0 1.02-.2 1.41-.59l7.78-7.78 2.81-2.81c.8-.78.8-2.07 0-2.86zM5.41 20L4 18.59l7.72-7.72 1.47 1.35L5.41 20z\"/>\n",
              "  </svg>\n",
              "      </button>\n",
              "      \n",
              "  <style>\n",
              "    .colab-df-container {\n",
              "      display:flex;\n",
              "      flex-wrap:wrap;\n",
              "      gap: 12px;\n",
              "    }\n",
              "\n",
              "    .colab-df-convert {\n",
              "      background-color: #E8F0FE;\n",
              "      border: none;\n",
              "      border-radius: 50%;\n",
              "      cursor: pointer;\n",
              "      display: none;\n",
              "      fill: #1967D2;\n",
              "      height: 32px;\n",
              "      padding: 0 0 0 0;\n",
              "      width: 32px;\n",
              "    }\n",
              "\n",
              "    .colab-df-convert:hover {\n",
              "      background-color: #E2EBFA;\n",
              "      box-shadow: 0px 1px 2px rgba(60, 64, 67, 0.3), 0px 1px 3px 1px rgba(60, 64, 67, 0.15);\n",
              "      fill: #174EA6;\n",
              "    }\n",
              "\n",
              "    [theme=dark] .colab-df-convert {\n",
              "      background-color: #3B4455;\n",
              "      fill: #D2E3FC;\n",
              "    }\n",
              "\n",
              "    [theme=dark] .colab-df-convert:hover {\n",
              "      background-color: #434B5C;\n",
              "      box-shadow: 0px 1px 3px 1px rgba(0, 0, 0, 0.15);\n",
              "      filter: drop-shadow(0px 1px 2px rgba(0, 0, 0, 0.3));\n",
              "      fill: #FFFFFF;\n",
              "    }\n",
              "  </style>\n",
              "\n",
              "      <script>\n",
              "        const buttonEl =\n",
              "          document.querySelector('#df-e2cbafb7-efd5-47b3-990e-a6f8e3502f41 button.colab-df-convert');\n",
              "        buttonEl.style.display =\n",
              "          google.colab.kernel.accessAllowed ? 'block' : 'none';\n",
              "\n",
              "        async function convertToInteractive(key) {\n",
              "          const element = document.querySelector('#df-e2cbafb7-efd5-47b3-990e-a6f8e3502f41');\n",
              "          const dataTable =\n",
              "            await google.colab.kernel.invokeFunction('convertToInteractive',\n",
              "                                                     [key], {});\n",
              "          if (!dataTable) return;\n",
              "\n",
              "          const docLinkHtml = 'Like what you see? Visit the ' +\n",
              "            '<a target=\"_blank\" href=https://colab.research.google.com/notebooks/data_table.ipynb>data table notebook</a>'\n",
              "            + ' to learn more about interactive tables.';\n",
              "          element.innerHTML = '';\n",
              "          dataTable['output_type'] = 'display_data';\n",
              "          await google.colab.output.renderOutput(dataTable, element);\n",
              "          const docLink = document.createElement('div');\n",
              "          docLink.innerHTML = docLinkHtml;\n",
              "          element.appendChild(docLink);\n",
              "        }\n",
              "      </script>\n",
              "    </div>\n",
              "  </div>\n",
              "  "
            ],
            "text/plain": [
              "          id                                           overview  \\\n",
              "4792   84334   south africans set  discover  happen  unlikel...   \n",
              "9906   24229  surprise  contract victim  try  run away  prof...   \n",
              "5061   10943  cassie grant christina ricci  young girl  unit...   \n",
              "9354   13888   sequel  classic  child  strand  beautiful isl...   \n",
              "4696  103370   wall street investment banker  set  linchpin ...   \n",
              "\n",
              "                       genres  Action  Comedy  Drama  Thriller  Romance  \n",
              "4792        Documentary|Music       0       0      0         0        0  \n",
              "9906      Crime|Drama|Mystery       0       0      1         0        0  \n",
              "5061          Horror|Thriller       0       0      0         1        0  \n",
              "9354  Drama|Adventure|Romance       0       0      1         0        1  \n",
              "4696       Drama|Comedy|Crime       0       1      1         0        0  "
            ]
          },
          "execution_count": 22,
          "metadata": {},
          "output_type": "execute_result"
        }
      ],
      "source": [
        "train.head()"
      ]
    },
    {
      "cell_type": "code",
      "execution_count": null,
      "metadata": {
        "colab": {
          "base_uri": "https://localhost:8080/",
          "height": 545
        },
        "id": "KnXn7QSiyWu7",
        "outputId": "9165b51d-ff01-4067-99f2-2795e17b9bc7"
      },
      "outputs": [
        {
          "data": {
            "text/html": [
              "\n",
              "  <div id=\"df-7a37c16b-833f-4167-aa9e-635234021d8e\">\n",
              "    <div class=\"colab-df-container\">\n",
              "      <div>\n",
              "<style scoped>\n",
              "    .dataframe tbody tr th:only-of-type {\n",
              "        vertical-align: middle;\n",
              "    }\n",
              "\n",
              "    .dataframe tbody tr th {\n",
              "        vertical-align: top;\n",
              "    }\n",
              "\n",
              "    .dataframe thead th {\n",
              "        text-align: right;\n",
              "    }\n",
              "</style>\n",
              "<table border=\"1\" class=\"dataframe\">\n",
              "  <thead>\n",
              "    <tr style=\"text-align: right;\">\n",
              "      <th></th>\n",
              "      <th>id</th>\n",
              "      <th>overview</th>\n",
              "      <th>genres</th>\n",
              "      <th>Action</th>\n",
              "      <th>Comedy</th>\n",
              "      <th>Drama</th>\n",
              "      <th>Thriller</th>\n",
              "      <th>Romance</th>\n",
              "    </tr>\n",
              "  </thead>\n",
              "  <tbody>\n",
              "    <tr>\n",
              "      <th>8468</th>\n",
              "      <td>11674</td>\n",
              "      <td>live action adaptation  disney classic  litte...</td>\n",
              "      <td>Comedy|Family</td>\n",
              "      <td>0</td>\n",
              "      <td>1</td>\n",
              "      <td>0</td>\n",
              "      <td>0</td>\n",
              "      <td>0</td>\n",
              "    </tr>\n",
              "    <tr>\n",
              "      <th>1511</th>\n",
              "      <td>26505</td>\n",
              "      <td>arthur answer  distress call  princess selenia...</td>\n",
              "      <td>Adventure|Fantasy|Animation|Family</td>\n",
              "      <td>0</td>\n",
              "      <td>0</td>\n",
              "      <td>0</td>\n",
              "      <td>0</td>\n",
              "      <td>0</td>\n",
              "    </tr>\n",
              "    <tr>\n",
              "      <th>2638</th>\n",
              "      <td>644</td>\n",
              "      <td>year old david  first android  human feeling  ...</td>\n",
              "      <td>Drama|Science Fiction|Adventure</td>\n",
              "      <td>0</td>\n",
              "      <td>0</td>\n",
              "      <td>1</td>\n",
              "      <td>0</td>\n",
              "      <td>0</td>\n",
              "    </tr>\n",
              "    <tr>\n",
              "      <th>8260</th>\n",
              "      <td>12143</td>\n",
              "      <td>investigate  young nun rape  corrupt new york...</td>\n",
              "      <td>Crime|Drama</td>\n",
              "      <td>0</td>\n",
              "      <td>0</td>\n",
              "      <td>1</td>\n",
              "      <td>0</td>\n",
              "      <td>0</td>\n",
              "    </tr>\n",
              "    <tr>\n",
              "      <th>1713</th>\n",
              "      <td>37565</td>\n",
              "      <td>girl  st trinians  hunt  bury treasure  disco...</td>\n",
              "      <td>Comedy|Adventure</td>\n",
              "      <td>0</td>\n",
              "      <td>1</td>\n",
              "      <td>0</td>\n",
              "      <td>0</td>\n",
              "      <td>0</td>\n",
              "    </tr>\n",
              "  </tbody>\n",
              "</table>\n",
              "</div>\n",
              "      <button class=\"colab-df-convert\" onclick=\"convertToInteractive('df-7a37c16b-833f-4167-aa9e-635234021d8e')\"\n",
              "              title=\"Convert this dataframe to an interactive table.\"\n",
              "              style=\"display:none;\">\n",
              "        \n",
              "  <svg xmlns=\"http://www.w3.org/2000/svg\" height=\"24px\"viewBox=\"0 0 24 24\"\n",
              "       width=\"24px\">\n",
              "    <path d=\"M0 0h24v24H0V0z\" fill=\"none\"/>\n",
              "    <path d=\"M18.56 5.44l.94 2.06.94-2.06 2.06-.94-2.06-.94-.94-2.06-.94 2.06-2.06.94zm-11 1L8.5 8.5l.94-2.06 2.06-.94-2.06-.94L8.5 2.5l-.94 2.06-2.06.94zm10 10l.94 2.06.94-2.06 2.06-.94-2.06-.94-.94-2.06-.94 2.06-2.06.94z\"/><path d=\"M17.41 7.96l-1.37-1.37c-.4-.4-.92-.59-1.43-.59-.52 0-1.04.2-1.43.59L10.3 9.45l-7.72 7.72c-.78.78-.78 2.05 0 2.83L4 21.41c.39.39.9.59 1.41.59.51 0 1.02-.2 1.41-.59l7.78-7.78 2.81-2.81c.8-.78.8-2.07 0-2.86zM5.41 20L4 18.59l7.72-7.72 1.47 1.35L5.41 20z\"/>\n",
              "  </svg>\n",
              "      </button>\n",
              "      \n",
              "  <style>\n",
              "    .colab-df-container {\n",
              "      display:flex;\n",
              "      flex-wrap:wrap;\n",
              "      gap: 12px;\n",
              "    }\n",
              "\n",
              "    .colab-df-convert {\n",
              "      background-color: #E8F0FE;\n",
              "      border: none;\n",
              "      border-radius: 50%;\n",
              "      cursor: pointer;\n",
              "      display: none;\n",
              "      fill: #1967D2;\n",
              "      height: 32px;\n",
              "      padding: 0 0 0 0;\n",
              "      width: 32px;\n",
              "    }\n",
              "\n",
              "    .colab-df-convert:hover {\n",
              "      background-color: #E2EBFA;\n",
              "      box-shadow: 0px 1px 2px rgba(60, 64, 67, 0.3), 0px 1px 3px 1px rgba(60, 64, 67, 0.15);\n",
              "      fill: #174EA6;\n",
              "    }\n",
              "\n",
              "    [theme=dark] .colab-df-convert {\n",
              "      background-color: #3B4455;\n",
              "      fill: #D2E3FC;\n",
              "    }\n",
              "\n",
              "    [theme=dark] .colab-df-convert:hover {\n",
              "      background-color: #434B5C;\n",
              "      box-shadow: 0px 1px 3px 1px rgba(0, 0, 0, 0.15);\n",
              "      filter: drop-shadow(0px 1px 2px rgba(0, 0, 0, 0.3));\n",
              "      fill: #FFFFFF;\n",
              "    }\n",
              "  </style>\n",
              "\n",
              "      <script>\n",
              "        const buttonEl =\n",
              "          document.querySelector('#df-7a37c16b-833f-4167-aa9e-635234021d8e button.colab-df-convert');\n",
              "        buttonEl.style.display =\n",
              "          google.colab.kernel.accessAllowed ? 'block' : 'none';\n",
              "\n",
              "        async function convertToInteractive(key) {\n",
              "          const element = document.querySelector('#df-7a37c16b-833f-4167-aa9e-635234021d8e');\n",
              "          const dataTable =\n",
              "            await google.colab.kernel.invokeFunction('convertToInteractive',\n",
              "                                                     [key], {});\n",
              "          if (!dataTable) return;\n",
              "\n",
              "          const docLinkHtml = 'Like what you see? Visit the ' +\n",
              "            '<a target=\"_blank\" href=https://colab.research.google.com/notebooks/data_table.ipynb>data table notebook</a>'\n",
              "            + ' to learn more about interactive tables.';\n",
              "          element.innerHTML = '';\n",
              "          dataTable['output_type'] = 'display_data';\n",
              "          await google.colab.output.renderOutput(dataTable, element);\n",
              "          const docLink = document.createElement('div');\n",
              "          docLink.innerHTML = docLinkHtml;\n",
              "          element.appendChild(docLink);\n",
              "        }\n",
              "      </script>\n",
              "    </div>\n",
              "  </div>\n",
              "  "
            ],
            "text/plain": [
              "         id                                           overview  \\\n",
              "8468  11674   live action adaptation  disney classic  litte...   \n",
              "1511  26505  arthur answer  distress call  princess selenia...   \n",
              "2638    644  year old david  first android  human feeling  ...   \n",
              "8260  12143   investigate  young nun rape  corrupt new york...   \n",
              "1713  37565   girl  st trinians  hunt  bury treasure  disco...   \n",
              "\n",
              "                                  genres  Action  Comedy  Drama  Thriller  \\\n",
              "8468                       Comedy|Family       0       1      0         0   \n",
              "1511  Adventure|Fantasy|Animation|Family       0       0      0         0   \n",
              "2638     Drama|Science Fiction|Adventure       0       0      1         0   \n",
              "8260                         Crime|Drama       0       0      1         0   \n",
              "1713                    Comedy|Adventure       0       1      0         0   \n",
              "\n",
              "      Romance  \n",
              "8468        0  \n",
              "1511        0  \n",
              "2638        0  \n",
              "8260        0  \n",
              "1713        0  "
            ]
          },
          "execution_count": 23,
          "metadata": {},
          "output_type": "execute_result"
        }
      ],
      "source": [
        "test.head()"
      ]
    },
    {
      "cell_type": "markdown",
      "metadata": {
        "id": "onP96nUbpEeC"
      },
      "source": [
        "### Resample Training dataset"
      ]
    },
    {
      "cell_type": "code",
      "execution_count": null,
      "metadata": {
        "colab": {
          "base_uri": "https://localhost:8080/",
          "height": 495
        },
        "id": "x4-ce6vrbLsZ",
        "outputId": "aa79bea4-2dc6-4d46-cd74-ea982b5d051e"
      },
      "outputs": [
        {
          "data": {
            "image/png": "[encoded data removed]",
            "text/plain": [
              "<Figure size 1000x600 with 1 Axes>"
            ]
          },
          "metadata": {},
          "output_type": "display_data"
        }
      ],
      "source": [
        "#Plotting the y genre columns:\n",
        "\n",
        "genre_columns = ['Drama', 'Romance', 'Action', 'Thriller', 'Comedy']\n",
        "plot_df = data[genre_columns]\n",
        "\n",
        "# Calculate the sum of each column\n",
        "column_sums = plot_df.sum(axis=0)\n",
        "\n",
        "# Set the width of the bars\n",
        "bar_width = 0.5\n",
        "\n",
        "# Set the x-axis positions for the bars\n",
        "x = np.arange(len(column_sums))\n",
        "\n",
        "# Create a figure and axis\n",
        "fig, ax = plt.subplots(figsize=(10, 6))\n",
        "\n",
        "# Plot the bars for each column\n",
        "ax.bar(x, column_sums, width=bar_width)\n",
        "\n",
        "# Set the x-axis tick positions and labels\n",
        "ax.set_xticks(x)\n",
        "ax.set_xticklabels(column_sums.index)\n",
        "\n",
        "# Add labels and title\n",
        "ax.set_ylabel('Count')\n",
        "ax.set_title('Count of Each Genre')\n",
        "\n",
        "# Show the plot\n",
        "plt.show()\n"
      ]
    },
    {
      "cell_type": "markdown",
      "metadata": {
        "id": "qvo_dBg7jjXj"
      },
      "source": [
        "## 3. Feature Extraction"
      ]
    },
    {
      "cell_type": "markdown",
      "metadata": {
        "id": "oFGJv2WsIFK3"
      },
      "source": [
        "### GloVe model"
      ]
    },
    {
      "cell_type": "code",
      "execution_count": null,
      "metadata": {
        "id": "LWehBuTLJNL4"
      },
      "outputs": [],
      "source": [
        "# feature engineering with GloVe model\n",
        "train_nlp = [nlp(item) for item in train_text]\n",
        "train_glove_features = np.array([item.vector for item in train_nlp])\n",
        "\n",
        "test_nlp = [nlp(item) for item in test_text]\n",
        "test_glove_features = np.array([item.vector for item in test_nlp])"
      ]
    },
    {
      "cell_type": "code",
      "execution_count": null,
      "metadata": {
        "colab": {
          "base_uri": "https://localhost:8080/"
        },
        "id": "Qbi2CHqbKDoy",
        "outputId": "2c262d61-7791-41ea-a440-968c5168f0da"
      },
      "outputs": [
        {
          "name": "stdout",
          "output_type": "stream",
          "text": [
            "GloVe model:> Train features shape: (7606, 96)  Test features shape: (3260, 96)\n"
          ]
        }
      ],
      "source": [
        "# print('Word2Vec model:> Train features shape:', avg_wv_train_features.shape, ' Test features shape:', avg_wv_test_features.shape)\n",
        "print('GloVe model:> Train features shape:', train_glove_features.shape, ' Test features shape:', test_glove_features.shape)"
      ]
    },
    {
      "cell_type": "markdown",
      "metadata": {
        "id": "547lPCx4CYMO"
      },
      "source": [
        "### word2vec model"
      ]
    },
    {
      "cell_type": "code",
      "execution_count": null,
      "metadata": {
        "id": "Ro45VOgOFZgo"
      },
      "outputs": [],
      "source": [
        "import spacy\n",
        "from nltk.tokenize.toktok import ToktokTokenizer\n",
        "import gensim\n",
        "import keras\n",
        "from keras.models import Sequential\n",
        "from keras.layers import Dropout, Activation, Dense\n",
        "from sklearn.preprocessing import LabelEncoder\n",
        "import multiprocessing\n",
        "from gensim.models import Word2Vec"
      ]
    },
    {
      "cell_type": "code",
      "execution_count": null,
      "metadata": {
        "id": "FJPv6I3SCkT6"
      },
      "outputs": [],
      "source": [
        "cores = multiprocessing.cpu_count() # Count the number of cores in a computer"
      ]
    },
    {
      "cell_type": "code",
      "execution_count": null,
      "metadata": {
        "id": "Ez2mj9ycC1d1"
      },
      "outputs": [],
      "source": [
        "w2v_model = Word2Vec(min_count=20,\n",
        "                     window=2,\n",
        "                    #  size=300,\n",
        "                     sample=6e-5, \n",
        "                     alpha=0.03, \n",
        "                     min_alpha=0.0007, \n",
        "                     negative=20,\n",
        "                     workers=cores-1)"
      ]
    },
    {
      "cell_type": "code",
      "execution_count": null,
      "metadata": {
        "id": "Dz4RdrVTgE_4"
      },
      "outputs": [],
      "source": [
        "from gensim.models.phrases import Phrases, Phraser\n",
        "from nltk import bigrams\n",
        "\n",
        "words = [row.split() for row in train['overview']]\n",
        "phrases = Phrases(words, min_count=30, progress_per=10000)\n",
        "bigram = Phraser(phrases)\n",
        "sentences = bigram[words]"
      ]
    },
    {
      "cell_type": "code",
      "execution_count": null,
      "metadata": {
        "id": "S2e9_ZqdDEu-"
      },
      "outputs": [],
      "source": [
        "w2v_model.build_vocab(sentences, progress_per=10000)"
      ]
    },
    {
      "cell_type": "code",
      "execution_count": null,
      "metadata": {
        "colab": {
          "base_uri": "https://localhost:8080/"
        },
        "id": "6v2-70QbFWtW",
        "outputId": "ac71c764-27ab-4d06-f59e-ec3d78b11311"
      },
      "outputs": [
        {
          "data": {
            "text/plain": [
              "(2072588, 6735480)"
            ]
          },
          "execution_count": 32,
          "metadata": {},
          "output_type": "execute_result"
        }
      ],
      "source": [
        "w2v_model.train(sentences, total_examples=w2v_model.corpus_count, epochs=30, report_delay=1)"
      ]
    },
    {
      "cell_type": "code",
      "execution_count": null,
      "metadata": {
        "colab": {
          "base_uri": "https://localhost:8080/"
        },
        "id": "rxltJjkNF2a4",
        "outputId": "08ac1e06-4760-40c2-e16a-dbc17d34de55"
      },
      "outputs": [
        {
          "name": "stderr",
          "output_type": "stream",
          "text": [
            "<ipython-input-33-c7757d71a30b>:1: DeprecationWarning: Call to deprecated `init_sims` (Gensim 4.0.0 implemented internal optimizations that make calls to init_sims() unnecessary. init_sims() is now obsoleted and will be completely removed in future versions. See https://github.com/RaRe-Technologies/gensim/wiki/Migrating-from-Gensim-3.x-to-4).\n",
            "  w2v_model.init_sims(replace=True)\n",
            "WARNING:gensim.models.keyedvectors:destructive init_sims(replace=True) deprecated & no longer required for space-efficiency\n"
          ]
        }
      ],
      "source": [
        "w2v_model.init_sims(replace=True)"
      ]
    },
    {
      "cell_type": "code",
      "execution_count": null,
      "metadata": {
        "colab": {
          "base_uri": "https://localhost:8080/"
        },
        "id": "3H646YpOF7df",
        "outputId": "56af3d05-9d37-447a-fe9f-b204680ee351"
      },
      "outputs": [
        {
          "data": {
            "text/plain": [
              "[('never', 0.9704604148864746), ('change', 0.9671638607978821), ('true', 0.9651128649711609), ('live', 0.9611201286315918), ('friendship', 0.958516538143158), ('grow', 0.9569889903068542), ('lesson', 0.9564611911773682), ('always', 0.9554188251495361), ('see', 0.9542274475097656), ('come', 0.9537985920906067)]"
            ]
          },
          "execution_count": 34,
          "metadata": {},
          "output_type": "execute_result"
        }
      ],
      "source": [
        "w2v_model.wv.most_similar(positive=[\"life\"])"
      ]
    },
    {
      "cell_type": "code",
      "execution_count": null,
      "metadata": {
        "colab": {
          "base_uri": "https://localhost:8080/"
        },
        "id": "cyePOy2sF_6E",
        "outputId": "37f79aab-f1ec-4026-8a3f-3022189f1b70"
      },
      "outputs": [
        {
          "data": {
            "text/plain": [
              "[('soon', 0.9833688735961914), ('discover', 0.9747644662857056), ('someone', 0.9726901650428772), ('clear', 0.9663558602333069), ('choose', 0.9656525254249573), ('anyone', 0.9639893174171448), ('he', 0.9638491272926331), ('another', 0.9631983041763306), ('keep', 0.9631534218788147), ('victim', 0.9628207087516785)]"
            ]
          },
          "execution_count": 35,
          "metadata": {},
          "output_type": "execute_result"
        }
      ],
      "source": [
        "w2v_model.wv.most_similar(positive=[\"find\"])"
      ]
    },
    {
      "cell_type": "code",
      "execution_count": null,
      "metadata": {
        "colab": {
          "base_uri": "https://localhost:8080/"
        },
        "id": "RIEz1fR4GQY3",
        "outputId": "37891b84-8181-4c9e-f96a-5fa310defb0d"
      },
      "outputs": [
        {
          "data": {
            "text/plain": [
              "[('intention', 0.9908525943756104), ('wait', 0.9908128380775452), ('unable', 0.9907503724098206), ('accept', 0.9906343221664429), ('eventually', 0.9902847409248352), ('hope', 0.9899826645851135), ('he', 0.9899664521217346), ('beat', 0.9895474910736084), ('nurse', 0.9894807934761047), ('desperate', 0.9893428683280945)]"
            ]
          },
          "execution_count": 36,
          "metadata": {},
          "output_type": "execute_result"
        }
      ],
      "source": [
        "w2v_model.wv.most_similar(positive=[\"she\"])"
      ]
    },
    {
      "cell_type": "code",
      "execution_count": null,
      "metadata": {
        "id": "fp6RW52uFvQG"
      },
      "outputs": [],
      "source": [
        "tokenizer = ToktokTokenizer()\n",
        "nlp = spacy.load('en_core_web_sm')"
      ]
    },
    {
      "cell_type": "code",
      "execution_count": null,
      "metadata": {
        "id": "wFD8snZYDyqb"
      },
      "outputs": [],
      "source": [
        "# tokenize train reviews & encode train labels\n",
        "tokenized_train = [tokenizer.tokenize(text)\n",
        "                   for text in train_text]\n",
        "y_train = train.drop(labels = ['id','overview', 'genres'], axis=1)\n",
        "# tokenize test reviews & encode test labels\n",
        "tokenized_test = [tokenizer.tokenize(text)\n",
        "                   for text in test_text]\n",
        "y_test = test.drop(labels = ['id','overview', 'genres'], axis=1)"
      ]
    },
    {
      "cell_type": "code",
      "execution_count": null,
      "metadata": {
        "id": "XaBpx450BEw5"
      },
      "outputs": [],
      "source": [
        "# build word2vec model\n",
        "w2v_num_features = 500\n",
        "w2v_model = gensim.models.Word2Vec(tokenized_train, vector_size=w2v_num_features, window=150,\n",
        "                                   min_count=10, sample=1e-3)    "
      ]
    },
    {
      "cell_type": "code",
      "execution_count": null,
      "metadata": {
        "id": "6AJGbgxNG2CP"
      },
      "outputs": [],
      "source": [
        "def averaged_word2vec_vectorizer(corpus, model, num_features):\n",
        "    vocabulary = set(model.wv.index_to_key)\n",
        "    \n",
        "    def average_word_vectors(words, model, vocabulary, num_features):\n",
        "        feature_vector = np.zeros((num_features,), dtype=\"float64\")\n",
        "        nwords = 0.\n",
        "        \n",
        "        for word in words:\n",
        "            if word in vocabulary: \n",
        "                nwords = nwords + 1.\n",
        "                feature_vector = np.add(feature_vector, model.wv[word])\n",
        "        if nwords:\n",
        "            feature_vector = np.divide(feature_vector, nwords)\n",
        "\n",
        "        return feature_vector\n",
        "\n",
        "    features = [average_word_vectors(tokenized_sentence, model, vocabulary, num_features)\n",
        "                    for tokenized_sentence in corpus]\n",
        "    return np.array(features)"
      ]
    },
    {
      "cell_type": "code",
      "execution_count": null,
      "metadata": {
        "id": "i0u4alRnG6Pf"
      },
      "outputs": [],
      "source": [
        "# generate averaged word vector features from word2vec model\n",
        "avg_wv_train_features = averaged_word2vec_vectorizer(corpus=tokenized_train, model=w2v_model, num_features=500)\n",
        "avg_wv_test_features = averaged_word2vec_vectorizer(corpus=tokenized_test, model=w2v_model, num_features=500)"
      ]
    },
    {
      "cell_type": "code",
      "execution_count": null,
      "metadata": {
        "colab": {
          "base_uri": "https://localhost:8080/",
          "height": 71
        },
        "id": "F8yqeWw57_TJ",
        "outputId": "cc7c7a17-1581-462b-9cd0-223ca282c749"
      },
      "outputs": [
        {
          "data": {
            "application/vnd.google.colaboratory.intrinsic+json": {
              "type": "string"
            },
            "text/plain": [
              "' romantic fantasy movie  people  last survivor  ancient line  goddess worshiper  sell art  shop  teenage daughter rhea fall  love  poetically inclined boy  begin  develop magical power  throw everything  chaos'"
            ]
          },
          "execution_count": 42,
          "metadata": {},
          "output_type": "execute_result"
        }
      ],
      "source": [
        "train['overview'][5734]"
      ]
    },
    {
      "cell_type": "code",
      "execution_count": null,
      "metadata": {
        "colab": {
          "base_uri": "https://localhost:8080/"
        },
        "id": "_DJDKKHi7_TK",
        "outputId": "1fd0b459-ef2e-43b2-f758-e1b69296291f"
      },
      "outputs": [
        {
          "data": {
            "text/plain": [
              "array([ 0.1631367 ,  0.17544467,  0.10610074,  0.05822371, -0.1309604 ,\n",
              "       -0.22735108,  0.05087879,  0.35968638,  0.14071566, -0.01017639,\n",
              "       -0.06274186,  0.11184666,  0.10066012,  0.03758968,  0.10397632,\n",
              "       -0.21410115, -0.15504278, -0.11322122,  0.01229455,  0.03995619,\n",
              "        0.03861674, -0.08179644,  0.14419603, -0.10152371,  0.14928928,\n",
              "        0.11509847,  0.07867221, -0.0117875 , -0.30478126,  0.0031499 ,\n",
              "        0.12453074,  0.02177435, -0.04429952, -0.01704655,  0.09236794,\n",
              "        0.11743491, -0.02623092, -0.04554341, -0.07498716, -0.20557428,\n",
              "       -0.07016066,  0.04115171, -0.13586639,  0.04942392, -0.14506116,\n",
              "       -0.17316689, -0.11554133,  0.06462013, -0.01833961, -0.01538936,\n",
              "       -0.01542093, -0.03735852,  0.02042101, -0.26056748,  0.09758909,\n",
              "       -0.11507988,  0.07145487,  0.00195995, -0.01215324,  0.08635604,\n",
              "        0.06193522, -0.01036515, -0.02480944,  0.04729342, -0.08523176,\n",
              "        0.11104851, -0.07622076,  0.06622695,  0.08679619,  0.01097776,\n",
              "       -0.13848817,  0.03974998,  0.01969855, -0.07301513,  0.13768674,\n",
              "        0.20458927, -0.04714331,  0.02263431,  0.1268563 ,  0.13077713,\n",
              "       -0.04283453,  0.04636494, -0.11340385,  0.13075529, -0.30722355,\n",
              "        0.16126274, -0.09579028,  0.11564411,  0.18287544,  0.11683413,\n",
              "        0.03721114,  0.03806396, -0.12344056,  0.08012133,  0.10516554,\n",
              "        0.00621806,  0.1711498 , -0.05937152,  0.12069083,  0.07021732,\n",
              "       -0.20880403,  0.03187204, -0.09794438,  0.11191932,  0.00995942,\n",
              "        0.03256402, -0.07565293,  0.14900318, -0.13849751,  0.01937996,\n",
              "       -0.13733926, -0.10397173,  0.0155084 ,  0.18422511, -0.094706  ,\n",
              "        0.07889269,  0.06192629, -0.1921675 ,  0.11326605, -0.1457468 ,\n",
              "       -0.07317825, -0.01551861,  0.06507154, -0.0656579 ,  0.03777986,\n",
              "       -0.03027962, -0.315293  ,  0.07619467, -0.11307065,  0.00139259,\n",
              "        0.14346449,  0.08303133, -0.02779159, -0.00638557, -0.00815542,\n",
              "        0.19535809,  0.06638143, -0.083371  , -0.23045177, -0.25954013,\n",
              "        0.09039617, -0.19175286,  0.03792085,  0.10504821,  0.07037261,\n",
              "        0.04629054,  0.03981329, -0.08795261,  0.09216412,  0.18649391,\n",
              "        0.1076987 , -0.01310942, -0.07819209,  0.16537434, -0.27492133,\n",
              "        0.01296686,  0.05770834, -0.0420095 , -0.09721923, -0.00607559,\n",
              "        0.08241604,  0.0464542 , -0.13254577, -0.15506642, -0.04059381,\n",
              "        0.10123417,  0.2681739 ,  0.03129333,  0.07806472,  0.12397489,\n",
              "        0.0893972 ,  0.22108163,  0.00425421,  0.14625833,  0.03847319,\n",
              "       -0.05646738,  0.00726016,  0.04467252, -0.05363543,  0.05433008,\n",
              "       -0.04808222, -0.02240564,  0.01855191,  0.01347423, -0.07023325,\n",
              "       -0.02922435, -0.10387472,  0.08537727, -0.01840828,  0.0913763 ,\n",
              "        0.12641989, -0.07143129,  0.06547982, -0.08855899,  0.03484455,\n",
              "       -0.00172017, -0.0278176 , -0.06749163,  0.05435615,  0.041593  ,\n",
              "       -0.06339759,  0.00614197,  0.16935377,  0.06075964,  0.00697572,\n",
              "       -0.00882611, -0.02252139, -0.05093144, -0.14598142,  0.00441242,\n",
              "       -0.03937789, -0.14371697, -0.11397678, -0.04749323, -0.02907146,\n",
              "       -0.25190028, -0.1833557 , -0.04217838, -0.05664174, -0.0997039 ,\n",
              "        0.0863209 ,  0.14310931,  0.07422446,  0.18381713,  0.03778805,\n",
              "       -0.00874517,  0.17236445, -0.11173418,  0.11952121, -0.05008967,\n",
              "       -0.04812563, -0.02297572, -0.0175182 ,  0.08645539,  0.00036308,\n",
              "       -0.05814209,  0.02727431, -0.26594713,  0.18751581, -0.03572332,\n",
              "       -0.05911984, -0.01581065, -0.35733544,  0.14003078, -0.13576003,\n",
              "       -0.07908268,  0.04500175,  0.12362081,  0.12865138,  0.08466439,\n",
              "        0.07153789, -0.22138856, -0.04295544, -0.00375132, -0.08403501,\n",
              "        0.14604696,  0.08136765,  0.31362816, -0.25433788,  0.03227495,\n",
              "       -0.13646778,  0.12841796, -0.21077671, -0.01810813,  0.00288449,\n",
              "       -0.04102217, -0.15570109,  0.2098204 , -0.1406037 , -0.07320951,\n",
              "       -0.10500645,  0.02060861,  0.09842237, -0.05746419, -0.11275246,\n",
              "        0.04402044, -0.07637703, -0.20202873, -0.12825993,  0.10511288,\n",
              "       -0.04661014,  0.06074609, -0.12544278, -0.10602462,  0.27350233,\n",
              "       -0.10911299, -0.03256636, -0.0431615 , -0.0236538 , -0.07590973,\n",
              "       -0.07917556,  0.31124508,  0.03787552,  0.06533254,  0.12832678,\n",
              "       -0.00350709,  0.14656684, -0.23818316,  0.05702658, -0.06339512,\n",
              "       -0.1267348 ,  0.03362819,  0.10838654, -0.07693127, -0.03058184,\n",
              "       -0.0878207 , -0.08863072,  0.06173953,  0.06808971, -0.10401701,\n",
              "       -0.06507938, -0.19788156,  0.03669049,  0.15097677,  0.03170601,\n",
              "        0.00047166,  0.08818319, -0.07211146,  0.03587801, -0.11631727,\n",
              "        0.11888498, -0.01207213,  0.03119402, -0.20627853, -0.05935045,\n",
              "       -0.16917019, -0.16900286, -0.0932289 ,  0.04274631, -0.02557006,\n",
              "       -0.01062701,  0.11026863, -0.06141073,  0.06404799,  0.04151908,\n",
              "       -0.20289473, -0.13737593,  0.12881179, -0.00733675, -0.09788241,\n",
              "       -0.02431372, -0.08029908,  0.07650413, -0.22485724, -0.02880554,\n",
              "       -0.05249941, -0.31899994,  0.09233042, -0.01064996,  0.10496166,\n",
              "       -0.06840669,  0.01323008, -0.0887443 ,  0.30360334, -0.05617756,\n",
              "        0.19778571, -0.09146869, -0.01474196, -0.01290966, -0.02153253,\n",
              "       -0.0130009 ,  0.07291543, -0.02296982,  0.03574896, -0.02768998,\n",
              "       -0.05311823,  0.10541846, -0.10969271, -0.09928224,  0.12094196,\n",
              "        0.00584096, -0.15597393, -0.04754312, -0.1916573 , -0.17089913,\n",
              "       -0.12689004, -0.03084383,  0.06800748, -0.00764102, -0.0911125 ,\n",
              "        0.11995488, -0.001436  ,  0.18526297,  0.06923597, -0.02009108,\n",
              "        0.04052755,  0.03576426,  0.1354297 ,  0.03377163, -0.01489576,\n",
              "       -0.01782323, -0.05756646, -0.01227698, -0.00726815,  0.13320211,\n",
              "        0.17166682, -0.01118364,  0.00751484, -0.04769381,  0.1143737 ,\n",
              "       -0.09320933,  0.09214631, -0.04218831, -0.19241731, -0.04674017,\n",
              "       -0.18258756, -0.0254808 ,  0.1294666 ,  0.04384687,  0.02586414,\n",
              "       -0.07452005, -0.17978385, -0.07358468, -0.10642885,  0.09175355,\n",
              "        0.07313093,  0.10795423, -0.06658641,  0.13321278, -0.19387119,\n",
              "       -0.03884998,  0.11731362, -0.12071992,  0.03614916, -0.08481925,\n",
              "       -0.06932286, -0.064895  , -0.05750411, -0.12544094, -0.1504798 ,\n",
              "       -0.05640333, -0.00245523, -0.02101968,  0.04071597, -0.08210548,\n",
              "        0.00789202,  0.03639372, -0.01861486, -0.05248313, -0.0528395 ,\n",
              "        0.01787812, -0.04500189,  0.1375789 , -0.14063115,  0.28938064,\n",
              "        0.1334938 ,  0.12310176,  0.10949994, -0.13263294, -0.04369263,\n",
              "        0.03125674,  0.0369642 , -0.06795252, -0.22166107,  0.06130849,\n",
              "       -0.05269517, -0.02881985, -0.10481195,  0.12858592,  0.08171856,\n",
              "        0.08676134,  0.08676974,  0.04225987,  0.11074694, -0.16789229,\n",
              "       -0.05774091, -0.11200021, -0.272161  , -0.01409236,  0.15083805,\n",
              "       -0.11689213, -0.01665818,  0.1087615 , -0.23376951,  0.17624612,\n",
              "        0.1916251 ,  0.19517517,  0.00213608, -0.24814225, -0.09725906,\n",
              "        0.01132394, -0.20063337, -0.12383562,  0.19738152,  0.07260068,\n",
              "        0.10334686, -0.10069151,  0.2100232 ,  0.14155039, -0.09298599,\n",
              "        0.0408351 , -0.07254918,  0.22308813,  0.03366215,  0.07093792,\n",
              "       -0.02865304, -0.07724113, -0.17995561, -0.20016903, -0.0900223 ])"
            ]
          },
          "execution_count": 43,
          "metadata": {},
          "output_type": "execute_result"
        }
      ],
      "source": [
        "avg_wv_train_features[4]"
      ]
    },
    {
      "cell_type": "markdown",
      "metadata": {
        "id": "IEYuB6yyGWOP"
      },
      "source": [
        "### t-SNE visualizations"
      ]
    },
    {
      "cell_type": "code",
      "execution_count": null,
      "metadata": {
        "id": "nxyb6ATDGZm6"
      },
      "outputs": [],
      "source": [
        "import numpy as np\n",
        "import matplotlib.pyplot as plt\n",
        "%matplotlib inline\n",
        " \n",
        "import seaborn as sns\n",
        "sns.set_style(\"darkgrid\")\n",
        "\n",
        "from sklearn.decomposition import PCA\n",
        "from sklearn.manifold import TSNE"
      ]
    },
    {
      "cell_type": "code",
      "execution_count": null,
      "metadata": {
        "id": "oHH7APFDGcjN"
      },
      "outputs": [],
      "source": [
        "def tsnescatterplot(model, word, list_names):\n",
        "    \"\"\" Plot in seaborn the results from the t-SNE dimensionality reduction algorithm of the vectors of a query word,\n",
        "    its list of most similar words, and a list of words.\n",
        "    \"\"\"\n",
        "    arrays = np.empty((0, 100), dtype='f')\n",
        "    word_labels = [word]\n",
        "    color_list  = ['green']\n",
        "\n",
        "    # adds the vector of the query word\n",
        "    arrays = np.append(arrays, model.wv.__getitem__([word]), axis=0)\n",
        "    \n",
        "    # gets list of most similar words\n",
        "    close_words = model.wv.most_similar([word])\n",
        "    \n",
        "    # adds the vector for each of the closest words to the array\n",
        "    # for wrd_score in close_words[:5]:\n",
        "    #     wrd_vector = model.wv.__getitem__([wrd_score[0]])\n",
        "    #     word_labels.append(wrd_score[0])\n",
        "    #     color_list.append('blue')\n",
        "    #     arrays = np.append(arrays, wrd_vector, axis=0)\n",
        "    \n",
        "    # adds the vector for each of the words from list_names to the array\n",
        "    for wrd in list_names:\n",
        "        wrd_vector = model.wv.__getitem__([wrd])\n",
        "        word_labels.append(wrd)\n",
        "        color_list.append('green')\n",
        "        arrays = np.append(arrays, wrd_vector, axis=0)\n",
        "        \n",
        "    # Reduces the dimensionality from 300 to 50 dimensions with PCA\n",
        "    reduc = PCA(n_components=4).fit_transform(arrays)\n",
        "    \n",
        "    # Finds t-SNE coordinates for 2 dimensions\n",
        "    np.set_printoptions(suppress=True)\n",
        "    \n",
        "    Y = TSNE(n_components=2, random_state=0, perplexity=3).fit_transform(reduc)\n",
        "    \n",
        "    # Sets everything up to plot\n",
        "    df = pd.DataFrame({'x': [x for x in Y[:, 0]],\n",
        "                       'y': [y for y in Y[:, 1]],\n",
        "                       'words': word_labels,\n",
        "                       'color': color_list})\n",
        "    \n",
        "    fig, _ = plt.subplots()\n",
        "    fig.set_size_inches(9, 9)\n",
        "    \n",
        "    # Basic plot\n",
        "    p1 = sns.regplot(data=df,\n",
        "                     x=\"x\",\n",
        "                     y=\"y\",\n",
        "                     fit_reg=False,\n",
        "                     marker=\"o\",\n",
        "                     scatter_kws={'s': 40,\n",
        "                                  'facecolors': df['color']\n",
        "                                 }\n",
        "                    )\n",
        "    \n",
        "    # Adds annotations one by one with a loop\n",
        "    for line in range(0, df.shape[0]):\n",
        "         p1.text(df[\"x\"][line],\n",
        "                 df['y'][line],\n",
        "                 '  ' + df[\"words\"][line].title(),\n",
        "                 horizontalalignment='left',\n",
        "                 verticalalignment='bottom', size='medium',\n",
        "                 color=df['color'][line],\n",
        "                 weight='normal'\n",
        "                ).set_size(15)\n",
        "\n",
        "    \n",
        "    plt.xlim(Y[:, 0].min()-30, Y[:, 0].max()+30)\n",
        "    plt.ylim(Y[:, 1].min()-30, Y[:, 1].max()+30)\n",
        "            \n",
        "    plt.title('t-SNE visualization for {}'.format(word.title()))"
      ]
    },
    {
      "cell_type": "markdown",
      "metadata": {
        "id": "naT47hE2Htp4"
      },
      "source": [
        "#### 10 Most similar words vs. 8 Random words"
      ]
    },
    {
      "cell_type": "code",
      "execution_count": null,
      "metadata": {
        "colab": {
          "base_uri": "https://localhost:8080/",
          "height": 300
        },
        "id": "T1Ovo6VsGnu4",
        "outputId": "d02179d8-4fa8-4bb9-81dd-31cb42293a32"
      },
      "outputs": [
        {
          "ename": "ValueError",
          "evalue": "ignored",
          "output_type": "error",
          "traceback": [
            "\u001b[0;31m---------------------------------------------------------------------------\u001b[0m",
            "\u001b[0;31mValueError\u001b[0m                                Traceback (most recent call last)",
            "\u001b[0;32m<ipython-input-46-85aaada25dfd>\u001b[0m in \u001b[0;36m<cell line: 1>\u001b[0;34m()\u001b[0m\n\u001b[0;32m----> 1\u001b[0;31m \u001b[0mtsnescatterplot\u001b[0m\u001b[0;34m(\u001b[0m\u001b[0mw2v_model\u001b[0m\u001b[0;34m,\u001b[0m \u001b[0;34m'romantic'\u001b[0m\u001b[0;34m,\u001b[0m \u001b[0;34m[\u001b[0m\u001b[0;34m'fantasy'\u001b[0m\u001b[0;34m,\u001b[0m \u001b[0;34m'people'\u001b[0m\u001b[0;34m,\u001b[0m \u001b[0;34m'survivor'\u001b[0m\u001b[0;34m,\u001b[0m \u001b[0;34m'chaos'\u001b[0m\u001b[0;34m,\u001b[0m \u001b[0;34m'teenage'\u001b[0m\u001b[0;34m]\u001b[0m\u001b[0;34m)\u001b[0m\u001b[0;34m\u001b[0m\u001b[0;34m\u001b[0m\u001b[0m\n\u001b[0m",
            "\u001b[0;32m<ipython-input-45-fde2390ce3e6>\u001b[0m in \u001b[0;36mtsnescatterplot\u001b[0;34m(model, word, list_names)\u001b[0m\n\u001b[1;32m      8\u001b[0m \u001b[0;34m\u001b[0m\u001b[0m\n\u001b[1;32m      9\u001b[0m     \u001b[0;31m# adds the vector of the query word\u001b[0m\u001b[0;34m\u001b[0m\u001b[0;34m\u001b[0m\u001b[0m\n\u001b[0;32m---> 10\u001b[0;31m     \u001b[0marrays\u001b[0m \u001b[0;34m=\u001b[0m \u001b[0mnp\u001b[0m\u001b[0;34m.\u001b[0m\u001b[0mappend\u001b[0m\u001b[0;34m(\u001b[0m\u001b[0marrays\u001b[0m\u001b[0;34m,\u001b[0m \u001b[0mmodel\u001b[0m\u001b[0;34m.\u001b[0m\u001b[0mwv\u001b[0m\u001b[0;34m.\u001b[0m\u001b[0m__getitem__\u001b[0m\u001b[0;34m(\u001b[0m\u001b[0;34m[\u001b[0m\u001b[0mword\u001b[0m\u001b[0;34m]\u001b[0m\u001b[0;34m)\u001b[0m\u001b[0;34m,\u001b[0m \u001b[0maxis\u001b[0m\u001b[0;34m=\u001b[0m\u001b[0;36m0\u001b[0m\u001b[0;34m)\u001b[0m\u001b[0;34m\u001b[0m\u001b[0;34m\u001b[0m\u001b[0m\n\u001b[0m\u001b[1;32m     11\u001b[0m \u001b[0;34m\u001b[0m\u001b[0m\n\u001b[1;32m     12\u001b[0m     \u001b[0;31m# gets list of most similar words\u001b[0m\u001b[0;34m\u001b[0m\u001b[0;34m\u001b[0m\u001b[0m\n",
            "\u001b[0;32m/usr/local/lib/python3.9/dist-packages/numpy/core/overrides.py\u001b[0m in \u001b[0;36mappend\u001b[0;34m(*args, **kwargs)\u001b[0m\n",
            "\u001b[0;32m/usr/local/lib/python3.9/dist-packages/numpy/lib/function_base.py\u001b[0m in \u001b[0;36mappend\u001b[0;34m(arr, values, axis)\u001b[0m\n\u001b[1;32m   5390\u001b[0m         \u001b[0mvalues\u001b[0m \u001b[0;34m=\u001b[0m \u001b[0mravel\u001b[0m\u001b[0;34m(\u001b[0m\u001b[0mvalues\u001b[0m\u001b[0;34m)\u001b[0m\u001b[0;34m\u001b[0m\u001b[0;34m\u001b[0m\u001b[0m\n\u001b[1;32m   5391\u001b[0m         \u001b[0maxis\u001b[0m \u001b[0;34m=\u001b[0m \u001b[0marr\u001b[0m\u001b[0;34m.\u001b[0m\u001b[0mndim\u001b[0m\u001b[0;34m-\u001b[0m\u001b[0;36m1\u001b[0m\u001b[0;34m\u001b[0m\u001b[0;34m\u001b[0m\u001b[0m\n\u001b[0;32m-> 5392\u001b[0;31m     \u001b[0;32mreturn\u001b[0m \u001b[0mconcatenate\u001b[0m\u001b[0;34m(\u001b[0m\u001b[0;34m(\u001b[0m\u001b[0marr\u001b[0m\u001b[0;34m,\u001b[0m \u001b[0mvalues\u001b[0m\u001b[0;34m)\u001b[0m\u001b[0;34m,\u001b[0m \u001b[0maxis\u001b[0m\u001b[0;34m=\u001b[0m\u001b[0maxis\u001b[0m\u001b[0;34m)\u001b[0m\u001b[0;34m\u001b[0m\u001b[0;34m\u001b[0m\u001b[0m\n\u001b[0m\u001b[1;32m   5393\u001b[0m \u001b[0;34m\u001b[0m\u001b[0m\n\u001b[1;32m   5394\u001b[0m \u001b[0;34m\u001b[0m\u001b[0m\n",
            "\u001b[0;32m/usr/local/lib/python3.9/dist-packages/numpy/core/overrides.py\u001b[0m in \u001b[0;36mconcatenate\u001b[0;34m(*args, **kwargs)\u001b[0m\n",
            "\u001b[0;31mValueError\u001b[0m: all the input array dimensions for the concatenation axis must match exactly, but along dimension 1, the array at index 0 has size 100 and the array at index 1 has size 500"
          ]
        }
      ],
      "source": [
        "tsnescatterplot(w2v_model, 'romantic', ['fantasy', 'people', 'survivor', 'chaos', 'teenage'])"
      ]
    },
    {
      "cell_type": "code",
      "execution_count": null,
      "metadata": {
        "id": "DmHwKYsdHSXa"
      },
      "outputs": [],
      "source": [
        "tsnescatterplot(w2v_model, 'fun', ['dog', 'paris', 'home', 'power', 'water', 'cat', 'ill', 'work'])"
      ]
    },
    {
      "cell_type": "markdown",
      "metadata": {
        "id": "GmqcMP1JJdO8"
      },
      "source": [
        "#### Plot w2v model"
      ]
    },
    {
      "cell_type": "code",
      "execution_count": null,
      "metadata": {
        "id": "iSaCSRvKJoSI"
      },
      "outputs": [],
      "source": [
        "from gensim.models import Word2Vec\n",
        "from gensim.models import KeyedVectors\n",
        "from sklearn.manifold import TSNE\n",
        "import matplotlib.pyplot as plt\n",
        "\n",
        "words = ['dog', 'paris', 'home', 'power', 'water', 'cat', 'ill', 'work']\n",
        "def tsne_plot(model):\n",
        "    \"Creates and TSNE model and plots it\"\n",
        "    labels = []\n",
        "    tokens = []\n",
        "    i = -1\n",
        "    for word in model.wv.key_to_index:\n",
        "        i+=1\n",
        "        if i%30==0:\n",
        "          tokens.append(model.wv[word])\n",
        "          labels.append(word)\n",
        "    \n",
        "    tsne_model = TSNE(n_components=2, n_iter=2500, random_state=23)\n",
        "    tokens_array = np.array(tokens)  # convert list to numpy array\n",
        "    new_values = tsne_model.fit_transform(tokens_array)\n",
        "\n",
        "    x = new_values[:,0]\n",
        "    y = new_values[:,1]\n",
        "        \n",
        "    plt.figure(figsize=(16, 16)) \n",
        "    for i in range(len(x)):\n",
        "        plt.scatter(x[i],y[i])\n",
        "        plt.annotate(labels[i],\n",
        "                     xy=(x[i], y[i]),\n",
        "                     xytext=(5, 2),\n",
        "                     textcoords='offset points',\n",
        "                     ha='right',\n",
        "                     va='bottom')\n",
        "    plt.show()"
      ]
    },
    {
      "cell_type": "code",
      "execution_count": null,
      "metadata": {
        "id": "Kj-X0fY-Jp2t"
      },
      "outputs": [],
      "source": [
        "tsne_plot(w2v_model)"
      ]
    },
    {
      "cell_type": "markdown",
      "metadata": {
        "id": "3aSxh_6JI6_N"
      },
      "source": [
        "### show word vector"
      ]
    },
    {
      "cell_type": "code",
      "execution_count": null,
      "metadata": {
        "id": "qUzgsT6bIMLR"
      },
      "outputs": [],
      "source": [
        "w2v_model.wv.vectors.shape"
      ]
    },
    {
      "cell_type": "code",
      "execution_count": null,
      "metadata": {
        "id": "4lyj-b9XKFma"
      },
      "outputs": [],
      "source": [
        "w2v_model.wv.vectors"
      ]
    },
    {
      "cell_type": "code",
      "execution_count": null,
      "metadata": {
        "id": "O79N8jFsIXOV"
      },
      "outputs": [],
      "source": [
        "w2v_model.wv.key_to_index"
      ]
    },
    {
      "cell_type": "markdown",
      "metadata": {
        "id": "D6q4oCv6l6yT"
      },
      "source": [
        "### TF-IDF"
      ]
    },
    {
      "cell_type": "markdown",
      "metadata": {
        "id": "7Vh3DwdzqxeZ"
      },
      "source": [
        "Creating Trigrams Using bigrams as inputs in order to provide more contextual meaning vs creating trigrams from scratch. This means that we can consider the relationship between words already captured in the bigrams to provide better overall context. "
      ]
    },
    {
      "cell_type": "code",
      "execution_count": null,
      "metadata": {
        "id": "9w4qvi8vr30a"
      },
      "outputs": [],
      "source": [
        "from gensim.models.phrases import Phrases, Phraser\n",
        "from nltk import bigrams, trigrams\n",
        "\n",
        "words = [row.split() for row in train['overview']]\n",
        "\n",
        "# First create bigrams\n",
        "bigram_phrases = Phrases(words, min_count=30, progress_per=10000)\n",
        "bigram = Phraser(bigram_phrases)\n",
        "bigram_sentences = bigram[words]\n",
        "\n"
      ]
    },
    {
      "cell_type": "code",
      "execution_count": null,
      "metadata": {
        "id": "lQDIhFkz58wL"
      },
      "outputs": [],
      "source": [
        "# Next create trigrams using the bigrams as inputs\n",
        "trigram_phrases = Phrases(bigram_sentences, min_count=30, progress_per=10000)\n",
        "trigram = Phraser(trigram_phrases)\n",
        "trigram_sentences = trigram[bigram_sentences]"
      ]
    },
    {
      "cell_type": "markdown",
      "metadata": {
        "id": "vkUHknEtu0xm"
      },
      "source": [
        "Visualizing the 20 most common trigrams:\n"
      ]
    },
    {
      "cell_type": "code",
      "execution_count": null,
      "metadata": {
        "id": "CqmCWHbG5q_S"
      },
      "outputs": [],
      "source": [
        "from collections import Counter\n",
        "from nltk.collocations import TrigramAssocMeasures, TrigramCollocationFinder\n",
        "\n",
        "# Use 'words' as a list of tokenized sentences\n",
        "flat_words = [word for sentence in words for word in sentence]\n",
        "\n",
        "# Find trigram collocations\n",
        "trigram_measures = TrigramAssocMeasures()\n",
        "finder = TrigramCollocationFinder.from_words(flat_words)\n",
        "\n",
        "finder.apply_freq_filter(10)  # Only consider trigrams that appear at least 10 times\n",
        "\n",
        "# Get the top 20 trigrams by using Pointwise Mutual Information:\n",
        "top_trigrams = finder.nbest(trigram_measures.pmi, 20)\n",
        "\n",
        "# Plot of common trigrams:\n",
        "trigram_counts = Counter(finder.ngram_fd)\n",
        "trigram_freqs = [trigram_counts[trigram] for trigram in top_trigrams]\n",
        "\n",
        "plt.figure(figsize=(20, 8))\n",
        "plt.bar(['_'.join(trigram) for trigram in top_trigrams], trigram_freqs)\n",
        "plt.xticks(rotation=45)\n",
        "plt.xlabel('Trigrams')\n",
        "plt.ylabel('Frequency')\n",
        "plt.title('Top 20 Most Common Trigrams')\n",
        "plt.show()\n",
        "\n"
      ]
    },
    {
      "cell_type": "markdown",
      "metadata": {
        "id": "O2KLWzzI--p6"
      },
      "source": [
        "The trigram new_york_city can likely be dropped given it's frequency relative to the other trigrams. Let's instead TFIDF vectorize our trigrams to look at ways to weight trigrams such as 'new_york_city' with less importance:"
      ]
    },
    {
      "cell_type": "code",
      "execution_count": null,
      "metadata": {
        "id": "Xhs9hfY498N-"
      },
      "outputs": [],
      "source": [
        "from nltk import trigrams\n",
        "from sklearn.feature_extraction.text import TfidfVectorizer\n",
        "\n",
        "def trigram_tokenizer(text):\n",
        "    words = text.split()\n",
        "    trigram_list = ['_'.join(trigram) for trigram in trigrams(words)]\n",
        "    return trigram_list\n",
        "\n",
        "text_data = train['overview']\n",
        "\n",
        "vectorizer = TfidfVectorizer(tokenizer=trigram_tokenizer, ngram_range=(1, 1), min_df=3)\n",
        "X = vectorizer.fit_transform(text_data)\n",
        "\n",
        "# X is the TF-IDF feature matrix"
      ]
    },
    {
      "cell_type": "code",
      "execution_count": null,
      "metadata": {
        "id": "XxtiIZ6H2Cd1"
      },
      "outputs": [],
      "source": [
        "X.shape"
      ]
    },
    {
      "cell_type": "code",
      "execution_count": null,
      "metadata": {
        "id": "0ndjFgkAWeiQ"
      },
      "outputs": [],
      "source": [
        "type(X)"
      ]
    },
    {
      "cell_type": "markdown",
      "metadata": {
        "id": "Q_OBIO0LN-TU"
      },
      "source": [
        "Showing a dataframe of TFIDF trigram summations across the corpus of documents:\n",
        "\n",
        "\n",
        "\n",
        "\n"
      ]
    },
    {
      "cell_type": "code",
      "execution_count": null,
      "metadata": {
        "id": "JCUZElYf4IPs"
      },
      "outputs": [],
      "source": [
        "import numpy as np\n",
        "import pandas as pd\n",
        "\n",
        "# Sum the TF-IDF values for each trigram across all documents\n",
        "trigram_sums = np.sum(X, axis=0)\n",
        "trigram_sums = np.squeeze(np.asarray(trigram_sums))\n",
        "\n",
        "# Create a DataFrame with trigrams and their corresponding summed TF-IDF values\n",
        "trigram_scores = pd.DataFrame({\"trigram\": vectorizer.get_feature_names_out(), \"tfidf_sum\": trigram_sums})\n",
        "\n",
        "# Sort the DataFrame based on the summed TF-IDF values in descending order\n",
        "trigram_scores = trigram_scores.sort_values(by=\"tfidf_sum\", ascending=False)\n",
        "\n",
        "# Display the top 20 trigrams along with their summed TF-IDF scores\n",
        "top_20_trigrams = trigram_scores.head(20)\n",
        "print(top_20_trigrams)\n"
      ]
    },
    {
      "cell_type": "markdown",
      "metadata": {
        "id": "VVjfwUzjKvJ1"
      },
      "source": [
        "It seems using TFIDF trigram sum accross all documents (shown in the code block above) replicates the most frequently occuring trigrams across the corpus as seen in the 20 most common trigrams plot (also above). Instead, let's try using max TFIDF score to see if this is a more useful measure of trigram importance. "
      ]
    },
    {
      "cell_type": "code",
      "execution_count": null,
      "metadata": {
        "id": "Q5Fbgbz3EWaN"
      },
      "outputs": [],
      "source": [
        "from sklearn.feature_extraction.text import TfidfVectorizer\n",
        "\n",
        "def trigram_tokenizer(text):\n",
        "    words = text.split()\n",
        "    trigram_list = ['_'.join(trigram) for trigram in trigrams(words)]\n",
        "    return trigram_list\n",
        "\n",
        "text_data = train['overview']\n",
        "\n",
        "vectorizer = TfidfVectorizer(tokenizer=trigram_tokenizer, ngram_range=(1, 1))\n",
        "X = vectorizer.fit_transform(text_data)\n",
        "\n",
        "# Calculate the maximum TF-IDF value for each trigram across all documents\n",
        "trigram_max = np.max(X, axis=0).toarray().ravel()\n",
        "\n",
        "# Create a DataFrame with trigrams and their corresponding maximum TF-IDF values\n",
        "trigram_scores = pd.DataFrame({\"trigram\": vectorizer.get_feature_names_out(), \"tfidf_max\": trigram_max})\n",
        "\n",
        "# Sort the DataFrame based on the maximum TF-IDF values in descending order\n",
        "trigram_scores = trigram_scores.sort_values(by=\"tfidf_max\", ascending=False)\n",
        "\n",
        "# Display the top 20 trigrams along with their maximum TF-IDF scores\n",
        "top_20_trigrams = trigram_scores.head(20)\n",
        "print(top_20_trigrams)\n"
      ]
    },
    {
      "cell_type": "markdown",
      "metadata": {
        "id": "jK4U5j2lLs3u"
      },
      "source": [
        "Below, showing a dataframe of the lowest of the TFIDF maximum scores:  "
      ]
    },
    {
      "cell_type": "code",
      "execution_count": null,
      "metadata": {
        "id": "LYxMMDFNJWhG"
      },
      "outputs": [],
      "source": [
        "\n",
        "#Sort the DataFrame based on the maximum TF-IDF values in ascending order\n",
        "#This shows us the lowest maximum scores\n",
        "trigram_scores = trigram_scores.sort_values(by=\"tfidf_max\", ascending=True)\n",
        "\n",
        "# Display the bottom 20 trigrams along with their maximum TF-IDF scores\n",
        "bottom_20_trigrams = trigram_scores.head(20)\n",
        "print(bottom_20_trigrams)"
      ]
    },
    {
      "cell_type": "code",
      "execution_count": null,
      "metadata": {
        "id": "RQfUoUtOpT3i"
      },
      "outputs": [],
      "source": [
        "#Create the TFIDF Matrix for the test dataset as well:\n",
        "test_text_data = test['overview']\n",
        "X_test = vectorizer.transform(test_text_data)"
      ]
    },
    {
      "cell_type": "code",
      "execution_count": null,
      "metadata": {
        "id": "GJmTPzHaWWYJ"
      },
      "outputs": [],
      "source": [
        "X_test.shape"
      ]
    },
    {
      "cell_type": "code",
      "execution_count": null,
      "metadata": {
        "id": "gKYEwZtpWt6p"
      },
      "outputs": [],
      "source": [
        "X.shape"
      ]
    },
    {
      "cell_type": "markdown",
      "metadata": {
        "id": "L_q6_Di37_UN"
      },
      "source": [
        "### doc2vector"
      ]
    },
    {
      "cell_type": "code",
      "execution_count": null,
      "metadata": {
        "id": "zNSqX0Vs7_UN"
      },
      "outputs": [],
      "source": [
        "from gensim.models.doc2vec import Doc2Vec, TaggedDocument\n",
        "import numpy as np"
      ]
    },
    {
      "cell_type": "code",
      "execution_count": null,
      "metadata": {
        "id": "9TICON5x7_UN"
      },
      "outputs": [],
      "source": [
        "from gensim.models.phrases import Phrases, Phraser\n",
        "from nltk import bigrams\n",
        "\n",
        "words = [row.split() for row in train['overview']]\n",
        "phrases = Phrases(words, min_count=30, progress_per=10000)\n",
        "bigram = Phraser(phrases)\n",
        "sentences = bigram[words]"
      ]
    },
    {
      "cell_type": "code",
      "execution_count": null,
      "metadata": {
        "id": "dNwKY_oX7_UN"
      },
      "outputs": [],
      "source": [
        "sentences"
      ]
    },
    {
      "cell_type": "code",
      "execution_count": null,
      "metadata": {
        "id": "hEmkT9vc7_UN"
      },
      "outputs": [],
      "source": [
        "def get_documents(overviews):\n",
        "    texts = []\n",
        "    for row in overviews:\n",
        "        word_array = row.split(\" \")\n",
        "        texts.append([x for x in word_array if x])\n",
        "    documents = [TaggedDocument(doc, [i]) for i, doc in enumerate(texts)]\n",
        "    return texts, documents"
      ]
    },
    {
      "cell_type": "code",
      "execution_count": null,
      "metadata": {
        "id": "WT_ijkY47_UN"
      },
      "outputs": [],
      "source": [
        "train_texts, train_documents = get_documents(train['overview'])"
      ]
    },
    {
      "cell_type": "code",
      "execution_count": null,
      "metadata": {
        "id": "kTmalhcz7_UN"
      },
      "outputs": [],
      "source": [
        "model = Doc2Vec(train_documents, vector_size=100, dm=1, dm_concat=1, window=2, min_count=1, workers=4)"
      ]
    },
    {
      "cell_type": "code",
      "execution_count": null,
      "metadata": {
        "id": "JnzDiNk87_UO"
      },
      "outputs": [],
      "source": [
        "d2v_train_vectors = [model.infer_vector(text) for text in train_texts] \n",
        "d2v_train_vectors = np.array(d2v_train_vectors)"
      ]
    },
    {
      "cell_type": "code",
      "execution_count": null,
      "metadata": {
        "id": "sWgIH9aR7_UO"
      },
      "outputs": [],
      "source": [
        "test_texts, test_documents = get_documents(test['overview'])\n",
        "d2v_test_vectors = [model.infer_vector(text) for text in test_texts] \n",
        "d2v_test_vectors = np.array(d2v_test_vectors)"
      ]
    },
    {
      "cell_type": "code",
      "execution_count": null,
      "metadata": {
        "id": "Nul8zm0C7_UU"
      },
      "outputs": [],
      "source": [
        "d2v_train_vectors.shape"
      ]
    },
    {
      "cell_type": "code",
      "execution_count": null,
      "metadata": {
        "id": "bWYf9g0g7_UU"
      },
      "outputs": [],
      "source": [
        "d2v_test_vectors.shape"
      ]
    },
    {
      "cell_type": "markdown",
      "metadata": {
        "id": "eXVhcAh77_UU"
      },
      "source": [
        "### doc2vec - ngrams"
      ]
    },
    {
      "cell_type": "code",
      "execution_count": null,
      "metadata": {
        "id": "ADRMEkMw7_UV"
      },
      "outputs": [],
      "source": [
        "from gensim.models.phrases import Phrases, Phraser\n",
        "from nltk import bigrams\n",
        "\n",
        "words = [row.split() for row in train['overview']]\n",
        "phrases = Phrases(words, min_count=30, progress_per=10000)\n",
        "bigram = Phraser(phrases)\n",
        "sentences = bigram[words]\n",
        "\n",
        "w2v_model.build_vocab(sentences, progress_per=10000)\n",
        "\n",
        "w2v_model.train(sentences, total_examples=w2v_model.corpus_count, epochs=30, report_delay=1)\n",
        "\n",
        "tokenizer = ToktokTokenizer()\n",
        "nlp = spacy.load('en_core_web_sm')\n",
        "\n",
        "# tokenize train reviews & encode train labels\n",
        "tokenized_train = [tokenizer.tokenize(text)\n",
        "                   for text in train_text]\n",
        "y_train = train.drop(labels = ['id','overview', 'genres'], axis=1)\n",
        "# tokenize test reviews & encode test labels\n",
        "tokenized_test = [tokenizer.tokenize(text)\n",
        "                   for text in test_text]\n",
        "y_test = test.drop(labels = ['id','overview', 'genres'], axis=1)\n",
        "\n",
        "# build word2vec model\n",
        "w2v_num_features = 500\n",
        "w2v_model = gensim.models.Word2Vec(tokenized_train, vector_size=w2v_num_features, window=150,\n",
        "                                   min_count=10, sample=1e-3)  \n",
        "\n",
        "def averaged_word2vec_vectorizer(corpus, model, num_features):\n",
        "    vocabulary = set(model.wv.index_to_key)\n",
        "    \n",
        "    def average_word_vectors(words, model, vocabulary, num_features):\n",
        "        feature_vector = np.zeros((num_features,), dtype=\"float64\")\n",
        "        nwords = 0.\n",
        "        \n",
        "        for word in words:\n",
        "            if word in vocabulary: \n",
        "                nwords = nwords + 1.\n",
        "                feature_vector = np.add(feature_vector, model.wv[word])\n",
        "        if nwords:\n",
        "            feature_vector = np.divide(feature_vector, nwords)\n",
        "\n",
        "        return feature_vector\n",
        "\n",
        "    features = [average_word_vectors(tokenized_sentence, model, vocabulary, num_features)\n",
        "                    for tokenized_sentence in corpus]\n",
        "    return np.array(features)\n",
        "\n",
        "# generate averaged word vector features from word2vec model\n",
        "avg_wv_train_features = averaged_word2vec_vectorizer(corpus=tokenized_train, model=w2v_model, num_features=500)\n",
        "avg_wv_test_features = averaged_word2vec_vectorizer(corpus=tokenized_test, model=w2v_model, num_features=500)"
      ]
    },
    {
      "cell_type": "markdown",
      "metadata": {
        "id": "ti0fYSfFr3X1"
      },
      "source": [
        "# Baseline and Benchmark of Features"
      ]
    },
    {
      "cell_type": "markdown",
      "metadata": {
        "id": "fezvcga0Oh-Z"
      },
      "source": [
        "# Using pipeline for applying logistic regression and one vs rest classifier"
      ]
    },
    {
      "cell_type": "markdown",
      "metadata": {
        "id": "gu6n5SMu4rKG"
      },
      "source": [
        "OneVsRest\n",
        "1. Traditional two-class and multi-class problems can both be cast into multi-label ones by restricting each instance to have only one label. On the other hand, the generality of multi-label problems inevitably makes it more difficult to learn. An intuitive approach to solving multi-label problem is to decompose it into multiple independent binary classification problems (one per category).\n",
        "2. In an “one-to-rest” strategy, one could build multiple independent classifiers and, for an unseen instance, choose the class for which the confidence is maximized.\n",
        "3. The main assumption here is that the labels are mutually exclusive. You do not consider any underlying correlation between the classes in this method.\n",
        "4. For instance, it is more like asking simple questions, say, “is the comment toxic or not”, “is the comment threatening or not?”, etc. Also there might be an extensive case of overfitting here, since most of the comments are unlabeled, i,e., most of the comments are clean comments."
      ]
    },
    {
      "cell_type": "code",
      "execution_count": null,
      "metadata": {
        "id": "2Y2KRSyDIt_w"
      },
      "outputs": [],
      "source": [
        "from sklearn.linear_model import LogisticRegression\n",
        "from sklearn.pipeline import Pipeline\n",
        "from sklearn.metrics import accuracy_score, confusion_matrix, roc_curve, auc, roc_auc_score, f1_score, precision_score, recall_score\n",
        "from sklearn.multiclass import OneVsRestClassifier\n",
        "from sklearn.metrics import confusion_matrix,ConfusionMatrixDisplay"
      ]
    },
    {
      "cell_type": "code",
      "execution_count": null,
      "metadata": {
        "id": "MYULPtAUIt_w"
      },
      "outputs": [],
      "source": [
        "from IPython.display import Markdown, display\n",
        "def printmd(string):\n",
        "    display(Markdown(string))\n",
        "#printmd('**bold**')"
      ]
    },
    {
      "cell_type": "markdown",
      "metadata": {
        "id": "obkPwQRPPsxs"
      },
      "source": [
        "### word2vec"
      ]
    },
    {
      "cell_type": "code",
      "execution_count": null,
      "metadata": {
        "colab": {
          "base_uri": "https://localhost:8080/",
          "height": 495
        },
        "id": "23bpdpj7mRlw",
        "outputId": "166f390e-0dc3-4567-eee0-ee04972063dc"
      },
      "outputs": [
        {
          "data": {
            "image/png": "[encoded data removed]",
            "text/plain": [
              "<Figure size 1000x600 with 1 Axes>"
            ]
          },
          "metadata": {},
          "output_type": "display_data"
        }
      ],
      "source": [
        "#Plotting the y genre columns:\n",
        "\n",
        "genre_columns = ['Drama', 'Romance', 'Action', 'Thriller', 'Comedy']\n",
        "plot_df = data[genre_columns]\n",
        "\n",
        "# Calculate the sum of each column\n",
        "column_sums = plot_df.sum(axis=0)\n",
        "\n",
        "# Set the width of the bars\n",
        "bar_width = 0.5\n",
        "\n",
        "# Set the x-axis positions for the bars\n",
        "x = np.arange(len(column_sums))\n",
        "\n",
        "# Create a figure and axis\n",
        "fig, ax = plt.subplots(figsize=(10, 6))\n",
        "\n",
        "# Plot the bars for each column\n",
        "ax.bar(x, column_sums, width=bar_width)\n",
        "\n",
        "# Set the x-axis tick positions and labels\n",
        "ax.set_xticks(x)\n",
        "ax.set_xticklabels(column_sums.index)\n",
        "\n",
        "# Add labels and title\n",
        "ax.set_ylabel('Count')\n",
        "ax.set_title('Count of Each Genre')\n",
        "\n",
        "# Show the plot\n",
        "plt.show()\n"
      ]
    },
    {
      "cell_type": "code",
      "execution_count": null,
      "metadata": {
        "colab": {
          "base_uri": "https://localhost:8080/"
        },
        "id": "MJj76hT1VQCL",
        "outputId": "6480cce5-303f-47a0-c62c-7bb9957ea5dc"
      },
      "outputs": [
        {
          "name": "stdout",
          "output_type": "stream",
          "text": [
            "Looking in indexes: https://pypi.org/simple, https://us-python.pkg.dev/colab-wheels/public/simple/\n",
            "Requirement already satisfied: scikit-multilearn in /usr/local/lib/python3.9/dist-packages (0.2.0)\n"
          ]
        }
      ],
      "source": [
        "!pip install scikit-multilearn"
      ]
    },
    {
      "cell_type": "code",
      "execution_count": null,
      "metadata": {
        "colab": {
          "base_uri": "https://localhost:8080/"
        },
        "id": "xa_jOmf1mFmr",
        "outputId": "ee6715ed-86ec-4aa4-c39b-fe0e34ea3779"
      },
      "outputs": [
        {
          "name": "stdout",
          "output_type": "stream",
          "text": [
            "(7606, 500)\n",
            "(7606, 5)\n",
            "7606\n",
            "9\n",
            "(7597, 500)\n",
            "7597\n"
          ]
        }
      ],
      "source": [
        "X_train = avg_wv_train_features\n",
        "y_train = train[categories]\n",
        "\n",
        "print(X_train.shape)\n",
        "print(y_train.shape)\n",
        "import numpy as np\n",
        "from sklearn.datasets import make_multilabel_classification\n",
        "from sklearn.model_selection import train_test_split\n",
        "from skmultilearn.problem_transform import LabelPowerset\n",
        "from imblearn.over_sampling import SMOTE\n",
        "\n",
        "lp = LabelPowerset()\n",
        "y_train_single_label = lp.transform(y_train)\n",
        "print(len(y_train_single_label))\n",
        "\n",
        "count = {}\n",
        "for i in y_train_single_label:\n",
        "  count[i] = 0\n",
        "\n",
        "for i in y_train_single_label:\n",
        "  count[i] += 1\n",
        "\n",
        "# Apply SMOTE to the transformed dataset\n",
        "smote = SMOTE(random_state=42)\n",
        "remove_index = []\n",
        "\n",
        "y_new = []\n",
        "for i in range(7606):\n",
        "  power_label = y_train_single_label[i]\n",
        "  if count[power_label] < 6:\n",
        "    remove_index.append(i)\n",
        "  else:\n",
        "    y_new.append(y_train_single_label[i])\n",
        "\n",
        "print(len(remove_index))\n",
        "X_new = np.delete(X_train, remove_index, axis=0)\n",
        "\n",
        "print(X_new.shape)\n",
        "print(len(y_new))\n",
        "X_train_resampled, y_train_single_label_resampled = smote.fit_resample(X_new, y_new)\n",
        "y_train_resampled = lp.inverse_transform(y_train_single_label_resampled)\n",
        "y_df = pd.DataFrame(y_train_resampled.toarray(), columns=categories)"
      ]
    },
    {
      "cell_type": "code",
      "execution_count": null,
      "metadata": {
        "colab": {
          "base_uri": "https://localhost:8080/"
        },
        "id": "rnx-FcyvuCi2",
        "outputId": "2f793f7d-14a3-4a81-ffbd-7cdab34468de"
      },
      "outputs": [
        {
          "name": "stdout",
          "output_type": "stream",
          "text": [
            "(32451, 5)\n",
            "(32451, 500)\n"
          ]
        }
      ],
      "source": [
        "print(y_train_resampled.shape)\n",
        "print(X_train_resampled.shape)"
      ]
    },
    {
      "cell_type": "code",
      "execution_count": null,
      "metadata": {
        "colab": {
          "base_uri": "https://localhost:8080/",
          "height": 1000
        },
        "id": "miZMdRIwzhuC",
        "outputId": "3ec03268-7e29-4f63-ea08-98d639eb28b0"
      },
      "outputs": [
        {
          "data": {
            "text/markdown": "**Processing Action overview...**",
            "text/plain": [
              "<IPython.core.display.Markdown object>"
            ]
          },
          "metadata": {},
          "output_type": "display_data"
        },
        {
          "data": {
            "image/png": "[encoded data removed]",
            "text/plain": [
              "<Figure size 640x480 with 2 Axes>"
            ]
          },
          "metadata": {},
          "output_type": "display_data"
        },
        {
          "name": "stdout",
          "output_type": "stream",
          "text": [
            "Test accuracy is 0.6861963190184049\n",
            "Test f1 is 0.5079365079365079\n",
            "Test precision score is 0.38596491228070173\n",
            "Test recall score is 0.7426160337552743\n",
            "Test roc auc score is 0.7065375186430355\n",
            "\n",
            "\n"
          ]
        },
        {
          "data": {
            "text/markdown": "**Processing Comedy overview...**",
            "text/plain": [
              "<IPython.core.display.Markdown object>"
            ]
          },
          "metadata": {},
          "output_type": "display_data"
        },
        {
          "data": {
            "image/png": "[encoded data removed]",
            "text/plain": [
              "<Figure size 640x480 with 2 Axes>"
            ]
          },
          "metadata": {},
          "output_type": "display_data"
        },
        {
          "name": "stdout",
          "output_type": "stream",
          "text": [
            "Test accuracy is 0.6469325153374234\n",
            "Test f1 is 0.5423459244532803\n",
            "Test precision score is 0.4881889763779528\n",
            "Test recall score is 0.6100178890876565\n",
            "Test roc auc score is 0.6381088511731468\n",
            "\n",
            "\n"
          ]
        },
        {
          "data": {
            "text/markdown": "**Processing Drama overview...**",
            "text/plain": [
              "<IPython.core.display.Markdown object>"
            ]
          },
          "metadata": {},
          "output_type": "display_data"
        },
        {
          "data": {
            "image/png": "[encoded data removed]",
            "text/plain": [
              "<Figure size 640x480 with 2 Axes>"
            ]
          },
          "metadata": {},
          "output_type": "display_data"
        },
        {
          "name": "stdout",
          "output_type": "stream",
          "text": [
            "Test accuracy is 0.6147239263803681\n",
            "Test f1 is 0.5704514363885089\n",
            "Test precision score is 0.5548902195608783\n",
            "Test recall score is 0.5869106263194933\n",
            "Test roc auc score is 0.6115629803701871\n",
            "\n",
            "\n"
          ]
        },
        {
          "data": {
            "text/markdown": "**Processing Thriller overview...**",
            "text/plain": [
              "<IPython.core.display.Markdown object>"
            ]
          },
          "metadata": {},
          "output_type": "display_data"
        },
        {
          "data": {
            "image/png": "[encoded data removed]",
            "text/plain": [
              "<Figure size 640x480 with 2 Axes>"
            ]
          },
          "metadata": {},
          "output_type": "display_data"
        },
        {
          "name": "stdout",
          "output_type": "stream",
          "text": [
            "Test accuracy is 0.7251533742331289\n",
            "Test f1 is 0.4814814814814815\n",
            "Test precision score is 0.48711943793911006\n",
            "Test recall score is 0.4759725400457666\n",
            "Test roc auc score is 0.6462008551025145\n",
            "\n",
            "\n"
          ]
        },
        {
          "data": {
            "text/markdown": "**Processing Romance overview...**",
            "text/plain": [
              "<IPython.core.display.Markdown object>"
            ]
          },
          "metadata": {},
          "output_type": "display_data"
        },
        {
          "data": {
            "image/png": "[encoded data removed]",
            "text/plain": [
              "<Figure size 640x480 with 2 Axes>"
            ]
          },
          "metadata": {},
          "output_type": "display_data"
        },
        {
          "name": "stdout",
          "output_type": "stream",
          "text": [
            "Test accuracy is 0.7067484662576687\n",
            "Test f1 is 0.4409356725146199\n",
            "Test precision score is 0.3252804141501294\n",
            "Test recall score is 0.6842105263157895\n",
            "Test roc auc score is 0.6977715606846574\n",
            "\n",
            "\n",
            "CPU times: user 2.54 s, sys: 1.32 s, total: 3.86 s\n",
            "Wall time: 55.2 s\n"
          ]
        }
      ],
      "source": [
        "%%time\n",
        "\n",
        "# from sklearn.dummy import DummyClassifier\n",
        "from sklearn.metrics import confusion_matrix,ConfusionMatrixDisplay\n",
        "\n",
        "# Using pipeline for applying logistic regression and one vs rest classifier\n",
        "LogReg_pipeline = Pipeline([\n",
        "                ('clf', OneVsRestClassifier(LogisticRegression(solver='sag'), n_jobs=-1)),\n",
        "            ])\n",
        "\n",
        "# dummy_pipeline = Pipeline([\n",
        "#                 ('clf', OneVsRestClassifier(DummyClassifier(), n_jobs=-1)),\n",
        "#             ])\n",
        "\n",
        "for category in categories:\n",
        "    printmd('**Processing {} overview...**'.format(category))\n",
        "    \n",
        "    # Training logistic regression model on train data\n",
        "    model = LogReg_pipeline.fit(X_train_resampled, y_df[category])\n",
        "    \n",
        "    # calculating test accuracy\n",
        "    prediction = LogReg_pipeline.predict(avg_wv_test_features)\n",
        "\n",
        "    cm = confusion_matrix(test[category], prediction)\n",
        "    disp = ConfusionMatrixDisplay(confusion_matrix=cm)\n",
        "    disp.plot()\n",
        "    plt.show()\n",
        "\n",
        "    print('Test accuracy is {}'.format(accuracy_score(test[category], prediction)))\n",
        "    print('Test f1 is {}'.format(f1_score(test[category], prediction)))\n",
        "    print('Test precision score is {}'.format(precision_score(test[category], prediction)))\n",
        "    print('Test recall score is {}'.format(recall_score(test[category], prediction)))\n",
        "    print('Test roc auc score is {}'.format(roc_auc_score(test[category], prediction)))\n",
        "    print(\"\\n\")"
      ]
    },
    {
      "cell_type": "markdown",
      "metadata": {
        "id": "V88K9c1HPi4e"
      },
      "source": [
        "### GloVe"
      ]
    },
    {
      "cell_type": "code",
      "execution_count": null,
      "metadata": {
        "colab": {
          "base_uri": "https://localhost:8080/"
        },
        "id": "vsicW45TxUWe",
        "outputId": "feaa51b5-f549-4e28-eea4-551c6bf4faba"
      },
      "outputs": [
        {
          "name": "stdout",
          "output_type": "stream",
          "text": [
            "(7606, 96)\n",
            "(7606, 5)\n",
            "7606\n",
            "9\n",
            "(7597, 96)\n",
            "7597\n"
          ]
        }
      ],
      "source": [
        "X_train = train_glove_features\n",
        "y_train = train[categories]\n",
        "\n",
        "print(X_train.shape)\n",
        "print(y_train.shape)\n",
        "import numpy as np\n",
        "from sklearn.datasets import make_multilabel_classification\n",
        "from sklearn.model_selection import train_test_split\n",
        "from skmultilearn.problem_transform import LabelPowerset\n",
        "from imblearn.over_sampling import SMOTE\n",
        "\n",
        "lp = LabelPowerset()\n",
        "y_train_single_label = lp.transform(y_train)\n",
        "print(len(y_train_single_label))\n",
        "\n",
        "count = {}\n",
        "for i in y_train_single_label:\n",
        "  count[i] = 0\n",
        "\n",
        "for i in y_train_single_label:\n",
        "  count[i] += 1\n",
        "\n",
        "# Apply SMOTE to the transformed dataset\n",
        "smote = SMOTE(random_state=42)\n",
        "remove_index = []\n",
        "\n",
        "y_new = []\n",
        "for i in range(7606):\n",
        "  power_label = y_train_single_label[i]\n",
        "  if count[power_label] < 6:\n",
        "    remove_index.append(i)\n",
        "  else:\n",
        "    y_new.append(y_train_single_label[i])\n",
        "\n",
        "print(len(remove_index))\n",
        "X_new = np.delete(X_train, remove_index, axis=0)\n",
        "\n",
        "print(X_new.shape)\n",
        "print(len(y_new))\n",
        "X_train_resampled, y_train_single_label_resampled = smote.fit_resample(X_new, y_new)\n",
        "y_train_resampled = lp.inverse_transform(y_train_single_label_resampled)\n",
        "y_df = pd.DataFrame(y_train_resampled.toarray(), columns=categories)"
      ]
    },
    {
      "cell_type": "code",
      "execution_count": null,
      "metadata": {
        "colab": {
          "base_uri": "https://localhost:8080/",
          "height": 1000
        },
        "id": "DJF6rvRTKeCh",
        "outputId": "3c350236-7473-4cea-b701-f1c54335aabb"
      },
      "outputs": [
        {
          "data": {
            "text/markdown": "**Processing Action overview...**",
            "text/plain": [
              "<IPython.core.display.Markdown object>"
            ]
          },
          "metadata": {},
          "output_type": "display_data"
        },
        {
          "data": {
            "image/png": "[encoded data removed]",
            "text/plain": [
              "<Figure size 640x480 with 2 Axes>"
            ]
          },
          "metadata": {},
          "output_type": "display_data"
        },
        {
          "name": "stdout",
          "output_type": "stream",
          "text": [
            "Test accuracy is 0.6205521472392638\n",
            "Test f1 is 0.3691993880673127\n",
            "Test precision score is 0.2896\n",
            "Test recall score is 0.509142053445851\n",
            "Test roc auc score is 0.5803850714463464\n",
            "\n",
            "\n"
          ]
        },
        {
          "data": {
            "text/markdown": "**Processing Comedy overview...**",
            "text/plain": [
              "<IPython.core.display.Markdown object>"
            ]
          },
          "metadata": {},
          "output_type": "display_data"
        },
        {
          "data": {
            "image/png": "[encoded data removed]",
            "text/plain": [
              "<Figure size 640x480 with 2 Axes>"
            ]
          },
          "metadata": {},
          "output_type": "display_data"
        },
        {
          "name": "stdout",
          "output_type": "stream",
          "text": [
            "Test accuracy is 0.5533742331288344\n",
            "Test f1 is 0.4281225451688923\n",
            "Test precision score is 0.38165266106442575\n",
            "Test recall score is 0.4874776386404293\n",
            "Test roc auc score is 0.5376230396750232\n",
            "\n",
            "\n"
          ]
        },
        {
          "data": {
            "text/markdown": "**Processing Drama overview...**",
            "text/plain": [
              "<IPython.core.display.Markdown object>"
            ]
          },
          "metadata": {},
          "output_type": "display_data"
        },
        {
          "data": {
            "image/png": "[encoded data removed]",
            "text/plain": [
              "<Figure size 640x480 with 2 Axes>"
            ]
          },
          "metadata": {},
          "output_type": "display_data"
        },
        {
          "name": "stdout",
          "output_type": "stream",
          "text": [
            "Test accuracy is 0.5319018404907976\n",
            "Test f1 is 0.4886058981233244\n",
            "Test precision score is 0.46641074856046066\n",
            "Test recall score is 0.5130190007037297\n",
            "Test roc auc score is 0.5297558298787817\n",
            "\n",
            "\n"
          ]
        },
        {
          "data": {
            "text/markdown": "**Processing Thriller overview...**",
            "text/plain": [
              "<IPython.core.display.Markdown object>"
            ]
          },
          "metadata": {},
          "output_type": "display_data"
        },
        {
          "data": {
            "image/png": "[encoded data removed]",
            "text/plain": [
              "<Figure size 640x480 with 2 Axes>"
            ]
          },
          "metadata": {},
          "output_type": "display_data"
        },
        {
          "name": "stdout",
          "output_type": "stream",
          "text": [
            "Test accuracy is 0.6095092024539878\n",
            "Test f1 is 0.366351418616227\n",
            "Test precision score is 0.32422907488986785\n",
            "Test recall score is 0.42105263157894735\n",
            "Test roc auc score is 0.5497970618079145\n",
            "\n",
            "\n"
          ]
        },
        {
          "data": {
            "text/markdown": "**Processing Romance overview...**",
            "text/plain": [
              "<IPython.core.display.Markdown object>"
            ]
          },
          "metadata": {},
          "output_type": "display_data"
        },
        {
          "data": {
            "image/png": "[encoded data removed]",
            "text/plain": [
              "<Figure size 640x480 with 2 Axes>"
            ]
          },
          "metadata": {},
          "output_type": "display_data"
        },
        {
          "name": "stdout",
          "output_type": "stream",
          "text": [
            "Test accuracy is 0.6426380368098159\n",
            "Test f1 is 0.2759477936606588\n",
            "Test precision score is 0.20982986767485823\n",
            "Test recall score is 0.4029038112522686\n",
            "Test roc auc score is 0.5471514257442591\n",
            "\n",
            "\n",
            "CPU times: user 2.18 s, sys: 773 ms, total: 2.95 s\n",
            "Wall time: 36.9 s\n"
          ]
        }
      ],
      "source": [
        "%%time\n",
        "from sklearn.metrics import confusion_matrix,ConfusionMatrixDisplay\n",
        "# Using pipeline for applying logistic regression and one vs rest classifier\n",
        "LogReg_pipeline = Pipeline([\n",
        "                ('clf', OneVsRestClassifier(LogisticRegression(solver='sag'), n_jobs=-1)),\n",
        "            ])\n",
        "\n",
        "for category in categories:\n",
        "    printmd('**Processing {} overview...**'.format(category))\n",
        "    \n",
        "    # Training logistic regression model on train data\n",
        "    model = LogReg_pipeline.fit(X_train_resampled, y_df[category])\n",
        "    \n",
        "    # calculating test accuracy\n",
        "    prediction = LogReg_pipeline.predict(test_glove_features)\n",
        "    cm = confusion_matrix(test[category], prediction)\n",
        "    disp = ConfusionMatrixDisplay(confusion_matrix=cm)\n",
        "    disp.plot()\n",
        "    plt.show()\n",
        "    print('Test accuracy is {}'.format(accuracy_score(test[category], prediction)))\n",
        "    print('Test f1 is {}'.format(f1_score(test[category], prediction)))\n",
        "    print('Test precision score is {}'.format(precision_score(test[category], prediction)))\n",
        "    print('Test recall score is {}'.format(recall_score(test[category], prediction)))\n",
        "    print('Test roc auc score is {}'.format(roc_auc_score(test[category], prediction)))\n",
        "    print(\"\\n\")"
      ]
    },
    {
      "cell_type": "markdown",
      "metadata": {
        "id": "_3v3HvspPU2F"
      },
      "source": [
        "### TD-IDF"
      ]
    },
    {
      "cell_type": "code",
      "execution_count": null,
      "metadata": {
        "id": "NAZ_ncSL7_UY"
      },
      "outputs": [],
      "source": [
        "from sklearn.feature_extraction.text import TfidfVectorizer\n",
        "vectorizer = TfidfVectorizer(strip_accents='unicode', analyzer='word', ngram_range=(1,3), norm='l2')\n",
        "vectorizer.fit(train_text)\n",
        "vectorizer.fit(test_text)\n",
        "\n",
        "x_train = vectorizer.transform(train_text)\n",
        "y_train = train.drop(labels = ['id','overview', 'genres'], axis=1)\n",
        "x_test = vectorizer.transform(test_text)\n",
        "y_test = test.drop(labels = ['id','overview', 'genres'], axis=1)"
      ]
    },
    {
      "cell_type": "code",
      "execution_count": null,
      "metadata": {
        "colab": {
          "base_uri": "https://localhost:8080/"
        },
        "id": "uqUr9E7V7_UY",
        "outputId": "d843bf19-7b88-4a88-a874-f796e54e8bd7"
      },
      "outputs": [
        {
          "data": {
            "text/plain": [
              "(7606, 185395)"
            ]
          },
          "execution_count": 57,
          "metadata": {},
          "output_type": "execute_result"
        }
      ],
      "source": [
        "x_train.shape"
      ]
    },
    {
      "cell_type": "code",
      "execution_count": null,
      "metadata": {
        "colab": {
          "base_uri": "https://localhost:8080/",
          "height": 204
        },
        "id": "44hjIclgBW53",
        "outputId": "fffecb3f-2c2b-47f8-f5fa-d23e027d4f45"
      },
      "outputs": [
        {
          "ename": "NameError",
          "evalue": "ignored",
          "output_type": "error",
          "traceback": [
            "\u001b[0;31m---------------------------------------------------------------------------\u001b[0m",
            "\u001b[0;31mNameError\u001b[0m                                 Traceback (most recent call last)",
            "\u001b[0;32m<ipython-input-58-16be31b53782>\u001b[0m in \u001b[0;36m<cell line: 2>\u001b[0;34m()\u001b[0m\n\u001b[1;32m      1\u001b[0m \u001b[0;31m# type(X_test)\u001b[0m\u001b[0;34m\u001b[0m\u001b[0;34m\u001b[0m\u001b[0m\n\u001b[0;32m----> 2\u001b[0;31m \u001b[0mtype\u001b[0m\u001b[0;34m(\u001b[0m\u001b[0mX\u001b[0m\u001b[0;34m)\u001b[0m\u001b[0;34m\u001b[0m\u001b[0;34m\u001b[0m\u001b[0m\n\u001b[0m\u001b[1;32m      3\u001b[0m \u001b[0;31m# X.shape\u001b[0m\u001b[0;34m\u001b[0m\u001b[0;34m\u001b[0m\u001b[0m\n",
            "\u001b[0;31mNameError\u001b[0m: name 'X' is not defined"
          ]
        }
      ],
      "source": [
        "# type(X_test)\n",
        "type(X)\n",
        "# X.shape"
      ]
    },
    {
      "cell_type": "code",
      "execution_count": null,
      "metadata": {
        "colab": {
          "base_uri": "https://localhost:8080/"
        },
        "id": "2jOL8jVn1ojE",
        "outputId": "618ddb3d-ba0d-4822-fa1b-bd10ace0879b"
      },
      "outputs": [
        {
          "name": "stdout",
          "output_type": "stream",
          "text": [
            "(7606, 185395)\n",
            "(7606, 5)\n",
            "7606\n",
            "9\n"
          ]
        }
      ],
      "source": [
        "X_train = x_train\n",
        "y_train = train[categories]\n",
        "\n",
        "print(X_train.shape)\n",
        "print(y_train.shape)\n",
        "import numpy as np\n",
        "from sklearn.datasets import make_multilabel_classification\n",
        "from sklearn.model_selection import train_test_split\n",
        "from skmultilearn.problem_transform import LabelPowerset\n",
        "from imblearn.over_sampling import SMOTE\n",
        "\n",
        "lp = LabelPowerset()\n",
        "y_train_single_label = lp.transform(y_train)\n",
        "print(len(y_train_single_label))\n",
        "\n",
        "count = {}\n",
        "for i in y_train_single_label:\n",
        "  count[i] = 0\n",
        "\n",
        "for i in y_train_single_label:\n",
        "  count[i] += 1\n",
        "\n",
        "# Apply SMOTE to the transformed dataset\n",
        "smote = SMOTE(random_state=42)\n",
        "remove_index = []\n",
        "\n",
        "y_new = []\n",
        "for i in range(7606):\n",
        "  power_label = y_train_single_label[i]\n",
        "  if count[power_label] < 6:\n",
        "    remove_index.append(i)\n",
        "  else:\n",
        "    y_new.append(y_train_single_label[i])\n",
        "\n",
        "print(len(remove_index))\n",
        "\n"
      ]
    },
    {
      "cell_type": "code",
      "execution_count": null,
      "metadata": {
        "colab": {
          "base_uri": "https://localhost:8080/"
        },
        "id": "Oy_jJQeYYhRI",
        "outputId": "cb32bc2a-10b3-44e7-fa4a-b8142e94ad57"
      },
      "outputs": [
        {
          "name": "stdout",
          "output_type": "stream",
          "text": [
            "(7597, 185395)\n"
          ]
        }
      ],
      "source": [
        "def delete_row_csr(mat, i):\n",
        "    n = mat.indptr[i+1] - mat.indptr[i]\n",
        "    if n > 0:\n",
        "        mat.data[mat.indptr[i]:-n] = mat.data[mat.indptr[i+1]:]\n",
        "        mat.data = mat.data[:-n]\n",
        "        mat.indices[mat.indptr[i]:-n] = mat.indices[mat.indptr[i+1]:]\n",
        "        mat.indices = mat.indices[:-n]\n",
        "    mat.indptr[i:-1] = mat.indptr[i+1:]\n",
        "    mat.indptr[i:] -= n\n",
        "    mat.indptr = mat.indptr[:-1]\n",
        "    mat._shape = (mat._shape[0]-1, mat._shape[1])\n",
        "\n",
        "for i in remove_index:\n",
        "    delete_row_csr(X_train, i)\n",
        "\n",
        "print(X_train.shape)\n"
      ]
    },
    {
      "cell_type": "code",
      "execution_count": null,
      "metadata": {
        "colab": {
          "base_uri": "https://localhost:8080/"
        },
        "id": "Iw5T0YrPY22o",
        "outputId": "087cf55f-120f-4b14-c94f-1a6a356663ec"
      },
      "outputs": [
        {
          "name": "stdout",
          "output_type": "stream",
          "text": [
            "7597\n"
          ]
        }
      ],
      "source": [
        "print(len(y_new))\n",
        "X_train_resampled, y_train_single_label_resampled = smote.fit_resample(X_train, y_new)\n",
        "y_train_resampled = lp.inverse_transform(y_train_single_label_resampled)\n",
        "y_df = pd.DataFrame(y_train_resampled.toarray(), columns=categories)"
      ]
    },
    {
      "cell_type": "code",
      "execution_count": null,
      "metadata": {
        "colab": {
          "base_uri": "https://localhost:8080/",
          "height": 1000
        },
        "id": "eraADa41vYSW",
        "outputId": "0541cd56-d4a6-4fe3-91bc-c28dd7d457ec"
      },
      "outputs": [
        {
          "data": {
            "text/markdown": "**Processing Action overview...**",
            "text/plain": [
              "<IPython.core.display.Markdown object>"
            ]
          },
          "metadata": {},
          "output_type": "display_data"
        },
        {
          "data": {
            "image/png": "[encoded data removed]",
            "text/plain": [
              "<Figure size 640x480 with 2 Axes>"
            ]
          },
          "metadata": {},
          "output_type": "display_data"
        },
        {
          "name": "stdout",
          "output_type": "stream",
          "text": [
            "Test accuracy is 0.8190184049079755\n",
            "Test f1 is 0.39918533604887985\n",
            "Test precision score is 0.7232472324723247\n",
            "Test recall score is 0.27566807313642755\n",
            "Test roc auc score is 0.6231223849401243\n",
            "\n",
            "\n"
          ]
        },
        {
          "data": {
            "text/markdown": "**Processing Comedy overview...**",
            "text/plain": [
              "<IPython.core.display.Markdown object>"
            ]
          },
          "metadata": {},
          "output_type": "display_data"
        },
        {
          "data": {
            "image/png": "[encoded data removed]",
            "text/plain": [
              "<Figure size 640x480 with 2 Axes>"
            ]
          },
          "metadata": {},
          "output_type": "display_data"
        },
        {
          "name": "stdout",
          "output_type": "stream",
          "text": [
            "Test accuracy is 0.7570552147239263\n",
            "Test f1 is 0.5967413441955193\n",
            "Test precision score is 0.6926713947990544\n",
            "Test recall score is 0.5241502683363148\n",
            "Test roc auc score is 0.7013841911242732\n",
            "\n",
            "\n"
          ]
        },
        {
          "data": {
            "text/markdown": "**Processing Drama overview...**",
            "text/plain": [
              "<IPython.core.display.Markdown object>"
            ]
          },
          "metadata": {},
          "output_type": "display_data"
        },
        {
          "data": {
            "image/png": "[encoded data removed]",
            "text/plain": [
              "<Figure size 640x480 with 2 Axes>"
            ]
          },
          "metadata": {},
          "output_type": "display_data"
        },
        {
          "name": "stdout",
          "output_type": "stream",
          "text": [
            "Test accuracy is 0.6785276073619632\n",
            "Test f1 is 0.6265146115466856\n",
            "Test precision score is 0.6346570397111914\n",
            "Test recall score is 0.6185784658691063\n",
            "Test roc auc score is 0.671714464038414\n",
            "\n",
            "\n"
          ]
        },
        {
          "data": {
            "text/markdown": "**Processing Thriller overview...**",
            "text/plain": [
              "<IPython.core.display.Markdown object>"
            ]
          },
          "metadata": {},
          "output_type": "display_data"
        },
        {
          "data": {
            "image/png": "[encoded data removed]",
            "text/plain": [
              "<Figure size 640x480 with 2 Axes>"
            ]
          },
          "metadata": {},
          "output_type": "display_data"
        },
        {
          "name": "stdout",
          "output_type": "stream",
          "text": [
            "Test accuracy is 0.7607361963190185\n",
            "Test f1 is 0.342327150084317\n",
            "Test precision score is 0.6506410256410257\n",
            "Test recall score is 0.2322654462242563\n",
            "Test roc auc score is 0.5932911472529496\n",
            "\n",
            "\n"
          ]
        },
        {
          "data": {
            "text/markdown": "**Processing Romance overview...**",
            "text/plain": [
              "<IPython.core.display.Markdown object>"
            ]
          },
          "metadata": {},
          "output_type": "display_data"
        },
        {
          "data": {
            "image/png": "[encoded data removed]",
            "text/plain": [
              "<Figure size 640x480 with 2 Axes>"
            ]
          },
          "metadata": {},
          "output_type": "display_data"
        },
        {
          "name": "stdout",
          "output_type": "stream",
          "text": [
            "Test accuracy is 0.8469325153374233\n",
            "Test f1 is 0.20667726550079493\n",
            "Test precision score is 0.8333333333333334\n",
            "Test recall score is 0.11796733212341198\n",
            "Test roc auc score is 0.5565842566855524\n",
            "\n",
            "\n",
            "CPU times: user 1.66 s, sys: 556 ms, total: 2.22 s\n",
            "Wall time: 8.37 s\n"
          ]
        }
      ],
      "source": [
        "%%time\n",
        "\n",
        "# Using pipeline for applying logistic regression and one vs rest classifier\n",
        "LogReg_pipeline = Pipeline([\n",
        "                ('clf', OneVsRestClassifier(LogisticRegression(solver='sag'), n_jobs=-1)),\n",
        "            ])\n",
        "\n",
        "for category in categories:\n",
        "    printmd('**Processing {} overview...**'.format(category))\n",
        "    \n",
        "    # Training logistic regression model on train data\n",
        "    model = LogReg_pipeline.fit(X_train_resampled, y_df[category])\n",
        "    \n",
        "    # calculating test accuracy\n",
        "    prediction = LogReg_pipeline.predict(x_test)\n",
        "    cm = confusion_matrix(test[category], prediction)\n",
        "    disp = ConfusionMatrixDisplay(confusion_matrix=cm)\n",
        "    disp.plot()\n",
        "    plt.show()\n",
        "    print('Test accuracy is {}'.format(accuracy_score(test[category], prediction)))\n",
        "    print('Test f1 is {}'.format(f1_score(test[category], prediction)))\n",
        "    print('Test precision score is {}'.format(precision_score(test[category], prediction)))\n",
        "    print('Test recall score is {}'.format(recall_score(test[category], prediction)))\n",
        "    print('Test roc auc score is {}'.format(roc_auc_score(test[category], prediction)))\n",
        "    print(\"\\n\")"
      ]
    },
    {
      "cell_type": "markdown",
      "metadata": {
        "id": "beeDDEOk7_UZ"
      },
      "source": [
        "### doc2vec"
      ]
    },
    {
      "cell_type": "code",
      "execution_count": null,
      "metadata": {
        "colab": {
          "base_uri": "https://localhost:8080/",
          "height": 240
        },
        "id": "rt1OzsTKbZ0o",
        "outputId": "483af5c5-0538-4629-9bbc-062a4d67f995"
      },
      "outputs": [
        {
          "ename": "NameError",
          "evalue": "ignored",
          "output_type": "error",
          "traceback": [
            "\u001b[0;31m---------------------------------------------------------------------------\u001b[0m",
            "\u001b[0;31mNameError\u001b[0m                                 Traceback (most recent call last)",
            "\u001b[0;32m<ipython-input-64-9e98cbc0094b>\u001b[0m in \u001b[0;36m<cell line: 1>\u001b[0;34m()\u001b[0m\n\u001b[0;32m----> 1\u001b[0;31m \u001b[0mX_train\u001b[0m \u001b[0;34m=\u001b[0m \u001b[0md2v_train_vectors\u001b[0m\u001b[0;34m\u001b[0m\u001b[0;34m\u001b[0m\u001b[0m\n\u001b[0m\u001b[1;32m      2\u001b[0m \u001b[0my_train\u001b[0m \u001b[0;34m=\u001b[0m \u001b[0mtrain\u001b[0m\u001b[0;34m[\u001b[0m\u001b[0mcategories\u001b[0m\u001b[0;34m]\u001b[0m\u001b[0;34m\u001b[0m\u001b[0;34m\u001b[0m\u001b[0m\n\u001b[1;32m      3\u001b[0m \u001b[0;34m\u001b[0m\u001b[0m\n\u001b[1;32m      4\u001b[0m \u001b[0mprint\u001b[0m\u001b[0;34m(\u001b[0m\u001b[0mX_train\u001b[0m\u001b[0;34m.\u001b[0m\u001b[0mshape\u001b[0m\u001b[0;34m)\u001b[0m\u001b[0;34m\u001b[0m\u001b[0;34m\u001b[0m\u001b[0m\n\u001b[1;32m      5\u001b[0m \u001b[0mprint\u001b[0m\u001b[0;34m(\u001b[0m\u001b[0my_train\u001b[0m\u001b[0;34m.\u001b[0m\u001b[0mshape\u001b[0m\u001b[0;34m)\u001b[0m\u001b[0;34m\u001b[0m\u001b[0;34m\u001b[0m\u001b[0m\n",
            "\u001b[0;31mNameError\u001b[0m: name 'd2v_train_vectors' is not defined"
          ]
        }
      ],
      "source": [
        "X_train = d2v_train_vectors\n",
        "y_train = train[categories]\n",
        "\n",
        "print(X_train.shape)\n",
        "print(y_train.shape)\n",
        "import numpy as np\n",
        "from sklearn.datasets import make_multilabel_classification\n",
        "from sklearn.model_selection import train_test_split\n",
        "from skmultilearn.problem_transform import LabelPowerset\n",
        "from imblearn.over_sampling import SMOTE\n",
        "\n",
        "lp = LabelPowerset()\n",
        "y_train_single_label = lp.transform(y_train)\n",
        "print(len(y_train_single_label))\n",
        "\n",
        "count = {}\n",
        "for i in y_train_single_label:\n",
        "  count[i] = 0\n",
        "\n",
        "for i in y_train_single_label:\n",
        "  count[i] += 1\n",
        "\n",
        "# Apply SMOTE to the transformed dataset\n",
        "smote = SMOTE(random_state=42)\n",
        "remove_index = []\n",
        "\n",
        "y_new = []\n",
        "for i in range(7606):\n",
        "  power_label = y_train_single_label[i]\n",
        "  if count[power_label] < 6:\n",
        "    remove_index.append(i)\n",
        "  else:\n",
        "    y_new.append(y_train_single_label[i])\n",
        "\n",
        "print(len(remove_index))\n",
        "X_new = np.delete(X_train, remove_index, axis=0)\n",
        "\n",
        "print(X_new.shape)\n",
        "print(len(y_new))\n",
        "X_train_resampled, y_train_single_label_resampled = smote.fit_resample(X_new, y_new)\n",
        "y_train_resampled = lp.inverse_transform(y_train_single_label_resampled)\n",
        "y_df = pd.DataFrame(y_train_resampled.toarray(), columns=categories)"
      ]
    },
    {
      "cell_type": "code",
      "execution_count": null,
      "metadata": {
        "colab": {
          "base_uri": "https://localhost:8080/",
          "height": 180
        },
        "id": "isOkaBL07_UZ",
        "outputId": "49d7b929-a422-4d12-c5b8-2a0d7b0fad0c"
      },
      "outputs": [
        {
          "data": {
            "text/markdown": "**Processing Action overview...**",
            "text/plain": [
              "<IPython.core.display.Markdown object>"
            ]
          },
          "metadata": {},
          "output_type": "display_data"
        },
        {
          "ename": "NameError",
          "evalue": "ignored",
          "output_type": "error",
          "traceback": [
            "\u001b[0;31m---------------------------------------------------------------------------\u001b[0m",
            "\u001b[0;31mNameError\u001b[0m                                 Traceback (most recent call last)",
            "\u001b[0;32m<timed exec>\u001b[0m in \u001b[0;36m<module>\u001b[0;34m\u001b[0m\n",
            "\u001b[0;31mNameError\u001b[0m: name 'd2v_test_vectors' is not defined"
          ]
        }
      ],
      "source": [
        "%%time\n",
        "\n",
        "# Using pipeline for applying logistic regression and one vs rest classifier\n",
        "LogReg_pipeline = Pipeline([\n",
        "                ('clf', OneVsRestClassifier(LogisticRegression(solver='sag'), n_jobs=-1)),\n",
        "            ])\n",
        "\n",
        "for category in categories:\n",
        "    printmd('**Processing {} overview...**'.format(category))\n",
        "    \n",
        "    # Training logistic regression model on train data\n",
        "    model = LogReg_pipeline.fit(X_train_resampled, y_df[category])\n",
        "    \n",
        "    # calculating test accuracy\n",
        "    prediction = LogReg_pipeline.predict(d2v_test_vectors)\n",
        "    cm = confusion_matrix(test[category], prediction)\n",
        "    disp = ConfusionMatrixDisplay(confusion_matrix=cm)\n",
        "    disp.plot()\n",
        "    plt.show()\n",
        "    print('Test accuracy is {}'.format(accuracy_score(test[category], prediction)))\n",
        "    print('Test f1 is {}'.format(f1_score(test[category], prediction)))\n",
        "    print('Test precision score is {}'.format(precision_score(test[category], prediction)))\n",
        "    print('Test recall score is {}'.format(recall_score(test[category], prediction)))\n",
        "    print('Test roc auc score is {}'.format(roc_auc_score(test[category], prediction)))\n",
        "    print(\"\\n\")"
      ]
    },
    {
      "cell_type": "markdown",
      "metadata": {
        "id": "2OCAhNIa7_Ua"
      },
      "source": [
        "# 4. Classifiers"
      ]
    },
    {
      "cell_type": "code",
      "execution_count": null,
      "metadata": {
        "id": "1Rt-KhtB7_Ua"
      },
      "outputs": [],
      "source": [
        "from sklearn.metrics import accuracy_score\n",
        "\n",
        "x_train = avg_wv_train_features\n",
        "x_test = avg_wv_test_features\n",
        "y_train = train[categories]\n",
        "y_test = test[categories]"
      ]
    },
    {
      "cell_type": "markdown",
      "metadata": {
        "id": "R21bLLvc7_Uf"
      },
      "source": [
        "## Label Powerset - before resample"
      ]
    },
    {
      "cell_type": "code",
      "execution_count": null,
      "metadata": {
        "colab": {
          "base_uri": "https://localhost:8080/"
        },
        "id": "9AQj0C447_Uf",
        "outputId": "fc548e7b-3bc7-4dfa-99be-703eeaf472b7"
      },
      "outputs": [
        {
          "name": "stderr",
          "output_type": "stream",
          "text": [
            "/usr/local/lib/python3.9/dist-packages/sklearn/linear_model/_logistic.py:458: ConvergenceWarning: lbfgs failed to converge (status=1):\n",
            "STOP: TOTAL NO. of ITERATIONS REACHED LIMIT.\n",
            "\n",
            "Increase the number of iterations (max_iter) or scale the data as shown in:\n",
            "    https://scikit-learn.org/stable/modules/preprocessing.html\n",
            "Please also refer to the documentation for alternative solver options:\n",
            "    https://scikit-learn.org/stable/modules/linear_model.html#logistic-regression\n",
            "  n_iter_i = _check_optimize_result(\n"
          ]
        },
        {
          "name": "stdout",
          "output_type": "stream",
          "text": [
            "Accuracy =  0.2085889570552147\n",
            "\n",
            "\n"
          ]
        }
      ],
      "source": [
        "# using Label Powerset\n",
        "from skmultilearn.problem_transform import LabelPowerset\n",
        "# initialize label powerset multi-label classifier\n",
        "classifier = LabelPowerset(LogisticRegression())\n",
        "# train\n",
        "classifier.fit(x_train, y_train)\n",
        "# predict\n",
        "predictions = classifier.predict(x_test)\n",
        "# accuracy\n",
        "print(\"Accuracy = \",accuracy_score(y_test,predictions))\n",
        "print(\"\\n\")"
      ]
    },
    {
      "cell_type": "code",
      "execution_count": null,
      "metadata": {
        "colab": {
          "base_uri": "https://localhost:8080/"
        },
        "id": "pfd7_Drh7_Uf",
        "outputId": "ce4ed893-f36b-414a-f918-d990ddb13f5f"
      },
      "outputs": [
        {
          "data": {
            "text/plain": [
              "array([[0, 0, 0, 0, 0],\n",
              "       [0, 0, 0, 0, 0],\n",
              "       [0, 0, 1, 0, 0],\n",
              "       ...,\n",
              "       [0, 0, 1, 0, 0],\n",
              "       [0, 1, 0, 0, 0],\n",
              "       [0, 0, 1, 0, 0]])"
            ]
          },
          "execution_count": 68,
          "metadata": {},
          "output_type": "execute_result"
        }
      ],
      "source": [
        "predictions.toarray()"
      ]
    },
    {
      "cell_type": "markdown",
      "metadata": {
        "id": "tn9ZEpwL7_Ug"
      },
      "source": [
        "## Label Powerset - After resample"
      ]
    },
    {
      "cell_type": "code",
      "execution_count": null,
      "metadata": {
        "colab": {
          "background_save": true
        },
        "id": "POiay8y97_Uh",
        "outputId": "3124fd09-0d4f-4a02-9efc-2ce3e2a00eca"
      },
      "outputs": [
        {
          "ename": "KeyboardInterrupt",
          "evalue": "ignored",
          "output_type": "error",
          "traceback": [
            "\u001b[0;31m---------------------------------------------------------------------------\u001b[0m",
            "\u001b[0;31mKeyboardInterrupt\u001b[0m                         Traceback (most recent call last)",
            "\u001b[0;32m<ipython-input-69-a0892c7579c5>\u001b[0m in \u001b[0;36m<cell line: 9>\u001b[0;34m()\u001b[0m\n\u001b[1;32m      7\u001b[0m \u001b[0mclassifier\u001b[0m \u001b[0;34m=\u001b[0m \u001b[0mLabelPowerset\u001b[0m\u001b[0;34m(\u001b[0m\u001b[0mLogisticRegression\u001b[0m\u001b[0;34m(\u001b[0m\u001b[0;34m)\u001b[0m\u001b[0;34m)\u001b[0m\u001b[0;34m\u001b[0m\u001b[0;34m\u001b[0m\u001b[0m\n\u001b[1;32m      8\u001b[0m \u001b[0;31m# train\u001b[0m\u001b[0;34m\u001b[0m\u001b[0;34m\u001b[0m\u001b[0m\n\u001b[0;32m----> 9\u001b[0;31m \u001b[0mclassifier\u001b[0m\u001b[0;34m.\u001b[0m\u001b[0mfit\u001b[0m\u001b[0;34m(\u001b[0m\u001b[0mx_train\u001b[0m\u001b[0;34m,\u001b[0m \u001b[0my_train\u001b[0m\u001b[0;34m)\u001b[0m\u001b[0;34m\u001b[0m\u001b[0;34m\u001b[0m\u001b[0m\n\u001b[0m\u001b[1;32m     10\u001b[0m \u001b[0;31m# predict\u001b[0m\u001b[0;34m\u001b[0m\u001b[0;34m\u001b[0m\u001b[0m\n\u001b[1;32m     11\u001b[0m \u001b[0mpredictions\u001b[0m \u001b[0;34m=\u001b[0m \u001b[0mclassifier\u001b[0m\u001b[0;34m.\u001b[0m\u001b[0mpredict\u001b[0m\u001b[0;34m(\u001b[0m\u001b[0mx_test\u001b[0m\u001b[0;34m)\u001b[0m\u001b[0;34m\u001b[0m\u001b[0;34m\u001b[0m\u001b[0m\n",
            "\u001b[0;32m/usr/local/lib/python3.9/dist-packages/skmultilearn/problem_transform/lp.py\u001b[0m in \u001b[0;36mfit\u001b[0;34m(self, X, y)\u001b[0m\n\u001b[1;32m    138\u001b[0m             X, sparse_format='csr', enforce_sparse=True)\n\u001b[1;32m    139\u001b[0m \u001b[0;34m\u001b[0m\u001b[0m\n\u001b[0;32m--> 140\u001b[0;31m         self.classifier.fit(self._ensure_input_format(X),\n\u001b[0m\u001b[1;32m    141\u001b[0m                             self.transform(y))\n\u001b[1;32m    142\u001b[0m \u001b[0;34m\u001b[0m\u001b[0m\n",
            "\u001b[0;32m/usr/local/lib/python3.9/dist-packages/sklearn/linear_model/_logistic.py\u001b[0m in \u001b[0;36mfit\u001b[0;34m(self, X, y, sample_weight)\u001b[0m\n\u001b[1;32m   1289\u001b[0m             \u001b[0mn_threads\u001b[0m \u001b[0;34m=\u001b[0m \u001b[0;36m1\u001b[0m\u001b[0;34m\u001b[0m\u001b[0;34m\u001b[0m\u001b[0m\n\u001b[1;32m   1290\u001b[0m \u001b[0;34m\u001b[0m\u001b[0m\n\u001b[0;32m-> 1291\u001b[0;31m         fold_coefs_ = Parallel(n_jobs=self.n_jobs, verbose=self.verbose, prefer=prefer)(\n\u001b[0m\u001b[1;32m   1292\u001b[0m             path_func(\n\u001b[1;32m   1293\u001b[0m                 \u001b[0mX\u001b[0m\u001b[0;34m,\u001b[0m\u001b[0;34m\u001b[0m\u001b[0;34m\u001b[0m\u001b[0m\n",
            "\u001b[0;32m/usr/local/lib/python3.9/dist-packages/sklearn/utils/parallel.py\u001b[0m in \u001b[0;36m__call__\u001b[0;34m(self, iterable)\u001b[0m\n\u001b[1;32m     61\u001b[0m             \u001b[0;32mfor\u001b[0m \u001b[0mdelayed_func\u001b[0m\u001b[0;34m,\u001b[0m \u001b[0margs\u001b[0m\u001b[0;34m,\u001b[0m \u001b[0mkwargs\u001b[0m \u001b[0;32min\u001b[0m \u001b[0miterable\u001b[0m\u001b[0;34m\u001b[0m\u001b[0;34m\u001b[0m\u001b[0m\n\u001b[1;32m     62\u001b[0m         )\n\u001b[0;32m---> 63\u001b[0;31m         \u001b[0;32mreturn\u001b[0m \u001b[0msuper\u001b[0m\u001b[0;34m(\u001b[0m\u001b[0;34m)\u001b[0m\u001b[0;34m.\u001b[0m\u001b[0m__call__\u001b[0m\u001b[0;34m(\u001b[0m\u001b[0miterable_with_config\u001b[0m\u001b[0;34m)\u001b[0m\u001b[0;34m\u001b[0m\u001b[0;34m\u001b[0m\u001b[0m\n\u001b[0m\u001b[1;32m     64\u001b[0m \u001b[0;34m\u001b[0m\u001b[0m\n\u001b[1;32m     65\u001b[0m \u001b[0;34m\u001b[0m\u001b[0m\n",
            "\u001b[0;32m/usr/local/lib/python3.9/dist-packages/joblib/parallel.py\u001b[0m in \u001b[0;36m__call__\u001b[0;34m(self, iterable)\u001b[0m\n\u001b[1;32m   1083\u001b[0m             \u001b[0;31m# remaining jobs.\u001b[0m\u001b[0;34m\u001b[0m\u001b[0;34m\u001b[0m\u001b[0m\n\u001b[1;32m   1084\u001b[0m             \u001b[0mself\u001b[0m\u001b[0;34m.\u001b[0m\u001b[0m_iterating\u001b[0m \u001b[0;34m=\u001b[0m \u001b[0;32mFalse\u001b[0m\u001b[0;34m\u001b[0m\u001b[0;34m\u001b[0m\u001b[0m\n\u001b[0;32m-> 1085\u001b[0;31m             \u001b[0;32mif\u001b[0m \u001b[0mself\u001b[0m\u001b[0;34m.\u001b[0m\u001b[0mdispatch_one_batch\u001b[0m\u001b[0;34m(\u001b[0m\u001b[0miterator\u001b[0m\u001b[0;34m)\u001b[0m\u001b[0;34m:\u001b[0m\u001b[0;34m\u001b[0m\u001b[0;34m\u001b[0m\u001b[0m\n\u001b[0m\u001b[1;32m   1086\u001b[0m                 \u001b[0mself\u001b[0m\u001b[0;34m.\u001b[0m\u001b[0m_iterating\u001b[0m \u001b[0;34m=\u001b[0m \u001b[0mself\u001b[0m\u001b[0;34m.\u001b[0m\u001b[0m_original_iterator\u001b[0m \u001b[0;32mis\u001b[0m \u001b[0;32mnot\u001b[0m \u001b[0;32mNone\u001b[0m\u001b[0;34m\u001b[0m\u001b[0;34m\u001b[0m\u001b[0m\n\u001b[1;32m   1087\u001b[0m \u001b[0;34m\u001b[0m\u001b[0m\n",
            "\u001b[0;32m/usr/local/lib/python3.9/dist-packages/joblib/parallel.py\u001b[0m in \u001b[0;36mdispatch_one_batch\u001b[0;34m(self, iterator)\u001b[0m\n\u001b[1;32m    899\u001b[0m                 \u001b[0;32mreturn\u001b[0m \u001b[0;32mFalse\u001b[0m\u001b[0;34m\u001b[0m\u001b[0;34m\u001b[0m\u001b[0m\n\u001b[1;32m    900\u001b[0m             \u001b[0;32melse\u001b[0m\u001b[0;34m:\u001b[0m\u001b[0;34m\u001b[0m\u001b[0;34m\u001b[0m\u001b[0m\n\u001b[0;32m--> 901\u001b[0;31m                 \u001b[0mself\u001b[0m\u001b[0;34m.\u001b[0m\u001b[0m_dispatch\u001b[0m\u001b[0;34m(\u001b[0m\u001b[0mtasks\u001b[0m\u001b[0;34m)\u001b[0m\u001b[0;34m\u001b[0m\u001b[0;34m\u001b[0m\u001b[0m\n\u001b[0m\u001b[1;32m    902\u001b[0m                 \u001b[0;32mreturn\u001b[0m \u001b[0;32mTrue\u001b[0m\u001b[0;34m\u001b[0m\u001b[0;34m\u001b[0m\u001b[0m\n\u001b[1;32m    903\u001b[0m \u001b[0;34m\u001b[0m\u001b[0m\n",
            "\u001b[0;32m/usr/local/lib/python3.9/dist-packages/joblib/parallel.py\u001b[0m in \u001b[0;36m_dispatch\u001b[0;34m(self, batch)\u001b[0m\n\u001b[1;32m    817\u001b[0m         \u001b[0;32mwith\u001b[0m \u001b[0mself\u001b[0m\u001b[0;34m.\u001b[0m\u001b[0m_lock\u001b[0m\u001b[0;34m:\u001b[0m\u001b[0;34m\u001b[0m\u001b[0;34m\u001b[0m\u001b[0m\n\u001b[1;32m    818\u001b[0m             \u001b[0mjob_idx\u001b[0m \u001b[0;34m=\u001b[0m \u001b[0mlen\u001b[0m\u001b[0;34m(\u001b[0m\u001b[0mself\u001b[0m\u001b[0;34m.\u001b[0m\u001b[0m_jobs\u001b[0m\u001b[0;34m)\u001b[0m\u001b[0;34m\u001b[0m\u001b[0;34m\u001b[0m\u001b[0m\n\u001b[0;32m--> 819\u001b[0;31m             \u001b[0mjob\u001b[0m \u001b[0;34m=\u001b[0m \u001b[0mself\u001b[0m\u001b[0;34m.\u001b[0m\u001b[0m_backend\u001b[0m\u001b[0;34m.\u001b[0m\u001b[0mapply_async\u001b[0m\u001b[0;34m(\u001b[0m\u001b[0mbatch\u001b[0m\u001b[0;34m,\u001b[0m \u001b[0mcallback\u001b[0m\u001b[0;34m=\u001b[0m\u001b[0mcb\u001b[0m\u001b[0;34m)\u001b[0m\u001b[0;34m\u001b[0m\u001b[0;34m\u001b[0m\u001b[0m\n\u001b[0m\u001b[1;32m    820\u001b[0m             \u001b[0;31m# A job can complete so quickly than its callback is\u001b[0m\u001b[0;34m\u001b[0m\u001b[0;34m\u001b[0m\u001b[0m\n\u001b[1;32m    821\u001b[0m             \u001b[0;31m# called before we get here, causing self._jobs to\u001b[0m\u001b[0;34m\u001b[0m\u001b[0;34m\u001b[0m\u001b[0m\n",
            "\u001b[0;32m/usr/local/lib/python3.9/dist-packages/joblib/_parallel_backends.py\u001b[0m in \u001b[0;36mapply_async\u001b[0;34m(self, func, callback)\u001b[0m\n\u001b[1;32m    206\u001b[0m     \u001b[0;32mdef\u001b[0m \u001b[0mapply_async\u001b[0m\u001b[0;34m(\u001b[0m\u001b[0mself\u001b[0m\u001b[0;34m,\u001b[0m \u001b[0mfunc\u001b[0m\u001b[0;34m,\u001b[0m \u001b[0mcallback\u001b[0m\u001b[0;34m=\u001b[0m\u001b[0;32mNone\u001b[0m\u001b[0;34m)\u001b[0m\u001b[0;34m:\u001b[0m\u001b[0;34m\u001b[0m\u001b[0;34m\u001b[0m\u001b[0m\n\u001b[1;32m    207\u001b[0m         \u001b[0;34m\"\"\"Schedule a func to be run\"\"\"\u001b[0m\u001b[0;34m\u001b[0m\u001b[0;34m\u001b[0m\u001b[0m\n\u001b[0;32m--> 208\u001b[0;31m         \u001b[0mresult\u001b[0m \u001b[0;34m=\u001b[0m \u001b[0mImmediateResult\u001b[0m\u001b[0;34m(\u001b[0m\u001b[0mfunc\u001b[0m\u001b[0;34m)\u001b[0m\u001b[0;34m\u001b[0m\u001b[0;34m\u001b[0m\u001b[0m\n\u001b[0m\u001b[1;32m    209\u001b[0m         \u001b[0;32mif\u001b[0m \u001b[0mcallback\u001b[0m\u001b[0;34m:\u001b[0m\u001b[0;34m\u001b[0m\u001b[0;34m\u001b[0m\u001b[0m\n\u001b[1;32m    210\u001b[0m             \u001b[0mcallback\u001b[0m\u001b[0;34m(\u001b[0m\u001b[0mresult\u001b[0m\u001b[0;34m)\u001b[0m\u001b[0;34m\u001b[0m\u001b[0;34m\u001b[0m\u001b[0m\n",
            "\u001b[0;32m/usr/local/lib/python3.9/dist-packages/joblib/_parallel_backends.py\u001b[0m in \u001b[0;36m__init__\u001b[0;34m(self, batch)\u001b[0m\n\u001b[1;32m    595\u001b[0m         \u001b[0;31m# Don't delay the application, to avoid keeping the input\u001b[0m\u001b[0;34m\u001b[0m\u001b[0;34m\u001b[0m\u001b[0m\n\u001b[1;32m    596\u001b[0m         \u001b[0;31m# arguments in memory\u001b[0m\u001b[0;34m\u001b[0m\u001b[0;34m\u001b[0m\u001b[0m\n\u001b[0;32m--> 597\u001b[0;31m         \u001b[0mself\u001b[0m\u001b[0;34m.\u001b[0m\u001b[0mresults\u001b[0m \u001b[0;34m=\u001b[0m \u001b[0mbatch\u001b[0m\u001b[0;34m(\u001b[0m\u001b[0;34m)\u001b[0m\u001b[0;34m\u001b[0m\u001b[0;34m\u001b[0m\u001b[0m\n\u001b[0m\u001b[1;32m    598\u001b[0m \u001b[0;34m\u001b[0m\u001b[0m\n\u001b[1;32m    599\u001b[0m     \u001b[0;32mdef\u001b[0m \u001b[0mget\u001b[0m\u001b[0;34m(\u001b[0m\u001b[0mself\u001b[0m\u001b[0;34m)\u001b[0m\u001b[0;34m:\u001b[0m\u001b[0;34m\u001b[0m\u001b[0;34m\u001b[0m\u001b[0m\n",
            "\u001b[0;32m/usr/local/lib/python3.9/dist-packages/joblib/parallel.py\u001b[0m in \u001b[0;36m__call__\u001b[0;34m(self)\u001b[0m\n\u001b[1;32m    286\u001b[0m         \u001b[0;31m# change the default number of processes to -1\u001b[0m\u001b[0;34m\u001b[0m\u001b[0;34m\u001b[0m\u001b[0m\n\u001b[1;32m    287\u001b[0m         \u001b[0;32mwith\u001b[0m \u001b[0mparallel_backend\u001b[0m\u001b[0;34m(\u001b[0m\u001b[0mself\u001b[0m\u001b[0;34m.\u001b[0m\u001b[0m_backend\u001b[0m\u001b[0;34m,\u001b[0m \u001b[0mn_jobs\u001b[0m\u001b[0;34m=\u001b[0m\u001b[0mself\u001b[0m\u001b[0;34m.\u001b[0m\u001b[0m_n_jobs\u001b[0m\u001b[0;34m)\u001b[0m\u001b[0;34m:\u001b[0m\u001b[0;34m\u001b[0m\u001b[0;34m\u001b[0m\u001b[0m\n\u001b[0;32m--> 288\u001b[0;31m             return [func(*args, **kwargs)\n\u001b[0m\u001b[1;32m    289\u001b[0m                     for func, args, kwargs in self.items]\n\u001b[1;32m    290\u001b[0m \u001b[0;34m\u001b[0m\u001b[0m\n",
            "\u001b[0;32m/usr/local/lib/python3.9/dist-packages/joblib/parallel.py\u001b[0m in \u001b[0;36m<listcomp>\u001b[0;34m(.0)\u001b[0m\n\u001b[1;32m    286\u001b[0m         \u001b[0;31m# change the default number of processes to -1\u001b[0m\u001b[0;34m\u001b[0m\u001b[0;34m\u001b[0m\u001b[0m\n\u001b[1;32m    287\u001b[0m         \u001b[0;32mwith\u001b[0m \u001b[0mparallel_backend\u001b[0m\u001b[0;34m(\u001b[0m\u001b[0mself\u001b[0m\u001b[0;34m.\u001b[0m\u001b[0m_backend\u001b[0m\u001b[0;34m,\u001b[0m \u001b[0mn_jobs\u001b[0m\u001b[0;34m=\u001b[0m\u001b[0mself\u001b[0m\u001b[0;34m.\u001b[0m\u001b[0m_n_jobs\u001b[0m\u001b[0;34m)\u001b[0m\u001b[0;34m:\u001b[0m\u001b[0;34m\u001b[0m\u001b[0;34m\u001b[0m\u001b[0m\n\u001b[0;32m--> 288\u001b[0;31m             return [func(*args, **kwargs)\n\u001b[0m\u001b[1;32m    289\u001b[0m                     for func, args, kwargs in self.items]\n\u001b[1;32m    290\u001b[0m \u001b[0;34m\u001b[0m\u001b[0m\n",
            "\u001b[0;32m/usr/local/lib/python3.9/dist-packages/sklearn/utils/parallel.py\u001b[0m in \u001b[0;36m__call__\u001b[0;34m(self, *args, **kwargs)\u001b[0m\n\u001b[1;32m    121\u001b[0m             \u001b[0mconfig\u001b[0m \u001b[0;34m=\u001b[0m \u001b[0;34m{\u001b[0m\u001b[0;34m}\u001b[0m\u001b[0;34m\u001b[0m\u001b[0;34m\u001b[0m\u001b[0m\n\u001b[1;32m    122\u001b[0m         \u001b[0;32mwith\u001b[0m \u001b[0mconfig_context\u001b[0m\u001b[0;34m(\u001b[0m\u001b[0;34m**\u001b[0m\u001b[0mconfig\u001b[0m\u001b[0;34m)\u001b[0m\u001b[0;34m:\u001b[0m\u001b[0;34m\u001b[0m\u001b[0;34m\u001b[0m\u001b[0m\n\u001b[0;32m--> 123\u001b[0;31m             \u001b[0;32mreturn\u001b[0m \u001b[0mself\u001b[0m\u001b[0;34m.\u001b[0m\u001b[0mfunction\u001b[0m\u001b[0;34m(\u001b[0m\u001b[0;34m*\u001b[0m\u001b[0margs\u001b[0m\u001b[0;34m,\u001b[0m \u001b[0;34m**\u001b[0m\u001b[0mkwargs\u001b[0m\u001b[0;34m)\u001b[0m\u001b[0;34m\u001b[0m\u001b[0;34m\u001b[0m\u001b[0m\n\u001b[0m",
            "\u001b[0;32m/usr/local/lib/python3.9/dist-packages/sklearn/linear_model/_logistic.py\u001b[0m in \u001b[0;36m_logistic_regression_path\u001b[0;34m(X, y, pos_class, Cs, fit_intercept, max_iter, tol, verbose, solver, coef, class_weight, dual, penalty, intercept_scaling, multi_class, random_state, check_input, max_squared_sum, sample_weight, l1_ratio, n_threads)\u001b[0m\n\u001b[1;32m    448\u001b[0m                 \u001b[0mnp\u001b[0m\u001b[0;34m.\u001b[0m\u001b[0msearchsorted\u001b[0m\u001b[0;34m(\u001b[0m\u001b[0mnp\u001b[0m\u001b[0;34m.\u001b[0m\u001b[0marray\u001b[0m\u001b[0;34m(\u001b[0m\u001b[0;34m[\u001b[0m\u001b[0;36m0\u001b[0m\u001b[0;34m,\u001b[0m \u001b[0;36m1\u001b[0m\u001b[0;34m,\u001b[0m \u001b[0;36m2\u001b[0m\u001b[0;34m,\u001b[0m \u001b[0;36m3\u001b[0m\u001b[0;34m]\u001b[0m\u001b[0;34m)\u001b[0m\u001b[0;34m,\u001b[0m \u001b[0mverbose\u001b[0m\u001b[0;34m)\u001b[0m\u001b[0;34m\u001b[0m\u001b[0;34m\u001b[0m\u001b[0m\n\u001b[1;32m    449\u001b[0m             ]\n\u001b[0;32m--> 450\u001b[0;31m             opt_res = optimize.minimize(\n\u001b[0m\u001b[1;32m    451\u001b[0m                 \u001b[0mfunc\u001b[0m\u001b[0;34m,\u001b[0m\u001b[0;34m\u001b[0m\u001b[0;34m\u001b[0m\u001b[0m\n\u001b[1;32m    452\u001b[0m                 \u001b[0mw0\u001b[0m\u001b[0;34m,\u001b[0m\u001b[0;34m\u001b[0m\u001b[0;34m\u001b[0m\u001b[0m\n",
            "\u001b[0;32m/usr/local/lib/python3.9/dist-packages/scipy/optimize/_minimize.py\u001b[0m in \u001b[0;36mminimize\u001b[0;34m(fun, x0, args, method, jac, hess, hessp, bounds, constraints, tol, callback, options)\u001b[0m\n\u001b[1;32m    694\u001b[0m                                  **options)\n\u001b[1;32m    695\u001b[0m     \u001b[0;32melif\u001b[0m \u001b[0mmeth\u001b[0m \u001b[0;34m==\u001b[0m \u001b[0;34m'l-bfgs-b'\u001b[0m\u001b[0;34m:\u001b[0m\u001b[0;34m\u001b[0m\u001b[0;34m\u001b[0m\u001b[0m\n\u001b[0;32m--> 696\u001b[0;31m         res = _minimize_lbfgsb(fun, x0, args, jac, bounds,\n\u001b[0m\u001b[1;32m    697\u001b[0m                                callback=callback, **options)\n\u001b[1;32m    698\u001b[0m     \u001b[0;32melif\u001b[0m \u001b[0mmeth\u001b[0m \u001b[0;34m==\u001b[0m \u001b[0;34m'tnc'\u001b[0m\u001b[0;34m:\u001b[0m\u001b[0;34m\u001b[0m\u001b[0;34m\u001b[0m\u001b[0m\n",
            "\u001b[0;32m/usr/local/lib/python3.9/dist-packages/scipy/optimize/_lbfgsb_py.py\u001b[0m in \u001b[0;36m_minimize_lbfgsb\u001b[0;34m(fun, x0, args, jac, bounds, disp, maxcor, ftol, gtol, eps, maxfun, maxiter, iprint, callback, maxls, finite_diff_rel_step, **unknown_options)\u001b[0m\n\u001b[1;32m    357\u001b[0m             \u001b[0;31m# until the completion of the current minimization iteration.\u001b[0m\u001b[0;34m\u001b[0m\u001b[0;34m\u001b[0m\u001b[0m\n\u001b[1;32m    358\u001b[0m             \u001b[0;31m# Overwrite f and g:\u001b[0m\u001b[0;34m\u001b[0m\u001b[0;34m\u001b[0m\u001b[0m\n\u001b[0;32m--> 359\u001b[0;31m             \u001b[0mf\u001b[0m\u001b[0;34m,\u001b[0m \u001b[0mg\u001b[0m \u001b[0;34m=\u001b[0m \u001b[0mfunc_and_grad\u001b[0m\u001b[0;34m(\u001b[0m\u001b[0mx\u001b[0m\u001b[0;34m)\u001b[0m\u001b[0;34m\u001b[0m\u001b[0;34m\u001b[0m\u001b[0m\n\u001b[0m\u001b[1;32m    360\u001b[0m         \u001b[0;32melif\u001b[0m \u001b[0mtask_str\u001b[0m\u001b[0;34m.\u001b[0m\u001b[0mstartswith\u001b[0m\u001b[0;34m(\u001b[0m\u001b[0;34mb'NEW_X'\u001b[0m\u001b[0;34m)\u001b[0m\u001b[0;34m:\u001b[0m\u001b[0;34m\u001b[0m\u001b[0;34m\u001b[0m\u001b[0m\n\u001b[1;32m    361\u001b[0m             \u001b[0;31m# new iteration\u001b[0m\u001b[0;34m\u001b[0m\u001b[0;34m\u001b[0m\u001b[0m\n",
            "\u001b[0;32m/usr/local/lib/python3.9/dist-packages/scipy/optimize/_differentiable_functions.py\u001b[0m in \u001b[0;36mfun_and_grad\u001b[0;34m(self, x)\u001b[0m\n\u001b[1;32m    283\u001b[0m         \u001b[0;32mif\u001b[0m \u001b[0;32mnot\u001b[0m \u001b[0mnp\u001b[0m\u001b[0;34m.\u001b[0m\u001b[0marray_equal\u001b[0m\u001b[0;34m(\u001b[0m\u001b[0mx\u001b[0m\u001b[0;34m,\u001b[0m \u001b[0mself\u001b[0m\u001b[0;34m.\u001b[0m\u001b[0mx\u001b[0m\u001b[0;34m)\u001b[0m\u001b[0;34m:\u001b[0m\u001b[0;34m\u001b[0m\u001b[0;34m\u001b[0m\u001b[0m\n\u001b[1;32m    284\u001b[0m             \u001b[0mself\u001b[0m\u001b[0;34m.\u001b[0m\u001b[0m_update_x_impl\u001b[0m\u001b[0;34m(\u001b[0m\u001b[0mx\u001b[0m\u001b[0;34m)\u001b[0m\u001b[0;34m\u001b[0m\u001b[0;34m\u001b[0m\u001b[0m\n\u001b[0;32m--> 285\u001b[0;31m         \u001b[0mself\u001b[0m\u001b[0;34m.\u001b[0m\u001b[0m_update_fun\u001b[0m\u001b[0;34m(\u001b[0m\u001b[0;34m)\u001b[0m\u001b[0;34m\u001b[0m\u001b[0;34m\u001b[0m\u001b[0m\n\u001b[0m\u001b[1;32m    286\u001b[0m         \u001b[0mself\u001b[0m\u001b[0;34m.\u001b[0m\u001b[0m_update_grad\u001b[0m\u001b[0;34m(\u001b[0m\u001b[0;34m)\u001b[0m\u001b[0;34m\u001b[0m\u001b[0;34m\u001b[0m\u001b[0m\n\u001b[1;32m    287\u001b[0m         \u001b[0;32mreturn\u001b[0m \u001b[0mself\u001b[0m\u001b[0;34m.\u001b[0m\u001b[0mf\u001b[0m\u001b[0;34m,\u001b[0m \u001b[0mself\u001b[0m\u001b[0;34m.\u001b[0m\u001b[0mg\u001b[0m\u001b[0;34m\u001b[0m\u001b[0;34m\u001b[0m\u001b[0m\n",
            "\u001b[0;32m/usr/local/lib/python3.9/dist-packages/scipy/optimize/_differentiable_functions.py\u001b[0m in \u001b[0;36m_update_fun\u001b[0;34m(self)\u001b[0m\n\u001b[1;32m    249\u001b[0m     \u001b[0;32mdef\u001b[0m \u001b[0m_update_fun\u001b[0m\u001b[0;34m(\u001b[0m\u001b[0mself\u001b[0m\u001b[0;34m)\u001b[0m\u001b[0;34m:\u001b[0m\u001b[0;34m\u001b[0m\u001b[0;34m\u001b[0m\u001b[0m\n\u001b[1;32m    250\u001b[0m         \u001b[0;32mif\u001b[0m \u001b[0;32mnot\u001b[0m \u001b[0mself\u001b[0m\u001b[0;34m.\u001b[0m\u001b[0mf_updated\u001b[0m\u001b[0;34m:\u001b[0m\u001b[0;34m\u001b[0m\u001b[0;34m\u001b[0m\u001b[0m\n\u001b[0;32m--> 251\u001b[0;31m             \u001b[0mself\u001b[0m\u001b[0;34m.\u001b[0m\u001b[0m_update_fun_impl\u001b[0m\u001b[0;34m(\u001b[0m\u001b[0;34m)\u001b[0m\u001b[0;34m\u001b[0m\u001b[0;34m\u001b[0m\u001b[0m\n\u001b[0m\u001b[1;32m    252\u001b[0m             \u001b[0mself\u001b[0m\u001b[0;34m.\u001b[0m\u001b[0mf_updated\u001b[0m \u001b[0;34m=\u001b[0m \u001b[0;32mTrue\u001b[0m\u001b[0;34m\u001b[0m\u001b[0;34m\u001b[0m\u001b[0m\n\u001b[1;32m    253\u001b[0m \u001b[0;34m\u001b[0m\u001b[0m\n",
            "\u001b[0;32m/usr/local/lib/python3.9/dist-packages/scipy/optimize/_differentiable_functions.py\u001b[0m in \u001b[0;36mupdate_fun\u001b[0;34m()\u001b[0m\n\u001b[1;32m    153\u001b[0m \u001b[0;34m\u001b[0m\u001b[0m\n\u001b[1;32m    154\u001b[0m         \u001b[0;32mdef\u001b[0m \u001b[0mupdate_fun\u001b[0m\u001b[0;34m(\u001b[0m\u001b[0;34m)\u001b[0m\u001b[0;34m:\u001b[0m\u001b[0;34m\u001b[0m\u001b[0;34m\u001b[0m\u001b[0m\n\u001b[0;32m--> 155\u001b[0;31m             \u001b[0mself\u001b[0m\u001b[0;34m.\u001b[0m\u001b[0mf\u001b[0m \u001b[0;34m=\u001b[0m \u001b[0mfun_wrapped\u001b[0m\u001b[0;34m(\u001b[0m\u001b[0mself\u001b[0m\u001b[0;34m.\u001b[0m\u001b[0mx\u001b[0m\u001b[0;34m)\u001b[0m\u001b[0;34m\u001b[0m\u001b[0;34m\u001b[0m\u001b[0m\n\u001b[0m\u001b[1;32m    156\u001b[0m \u001b[0;34m\u001b[0m\u001b[0m\n\u001b[1;32m    157\u001b[0m         \u001b[0mself\u001b[0m\u001b[0;34m.\u001b[0m\u001b[0m_update_fun_impl\u001b[0m \u001b[0;34m=\u001b[0m \u001b[0mupdate_fun\u001b[0m\u001b[0;34m\u001b[0m\u001b[0;34m\u001b[0m\u001b[0m\n",
            "\u001b[0;32m/usr/local/lib/python3.9/dist-packages/scipy/optimize/_differentiable_functions.py\u001b[0m in \u001b[0;36mfun_wrapped\u001b[0;34m(x)\u001b[0m\n\u001b[1;32m    135\u001b[0m             \u001b[0;31m# Overwriting results in undefined behaviour because\u001b[0m\u001b[0;34m\u001b[0m\u001b[0;34m\u001b[0m\u001b[0m\n\u001b[1;32m    136\u001b[0m             \u001b[0;31m# fun(self.x) will change self.x, with the two no longer linked.\u001b[0m\u001b[0;34m\u001b[0m\u001b[0;34m\u001b[0m\u001b[0m\n\u001b[0;32m--> 137\u001b[0;31m             \u001b[0mfx\u001b[0m \u001b[0;34m=\u001b[0m \u001b[0mfun\u001b[0m\u001b[0;34m(\u001b[0m\u001b[0mnp\u001b[0m\u001b[0;34m.\u001b[0m\u001b[0mcopy\u001b[0m\u001b[0;34m(\u001b[0m\u001b[0mx\u001b[0m\u001b[0;34m)\u001b[0m\u001b[0;34m,\u001b[0m \u001b[0;34m*\u001b[0m\u001b[0margs\u001b[0m\u001b[0;34m)\u001b[0m\u001b[0;34m\u001b[0m\u001b[0;34m\u001b[0m\u001b[0m\n\u001b[0m\u001b[1;32m    138\u001b[0m             \u001b[0;31m# Make sure the function returns a true scalar\u001b[0m\u001b[0;34m\u001b[0m\u001b[0;34m\u001b[0m\u001b[0m\n\u001b[1;32m    139\u001b[0m             \u001b[0;32mif\u001b[0m \u001b[0;32mnot\u001b[0m \u001b[0mnp\u001b[0m\u001b[0;34m.\u001b[0m\u001b[0misscalar\u001b[0m\u001b[0;34m(\u001b[0m\u001b[0mfx\u001b[0m\u001b[0;34m)\u001b[0m\u001b[0;34m:\u001b[0m\u001b[0;34m\u001b[0m\u001b[0;34m\u001b[0m\u001b[0m\n",
            "\u001b[0;32m/usr/local/lib/python3.9/dist-packages/scipy/optimize/_optimize.py\u001b[0m in \u001b[0;36m__call__\u001b[0;34m(self, x, *args)\u001b[0m\n\u001b[1;32m     74\u001b[0m     \u001b[0;32mdef\u001b[0m \u001b[0m__call__\u001b[0m\u001b[0;34m(\u001b[0m\u001b[0mself\u001b[0m\u001b[0;34m,\u001b[0m \u001b[0mx\u001b[0m\u001b[0;34m,\u001b[0m \u001b[0;34m*\u001b[0m\u001b[0margs\u001b[0m\u001b[0;34m)\u001b[0m\u001b[0;34m:\u001b[0m\u001b[0;34m\u001b[0m\u001b[0;34m\u001b[0m\u001b[0m\n\u001b[1;32m     75\u001b[0m         \u001b[0;34m\"\"\" returns the function value \"\"\"\u001b[0m\u001b[0;34m\u001b[0m\u001b[0;34m\u001b[0m\u001b[0m\n\u001b[0;32m---> 76\u001b[0;31m         \u001b[0mself\u001b[0m\u001b[0;34m.\u001b[0m\u001b[0m_compute_if_needed\u001b[0m\u001b[0;34m(\u001b[0m\u001b[0mx\u001b[0m\u001b[0;34m,\u001b[0m \u001b[0;34m*\u001b[0m\u001b[0margs\u001b[0m\u001b[0;34m)\u001b[0m\u001b[0;34m\u001b[0m\u001b[0;34m\u001b[0m\u001b[0m\n\u001b[0m\u001b[1;32m     77\u001b[0m         \u001b[0;32mreturn\u001b[0m \u001b[0mself\u001b[0m\u001b[0;34m.\u001b[0m\u001b[0m_value\u001b[0m\u001b[0;34m\u001b[0m\u001b[0;34m\u001b[0m\u001b[0m\n\u001b[1;32m     78\u001b[0m \u001b[0;34m\u001b[0m\u001b[0m\n",
            "\u001b[0;32m/usr/local/lib/python3.9/dist-packages/scipy/optimize/_optimize.py\u001b[0m in \u001b[0;36m_compute_if_needed\u001b[0;34m(self, x, *args)\u001b[0m\n\u001b[1;32m     68\u001b[0m         \u001b[0;32mif\u001b[0m \u001b[0;32mnot\u001b[0m \u001b[0mnp\u001b[0m\u001b[0;34m.\u001b[0m\u001b[0mall\u001b[0m\u001b[0;34m(\u001b[0m\u001b[0mx\u001b[0m \u001b[0;34m==\u001b[0m \u001b[0mself\u001b[0m\u001b[0;34m.\u001b[0m\u001b[0mx\u001b[0m\u001b[0;34m)\u001b[0m \u001b[0;32mor\u001b[0m \u001b[0mself\u001b[0m\u001b[0;34m.\u001b[0m\u001b[0m_value\u001b[0m \u001b[0;32mis\u001b[0m \u001b[0;32mNone\u001b[0m \u001b[0;32mor\u001b[0m \u001b[0mself\u001b[0m\u001b[0;34m.\u001b[0m\u001b[0mjac\u001b[0m \u001b[0;32mis\u001b[0m \u001b[0;32mNone\u001b[0m\u001b[0;34m:\u001b[0m\u001b[0;34m\u001b[0m\u001b[0;34m\u001b[0m\u001b[0m\n\u001b[1;32m     69\u001b[0m             \u001b[0mself\u001b[0m\u001b[0;34m.\u001b[0m\u001b[0mx\u001b[0m \u001b[0;34m=\u001b[0m \u001b[0mnp\u001b[0m\u001b[0;34m.\u001b[0m\u001b[0masarray\u001b[0m\u001b[0;34m(\u001b[0m\u001b[0mx\u001b[0m\u001b[0;34m)\u001b[0m\u001b[0;34m.\u001b[0m\u001b[0mcopy\u001b[0m\u001b[0;34m(\u001b[0m\u001b[0;34m)\u001b[0m\u001b[0;34m\u001b[0m\u001b[0;34m\u001b[0m\u001b[0m\n\u001b[0;32m---> 70\u001b[0;31m             \u001b[0mfg\u001b[0m \u001b[0;34m=\u001b[0m \u001b[0mself\u001b[0m\u001b[0;34m.\u001b[0m\u001b[0mfun\u001b[0m\u001b[0;34m(\u001b[0m\u001b[0mx\u001b[0m\u001b[0;34m,\u001b[0m \u001b[0;34m*\u001b[0m\u001b[0margs\u001b[0m\u001b[0;34m)\u001b[0m\u001b[0;34m\u001b[0m\u001b[0;34m\u001b[0m\u001b[0m\n\u001b[0m\u001b[1;32m     71\u001b[0m             \u001b[0mself\u001b[0m\u001b[0;34m.\u001b[0m\u001b[0mjac\u001b[0m \u001b[0;34m=\u001b[0m \u001b[0mfg\u001b[0m\u001b[0;34m[\u001b[0m\u001b[0;36m1\u001b[0m\u001b[0;34m]\u001b[0m\u001b[0;34m\u001b[0m\u001b[0;34m\u001b[0m\u001b[0m\n\u001b[1;32m     72\u001b[0m             \u001b[0mself\u001b[0m\u001b[0;34m.\u001b[0m\u001b[0m_value\u001b[0m \u001b[0;34m=\u001b[0m \u001b[0mfg\u001b[0m\u001b[0;34m[\u001b[0m\u001b[0;36m0\u001b[0m\u001b[0;34m]\u001b[0m\u001b[0;34m\u001b[0m\u001b[0;34m\u001b[0m\u001b[0m\n",
            "\u001b[0;32m/usr/local/lib/python3.9/dist-packages/sklearn/linear_model/_linear_loss.py\u001b[0m in \u001b[0;36mloss_gradient\u001b[0;34m(self, coef, X, y, sample_weight, l2_reg_strength, n_threads, raw_prediction)\u001b[0m\n\u001b[1;32m    293\u001b[0m             \u001b[0mgrad\u001b[0m \u001b[0;34m=\u001b[0m \u001b[0mnp\u001b[0m\u001b[0;34m.\u001b[0m\u001b[0mempty\u001b[0m\u001b[0;34m(\u001b[0m\u001b[0;34m(\u001b[0m\u001b[0mn_classes\u001b[0m\u001b[0;34m,\u001b[0m \u001b[0mn_dof\u001b[0m\u001b[0;34m)\u001b[0m\u001b[0;34m,\u001b[0m \u001b[0mdtype\u001b[0m\u001b[0;34m=\u001b[0m\u001b[0mweights\u001b[0m\u001b[0;34m.\u001b[0m\u001b[0mdtype\u001b[0m\u001b[0;34m,\u001b[0m \u001b[0morder\u001b[0m\u001b[0;34m=\u001b[0m\u001b[0;34m\"F\"\u001b[0m\u001b[0;34m)\u001b[0m\u001b[0;34m\u001b[0m\u001b[0;34m\u001b[0m\u001b[0m\n\u001b[1;32m    294\u001b[0m             \u001b[0;31m# grad_pointwise.shape = (n_samples, n_classes)\u001b[0m\u001b[0;34m\u001b[0m\u001b[0;34m\u001b[0m\u001b[0m\n\u001b[0;32m--> 295\u001b[0;31m             \u001b[0mgrad\u001b[0m\u001b[0;34m[\u001b[0m\u001b[0;34m:\u001b[0m\u001b[0;34m,\u001b[0m \u001b[0;34m:\u001b[0m\u001b[0mn_features\u001b[0m\u001b[0;34m]\u001b[0m \u001b[0;34m=\u001b[0m \u001b[0mgrad_pointwise\u001b[0m\u001b[0;34m.\u001b[0m\u001b[0mT\u001b[0m \u001b[0;34m@\u001b[0m \u001b[0mX\u001b[0m \u001b[0;34m+\u001b[0m \u001b[0ml2_reg_strength\u001b[0m \u001b[0;34m*\u001b[0m \u001b[0mweights\u001b[0m\u001b[0;34m\u001b[0m\u001b[0;34m\u001b[0m\u001b[0m\n\u001b[0m\u001b[1;32m    296\u001b[0m             \u001b[0;32mif\u001b[0m \u001b[0mself\u001b[0m\u001b[0;34m.\u001b[0m\u001b[0mfit_intercept\u001b[0m\u001b[0;34m:\u001b[0m\u001b[0;34m\u001b[0m\u001b[0;34m\u001b[0m\u001b[0m\n\u001b[1;32m    297\u001b[0m                 \u001b[0mgrad\u001b[0m\u001b[0;34m[\u001b[0m\u001b[0;34m:\u001b[0m\u001b[0;34m,\u001b[0m \u001b[0;34m-\u001b[0m\u001b[0;36m1\u001b[0m\u001b[0;34m]\u001b[0m \u001b[0;34m=\u001b[0m \u001b[0mgrad_pointwise\u001b[0m\u001b[0;34m.\u001b[0m\u001b[0msum\u001b[0m\u001b[0;34m(\u001b[0m\u001b[0maxis\u001b[0m\u001b[0;34m=\u001b[0m\u001b[0;36m0\u001b[0m\u001b[0;34m)\u001b[0m\u001b[0;34m\u001b[0m\u001b[0;34m\u001b[0m\u001b[0m\n",
            "\u001b[0;31mKeyboardInterrupt\u001b[0m: "
          ]
        }
      ],
      "source": [
        "x_train = X_train_resampled\n",
        "y_train = y_train_resampled\n",
        "\n",
        "# using Label Powerset\n",
        "from skmultilearn.problem_transform import LabelPowerset\n",
        "# initialize label powerset multi-label classifier\n",
        "classifier = LabelPowerset(LogisticRegression())\n",
        "# train\n",
        "classifier.fit(x_train, y_train)\n",
        "# predict\n",
        "predictions = classifier.predict(x_test)\n",
        "# accuracy\n",
        "print(\"Accuracy = \",accuracy_score(y_test,predictions))\n",
        "print(\"\\n\")"
      ]
    },
    {
      "cell_type": "markdown",
      "metadata": {
        "id": "ekmY_5IE7_Ua"
      },
      "source": [
        "## Classifier Chains - before resample"
      ]
    },
    {
      "cell_type": "code",
      "execution_count": null,
      "metadata": {
        "id": "imx13dcM7_Ua"
      },
      "outputs": [],
      "source": [
        "from skmultilearn.problem_transform import ClassifierChain\n",
        "from sklearn.linear_model import LogisticRegression\n",
        "# initialize classifier chains multi-label classifier\n",
        "classifier = ClassifierChain(LogisticRegression())\n",
        "# Training logistic regression model on train data\n",
        "classifier.fit(x_train, y_train)\n",
        "# predict\n",
        "predictions = classifier.predict(x_test)\n",
        "# accuracy\n",
        "print(\"Accuracy = \",accuracy_score(y_test,predictions))\n",
        "print(\"\\n\")"
      ]
    },
    {
      "cell_type": "markdown",
      "metadata": {
        "id": "dvtQW4Q07_Ue"
      },
      "source": [
        "## Classifier Chains - after resample"
      ]
    },
    {
      "cell_type": "code",
      "execution_count": null,
      "metadata": {
        "id": "HVnNR87B7_Ue"
      },
      "outputs": [],
      "source": [
        "x_train = X_train_resampled\n",
        "y_train = y_train_resampled\n",
        "\n",
        "from skmultilearn.problem_transform import ClassifierChain\n",
        "from sklearn.linear_model import LogisticRegression\n",
        "# initialize classifier chains multi-label classifier\n",
        "classifier = ClassifierChain(LogisticRegression())\n",
        "# Training logistic regression model on train data\n",
        "classifier.fit(x_train, y_train)\n",
        "# predict\n",
        "predictions = classifier.predict(x_test)\n",
        "# accuracy\n",
        "print(\"Accuracy = \",accuracy_score(y_test,predictions))\n",
        "print(\"\\n\")"
      ]
    },
    {
      "cell_type": "markdown",
      "metadata": {
        "id": "j9n_hQry7_Ue"
      },
      "source": [
        "## Binary Relevance - before resample"
      ]
    },
    {
      "cell_type": "code",
      "execution_count": null,
      "metadata": {
        "id": "qZtvWxBR7_Ue"
      },
      "outputs": [],
      "source": [
        "# using binary relevance\n",
        "from skmultilearn.problem_transform import BinaryRelevance\n",
        "from sklearn.naive_bayes import GaussianNB\n",
        "# initialize binary relevance multi-label classifier\n",
        "# with a gaussian naive bayes base classifier\n",
        "classifier = BinaryRelevance(GaussianNB())\n",
        "# train\n",
        "classifier.fit(x_train, y_train)\n",
        "# predict\n",
        "predictions = classifier.predict(x_test)\n",
        "# accuracy\n",
        "print(\"Accuracy = \",accuracy_score(y_test,predictions))"
      ]
    },
    {
      "cell_type": "markdown",
      "metadata": {
        "id": "sDT3r0Z47_Ue"
      },
      "source": [
        "## Binary Relevance - After resample"
      ]
    },
    {
      "cell_type": "code",
      "execution_count": null,
      "metadata": {
        "id": "JVnaGl_H7_Uf"
      },
      "outputs": [],
      "source": [
        "x_train = X_train_resampled\n",
        "y_train = y_train_resampled\n",
        "\n",
        "# using binary relevance\n",
        "from skmultilearn.problem_transform import BinaryRelevance\n",
        "from sklearn.naive_bayes import GaussianNB\n",
        "# initialize binary relevance multi-label classifier\n",
        "# with a gaussian naive bayes base classifier\n",
        "classifier = BinaryRelevance(GaussianNB())\n",
        "# train\n",
        "classifier.fit(x_train, y_train)\n",
        "# predict\n",
        "predictions = classifier.predict(x_test)\n",
        "# accuracy\n",
        "print(\"Accuracy = \",accuracy_score(y_test,predictions))"
      ]
    },
    {
      "cell_type": "markdown",
      "metadata": {
        "id": "WAtD6fV07_Uh"
      },
      "source": [
        "## Adapted Algorithm"
      ]
    },
    {
      "cell_type": "code",
      "execution_count": null,
      "metadata": {
        "id": "Y9AT44Gq7_Uh"
      },
      "outputs": [],
      "source": [
        "from skmultilearn.adapt import MLkNN\n",
        "from scipy.sparse import csr_matrix, lil_matrix\n",
        "classifier_new = MLkNN(k=10)\n",
        "# Note that this classifier can throw up errors when handling sparse matrices.\n",
        "x_train = lil_matrix(x_train).toarray()\n",
        "y_train = lil_matrix(y_train).toarray()\n",
        "x_test = lil_matrix(x_test).toarray()\n",
        "# train\n",
        "classifier_new.fit(x_train, y_train)\n",
        "# predict\n",
        "predictions_new = classifier_new.predict(x_test)\n",
        "# accuracy\n",
        "print(\"Accuracy = \",accuracy_score(y_test,predictions_new))\n",
        "print(\"\\n\")"
      ]
    }
  ],
  "metadata": {
    "accelerator": "GPU",
    "colab": {
      "provenance": [],
      "include_colab_link": true
    },
    "gpuClass": "standard",
    "kernelspec": {
      "display_name": "nlp_3_9",
      "language": "python",
      "name": "nlp_3_9"
    },
    "language_info": {
      "codemirror_mode": {
        "name": "ipython",
        "version": 3
      },
      "file_extension": ".py",
      "mimetype": "text/x-python",
      "name": "python",
      "nbconvert_exporter": "python",
      "pygments_lexer": "ipython3",
      "version": "3.9.16"
    }
  },
  "nbformat": 4,
  "nbformat_minor": 0
}