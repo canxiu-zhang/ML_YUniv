{
 "cells": [
  {
   "cell_type": "markdown",
   "metadata": {
    "colab_type": "text",
    "id": "view-in-github"
   },
   "source": [
    "<a href=\"https://colab.research.google.com/github/canxiu-zhang/ML_YUniv/blob/main/group_projects/milestone_2/Milestone_2_Group_2.ipynb\" target=\"_parent\"><img src=\"https://colab.research.google.com/assets/colab-badge.svg\" alt=\"Open In Colab\"/></a>"
   ]
  },
  {
   "cell_type": "markdown",
   "metadata": {},
   "source": [
    "# Classifiers"
   ]
  },
  {
   "cell_type": "code",
   "execution_count": 5,
   "metadata": {
    "tags": []
   },
   "outputs": [],
   "source": [
    "from sklearn.metrics import accuracy_score, classification_report\n",
    "import numpy as np\n",
    "import pandas as pd\n",
    "\n",
    "categories = ['Action', 'Comedy', 'Drama', 'Thriller', 'Romance']\n",
    "train = pd.read_csv('../train.csv', keep_default_na=False, na_values=[''])\n",
    "test = pd.read_csv('../test.csv', keep_default_na=False, na_values=[''])\n",
    "avg_wv_train_features = np.loadtxt('../avg_wv_train_features.csv', delimiter=',')\n",
    "avg_wv_test_features = np.loadtxt('../avg_wv_test_features.csv', delimiter=',')\n",
    "x_train_resampled = np.loadtxt('../X_train_resampled.csv', delimiter=',')\n",
    "y_train_resampled = np.loadtxt('../y_train_resampled.csv', delimiter=',')\n",
    "\n",
    "x_train = avg_wv_train_features\n",
    "x_test = avg_wv_test_features\n",
    "y_train = train[categories]\n",
    "y_test = test[categories]"
   ]
  },
  {
   "cell_type": "markdown",
   "metadata": {},
   "source": [
    "## Classifier Chains - before resample"
   ]
  },
  {
   "cell_type": "code",
   "execution_count": 112,
   "metadata": {
    "tags": []
   },
   "outputs": [
    {
     "name": "stdout",
     "output_type": "stream",
     "text": [
      "Accuracy =  0.18957055214723925\n",
      "\n",
      "\n",
      "Classification Report:\n",
      "               precision    recall  f1-score   support\n",
      "\n",
      "           0       0.54      0.17      0.26       711\n",
      "           1       0.64      0.23      0.34      1118\n",
      "           2       0.52      0.63      0.57      1421\n",
      "           3       0.51      0.22      0.30       874\n",
      "           4       0.58      0.07      0.13       551\n",
      "\n",
      "   micro avg       0.54      0.32      0.40      4675\n",
      "   macro avg       0.56      0.26      0.32      4675\n",
      "weighted avg       0.56      0.32      0.37      4675\n",
      " samples avg       0.40      0.29      0.31      4675\n",
      "\n"
     ]
    }
   ],
   "source": [
    "from skmultilearn.problem_transform import ClassifierChain\n",
    "from sklearn.linear_model import LogisticRegression\n",
    "# initialize classifier chains multi-label classifier\n",
    "classifier = ClassifierChain(LogisticRegression())\n",
    "# Training logistic regression model on train data\n",
    "classifier.fit(x_train, y_train)\n",
    "# predict\n",
    "predictions = classifier.predict(x_test)\n",
    "# accuracy\n",
    "print(\"Accuracy = \",accuracy_score(y_test,predictions))\n",
    "print(\"\\n\")\n",
    "\n",
    "# Calculate and print the classification report\n",
    "report = classification_report(y_test, predictions, zero_division=0)\n",
    "print(\"Classification Report:\\n\", report)\n"
   ]
  },
  {
   "cell_type": "markdown",
   "metadata": {},
   "source": [
    "## Classifier Chains - after resample"
   ]
  },
  {
   "cell_type": "code",
   "execution_count": 113,
   "metadata": {
    "tags": []
   },
   "outputs": [
    {
     "name": "stdout",
     "output_type": "stream",
     "text": [
      "Accuracy =  0.13098159509202453\n",
      "\n",
      "\n",
      "Classification Report:\n",
      "               precision    recall  f1-score   support\n",
      "\n",
      "           0       0.39      0.74      0.51       711\n",
      "           1       0.49      0.59      0.54      1118\n",
      "           2       0.54      0.62      0.57      1421\n",
      "           3       0.49      0.51      0.50       874\n",
      "           4       0.34      0.66      0.45       551\n",
      "\n",
      "   micro avg       0.45      0.61      0.52      4675\n",
      "   macro avg       0.45      0.62      0.51      4675\n",
      "weighted avg       0.47      0.61      0.53      4675\n",
      " samples avg       0.44      0.54      0.45      4675\n",
      "\n"
     ]
    }
   ],
   "source": [
    "from skmultilearn.problem_transform import ClassifierChain\n",
    "from sklearn.linear_model import LogisticRegression\n",
    "# initialize classifier chains multi-label classifier\n",
    "classifier = ClassifierChain(LogisticRegression())\n",
    "# Training logistic regression model on train data\n",
    "classifier.fit(x_train_resampled, y_train_resampled)\n",
    "# predict\n",
    "predictions = classifier.predict(x_test)\n",
    "# accuracy\n",
    "print(\"Accuracy = \",accuracy_score(y_test,predictions))\n",
    "print(\"\\n\")\n",
    "\n",
    "# Calculate and print the classification report\n",
    "report = classification_report(y_test, predictions, zero_division=0)\n",
    "print(\"Classification Report:\\n\", report)"
   ]
  },
  {
   "cell_type": "markdown",
   "metadata": {},
   "source": [
    "## Binary Relevance - before resample"
   ]
  },
  {
   "cell_type": "code",
   "execution_count": 114,
   "metadata": {
    "tags": []
   },
   "outputs": [
    {
     "name": "stdout",
     "output_type": "stream",
     "text": [
      "Accuracy =  0.09018404907975461\n",
      "Classification Report:\n",
      "               precision    recall  f1-score   support\n",
      "\n",
      "           0       0.33      0.73      0.45       711\n",
      "           1       0.43      0.60      0.50      1118\n",
      "           2       0.50      0.53      0.52      1421\n",
      "           3       0.34      0.74      0.46       874\n",
      "           4       0.26      0.67      0.38       551\n",
      "\n",
      "   micro avg       0.37      0.63      0.47      4675\n",
      "   macro avg       0.37      0.65      0.46      4675\n",
      "weighted avg       0.40      0.63      0.48      4675\n",
      " samples avg       0.34      0.54      0.39      4675\n",
      "\n"
     ]
    }
   ],
   "source": [
    "# using binary relevance\n",
    "from skmultilearn.problem_transform import BinaryRelevance\n",
    "from sklearn.naive_bayes import GaussianNB\n",
    "# initialize binary relevance multi-label classifier\n",
    "# with a gaussian naive bayes base classifier\n",
    "classifier = BinaryRelevance(GaussianNB())\n",
    "# train\n",
    "classifier.fit(x_train, y_train)\n",
    "# predict\n",
    "predictions = classifier.predict(x_test)\n",
    "# accuracy\n",
    "print(\"Accuracy = \",accuracy_score(y_test,predictions))\n",
    "\n",
    "# Calculate and print the classification report\n",
    "report = classification_report(y_test, predictions, zero_division=0)\n",
    "print(\"Classification Report:\\n\", report)"
   ]
  },
  {
   "cell_type": "markdown",
   "metadata": {},
   "source": [
    "## Binary Relevance - after resample"
   ]
  },
  {
   "cell_type": "code",
   "execution_count": 115,
   "metadata": {
    "tags": []
   },
   "outputs": [
    {
     "name": "stdout",
     "output_type": "stream",
     "text": [
      "Accuracy =  0.07668711656441718\n",
      "Classification Report:\n",
      "               precision    recall  f1-score   support\n",
      "\n",
      "           0       0.32      0.74      0.45       711\n",
      "           1       0.39      0.67      0.50      1118\n",
      "           2       0.51      0.57      0.54      1421\n",
      "           3       0.33      0.66      0.44       874\n",
      "           4       0.25      0.73      0.37       551\n",
      "\n",
      "   micro avg       0.36      0.66      0.46      4675\n",
      "   macro avg       0.36      0.67      0.46      4675\n",
      "weighted avg       0.39      0.66      0.48      4675\n",
      " samples avg       0.37      0.57      0.41      4675\n",
      "\n"
     ]
    }
   ],
   "source": [
    "# using binary relevance\n",
    "from skmultilearn.problem_transform import BinaryRelevance\n",
    "from sklearn.naive_bayes import GaussianNB\n",
    "# initialize binary relevance multi-label classifier\n",
    "# with a gaussian naive bayes base classifier\n",
    "classifier = BinaryRelevance(GaussianNB())\n",
    "# train\n",
    "classifier.fit(x_train_resampled, y_train_resampled)\n",
    "# predict\n",
    "predictions = classifier.predict(x_test)\n",
    "# accuracy\n",
    "print(\"Accuracy = \",accuracy_score(y_test,predictions))\n",
    "\n",
    "# Calculate and print the classification report\n",
    "report = classification_report(y_test, predictions, zero_division=0)\n",
    "print(\"Classification Report:\\n\", report)"
   ]
  },
  {
   "cell_type": "markdown",
   "metadata": {},
   "source": [
    "## Label Powerset - before resample"
   ]
  },
  {
   "cell_type": "code",
   "execution_count": 120,
   "metadata": {
    "tags": []
   },
   "outputs": [
    {
     "name": "stdout",
     "output_type": "stream",
     "text": [
      "Accuracy =  0.20889570552147238\n",
      "\n",
      "\n",
      "Classification Report:\n",
      "               precision    recall  f1-score   support\n",
      "\n",
      "           0       0.57      0.19      0.28       711\n",
      "           1       0.46      0.53      0.50      1118\n",
      "           2       0.61      0.37      0.46      1421\n",
      "           3       0.52      0.16      0.24       874\n",
      "           4       0.50      0.03      0.05       551\n",
      "\n",
      "   micro avg       0.53      0.30      0.38      4675\n",
      "   macro avg       0.53      0.25      0.31      4675\n",
      "weighted avg       0.54      0.30      0.35      4675\n",
      " samples avg       0.38      0.28      0.30      4675\n",
      "\n"
     ]
    }
   ],
   "source": [
    "# using Label Powerset\n",
    "from skmultilearn.problem_transform import LabelPowerset\n",
    "# initialize label powerset multi-label classifier\n",
    "classifier = LabelPowerset(LogisticRegression())\n",
    "# train\n",
    "classifier.fit(x_train, y_train)\n",
    "# predict\n",
    "predictions = classifier.predict(x_test)\n",
    "# accuracy\n",
    "print(\"Accuracy = \",accuracy_score(y_test,predictions))\n",
    "print(\"\\n\")\n",
    "\n",
    "# Calculate and print the classification report\n",
    "report = classification_report(y_test, predictions, zero_division=0)\n",
    "print(\"Classification Report:\\n\", report)"
   ]
  },
  {
   "cell_type": "markdown",
   "metadata": {},
   "source": [
    "## Label Powerset - after resample"
   ]
  },
  {
   "cell_type": "code",
   "execution_count": 117,
   "metadata": {
    "tags": []
   },
   "outputs": [
    {
     "name": "stdout",
     "output_type": "stream",
     "text": [
      "Accuracy =  0.09018404907975461\n",
      "\n",
      "\n",
      "Classification Report:\n",
      "               precision    recall  f1-score   support\n",
      "\n",
      "           0       0.33      0.77      0.46       711\n",
      "           1       0.42      0.57      0.49      1118\n",
      "           2       0.50      0.41      0.45      1421\n",
      "           3       0.36      0.44      0.39       874\n",
      "           4       0.24      0.79      0.37       551\n",
      "\n",
      "   micro avg       0.36      0.55      0.44      4675\n",
      "   macro avg       0.37      0.60      0.43      4675\n",
      "weighted avg       0.40      0.55      0.44      4675\n",
      " samples avg       0.34      0.47      0.37      4675\n",
      "\n"
     ]
    }
   ],
   "source": [
    "# using Label Powerset\n",
    "from skmultilearn.problem_transform import LabelPowerset\n",
    "# initialize label powerset multi-label classifier\n",
    "classifier = LabelPowerset(LogisticRegression())\n",
    "# train\n",
    "classifier.fit(x_train_resampled, y_train_resampled)\n",
    "# predict\n",
    "predictions = classifier.predict(x_test)\n",
    "# accuracy\n",
    "print(\"Accuracy = \",accuracy_score(y_test,predictions))\n",
    "print(\"\\n\")\n",
    "\n",
    "# Calculate and print the classification report\n",
    "report = classification_report(y_test, predictions, zero_division=0)\n",
    "print(\"Classification Report:\\n\", report)"
   ]
  },
  {
   "cell_type": "markdown",
   "metadata": {},
   "source": [
    "## Adapted Algorithm - before resample"
   ]
  },
  {
   "cell_type": "code",
   "execution_count": 7,
   "metadata": {
    "tags": []
   },
   "outputs": [],
   "source": [
    "y_train = y_train.values"
   ]
  },
  {
   "cell_type": "code",
   "execution_count": 8,
   "metadata": {
    "tags": []
   },
   "outputs": [
    {
     "name": "stdout",
     "output_type": "stream",
     "text": [
      "(7606, 500)\n",
      "(7606, 5)\n",
      "(3260, 500)\n",
      "<class 'numpy.ndarray'>\n",
      "<class 'numpy.ndarray'>\n",
      "<class 'numpy.ndarray'>\n"
     ]
    }
   ],
   "source": [
    "print(x_train.shape)\n",
    "print(y_train.shape)\n",
    "print(x_test.shape)\n",
    "print(type(x_train))\n",
    "print(type(y_train))\n",
    "print(type(x_test))"
   ]
  },
  {
   "cell_type": "code",
   "execution_count": null,
   "metadata": {
    "tags": []
   },
   "outputs": [],
   "source": [
    "!pip uninstall scikit-learn -y\n",
    "!pip install scikit-learn==0.24.1"
   ]
  },
  {
   "cell_type": "code",
   "execution_count": 9,
   "metadata": {
    "tags": []
   },
   "outputs": [
    {
     "name": "stderr",
     "output_type": "stream",
     "text": [
      "/Users/canxiuzhang/anaconda3/envs/nlp_3_9/lib/python3.9/site-packages/sklearn/utils/validation.py:70: FutureWarning: Pass n_neighbors=10 as keyword args. From version 1.0 (renaming of 0.25) passing these as positional arguments will result in an error\n",
      "  warnings.warn(f\"Pass {args_msg} as keyword args. From version \"\n"
     ]
    },
    {
     "name": "stdout",
     "output_type": "stream",
     "text": [
      "Accuracy =  0.1705521472392638\n"
     ]
    }
   ],
   "source": [
    "from skmultilearn.adapt import MLkNN\n",
    "from scipy.sparse import csr_matrix, lil_matrix\n",
    "\n",
    "n_neighbors = 10\n",
    "classifier_new = MLkNN(k=n_neighbors, s=n_neighbors//2) # n_neighbors is the number of output classes\n",
    "# Note that this classifier can throw up errors when handling sparse matrices.\n",
    "x_train = csr_matrix(lil_matrix(x_train))\n",
    "y_train = csr_matrix(lil_matrix(y_train))\n",
    "x_test = csr_matrix(lil_matrix(x_test))\n",
    "# train\n",
    "classifier_new.fit(x_train, y_train)\n",
    "# predict\n",
    "predictions_new = classifier_new.predict(x_test)\n",
    "# accuracy\n",
    "print(\"Accuracy = \",accuracy_score(y_test,predictions_new))"
   ]
  },
  {
   "cell_type": "code",
   "execution_count": 11,
   "metadata": {
    "tags": []
   },
   "outputs": [
    {
     "name": "stdout",
     "output_type": "stream",
     "text": [
      "Classification Report:\n",
      "               precision    recall  f1-score   support\n",
      "\n",
      "           0       0.49      0.36      0.42       711\n",
      "           1       0.51      0.30      0.38      1118\n",
      "           2       0.52      0.52      0.52      1421\n",
      "           3       0.47      0.30      0.37       874\n",
      "           4       0.45      0.17      0.24       551\n",
      "\n",
      "   micro avg       0.50      0.36      0.42      4675\n",
      "   macro avg       0.49      0.33      0.39      4675\n",
      "weighted avg       0.50      0.36      0.41      4675\n",
      " samples avg       0.37      0.32      0.32      4675\n",
      "\n"
     ]
    }
   ],
   "source": [
    "# Calculate and print the classification report\n",
    "report = classification_report(y_test, predictions_new, zero_division=0)\n",
    "print(\"Classification Report:\\n\", report)"
   ]
  },
  {
   "cell_type": "markdown",
   "metadata": {},
   "source": [
    "## Adapted Algorithm - after resample"
   ]
  },
  {
   "cell_type": "code",
   "execution_count": 12,
   "metadata": {
    "tags": []
   },
   "outputs": [
    {
     "name": "stderr",
     "output_type": "stream",
     "text": [
      "/Users/canxiuzhang/anaconda3/envs/nlp_3_9/lib/python3.9/site-packages/sklearn/utils/validation.py:70: FutureWarning: Pass n_neighbors=10 as keyword args. From version 1.0 (renaming of 0.25) passing these as positional arguments will result in an error\n",
      "  warnings.warn(f\"Pass {args_msg} as keyword args. From version \"\n"
     ]
    },
    {
     "ename": "ValueError",
     "evalue": "Inexact indices into sparse matrices are not allowed",
     "output_type": "error",
     "traceback": [
      "\u001b[0;31m---------------------------------------------------------------------------\u001b[0m",
      "\u001b[0;31mTypeError\u001b[0m                                 Traceback (most recent call last)",
      "File \u001b[0;32m~/anaconda3/envs/nlp_3_9/lib/python3.9/site-packages/scipy/sparse/_sputils.py:225\u001b[0m, in \u001b[0;36misintlike\u001b[0;34m(x)\u001b[0m\n\u001b[1;32m    224\u001b[0m \u001b[38;5;28;01mtry\u001b[39;00m:\n\u001b[0;32m--> 225\u001b[0m     \u001b[43moperator\u001b[49m\u001b[38;5;241;43m.\u001b[39;49m\u001b[43mindex\u001b[49m\u001b[43m(\u001b[49m\u001b[43mx\u001b[49m\u001b[43m)\u001b[49m\n\u001b[1;32m    226\u001b[0m \u001b[38;5;28;01mexcept\u001b[39;00m (\u001b[38;5;167;01mTypeError\u001b[39;00m, \u001b[38;5;167;01mValueError\u001b[39;00m):\n",
      "\u001b[0;31mTypeError\u001b[0m: 'numpy.float64' object cannot be interpreted as an integer",
      "\nDuring handling of the above exception, another exception occurred:\n",
      "\u001b[0;31mValueError\u001b[0m                                Traceback (most recent call last)",
      "Cell \u001b[0;32mIn[12], line 11\u001b[0m\n\u001b[1;32m      9\u001b[0m x_test \u001b[38;5;241m=\u001b[39m csr_matrix(lil_matrix(x_test))\n\u001b[1;32m     10\u001b[0m \u001b[38;5;66;03m# train\u001b[39;00m\n\u001b[0;32m---> 11\u001b[0m \u001b[43mclassifier_new\u001b[49m\u001b[38;5;241;43m.\u001b[39;49m\u001b[43mfit\u001b[49m\u001b[43m(\u001b[49m\u001b[43mx_train\u001b[49m\u001b[43m,\u001b[49m\u001b[43m \u001b[49m\u001b[43my_train\u001b[49m\u001b[43m)\u001b[49m\n\u001b[1;32m     12\u001b[0m \u001b[38;5;66;03m# predict\u001b[39;00m\n\u001b[1;32m     13\u001b[0m predictions_new \u001b[38;5;241m=\u001b[39m classifier_new\u001b[38;5;241m.\u001b[39mpredict(x_test)\n",
      "File \u001b[0;32m~/anaconda3/envs/nlp_3_9/lib/python3.9/site-packages/skmultilearn/adapt/mlknn.py:218\u001b[0m, in \u001b[0;36mMLkNN.fit\u001b[0;34m(self, X, y)\u001b[0m\n\u001b[1;32m    216\u001b[0m \u001b[38;5;28mself\u001b[39m\u001b[38;5;241m.\u001b[39m_prior_prob_true, \u001b[38;5;28mself\u001b[39m\u001b[38;5;241m.\u001b[39m_prior_prob_false \u001b[38;5;241m=\u001b[39m \u001b[38;5;28mself\u001b[39m\u001b[38;5;241m.\u001b[39m_compute_prior(\u001b[38;5;28mself\u001b[39m\u001b[38;5;241m.\u001b[39m_label_cache)\n\u001b[1;32m    217\u001b[0m \u001b[38;5;66;03m# Computing the posterior probabilities\u001b[39;00m\n\u001b[0;32m--> 218\u001b[0m \u001b[38;5;28mself\u001b[39m\u001b[38;5;241m.\u001b[39m_cond_prob_true, \u001b[38;5;28mself\u001b[39m\u001b[38;5;241m.\u001b[39m_cond_prob_false \u001b[38;5;241m=\u001b[39m \u001b[38;5;28;43mself\u001b[39;49m\u001b[38;5;241;43m.\u001b[39;49m\u001b[43m_compute_cond\u001b[49m\u001b[43m(\u001b[49m\u001b[43mX\u001b[49m\u001b[43m,\u001b[49m\u001b[43m \u001b[49m\u001b[38;5;28;43mself\u001b[39;49m\u001b[38;5;241;43m.\u001b[39;49m\u001b[43m_label_cache\u001b[49m\u001b[43m)\u001b[49m\n\u001b[1;32m    219\u001b[0m \u001b[38;5;28;01mreturn\u001b[39;00m \u001b[38;5;28mself\u001b[39m\n",
      "File \u001b[0;32m~/anaconda3/envs/nlp_3_9/lib/python3.9/site-packages/skmultilearn/adapt/mlknn.py:180\u001b[0m, in \u001b[0;36mMLkNN._compute_cond\u001b[0;34m(self, X, y)\u001b[0m\n\u001b[1;32m    178\u001b[0m             c[label, deltas[\u001b[38;5;241m0\u001b[39m, label]] \u001b[38;5;241m+\u001b[39m\u001b[38;5;241m=\u001b[39m \u001b[38;5;241m1\u001b[39m\n\u001b[1;32m    179\u001b[0m         \u001b[38;5;28;01melse\u001b[39;00m:\n\u001b[0;32m--> 180\u001b[0m             cn[label, deltas[\u001b[38;5;241m0\u001b[39m, label]] \u001b[38;5;241m+\u001b[39m\u001b[38;5;241m=\u001b[39m \u001b[38;5;241m1\u001b[39m\n\u001b[1;32m    182\u001b[0m c_sum \u001b[38;5;241m=\u001b[39m c\u001b[38;5;241m.\u001b[39msum(axis\u001b[38;5;241m=\u001b[39m\u001b[38;5;241m1\u001b[39m)\n\u001b[1;32m    183\u001b[0m cn_sum \u001b[38;5;241m=\u001b[39m cn\u001b[38;5;241m.\u001b[39msum(axis\u001b[38;5;241m=\u001b[39m\u001b[38;5;241m1\u001b[39m)\n",
      "File \u001b[0;32m~/anaconda3/envs/nlp_3_9/lib/python3.9/site-packages/scipy/sparse/_lil.py:210\u001b[0m, in \u001b[0;36mlil_matrix.__getitem__\u001b[0;34m(self, key)\u001b[0m\n\u001b[1;32m    208\u001b[0m     \u001b[38;5;28;01mreturn\u001b[39;00m \u001b[38;5;28mself\u001b[39m\u001b[38;5;241m.\u001b[39m_get_intXint(\u001b[38;5;241m*\u001b[39mkey)\n\u001b[1;32m    209\u001b[0m \u001b[38;5;66;03m# Everything else takes the normal path.\u001b[39;00m\n\u001b[0;32m--> 210\u001b[0m \u001b[38;5;28;01mreturn\u001b[39;00m \u001b[43mIndexMixin\u001b[49m\u001b[38;5;241;43m.\u001b[39;49m\u001b[38;5;21;43m__getitem__\u001b[39;49m\u001b[43m(\u001b[49m\u001b[38;5;28;43mself\u001b[39;49m\u001b[43m,\u001b[49m\u001b[43m \u001b[49m\u001b[43mkey\u001b[49m\u001b[43m)\u001b[49m\n",
      "File \u001b[0;32m~/anaconda3/envs/nlp_3_9/lib/python3.9/site-packages/scipy/sparse/_index.py:47\u001b[0m, in \u001b[0;36mIndexMixin.__getitem__\u001b[0;34m(self, key)\u001b[0m\n\u001b[1;32m     46\u001b[0m \u001b[38;5;28;01mdef\u001b[39;00m \u001b[38;5;21m__getitem__\u001b[39m(\u001b[38;5;28mself\u001b[39m, key):\n\u001b[0;32m---> 47\u001b[0m     row, col \u001b[38;5;241m=\u001b[39m \u001b[38;5;28;43mself\u001b[39;49m\u001b[38;5;241;43m.\u001b[39;49m\u001b[43m_validate_indices\u001b[49m\u001b[43m(\u001b[49m\u001b[43mkey\u001b[49m\u001b[43m)\u001b[49m\n\u001b[1;32m     49\u001b[0m     \u001b[38;5;66;03m# Dispatch to specialized methods.\u001b[39;00m\n\u001b[1;32m     50\u001b[0m     \u001b[38;5;28;01mif\u001b[39;00m \u001b[38;5;28misinstance\u001b[39m(row, INT_TYPES):\n",
      "File \u001b[0;32m~/anaconda3/envs/nlp_3_9/lib/python3.9/site-packages/scipy/sparse/_index.py:161\u001b[0m, in \u001b[0;36mIndexMixin._validate_indices\u001b[0;34m(self, key)\u001b[0m\n\u001b[1;32m    158\u001b[0m \u001b[38;5;28;01melif\u001b[39;00m \u001b[38;5;129;01mnot\u001b[39;00m \u001b[38;5;28misinstance\u001b[39m(row, \u001b[38;5;28mslice\u001b[39m):\n\u001b[1;32m    159\u001b[0m     row \u001b[38;5;241m=\u001b[39m \u001b[38;5;28mself\u001b[39m\u001b[38;5;241m.\u001b[39m_asindices(row, M)\n\u001b[0;32m--> 161\u001b[0m \u001b[38;5;28;01mif\u001b[39;00m \u001b[43misintlike\u001b[49m\u001b[43m(\u001b[49m\u001b[43mcol\u001b[49m\u001b[43m)\u001b[49m:\n\u001b[1;32m    162\u001b[0m     col \u001b[38;5;241m=\u001b[39m \u001b[38;5;28mint\u001b[39m(col)\n\u001b[1;32m    163\u001b[0m     \u001b[38;5;28;01mif\u001b[39;00m col \u001b[38;5;241m<\u001b[39m \u001b[38;5;241m-\u001b[39mN \u001b[38;5;129;01mor\u001b[39;00m col \u001b[38;5;241m>\u001b[39m\u001b[38;5;241m=\u001b[39m N:\n",
      "File \u001b[0;32m~/anaconda3/envs/nlp_3_9/lib/python3.9/site-packages/scipy/sparse/_sputils.py:233\u001b[0m, in \u001b[0;36misintlike\u001b[0;34m(x)\u001b[0m\n\u001b[1;32m    231\u001b[0m     \u001b[38;5;28;01mif\u001b[39;00m loose_int:\n\u001b[1;32m    232\u001b[0m         msg \u001b[38;5;241m=\u001b[39m \u001b[38;5;124m\"\u001b[39m\u001b[38;5;124mInexact indices into sparse matrices are not allowed\u001b[39m\u001b[38;5;124m\"\u001b[39m\n\u001b[0;32m--> 233\u001b[0m         \u001b[38;5;28;01mraise\u001b[39;00m \u001b[38;5;167;01mValueError\u001b[39;00m(msg)\n\u001b[1;32m    234\u001b[0m     \u001b[38;5;28;01mreturn\u001b[39;00m loose_int\n\u001b[1;32m    235\u001b[0m \u001b[38;5;28;01mreturn\u001b[39;00m \u001b[38;5;28;01mTrue\u001b[39;00m\n",
      "\u001b[0;31mValueError\u001b[0m: Inexact indices into sparse matrices are not allowed"
     ]
    }
   ],
   "source": [
    "from skmultilearn.adapt import MLkNN\n",
    "from scipy.sparse import csr_matrix, lil_matrix\n",
    "\n",
    "n_neighbors = 10\n",
    "classifier_new = MLkNN(k=n_neighbors, s=n_neighbors//2) # n_neighbors is the number of output classes\n",
    "# Note that this classifier can throw up errors when handling sparse matrices.\n",
    "x_train = csr_matrix(lil_matrix(x_train_resampled))\n",
    "y_train = csr_matrix(lil_matrix(y_train_resampled))\n",
    "x_test = csr_matrix(lil_matrix(x_test))\n",
    "# train\n",
    "classifier_new.fit(x_train, y_train)\n",
    "# predict\n",
    "predictions_new = classifier_new.predict(x_test)\n",
    "# accuracy\n",
    "print(\"Accuracy = \",accuracy_score(y_test,predictions_new))\n",
    "\n",
    "# Calculate and print the classification report\n",
    "report = classification_report(y_test, predictions_new, zero_division=0)\n",
    "print(\"Classification Report:\\n\", report)"
   ]
  },
  {
   "cell_type": "markdown",
   "metadata": {},
   "source": [
    "1. use selected features\n",
    "2. hyper parameter tuning\n",
    "3. ** try w2v from google\n",
    "4. ensemble - one line for now"
   ]
  }
 ],
 "metadata": {
  "accelerator": "GPU",
  "colab": {
   "include_colab_link": true,
   "provenance": [],
   "toc_visible": true
  },
  "gpuClass": "standard",
  "kernelspec": {
   "display_name": "nlp_3_9",
   "language": "python",
   "name": "nlp_3_9"
  },
  "language_info": {
   "codemirror_mode": {
    "name": "ipython",
    "version": 3
   },
   "file_extension": ".py",
   "mimetype": "text/x-python",
   "name": "python",
   "nbconvert_exporter": "python",
   "pygments_lexer": "ipython3",
   "version": "3.9.16"
  }
 },
 "nbformat": 4,
 "nbformat_minor": 4
}
