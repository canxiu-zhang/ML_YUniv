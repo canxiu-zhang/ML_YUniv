{
 "cells": [
  {
   "cell_type": "markdown",
   "metadata": {
    "colab_type": "text",
    "id": "view-in-github"
   },
   "source": [
    "<a href=\"https://colab.research.google.com/github/canxiu-zhang/ML_YUniv/blob/main/group_projects/milestone_2/Milestone_2_Group_2.ipynb\" target=\"_parent\"><img src=\"https://colab.research.google.com/assets/colab-badge.svg\" alt=\"Open In Colab\"/></a>"
   ]
  },
  {
   "cell_type": "code",
   "execution_count": null,
   "metadata": {},
   "outputs": [],
   "source": []
  },
  {
   "cell_type": "markdown",
   "metadata": {
    "id": "4PcgTSjAj6ff"
   },
   "source": [
    "# Milestone 3"
   ]
  },
  {
   "cell_type": "markdown",
   "metadata": {
    "id": "B5nT3ynguoGv"
   },
   "source": [
    "## 1. EDA"
   ]
  },
  {
   "cell_type": "code",
   "execution_count": 2,
   "metadata": {
    "id": "VRsL4skoSlpm",
    "tags": []
   },
   "outputs": [],
   "source": [
    "import locale\n",
    "def getpreferredencoding(do_setlocale = True):\n",
    "    return \"UTF-8\"\n",
    "locale.getpreferredencoding = getpreferredencoding"
   ]
  },
  {
   "cell_type": "code",
   "execution_count": 10,
   "metadata": {
    "colab": {
     "base_uri": "https://localhost:8080/"
    },
    "id": "S3ITtdVI6lf8",
    "outputId": "01185a65-5672-4012-9291-f9b6fe3be178",
    "tags": []
   },
   "outputs": [
    {
     "name": "stdout",
     "output_type": "stream",
     "text": [
      "Requirement already satisfied: contractions in /Users/canxiuzhang/anaconda3/envs/nlp_3_9/lib/python3.9/site-packages (0.1.73)\n",
      "Requirement already satisfied: textsearch>=0.0.21 in /Users/canxiuzhang/anaconda3/envs/nlp_3_9/lib/python3.9/site-packages (from contractions) (0.0.24)\n",
      "Requirement already satisfied: pyahocorasick in /Users/canxiuzhang/anaconda3/envs/nlp_3_9/lib/python3.9/site-packages (from textsearch>=0.0.21->contractions) (2.0.0)\n",
      "Requirement already satisfied: anyascii in /Users/canxiuzhang/anaconda3/envs/nlp_3_9/lib/python3.9/site-packages (from textsearch>=0.0.21->contractions) (0.3.2)\n",
      "\u001b[31mERROR: Could not find a version that satisfies the requirement unicodedata (from versions: none)\u001b[0m\u001b[31m\n",
      "\u001b[0m\u001b[31mERROR: No matching distribution found for unicodedata\u001b[0m\u001b[31m\n",
      "\u001b[0mRequirement already satisfied: scikit-multilearn in /Users/canxiuzhang/anaconda3/envs/nlp_3_9/lib/python3.9/site-packages (0.2.0)\n"
     ]
    }
   ],
   "source": [
    "!pip install contractions\n",
    "!pip install unicodedata\n",
    "!pip install scikit-multilearn"
   ]
  },
  {
   "cell_type": "code",
   "execution_count": 3,
   "metadata": {
    "colab": {
     "base_uri": "https://localhost:8080/"
    },
    "id": "I1scMCvNk0V8",
    "outputId": "ce6d54cb-95a8-4d33-a04b-356951d60a2c",
    "tags": []
   },
   "outputs": [
    {
     "name": "stderr",
     "output_type": "stream",
     "text": [
      "2023-04-19 15:31:26.234774: I tensorflow/core/platform/cpu_feature_guard.cc:193] This TensorFlow binary is optimized with oneAPI Deep Neural Network Library (oneDNN) to use the following CPU instructions in performance-critical operations:  AVX2 FMA\n",
      "To enable them in other operations, rebuild TensorFlow with the appropriate compiler flags.\n"
     ]
    },
    {
     "name": "stdout",
     "output_type": "stream",
     "text": [
      "Pretty printing has been turned OFF\n"
     ]
    }
   ],
   "source": [
    "import os\n",
    "import csv\n",
    "import pandas as pd\n",
    "import numpy as np\n",
    "import matplotlib.pyplot as plt\n",
    "import spacy\n",
    "import contractions\n",
    "import unicodedata\n",
    "import pprint\n",
    "%pprint"
   ]
  },
  {
   "cell_type": "code",
   "execution_count": 5,
   "metadata": {
    "id": "dqHjOo68YyIK",
    "tags": []
   },
   "outputs": [],
   "source": [
    "df = pd.read_csv('../tmdb_movies_data.csv')"
   ]
  },
  {
   "cell_type": "markdown",
   "metadata": {
    "id": "-NZ68NvxuxqK"
   },
   "source": [
    "### Parse top 5 genres in a column into a binary vector"
   ]
  },
  {
   "cell_type": "code",
   "execution_count": 6,
   "metadata": {
    "colab": {
     "base_uri": "https://localhost:8080/"
    },
    "id": "RoG-dRrvW_en",
    "outputId": "171d9e76-e5a8-4416-eb3c-da7e88b74680",
    "tags": []
   },
   "outputs": [
    {
     "name": "stdout",
     "output_type": "stream",
     "text": [
      "       id                                           overview  \\\n",
      "0  135397  Twenty-two years after the events of Jurassic ...   \n",
      "1   76341  An apocalyptic story set in the furthest reach...   \n",
      "2  262500  Beatrice Prior must confront her inner demons ...   \n",
      "3  140607  Thirty years after defeating the Galactic Empi...   \n",
      "4  168259  Deckard Shaw seeks revenge against Dominic Tor...   \n",
      "\n",
      "                                      genres  Action  Comedy  Drama  Thriller  \\\n",
      "0  Action|Adventure|Science Fiction|Thriller       1       0      0         1   \n",
      "1  Action|Adventure|Science Fiction|Thriller       1       0      0         1   \n",
      "2         Adventure|Science Fiction|Thriller       0       0      0         1   \n",
      "3   Action|Adventure|Science Fiction|Fantasy       1       0      0         0   \n",
      "4                      Action|Crime|Thriller       1       0      0         1   \n",
      "\n",
      "   Romance  \n",
      "0        0  \n",
      "1        0  \n",
      "2        0  \n",
      "3        0  \n",
      "4        0  \n"
     ]
    }
   ],
   "source": [
    "# Identify the column that contains the multiple genre labels\n",
    "genre_column = 'genres'\n",
    "\n",
    "# Create a list of all possible genre labels in your dataset\n",
    "all_genres = ['Action', 'Comedy', 'Drama', 'Thriller', 'Romance']\n",
    "\n",
    "# Use get_dummies() to convert the genre column into binary columns\n",
    "genre_dummies = df[genre_column].str.get_dummies(sep='|').reindex(columns=all_genres, fill_value=1)\n",
    "\n",
    "# Merge the new DataFrame with the original DataFrame\n",
    "merged_df = pd.concat([df, genre_dummies], axis=1)\n",
    "\n",
    "# Drop columns from the DataFrame\n",
    "merged_df.drop(['imdb_id', 'popularity', 'budget', 'revenue', 'original_title', 'cast', 'homepage', 'director', 'tagline', 'keywords', 'runtime', 'production_companies', 'release_date', 'vote_count', 'vote_average', 'release_year', 'budget_adj', 'revenue_adj'], axis=1, inplace=True)\n",
    "\n",
    "# Print the new DataFrame\n",
    "print(merged_df.head())"
   ]
  },
  {
   "cell_type": "code",
   "execution_count": 7,
   "metadata": {
    "colab": {
     "base_uri": "https://localhost:8080/"
    },
    "id": "6GKqJSJRmgJq",
    "outputId": "523404b2-ebe3-496e-aa9e-ae1bab76be4e",
    "tags": []
   },
   "outputs": [
    {
     "name": "stdout",
     "output_type": "stream",
     "text": [
      "id           0\n",
      "overview     4\n",
      "genres      23\n",
      "Action       0\n",
      "Comedy       0\n",
      "Drama        0\n",
      "Thriller     0\n",
      "Romance      0\n",
      "dtype: int64\n"
     ]
    }
   ],
   "source": [
    "missing_values_check = merged_df.isnull().sum()\n",
    "print(missing_values_check)"
   ]
  },
  {
   "cell_type": "code",
   "execution_count": 8,
   "metadata": {
    "colab": {
     "base_uri": "https://localhost:8080/"
    },
    "id": "k3vOVRm-bOA-",
    "outputId": "4b7ea4ce-142f-4b3b-a3ce-ecded9d3272a",
    "tags": []
   },
   "outputs": [
    {
     "name": "stdout",
     "output_type": "stream",
     "text": [
      "['Action', 'Comedy', 'Drama', 'Thriller', 'Romance']\n"
     ]
    }
   ],
   "source": [
    "categories = list(merged_df.columns.values)\n",
    "categories = categories[3:]\n",
    "print(categories)"
   ]
  },
  {
   "cell_type": "code",
   "execution_count": 9,
   "metadata": {
    "colab": {
     "base_uri": "https://localhost:8080/",
     "height": 206
    },
    "id": "okfXO5XUeSv8",
    "outputId": "0cebf616-a76e-4454-8f80-25cb6ffaa15e",
    "tags": []
   },
   "outputs": [
    {
     "data": {
      "text/html": [
       "<div>\n",
       "<style scoped>\n",
       "    .dataframe tbody tr th:only-of-type {\n",
       "        vertical-align: middle;\n",
       "    }\n",
       "\n",
       "    .dataframe tbody tr th {\n",
       "        vertical-align: top;\n",
       "    }\n",
       "\n",
       "    .dataframe thead th {\n",
       "        text-align: right;\n",
       "    }\n",
       "</style>\n",
       "<table border=\"1\" class=\"dataframe\">\n",
       "  <thead>\n",
       "    <tr style=\"text-align: right;\">\n",
       "      <th></th>\n",
       "      <th>category</th>\n",
       "      <th>number of overviews</th>\n",
       "    </tr>\n",
       "  </thead>\n",
       "  <tbody>\n",
       "    <tr>\n",
       "      <th>0</th>\n",
       "      <td>Action</td>\n",
       "      <td>2385</td>\n",
       "    </tr>\n",
       "    <tr>\n",
       "      <th>1</th>\n",
       "      <td>Comedy</td>\n",
       "      <td>3793</td>\n",
       "    </tr>\n",
       "    <tr>\n",
       "      <th>2</th>\n",
       "      <td>Drama</td>\n",
       "      <td>4761</td>\n",
       "    </tr>\n",
       "    <tr>\n",
       "      <th>3</th>\n",
       "      <td>Thriller</td>\n",
       "      <td>2908</td>\n",
       "    </tr>\n",
       "    <tr>\n",
       "      <th>4</th>\n",
       "      <td>Romance</td>\n",
       "      <td>1712</td>\n",
       "    </tr>\n",
       "  </tbody>\n",
       "</table>\n",
       "</div>"
      ],
      "text/plain": [
       "   category  number of overviews\n",
       "0    Action                 2385\n",
       "1    Comedy                 3793\n",
       "2     Drama                 4761\n",
       "3  Thriller                 2908\n",
       "4   Romance                 1712"
      ]
     },
     "execution_count": 9,
     "metadata": {},
     "output_type": "execute_result"
    }
   ],
   "source": [
    "# Calculating number of comments in each category\n",
    "\n",
    "counts = []\n",
    "for category in categories:\n",
    "    counts.append((category, merged_df[category].sum()))\n",
    "df_stats = pd.DataFrame(counts, columns=['category', 'number of overviews'])\n",
    "df_stats"
   ]
  },
  {
   "cell_type": "markdown",
   "metadata": {
    "id": "7wrvB4wCvV2i"
   },
   "source": [
    "## 2. Data Pre-Processing"
   ]
  },
  {
   "cell_type": "code",
   "execution_count": 10,
   "metadata": {
    "colab": {
     "base_uri": "https://localhost:8080/"
    },
    "id": "3ks3m3VOfxBt",
    "outputId": "a544394b-ae3a-46f3-dd49-8cdefbbb7f76",
    "tags": []
   },
   "outputs": [
    {
     "data": {
      "text/plain": [
       "(10866, 8)"
      ]
     },
     "execution_count": 10,
     "metadata": {},
     "output_type": "execute_result"
    }
   ],
   "source": [
    "data = merged_df\n",
    "data.shape"
   ]
  },
  {
   "cell_type": "code",
   "execution_count": 11,
   "metadata": {
    "id": "PIPsQ-ysf38m",
    "tags": []
   },
   "outputs": [],
   "source": [
    "import nltk\n",
    "from nltk.corpus import stopwords\n",
    "from nltk.stem.snowball import SnowballStemmer\n",
    "import re\n",
    "\n",
    "import sys\n",
    "import warnings\n",
    "\n",
    "if not sys.warnoptions:\n",
    "    warnings.simplefilter(\"ignore\")"
   ]
  },
  {
   "cell_type": "markdown",
   "metadata": {
    "id": "Cn39Kc_YvboA"
   },
   "source": [
    "### Cleaning Data"
   ]
  },
  {
   "cell_type": "code",
   "execution_count": 12,
   "metadata": {
    "id": "oFY5eSjZf9f0",
    "tags": []
   },
   "outputs": [],
   "source": [
    "def cleanHtml(sentence):\n",
    "    cleanr = re.compile('<.*?>')\n",
    "    cleantext = re.sub(cleanr, ' ', str(sentence))\n",
    "    return cleantext\n",
    "\n",
    "\n",
    "def cleanPunc(sentence): #function to clean the word of any punctuation or special characters\n",
    "    cleaned = re.sub(r'[?|!|\\'|\"|#]',r'',sentence)\n",
    "    cleaned = re.sub(r'[.|,|)|(|\\|/]',r' ',cleaned)\n",
    "    cleaned = cleaned.strip()\n",
    "    cleaned = cleaned.replace(\"\\n\",\" \")\n",
    "    return cleaned\n",
    "\n",
    "\n",
    "def keepAlpha(sentence):\n",
    "    alpha_sent = \"\"\n",
    "    for word in sentence.split():\n",
    "        alpha_word = re.sub('[^a-z A-Z]+', ' ', word)\n",
    "        alpha_sent += alpha_word\n",
    "        alpha_sent += \" \"\n",
    "    alpha_sent = alpha_sent.strip()\n",
    "    return alpha_sent\n",
    "\n",
    "def removeSpecial(sentence):\n",
    "    # Remove special characters using regular expression\n",
    "    clean_text = re.sub(r'[^\\w\\s]', '', sentence)\n",
    "    return clean_text\n",
    "\n",
    "def removeAccent(sentence):\n",
    "    # Remove accent characters using the unicodedata module\n",
    "    no_accent_text = ''.join(char for char in unicodedata.normalize('NFD', sentence) if unicodedata.category(char) != 'Mn')\n",
    "    return no_accent_text\n",
    "\n",
    "def removeContraction(sentence):\n",
    "    # Expand contractions using contractions library\n",
    "    expanded_text = contractions.fix(sentence)\n",
    "    return expanded_text"
   ]
  },
  {
   "cell_type": "code",
   "execution_count": 13,
   "metadata": {
    "colab": {
     "base_uri": "https://localhost:8080/",
     "height": 250
    },
    "id": "47VpakS1f-YJ",
    "outputId": "a2c1ec0a-f9b4-4ba0-c8c1-5fbf4e777228",
    "tags": []
   },
   "outputs": [
    {
     "data": {
      "text/html": [
       "<div>\n",
       "<style scoped>\n",
       "    .dataframe tbody tr th:only-of-type {\n",
       "        vertical-align: middle;\n",
       "    }\n",
       "\n",
       "    .dataframe tbody tr th {\n",
       "        vertical-align: top;\n",
       "    }\n",
       "\n",
       "    .dataframe thead th {\n",
       "        text-align: right;\n",
       "    }\n",
       "</style>\n",
       "<table border=\"1\" class=\"dataframe\">\n",
       "  <thead>\n",
       "    <tr style=\"text-align: right;\">\n",
       "      <th></th>\n",
       "      <th>id</th>\n",
       "      <th>overview</th>\n",
       "      <th>genres</th>\n",
       "      <th>Action</th>\n",
       "      <th>Comedy</th>\n",
       "      <th>Drama</th>\n",
       "      <th>Thriller</th>\n",
       "      <th>Romance</th>\n",
       "    </tr>\n",
       "  </thead>\n",
       "  <tbody>\n",
       "    <tr>\n",
       "      <th>0</th>\n",
       "      <td>135397</td>\n",
       "      <td>twenty two years after the events of jurassic ...</td>\n",
       "      <td>Action|Adventure|Science Fiction|Thriller</td>\n",
       "      <td>1</td>\n",
       "      <td>0</td>\n",
       "      <td>0</td>\n",
       "      <td>1</td>\n",
       "      <td>0</td>\n",
       "    </tr>\n",
       "    <tr>\n",
       "      <th>1</th>\n",
       "      <td>76341</td>\n",
       "      <td>an apocalyptic story set in the furthest reach...</td>\n",
       "      <td>Action|Adventure|Science Fiction|Thriller</td>\n",
       "      <td>1</td>\n",
       "      <td>0</td>\n",
       "      <td>0</td>\n",
       "      <td>1</td>\n",
       "      <td>0</td>\n",
       "    </tr>\n",
       "    <tr>\n",
       "      <th>2</th>\n",
       "      <td>262500</td>\n",
       "      <td>beatrice prior must confront her inner demons ...</td>\n",
       "      <td>Adventure|Science Fiction|Thriller</td>\n",
       "      <td>0</td>\n",
       "      <td>0</td>\n",
       "      <td>0</td>\n",
       "      <td>1</td>\n",
       "      <td>0</td>\n",
       "    </tr>\n",
       "    <tr>\n",
       "      <th>3</th>\n",
       "      <td>140607</td>\n",
       "      <td>thirty years after defeating the galactic empi...</td>\n",
       "      <td>Action|Adventure|Science Fiction|Fantasy</td>\n",
       "      <td>1</td>\n",
       "      <td>0</td>\n",
       "      <td>0</td>\n",
       "      <td>0</td>\n",
       "      <td>0</td>\n",
       "    </tr>\n",
       "    <tr>\n",
       "      <th>4</th>\n",
       "      <td>168259</td>\n",
       "      <td>deckard shaw seeks revenge against dominic tor...</td>\n",
       "      <td>Action|Crime|Thriller</td>\n",
       "      <td>1</td>\n",
       "      <td>0</td>\n",
       "      <td>0</td>\n",
       "      <td>1</td>\n",
       "      <td>0</td>\n",
       "    </tr>\n",
       "  </tbody>\n",
       "</table>\n",
       "</div>"
      ],
      "text/plain": [
       "       id                                           overview  \\\n",
       "0  135397  twenty two years after the events of jurassic ...   \n",
       "1   76341  an apocalyptic story set in the furthest reach...   \n",
       "2  262500  beatrice prior must confront her inner demons ...   \n",
       "3  140607  thirty years after defeating the galactic empi...   \n",
       "4  168259  deckard shaw seeks revenge against dominic tor...   \n",
       "\n",
       "                                      genres  Action  Comedy  Drama  Thriller  \\\n",
       "0  Action|Adventure|Science Fiction|Thriller       1       0      0         1   \n",
       "1  Action|Adventure|Science Fiction|Thriller       1       0      0         1   \n",
       "2         Adventure|Science Fiction|Thriller       0       0      0         1   \n",
       "3   Action|Adventure|Science Fiction|Fantasy       1       0      0         0   \n",
       "4                      Action|Crime|Thriller       1       0      0         1   \n",
       "\n",
       "   Romance  \n",
       "0        0  \n",
       "1        0  \n",
       "2        0  \n",
       "3        0  \n",
       "4        0  "
      ]
     },
     "execution_count": 13,
     "metadata": {},
     "output_type": "execute_result"
    }
   ],
   "source": [
    "data['overview'] = data['overview'].str.lower()\n",
    "data['overview'] = data['overview'].apply(cleanHtml)\n",
    "data['overview'] = data['overview'].apply(cleanPunc)\n",
    "data['overview'] = data['overview'].apply(keepAlpha)\n",
    "data['overview'] = data['overview'].apply(removeSpecial)\n",
    "data['overview'] = data['overview'].apply(removeAccent)\n",
    "data['overview'] = data['overview'].apply(removeContraction)\n",
    "data.head()"
   ]
  },
  {
   "cell_type": "markdown",
   "metadata": {
    "id": "CFPr_dg0vls-"
   },
   "source": [
    "### Removing Stop Words"
   ]
  },
  {
   "cell_type": "code",
   "execution_count": 14,
   "metadata": {
    "colab": {
     "base_uri": "https://localhost:8080/"
    },
    "id": "iFLNpWeZgdWr",
    "outputId": "34e0311c-52c1-4738-8a2d-6cec37f55818",
    "tags": []
   },
   "outputs": [
    {
     "name": "stderr",
     "output_type": "stream",
     "text": [
      "[nltk_data] Downloading package stopwords to\n",
      "[nltk_data]     /Users/canxiuzhang/nltk_data...\n",
      "[nltk_data]   Package stopwords is already up-to-date!\n"
     ]
    },
    {
     "data": {
      "text/plain": [
       "True"
      ]
     },
     "execution_count": 14,
     "metadata": {},
     "output_type": "execute_result"
    }
   ],
   "source": [
    "import nltk\n",
    "nltk.download('stopwords')"
   ]
  },
  {
   "cell_type": "code",
   "execution_count": 15,
   "metadata": {
    "colab": {
     "base_uri": "https://localhost:8080/",
     "height": 250
    },
    "id": "fALRmY8cgaPL",
    "outputId": "d1da0382-6b45-4c86-99ad-36d00dd365ef",
    "tags": []
   },
   "outputs": [
    {
     "data": {
      "text/html": [
       "<div>\n",
       "<style scoped>\n",
       "    .dataframe tbody tr th:only-of-type {\n",
       "        vertical-align: middle;\n",
       "    }\n",
       "\n",
       "    .dataframe tbody tr th {\n",
       "        vertical-align: top;\n",
       "    }\n",
       "\n",
       "    .dataframe thead th {\n",
       "        text-align: right;\n",
       "    }\n",
       "</style>\n",
       "<table border=\"1\" class=\"dataframe\">\n",
       "  <thead>\n",
       "    <tr style=\"text-align: right;\">\n",
       "      <th></th>\n",
       "      <th>id</th>\n",
       "      <th>overview</th>\n",
       "      <th>genres</th>\n",
       "      <th>Action</th>\n",
       "      <th>Comedy</th>\n",
       "      <th>Drama</th>\n",
       "      <th>Thriller</th>\n",
       "      <th>Romance</th>\n",
       "    </tr>\n",
       "  </thead>\n",
       "  <tbody>\n",
       "    <tr>\n",
       "      <th>0</th>\n",
       "      <td>135397</td>\n",
       "      <td>twenty  years   events  jurassic park isla nub...</td>\n",
       "      <td>Action|Adventure|Science Fiction|Thriller</td>\n",
       "      <td>1</td>\n",
       "      <td>0</td>\n",
       "      <td>0</td>\n",
       "      <td>1</td>\n",
       "      <td>0</td>\n",
       "    </tr>\n",
       "    <tr>\n",
       "      <th>1</th>\n",
       "      <td>76341</td>\n",
       "      <td>apocalyptic story set   furthest reaches   pl...</td>\n",
       "      <td>Action|Adventure|Science Fiction|Thriller</td>\n",
       "      <td>1</td>\n",
       "      <td>0</td>\n",
       "      <td>0</td>\n",
       "      <td>1</td>\n",
       "      <td>0</td>\n",
       "    </tr>\n",
       "    <tr>\n",
       "      <th>2</th>\n",
       "      <td>262500</td>\n",
       "      <td>beatrice prior must confront  inner demons  co...</td>\n",
       "      <td>Adventure|Science Fiction|Thriller</td>\n",
       "      <td>0</td>\n",
       "      <td>0</td>\n",
       "      <td>0</td>\n",
       "      <td>1</td>\n",
       "      <td>0</td>\n",
       "    </tr>\n",
       "    <tr>\n",
       "      <th>3</th>\n",
       "      <td>140607</td>\n",
       "      <td>thirty years  defeating  galactic empire han s...</td>\n",
       "      <td>Action|Adventure|Science Fiction|Fantasy</td>\n",
       "      <td>1</td>\n",
       "      <td>0</td>\n",
       "      <td>0</td>\n",
       "      <td>0</td>\n",
       "      <td>0</td>\n",
       "    </tr>\n",
       "    <tr>\n",
       "      <th>4</th>\n",
       "      <td>168259</td>\n",
       "      <td>deckard shaw seeks revenge  dominic toretto   ...</td>\n",
       "      <td>Action|Crime|Thriller</td>\n",
       "      <td>1</td>\n",
       "      <td>0</td>\n",
       "      <td>0</td>\n",
       "      <td>1</td>\n",
       "      <td>0</td>\n",
       "    </tr>\n",
       "  </tbody>\n",
       "</table>\n",
       "</div>"
      ],
      "text/plain": [
       "       id                                           overview  \\\n",
       "0  135397  twenty  years   events  jurassic park isla nub...   \n",
       "1   76341   apocalyptic story set   furthest reaches   pl...   \n",
       "2  262500  beatrice prior must confront  inner demons  co...   \n",
       "3  140607  thirty years  defeating  galactic empire han s...   \n",
       "4  168259  deckard shaw seeks revenge  dominic toretto   ...   \n",
       "\n",
       "                                      genres  Action  Comedy  Drama  Thriller  \\\n",
       "0  Action|Adventure|Science Fiction|Thriller       1       0      0         1   \n",
       "1  Action|Adventure|Science Fiction|Thriller       1       0      0         1   \n",
       "2         Adventure|Science Fiction|Thriller       0       0      0         1   \n",
       "3   Action|Adventure|Science Fiction|Fantasy       1       0      0         0   \n",
       "4                      Action|Crime|Thriller       1       0      0         1   \n",
       "\n",
       "   Romance  \n",
       "0        0  \n",
       "1        0  \n",
       "2        0  \n",
       "3        0  \n",
       "4        0  "
      ]
     },
     "execution_count": 15,
     "metadata": {},
     "output_type": "execute_result"
    }
   ],
   "source": [
    "stop_words = set(stopwords.words('english'))\n",
    "stop_words.update(['zero','one','two','three','four','five','six','seven','eight','nine','ten','may','also','across','among','beside','however','yet','within'])\n",
    "re_stop_words = re.compile(r\"\\b(\" + \"|\".join(stop_words) + \")\\\\W\", re.I)\n",
    "def removeStopWords(sentence):\n",
    "    global re_stop_words\n",
    "    return re_stop_words.sub(\" \", sentence)\n",
    "\n",
    "data['overview'] = data['overview'].apply(removeStopWords)\n",
    "data.head()"
   ]
  },
  {
   "cell_type": "markdown",
   "metadata": {
    "id": "xziHnDtKvsUu"
   },
   "source": [
    "### Stemming"
   ]
  },
  {
   "cell_type": "code",
   "execution_count": 16,
   "metadata": {
    "colab": {
     "base_uri": "https://localhost:8080/",
     "height": 250
    },
    "id": "8jJii_c4g0nj",
    "outputId": "5feaed9a-cb0d-4a2b-b629-d39056b4953b",
    "tags": []
   },
   "outputs": [
    {
     "data": {
      "text/html": [
       "<div>\n",
       "<style scoped>\n",
       "    .dataframe tbody tr th:only-of-type {\n",
       "        vertical-align: middle;\n",
       "    }\n",
       "\n",
       "    .dataframe tbody tr th {\n",
       "        vertical-align: top;\n",
       "    }\n",
       "\n",
       "    .dataframe thead th {\n",
       "        text-align: right;\n",
       "    }\n",
       "</style>\n",
       "<table border=\"1\" class=\"dataframe\">\n",
       "  <thead>\n",
       "    <tr style=\"text-align: right;\">\n",
       "      <th></th>\n",
       "      <th>id</th>\n",
       "      <th>overview</th>\n",
       "      <th>genres</th>\n",
       "      <th>Action</th>\n",
       "      <th>Comedy</th>\n",
       "      <th>Drama</th>\n",
       "      <th>Thriller</th>\n",
       "      <th>Romance</th>\n",
       "    </tr>\n",
       "  </thead>\n",
       "  <tbody>\n",
       "    <tr>\n",
       "      <th>0</th>\n",
       "      <td>135397</td>\n",
       "      <td>twenty  years   events  jurassic park isla nub...</td>\n",
       "      <td>Action|Adventure|Science Fiction|Thriller</td>\n",
       "      <td>1</td>\n",
       "      <td>0</td>\n",
       "      <td>0</td>\n",
       "      <td>1</td>\n",
       "      <td>0</td>\n",
       "    </tr>\n",
       "    <tr>\n",
       "      <th>1</th>\n",
       "      <td>76341</td>\n",
       "      <td>apocalyptic story set   furthest reaches   pl...</td>\n",
       "      <td>Action|Adventure|Science Fiction|Thriller</td>\n",
       "      <td>1</td>\n",
       "      <td>0</td>\n",
       "      <td>0</td>\n",
       "      <td>1</td>\n",
       "      <td>0</td>\n",
       "    </tr>\n",
       "    <tr>\n",
       "      <th>2</th>\n",
       "      <td>262500</td>\n",
       "      <td>beatrice prior must confront  inner demons  co...</td>\n",
       "      <td>Adventure|Science Fiction|Thriller</td>\n",
       "      <td>0</td>\n",
       "      <td>0</td>\n",
       "      <td>0</td>\n",
       "      <td>1</td>\n",
       "      <td>0</td>\n",
       "    </tr>\n",
       "    <tr>\n",
       "      <th>3</th>\n",
       "      <td>140607</td>\n",
       "      <td>thirty years  defeating  galactic empire han s...</td>\n",
       "      <td>Action|Adventure|Science Fiction|Fantasy</td>\n",
       "      <td>1</td>\n",
       "      <td>0</td>\n",
       "      <td>0</td>\n",
       "      <td>0</td>\n",
       "      <td>0</td>\n",
       "    </tr>\n",
       "    <tr>\n",
       "      <th>4</th>\n",
       "      <td>168259</td>\n",
       "      <td>deckard shaw seeks revenge  dominic toretto   ...</td>\n",
       "      <td>Action|Crime|Thriller</td>\n",
       "      <td>1</td>\n",
       "      <td>0</td>\n",
       "      <td>0</td>\n",
       "      <td>1</td>\n",
       "      <td>0</td>\n",
       "    </tr>\n",
       "  </tbody>\n",
       "</table>\n",
       "</div>"
      ],
      "text/plain": [
       "       id                                           overview  \\\n",
       "0  135397  twenty  years   events  jurassic park isla nub...   \n",
       "1   76341   apocalyptic story set   furthest reaches   pl...   \n",
       "2  262500  beatrice prior must confront  inner demons  co...   \n",
       "3  140607  thirty years  defeating  galactic empire han s...   \n",
       "4  168259  deckard shaw seeks revenge  dominic toretto   ...   \n",
       "\n",
       "                                      genres  Action  Comedy  Drama  Thriller  \\\n",
       "0  Action|Adventure|Science Fiction|Thriller       1       0      0         1   \n",
       "1  Action|Adventure|Science Fiction|Thriller       1       0      0         1   \n",
       "2         Adventure|Science Fiction|Thriller       0       0      0         1   \n",
       "3   Action|Adventure|Science Fiction|Fantasy       1       0      0         0   \n",
       "4                      Action|Crime|Thriller       1       0      0         1   \n",
       "\n",
       "   Romance  \n",
       "0        0  \n",
       "1        0  \n",
       "2        0  \n",
       "3        0  \n",
       "4        0  "
      ]
     },
     "execution_count": 16,
     "metadata": {},
     "output_type": "execute_result"
    }
   ],
   "source": [
    "stemmer = SnowballStemmer(\"english\")\n",
    "def stemming(sentence):\n",
    "    stemSentence = \"\"\n",
    "    for word in sentence.split():\n",
    "        stem = stemmer.stem(word)\n",
    "        stemSentence += stem\n",
    "        stemSentence += \" \"\n",
    "    stemSentence = stemSentence.strip()\n",
    "    return stemSentence\n",
    "\n",
    "# data['overview'] = data['overview'].apply(stemming)\n",
    "data.head()"
   ]
  },
  {
   "cell_type": "markdown",
   "metadata": {
    "id": "wb9GfqKd5yB7"
   },
   "source": [
    "### Lemmatization"
   ]
  },
  {
   "cell_type": "code",
   "execution_count": 18,
   "metadata": {
    "colab": {
     "base_uri": "https://localhost:8080/",
     "height": 250
    },
    "id": "jXSnhsWM5xxb",
    "outputId": "1e4620d9-f822-4e7d-ec92-4cac29696952",
    "tags": []
   },
   "outputs": [
    {
     "data": {
      "text/html": [
       "<div>\n",
       "<style scoped>\n",
       "    .dataframe tbody tr th:only-of-type {\n",
       "        vertical-align: middle;\n",
       "    }\n",
       "\n",
       "    .dataframe tbody tr th {\n",
       "        vertical-align: top;\n",
       "    }\n",
       "\n",
       "    .dataframe thead th {\n",
       "        text-align: right;\n",
       "    }\n",
       "</style>\n",
       "<table border=\"1\" class=\"dataframe\">\n",
       "  <thead>\n",
       "    <tr style=\"text-align: right;\">\n",
       "      <th></th>\n",
       "      <th>id</th>\n",
       "      <th>overview</th>\n",
       "      <th>genres</th>\n",
       "      <th>Action</th>\n",
       "      <th>Comedy</th>\n",
       "      <th>Drama</th>\n",
       "      <th>Thriller</th>\n",
       "      <th>Romance</th>\n",
       "    </tr>\n",
       "  </thead>\n",
       "  <tbody>\n",
       "    <tr>\n",
       "      <th>0</th>\n",
       "      <td>135397</td>\n",
       "      <td>twenty  year  event  jurassic park isla nublar...</td>\n",
       "      <td>Action|Adventure|Science Fiction|Thriller</td>\n",
       "      <td>1</td>\n",
       "      <td>0</td>\n",
       "      <td>0</td>\n",
       "      <td>1</td>\n",
       "      <td>0</td>\n",
       "    </tr>\n",
       "    <tr>\n",
       "      <th>1</th>\n",
       "      <td>76341</td>\n",
       "      <td>apocalyptic story set  furth reach  planet  s...</td>\n",
       "      <td>Action|Adventure|Science Fiction|Thriller</td>\n",
       "      <td>1</td>\n",
       "      <td>0</td>\n",
       "      <td>0</td>\n",
       "      <td>1</td>\n",
       "      <td>0</td>\n",
       "    </tr>\n",
       "    <tr>\n",
       "      <th>2</th>\n",
       "      <td>262500</td>\n",
       "      <td>beatrice prior must confront  inner demon  con...</td>\n",
       "      <td>Adventure|Science Fiction|Thriller</td>\n",
       "      <td>0</td>\n",
       "      <td>0</td>\n",
       "      <td>0</td>\n",
       "      <td>1</td>\n",
       "      <td>0</td>\n",
       "    </tr>\n",
       "    <tr>\n",
       "      <th>3</th>\n",
       "      <td>140607</td>\n",
       "      <td>thirty year  defeat  galactic empire han solo ...</td>\n",
       "      <td>Action|Adventure|Science Fiction|Fantasy</td>\n",
       "      <td>1</td>\n",
       "      <td>0</td>\n",
       "      <td>0</td>\n",
       "      <td>0</td>\n",
       "      <td>0</td>\n",
       "    </tr>\n",
       "    <tr>\n",
       "      <th>4</th>\n",
       "      <td>168259</td>\n",
       "      <td>deckard shaw seek revenge  dominic toretto  fa...</td>\n",
       "      <td>Action|Crime|Thriller</td>\n",
       "      <td>1</td>\n",
       "      <td>0</td>\n",
       "      <td>0</td>\n",
       "      <td>1</td>\n",
       "      <td>0</td>\n",
       "    </tr>\n",
       "  </tbody>\n",
       "</table>\n",
       "</div>"
      ],
      "text/plain": [
       "       id                                           overview  \\\n",
       "0  135397  twenty  year  event  jurassic park isla nublar...   \n",
       "1   76341   apocalyptic story set  furth reach  planet  s...   \n",
       "2  262500  beatrice prior must confront  inner demon  con...   \n",
       "3  140607  thirty year  defeat  galactic empire han solo ...   \n",
       "4  168259  deckard shaw seek revenge  dominic toretto  fa...   \n",
       "\n",
       "                                      genres  Action  Comedy  Drama  Thriller  \\\n",
       "0  Action|Adventure|Science Fiction|Thriller       1       0      0         1   \n",
       "1  Action|Adventure|Science Fiction|Thriller       1       0      0         1   \n",
       "2         Adventure|Science Fiction|Thriller       0       0      0         1   \n",
       "3   Action|Adventure|Science Fiction|Fantasy       1       0      0         0   \n",
       "4                      Action|Crime|Thriller       1       0      0         1   \n",
       "\n",
       "   Romance  \n",
       "0        0  \n",
       "1        0  \n",
       "2        0  \n",
       "3        0  \n",
       "4        0  "
      ]
     },
     "execution_count": 18,
     "metadata": {},
     "output_type": "execute_result"
    }
   ],
   "source": [
    "nlp = spacy.load('en_core_web_sm')\n",
    "def lemmatization(sentence):\n",
    "  doc = nlp(sentence)\n",
    "  lemmas = [token.lemma_ for token in doc]\n",
    "  lemmas = [l.strip() for l in lemmas]\n",
    "  return \" \".join(lemmas)\n",
    "\n",
    "data['overview'] = data['overview'].apply(lemmatization)\n",
    "data.head()"
   ]
  },
  {
   "cell_type": "markdown",
   "metadata": {
    "id": "7LoC5fApvyrq"
   },
   "source": [
    "### Train-Test Split"
   ]
  },
  {
   "cell_type": "code",
   "execution_count": 19,
   "metadata": {
    "colab": {
     "base_uri": "https://localhost:8080/"
    },
    "id": "rmirAu-1hA04",
    "outputId": "bdbd7362-02fd-43cf-c356-bcdccbb101d9",
    "tags": []
   },
   "outputs": [
    {
     "name": "stdout",
     "output_type": "stream",
     "text": [
      "(7606, 8)\n",
      "(3260, 8)\n"
     ]
    }
   ],
   "source": [
    "from sklearn.model_selection import train_test_split\n",
    "\n",
    "train, test = train_test_split(data, random_state=42, test_size=0.30, shuffle=True)\n",
    "\n",
    "print(train.shape)\n",
    "print(test.shape)"
   ]
  },
  {
   "cell_type": "code",
   "execution_count": 50,
   "metadata": {
    "tags": []
   },
   "outputs": [],
   "source": [
    "train = train.reset_index(drop=True)\n",
    "test = test.reset_index(drop=True)"
   ]
  },
  {
   "cell_type": "code",
   "execution_count": 51,
   "metadata": {
    "id": "JRu3o0u_CCax",
    "tags": []
   },
   "outputs": [],
   "source": [
    "train.to_csv('../train.csv', index=False)\n",
    "test.to_csv('../test.csv', index=False)"
   ]
  },
  {
   "cell_type": "code",
   "execution_count": 52,
   "metadata": {
    "tags": []
   },
   "outputs": [
    {
     "data": {
      "text/plain": [
       "(7606, 8)"
      ]
     },
     "execution_count": 52,
     "metadata": {},
     "output_type": "execute_result"
    }
   ],
   "source": [
    "train.shape"
   ]
  },
  {
   "cell_type": "code",
   "execution_count": 65,
   "metadata": {
    "tags": []
   },
   "outputs": [],
   "source": [
    "train = pd.read_csv('../train.csv', keep_default_na=False, na_values=[''])\n",
    "test = pd.read_csv('../test.csv', keep_default_na=False, na_values=[''])"
   ]
  },
  {
   "cell_type": "markdown",
   "metadata": {
    "id": "onP96nUbpEeC"
   },
   "source": [
    "### Resample Training dataset"
   ]
  },
  {
   "cell_type": "code",
   "execution_count": 66,
   "metadata": {
    "colab": {
     "base_uri": "https://localhost:8080/",
     "height": 545
    },
    "id": "x4-ce6vrbLsZ",
    "outputId": "88d7b3fc-86ce-4b90-9d1d-61944d40c51f",
    "tags": []
   },
   "outputs": [
    {
     "data": {
      "image/png": "[encoded data removed]",
      "text/plain": [
       "<Figure size 1000x600 with 1 Axes>"
      ]
     },
     "metadata": {},
     "output_type": "display_data"
    }
   ],
   "source": [
    "#Plotting the y genre columns:\n",
    "\n",
    "genre_columns = ['Drama', 'Romance', 'Action', 'Thriller', 'Comedy']\n",
    "plot_df = data[genre_columns]\n",
    "\n",
    "# Calculate the sum of each column\n",
    "column_sums = plot_df.sum(axis=0)\n",
    "\n",
    "# Set the width of the bars\n",
    "bar_width = 0.5\n",
    "\n",
    "# Set the x-axis positions for the bars\n",
    "x = np.arange(len(column_sums))\n",
    "\n",
    "# Create a figure and axis\n",
    "fig, ax = plt.subplots(figsize=(10, 6))\n",
    "\n",
    "# Plot the bars for each column\n",
    "ax.bar(x, column_sums, width=bar_width)\n",
    "\n",
    "# Set the x-axis tick positions and labels\n",
    "ax.set_xticks(x)\n",
    "ax.set_xticklabels(column_sums.index)\n",
    "\n",
    "# Add labels and title\n",
    "ax.set_ylabel('Count')\n",
    "ax.set_title('Count of Each Genre')\n",
    "\n",
    "# Show the plot\n",
    "plt.show()\n"
   ]
  },
  {
   "cell_type": "markdown",
   "metadata": {
    "id": "qvo_dBg7jjXj"
   },
   "source": [
    "## 3. Feature Extraction"
   ]
  },
  {
   "cell_type": "markdown",
   "metadata": {
    "id": "oFGJv2WsIFK3"
   },
   "source": [
    "### GloVe model"
   ]
  },
  {
   "cell_type": "code",
   "execution_count": 33,
   "metadata": {
    "id": "LWehBuTLJNL4"
   },
   "outputs": [],
   "source": [
    "# feature engineering with GloVe model\n",
    "train_nlp = [nlp(item) for item in train_text]\n",
    "train_glove_features = np.array([item.vector for item in train_nlp])\n",
    "\n",
    "test_nlp = [nlp(item) for item in test_text]\n",
    "test_glove_features = np.array([item.vector for item in test_nlp])"
   ]
  },
  {
   "cell_type": "code",
   "execution_count": 34,
   "metadata": {
    "colab": {
     "base_uri": "https://localhost:8080/"
    },
    "id": "Qbi2CHqbKDoy",
    "outputId": "01a1894c-2ec3-4199-90c2-bcaa211cb475"
   },
   "outputs": [
    {
     "name": "stdout",
     "output_type": "stream",
     "text": [
      "GloVe model:> Train features shape: (7606, 96)  Test features shape: (3260, 96)\n"
     ]
    }
   ],
   "source": [
    "# print('Word2Vec model:> Train features shape:', avg_wv_train_features.shape, ' Test features shape:', avg_wv_test_features.shape)\n",
    "print('GloVe model:> Train features shape:', train_glove_features.shape, ' Test features shape:', test_glove_features.shape)"
   ]
  },
  {
   "cell_type": "markdown",
   "metadata": {
    "id": "547lPCx4CYMO"
   },
   "source": [
    "### word2vec model"
   ]
  },
  {
   "cell_type": "code",
   "execution_count": 67,
   "metadata": {
    "id": "Ro45VOgOFZgo",
    "tags": []
   },
   "outputs": [],
   "source": [
    "import spacy\n",
    "from nltk.tokenize.toktok import ToktokTokenizer\n",
    "import gensim\n",
    "import keras\n",
    "from keras.models import Sequential\n",
    "from keras.layers import Dropout, Activation, Dense\n",
    "from sklearn.preprocessing import LabelEncoder\n",
    "import multiprocessing\n",
    "from gensim.models import Word2Vec"
   ]
  },
  {
   "cell_type": "code",
   "execution_count": 68,
   "metadata": {
    "id": "FJPv6I3SCkT6",
    "tags": []
   },
   "outputs": [],
   "source": [
    "cores = multiprocessing.cpu_count() # Count the number of cores in a computer"
   ]
  },
  {
   "cell_type": "code",
   "execution_count": 69,
   "metadata": {
    "id": "Ez2mj9ycC1d1",
    "tags": []
   },
   "outputs": [],
   "source": [
    "w2v_model = Word2Vec(min_count=20,\n",
    "                     window=2,\n",
    "                    #  size=300,\n",
    "                     sample=6e-5, \n",
    "                     alpha=0.03, \n",
    "                     min_alpha=0.0007, \n",
    "                     negative=20,\n",
    "                     workers=cores-1)"
   ]
  },
  {
   "cell_type": "code",
   "execution_count": 70,
   "metadata": {
    "id": "Dz4RdrVTgE_4",
    "tags": []
   },
   "outputs": [],
   "source": [
    "from gensim.models.phrases import Phrases, Phraser\n",
    "from nltk import bigrams\n",
    "\n",
    "words = [row.split() for row in train['overview']]\n",
    "phrases = Phrases(words, min_count=30, progress_per=10000)\n",
    "bigram = Phraser(phrases)\n",
    "sentences = bigram[words]"
   ]
  },
  {
   "cell_type": "code",
   "execution_count": 71,
   "metadata": {
    "id": "S2e9_ZqdDEu-",
    "tags": []
   },
   "outputs": [],
   "source": [
    "w2v_model.build_vocab(sentences, progress_per=10000)"
   ]
  },
  {
   "cell_type": "code",
   "execution_count": 72,
   "metadata": {
    "colab": {
     "base_uri": "https://localhost:8080/"
    },
    "id": "6v2-70QbFWtW",
    "outputId": "6889882b-14ed-4c67-81a4-4f3cd287b12f",
    "tags": []
   },
   "outputs": [
    {
     "data": {
      "text/plain": [
       "(2072573, 6735480)"
      ]
     },
     "execution_count": 72,
     "metadata": {},
     "output_type": "execute_result"
    }
   ],
   "source": [
    "w2v_model.train(sentences, total_examples=w2v_model.corpus_count, epochs=30, report_delay=1)"
   ]
  },
  {
   "cell_type": "code",
   "execution_count": 73,
   "metadata": {
    "colab": {
     "base_uri": "https://localhost:8080/"
    },
    "id": "rxltJjkNF2a4",
    "outputId": "7a20e51c-f8fa-403f-c239-a6034866680e",
    "tags": []
   },
   "outputs": [],
   "source": [
    "w2v_model.init_sims(replace=True)"
   ]
  },
  {
   "cell_type": "code",
   "execution_count": 74,
   "metadata": {
    "colab": {
     "base_uri": "https://localhost:8080/"
    },
    "id": "3H646YpOF7df",
    "outputId": "ad70ca49-7bc4-4c3f-91d9-16b91b757c11",
    "tags": []
   },
   "outputs": [
    {
     "data": {
      "text/plain": [
       "[('love', 0.96544349193573), ('true', 0.9612456560134888), ('change', 0.960820198059082), ('never', 0.9604430198669434), ('friendship', 0.9590816497802734), ('live', 0.959016740322113), ('grow', 0.9555162787437439), ('wonder', 0.9525820016860962), ('like', 0.9523027539253235), ('lesson', 0.9503108263015747)]"
      ]
     },
     "execution_count": 74,
     "metadata": {},
     "output_type": "execute_result"
    }
   ],
   "source": [
    "w2v_model.wv.most_similar(positive=[\"life\"])"
   ]
  },
  {
   "cell_type": "code",
   "execution_count": 75,
   "metadata": {
    "colab": {
     "base_uri": "https://localhost:8080/"
    },
    "id": "cyePOy2sF_6E",
    "outputId": "8b3c1984-8994-44c7-ea8e-083ce83a23b1",
    "tags": []
   },
   "outputs": [
    {
     "data": {
      "text/plain": [
       "[('soon', 0.9825645685195923), ('discover', 0.9803719520568848), ('someone', 0.9728818535804749), ('anyone', 0.9663382768630981), ('clear', 0.9659850597381592), ('wood', 0.964531660079956), ('stay', 0.964496374130249), ('outside', 0.9627382755279541), ('another', 0.9627212882041931), ('leave', 0.9624848961830139)]"
      ]
     },
     "execution_count": 75,
     "metadata": {},
     "output_type": "execute_result"
    }
   ],
   "source": [
    "w2v_model.wv.most_similar(positive=[\"find\"])"
   ]
  },
  {
   "cell_type": "code",
   "execution_count": 76,
   "metadata": {
    "colab": {
     "base_uri": "https://localhost:8080/"
    },
    "id": "RIEz1fR4GQY3",
    "outputId": "39040db6-849c-46dd-e28f-b7e1057d73e9",
    "tags": []
   },
   "outputs": [
    {
     "data": {
      "text/plain": [
       "[('intention', 0.9927593469619751), ('fail', 0.9918494820594788), ('eventually', 0.9915130138397217), ('wait', 0.991166889667511), ('avoid', 0.9907651543617249), ('accept', 0.9900660514831543), ('he', 0.9898894429206848), ('situation', 0.9898183941841125), ('table', 0.9893972873687744), ('unable', 0.9893770217895508)]"
      ]
     },
     "execution_count": 76,
     "metadata": {},
     "output_type": "execute_result"
    }
   ],
   "source": [
    "w2v_model.wv.most_similar(positive=[\"she\"])"
   ]
  },
  {
   "cell_type": "code",
   "execution_count": 77,
   "metadata": {
    "id": "fp6RW52uFvQG",
    "tags": []
   },
   "outputs": [],
   "source": [
    "tokenizer = ToktokTokenizer()\n",
    "nlp = spacy.load('en_core_web_sm')"
   ]
  },
  {
   "cell_type": "code",
   "execution_count": 78,
   "metadata": {
    "id": "wFD8snZYDyqb",
    "tags": []
   },
   "outputs": [],
   "source": [
    "# tokenize train reviews & encode train labels\n",
    "tokenized_train = [tokenizer.tokenize(text)\n",
    "                   for text in train_text]\n",
    "y_train = train.drop(labels = ['id','overview', 'genres'], axis=1)\n",
    "# tokenize test reviews & encode test labels\n",
    "tokenized_test = [tokenizer.tokenize(text)\n",
    "                   for text in test_text]\n",
    "y_test = test.drop(labels = ['id','overview', 'genres'], axis=1)"
   ]
  },
  {
   "cell_type": "code",
   "execution_count": 79,
   "metadata": {
    "id": "XaBpx450BEw5",
    "tags": []
   },
   "outputs": [],
   "source": [
    "# build word2vec model\n",
    "w2v_num_features = 500\n",
    "w2v_model = gensim.models.Word2Vec(tokenized_train, vector_size=w2v_num_features, window=150,\n",
    "                                   min_count=10, sample=1e-3)    "
   ]
  },
  {
   "cell_type": "code",
   "execution_count": 80,
   "metadata": {
    "id": "6AJGbgxNG2CP",
    "tags": []
   },
   "outputs": [],
   "source": [
    "def averaged_word2vec_vectorizer(corpus, model, num_features):\n",
    "    vocabulary = set(model.wv.index_to_key)\n",
    "    \n",
    "    def average_word_vectors(words, model, vocabulary, num_features):\n",
    "        feature_vector = np.zeros((num_features,), dtype=\"float64\")\n",
    "        nwords = 0.\n",
    "        \n",
    "        for word in words:\n",
    "            if word in vocabulary: \n",
    "                nwords = nwords + 1.\n",
    "                feature_vector = np.add(feature_vector, model.wv[word])\n",
    "        if nwords:\n",
    "            feature_vector = np.divide(feature_vector, nwords)\n",
    "\n",
    "        return feature_vector\n",
    "\n",
    "    features = [average_word_vectors(tokenized_sentence, model, vocabulary, num_features)\n",
    "                    for tokenized_sentence in corpus]\n",
    "    return np.array(features)"
   ]
  },
  {
   "cell_type": "code",
   "execution_count": 81,
   "metadata": {
    "id": "i0u4alRnG6Pf",
    "tags": []
   },
   "outputs": [],
   "source": [
    "# generate averaged word vector features from word2vec model\n",
    "avg_wv_train_features = averaged_word2vec_vectorizer(corpus=tokenized_train, model=w2v_model, num_features=500)\n",
    "avg_wv_test_features = averaged_word2vec_vectorizer(corpus=tokenized_test, model=w2v_model, num_features=500)"
   ]
  },
  {
   "cell_type": "code",
   "execution_count": 83,
   "metadata": {
    "tags": []
   },
   "outputs": [],
   "source": [
    "np.savetxt('../avg_wv_train_features.csv', avg_wv_train_features, delimiter=',')\n",
    "np.savetxt('../avg_wv_test_features.csv', avg_wv_test_features, delimiter=',')"
   ]
  },
  {
   "cell_type": "code",
   "execution_count": 84,
   "metadata": {
    "tags": []
   },
   "outputs": [],
   "source": [
    "avg_wv_train_features = np.loadtxt('../avg_wv_train_features.csv', delimiter=',')\n",
    "avg_wv_test_features = np.loadtxt('../avg_wv_test_features.csv', delimiter=',')"
   ]
  },
  {
   "cell_type": "code",
   "execution_count": 128,
   "metadata": {
    "tags": []
   },
   "outputs": [
    {
     "data": {
      "text/plain": [
       "' romantic fantasy movie  people  last survivor  ancient line  goddess worshiper  sell art  shop  teenage daughter rhea fall  love  poetically inclined boy  begin  develop magical power  throw everything  chaos'"
      ]
     },
     "execution_count": 128,
     "metadata": {},
     "output_type": "execute_result"
    }
   ],
   "source": [
    "train['overview'][5734]"
   ]
  },
  {
   "cell_type": "code",
   "execution_count": null,
   "metadata": {
    "tags": []
   },
   "outputs": [],
   "source": [
    "avg_wv_train_features[4]"
   ]
  },
  {
   "cell_type": "markdown",
   "metadata": {
    "id": "IEYuB6yyGWOP"
   },
   "source": [
    "### t-SNE visualizations"
   ]
  },
  {
   "cell_type": "code",
   "execution_count": 46,
   "metadata": {
    "id": "nxyb6ATDGZm6",
    "tags": []
   },
   "outputs": [],
   "source": [
    "import numpy as np\n",
    "import matplotlib.pyplot as plt\n",
    "%matplotlib inline\n",
    " \n",
    "import seaborn as sns\n",
    "sns.set_style(\"darkgrid\")\n",
    "\n",
    "from sklearn.decomposition import PCA\n",
    "from sklearn.manifold import TSNE"
   ]
  },
  {
   "cell_type": "code",
   "execution_count": 134,
   "metadata": {
    "id": "oHH7APFDGcjN",
    "tags": []
   },
   "outputs": [],
   "source": [
    "def tsnescatterplot(model, word, list_names):\n",
    "    \"\"\" Plot in seaborn the results from the t-SNE dimensionality reduction algorithm of the vectors of a query word,\n",
    "    its list of most similar words, and a list of words.\n",
    "    \"\"\"\n",
    "    arrays = np.empty((0, 100), dtype='f')\n",
    "    word_labels = [word]\n",
    "    color_list  = ['green']\n",
    "\n",
    "    # adds the vector of the query word\n",
    "    arrays = np.append(arrays, model.wv.__getitem__([word]), axis=0)\n",
    "    \n",
    "    # gets list of most similar words\n",
    "    close_words = model.wv.most_similar([word])\n",
    "    \n",
    "    # adds the vector for each of the closest words to the array\n",
    "    # for wrd_score in close_words[:5]:\n",
    "    #     wrd_vector = model.wv.__getitem__([wrd_score[0]])\n",
    "    #     word_labels.append(wrd_score[0])\n",
    "    #     color_list.append('blue')\n",
    "    #     arrays = np.append(arrays, wrd_vector, axis=0)\n",
    "    \n",
    "    # adds the vector for each of the words from list_names to the array\n",
    "    for wrd in list_names:\n",
    "        wrd_vector = model.wv.__getitem__([wrd])\n",
    "        word_labels.append(wrd)\n",
    "        color_list.append('green')\n",
    "        arrays = np.append(arrays, wrd_vector, axis=0)\n",
    "        \n",
    "    # Reduces the dimensionality from 300 to 50 dimensions with PCA\n",
    "    reduc = PCA(n_components=4).fit_transform(arrays)\n",
    "    \n",
    "    # Finds t-SNE coordinates for 2 dimensions\n",
    "    np.set_printoptions(suppress=True)\n",
    "    \n",
    "    Y = TSNE(n_components=2, random_state=0, perplexity=3).fit_transform(reduc)\n",
    "    \n",
    "    # Sets everything up to plot\n",
    "    df = pd.DataFrame({'x': [x for x in Y[:, 0]],\n",
    "                       'y': [y for y in Y[:, 1]],\n",
    "                       'words': word_labels,\n",
    "                       'color': color_list})\n",
    "    \n",
    "    fig, _ = plt.subplots()\n",
    "    fig.set_size_inches(9, 9)\n",
    "    \n",
    "    # Basic plot\n",
    "    p1 = sns.regplot(data=df,\n",
    "                     x=\"x\",\n",
    "                     y=\"y\",\n",
    "                     fit_reg=False,\n",
    "                     marker=\"o\",\n",
    "                     scatter_kws={'s': 40,\n",
    "                                  'facecolors': df['color']\n",
    "                                 }\n",
    "                    )\n",
    "    \n",
    "    # Adds annotations one by one with a loop\n",
    "    for line in range(0, df.shape[0]):\n",
    "         p1.text(df[\"x\"][line],\n",
    "                 df['y'][line],\n",
    "                 '  ' + df[\"words\"][line].title(),\n",
    "                 horizontalalignment='left',\n",
    "                 verticalalignment='bottom', size='medium',\n",
    "                 color=df['color'][line],\n",
    "                 weight='normal'\n",
    "                ).set_size(15)\n",
    "\n",
    "    \n",
    "    plt.xlim(Y[:, 0].min()-30, Y[:, 0].max()+30)\n",
    "    plt.ylim(Y[:, 1].min()-30, Y[:, 1].max()+30)\n",
    "            \n",
    "    plt.title('t-SNE visualization for {}'.format(word.title()))"
   ]
  },
  {
   "cell_type": "markdown",
   "metadata": {
    "id": "naT47hE2Htp4"
   },
   "source": [
    "#### 10 Most similar words vs. 8 Random words"
   ]
  },
  {
   "cell_type": "code",
   "execution_count": 136,
   "metadata": {
    "colab": {
     "base_uri": "https://localhost:8080/",
     "height": 795
    },
    "id": "T1Ovo6VsGnu4",
    "outputId": "cbfe7777-7138-440b-baa7-70287ad8b700",
    "tags": []
   },
   "outputs": [
    {
     "data": {
      "image/png": "[encoded data removed]",
      "text/plain": [
       "<Figure size 900x900 with 1 Axes>"
      ]
     },
     "metadata": {},
     "output_type": "display_data"
    }
   ],
   "source": [
    "tsnescatterplot(w2v_model, 'romantic', ['fantasy', 'people', 'survivor', 'chaos', 'teenage'])"
   ]
  },
  {
   "cell_type": "code",
   "execution_count": 65,
   "metadata": {
    "colab": {
     "base_uri": "https://localhost:8080/",
     "height": 795
    },
    "id": "DmHwKYsdHSXa",
    "outputId": "9093bfbb-cabc-48e3-817f-7458af37e91b",
    "tags": []
   },
   "outputs": [
    {
     "data": {
      "image/png": "[encoded data removed]",
      "text/plain": [
       "<Figure size 900x900 with 1 Axes>"
      ]
     },
     "metadata": {},
     "output_type": "display_data"
    }
   ],
   "source": [
    "tsnescatterplot(w2v_model, 'fun', ['dog', 'paris', 'home', 'power', 'water', 'cat', 'ill', 'work'])"
   ]
  },
  {
   "cell_type": "markdown",
   "metadata": {
    "id": "GmqcMP1JJdO8"
   },
   "source": [
    "#### Plot w2v model"
   ]
  },
  {
   "cell_type": "code",
   "execution_count": 66,
   "metadata": {
    "id": "iSaCSRvKJoSI",
    "tags": []
   },
   "outputs": [],
   "source": [
    "from gensim.models import Word2Vec\n",
    "from gensim.models import KeyedVectors\n",
    "from sklearn.manifold import TSNE\n",
    "import matplotlib.pyplot as plt\n",
    "\n",
    "words = ['dog', 'paris', 'home', 'power', 'water', 'cat', 'ill', 'work']\n",
    "def tsne_plot(model):\n",
    "    \"Creates and TSNE model and plots it\"\n",
    "    labels = []\n",
    "    tokens = []\n",
    "    i = -1\n",
    "    for word in model.wv.key_to_index:\n",
    "        i+=1\n",
    "        if i%30==0:\n",
    "          tokens.append(model.wv[word])\n",
    "          labels.append(word)\n",
    "    \n",
    "    tsne_model = TSNE(n_components=2, n_iter=2500, random_state=23)\n",
    "    tokens_array = np.array(tokens)  # convert list to numpy array\n",
    "    new_values = tsne_model.fit_transform(tokens_array)\n",
    "\n",
    "    x = new_values[:,0]\n",
    "    y = new_values[:,1]\n",
    "        \n",
    "    plt.figure(figsize=(16, 16)) \n",
    "    for i in range(len(x)):\n",
    "        plt.scatter(x[i],y[i])\n",
    "        plt.annotate(labels[i],\n",
    "                     xy=(x[i], y[i]),\n",
    "                     xytext=(5, 2),\n",
    "                     textcoords='offset points',\n",
    "                     ha='right',\n",
    "                     va='bottom')\n",
    "    plt.show()"
   ]
  },
  {
   "cell_type": "code",
   "execution_count": 67,
   "metadata": {
    "colab": {
     "base_uri": "https://localhost:8080/",
     "height": 1000
    },
    "id": "Kj-X0fY-Jp2t",
    "outputId": "e3221a78-1535-44c4-a829-e9e6c34a3241",
    "tags": []
   },
   "outputs": [
    {
     "ename": "InvalidParameterError",
     "evalue": "The 'n_iter' parameter of TSNE must be an int in the range [250, inf). Got 3 instead.",
     "output_type": "error",
     "traceback": [
      "\u001b[0;31m---------------------------------------------------------------------------\u001b[0m",
      "\u001b[0;31mInvalidParameterError\u001b[0m                     Traceback (most recent call last)",
      "Cell \u001b[0;32mIn[132], line 1\u001b[0m\n\u001b[0;32m----> 1\u001b[0m \u001b[43mtsne_plot\u001b[49m\u001b[43m(\u001b[49m\u001b[43mw2v_model\u001b[49m\u001b[43m)\u001b[49m\n",
      "Cell \u001b[0;32mIn[131], line 19\u001b[0m, in \u001b[0;36mtsne_plot\u001b[0;34m(model)\u001b[0m\n\u001b[1;32m     17\u001b[0m tsne_model \u001b[38;5;241m=\u001b[39m TSNE(n_components\u001b[38;5;241m=\u001b[39m\u001b[38;5;241m2\u001b[39m, n_iter\u001b[38;5;241m=\u001b[39m\u001b[38;5;241m3\u001b[39m, random_state\u001b[38;5;241m=\u001b[39m\u001b[38;5;241m23\u001b[39m)\n\u001b[1;32m     18\u001b[0m tokens_array \u001b[38;5;241m=\u001b[39m np\u001b[38;5;241m.\u001b[39marray(tokens)  \u001b[38;5;66;03m# convert list to numpy array\u001b[39;00m\n\u001b[0;32m---> 19\u001b[0m new_values \u001b[38;5;241m=\u001b[39m \u001b[43mtsne_model\u001b[49m\u001b[38;5;241;43m.\u001b[39;49m\u001b[43mfit_transform\u001b[49m\u001b[43m(\u001b[49m\u001b[43mtokens_array\u001b[49m\u001b[43m)\u001b[49m\n\u001b[1;32m     21\u001b[0m x \u001b[38;5;241m=\u001b[39m new_values[:,\u001b[38;5;241m0\u001b[39m]\n\u001b[1;32m     22\u001b[0m y \u001b[38;5;241m=\u001b[39m new_values[:,\u001b[38;5;241m1\u001b[39m]\n",
      "File \u001b[0;32m~/anaconda3/envs/nlp_3_9/lib/python3.9/site-packages/sklearn/manifold/_t_sne.py:1117\u001b[0m, in \u001b[0;36mTSNE.fit_transform\u001b[0;34m(self, X, y)\u001b[0m\n\u001b[1;32m   1096\u001b[0m \u001b[38;5;28;01mdef\u001b[39;00m \u001b[38;5;21mfit_transform\u001b[39m(\u001b[38;5;28mself\u001b[39m, X, y\u001b[38;5;241m=\u001b[39m\u001b[38;5;28;01mNone\u001b[39;00m):\n\u001b[1;32m   1097\u001b[0m \u001b[38;5;250m    \u001b[39m\u001b[38;5;124;03m\"\"\"Fit X into an embedded space and return that transformed output.\u001b[39;00m\n\u001b[1;32m   1098\u001b[0m \n\u001b[1;32m   1099\u001b[0m \u001b[38;5;124;03m    Parameters\u001b[39;00m\n\u001b[0;32m   (...)\u001b[0m\n\u001b[1;32m   1115\u001b[0m \u001b[38;5;124;03m        Embedding of the training data in low-dimensional space.\u001b[39;00m\n\u001b[1;32m   1116\u001b[0m \u001b[38;5;124;03m    \"\"\"\u001b[39;00m\n\u001b[0;32m-> 1117\u001b[0m     \u001b[38;5;28;43mself\u001b[39;49m\u001b[38;5;241;43m.\u001b[39;49m\u001b[43m_validate_params\u001b[49m\u001b[43m(\u001b[49m\u001b[43m)\u001b[49m\n\u001b[1;32m   1118\u001b[0m     \u001b[38;5;28mself\u001b[39m\u001b[38;5;241m.\u001b[39m_check_params_vs_input(X)\n\u001b[1;32m   1119\u001b[0m     embedding \u001b[38;5;241m=\u001b[39m \u001b[38;5;28mself\u001b[39m\u001b[38;5;241m.\u001b[39m_fit(X)\n",
      "File \u001b[0;32m~/anaconda3/envs/nlp_3_9/lib/python3.9/site-packages/sklearn/base.py:600\u001b[0m, in \u001b[0;36mBaseEstimator._validate_params\u001b[0;34m(self)\u001b[0m\n\u001b[1;32m    592\u001b[0m \u001b[38;5;28;01mdef\u001b[39;00m \u001b[38;5;21m_validate_params\u001b[39m(\u001b[38;5;28mself\u001b[39m):\n\u001b[1;32m    593\u001b[0m \u001b[38;5;250m    \u001b[39m\u001b[38;5;124;03m\"\"\"Validate types and values of constructor parameters\u001b[39;00m\n\u001b[1;32m    594\u001b[0m \n\u001b[1;32m    595\u001b[0m \u001b[38;5;124;03m    The expected type and values must be defined in the `_parameter_constraints`\u001b[39;00m\n\u001b[0;32m   (...)\u001b[0m\n\u001b[1;32m    598\u001b[0m \u001b[38;5;124;03m    accepted constraints.\u001b[39;00m\n\u001b[1;32m    599\u001b[0m \u001b[38;5;124;03m    \"\"\"\u001b[39;00m\n\u001b[0;32m--> 600\u001b[0m     \u001b[43mvalidate_parameter_constraints\u001b[49m\u001b[43m(\u001b[49m\n\u001b[1;32m    601\u001b[0m \u001b[43m        \u001b[49m\u001b[38;5;28;43mself\u001b[39;49m\u001b[38;5;241;43m.\u001b[39;49m\u001b[43m_parameter_constraints\u001b[49m\u001b[43m,\u001b[49m\n\u001b[1;32m    602\u001b[0m \u001b[43m        \u001b[49m\u001b[38;5;28;43mself\u001b[39;49m\u001b[38;5;241;43m.\u001b[39;49m\u001b[43mget_params\u001b[49m\u001b[43m(\u001b[49m\u001b[43mdeep\u001b[49m\u001b[38;5;241;43m=\u001b[39;49m\u001b[38;5;28;43;01mFalse\u001b[39;49;00m\u001b[43m)\u001b[49m\u001b[43m,\u001b[49m\n\u001b[1;32m    603\u001b[0m \u001b[43m        \u001b[49m\u001b[43mcaller_name\u001b[49m\u001b[38;5;241;43m=\u001b[39;49m\u001b[38;5;28;43mself\u001b[39;49m\u001b[38;5;241;43m.\u001b[39;49m\u001b[38;5;18;43m__class__\u001b[39;49m\u001b[38;5;241;43m.\u001b[39;49m\u001b[38;5;18;43m__name__\u001b[39;49m\u001b[43m,\u001b[49m\n\u001b[1;32m    604\u001b[0m \u001b[43m    \u001b[49m\u001b[43m)\u001b[49m\n",
      "File \u001b[0;32m~/anaconda3/envs/nlp_3_9/lib/python3.9/site-packages/sklearn/utils/_param_validation.py:97\u001b[0m, in \u001b[0;36mvalidate_parameter_constraints\u001b[0;34m(parameter_constraints, params, caller_name)\u001b[0m\n\u001b[1;32m     91\u001b[0m \u001b[38;5;28;01melse\u001b[39;00m:\n\u001b[1;32m     92\u001b[0m     constraints_str \u001b[38;5;241m=\u001b[39m (\n\u001b[1;32m     93\u001b[0m         \u001b[38;5;124mf\u001b[39m\u001b[38;5;124m\"\u001b[39m\u001b[38;5;132;01m{\u001b[39;00m\u001b[38;5;124m'\u001b[39m\u001b[38;5;124m, \u001b[39m\u001b[38;5;124m'\u001b[39m\u001b[38;5;241m.\u001b[39mjoin([\u001b[38;5;28mstr\u001b[39m(c)\u001b[38;5;250m \u001b[39m\u001b[38;5;28;01mfor\u001b[39;00m\u001b[38;5;250m \u001b[39mc\u001b[38;5;250m \u001b[39m\u001b[38;5;129;01min\u001b[39;00m\u001b[38;5;250m \u001b[39mconstraints[:\u001b[38;5;241m-\u001b[39m\u001b[38;5;241m1\u001b[39m]])\u001b[38;5;132;01m}\u001b[39;00m\u001b[38;5;124m or\u001b[39m\u001b[38;5;124m\"\u001b[39m\n\u001b[1;32m     94\u001b[0m         \u001b[38;5;124mf\u001b[39m\u001b[38;5;124m\"\u001b[39m\u001b[38;5;124m \u001b[39m\u001b[38;5;132;01m{\u001b[39;00mconstraints[\u001b[38;5;241m-\u001b[39m\u001b[38;5;241m1\u001b[39m]\u001b[38;5;132;01m}\u001b[39;00m\u001b[38;5;124m\"\u001b[39m\n\u001b[1;32m     95\u001b[0m     )\n\u001b[0;32m---> 97\u001b[0m \u001b[38;5;28;01mraise\u001b[39;00m InvalidParameterError(\n\u001b[1;32m     98\u001b[0m     \u001b[38;5;124mf\u001b[39m\u001b[38;5;124m\"\u001b[39m\u001b[38;5;124mThe \u001b[39m\u001b[38;5;132;01m{\u001b[39;00mparam_name\u001b[38;5;132;01m!r}\u001b[39;00m\u001b[38;5;124m parameter of \u001b[39m\u001b[38;5;132;01m{\u001b[39;00mcaller_name\u001b[38;5;132;01m}\u001b[39;00m\u001b[38;5;124m must be\u001b[39m\u001b[38;5;124m\"\u001b[39m\n\u001b[1;32m     99\u001b[0m     \u001b[38;5;124mf\u001b[39m\u001b[38;5;124m\"\u001b[39m\u001b[38;5;124m \u001b[39m\u001b[38;5;132;01m{\u001b[39;00mconstraints_str\u001b[38;5;132;01m}\u001b[39;00m\u001b[38;5;124m. Got \u001b[39m\u001b[38;5;132;01m{\u001b[39;00mparam_val\u001b[38;5;132;01m!r}\u001b[39;00m\u001b[38;5;124m instead.\u001b[39m\u001b[38;5;124m\"\u001b[39m\n\u001b[1;32m    100\u001b[0m )\n",
      "\u001b[0;31mInvalidParameterError\u001b[0m: The 'n_iter' parameter of TSNE must be an int in the range [250, inf). Got 3 instead."
     ]
    }
   ],
   "source": [
    "tsne_plot(w2v_model)"
   ]
  },
  {
   "cell_type": "markdown",
   "metadata": {
    "id": "3aSxh_6JI6_N"
   },
   "source": [
    "### show word vector"
   ]
  },
  {
   "cell_type": "code",
   "execution_count": 60,
   "metadata": {
    "colab": {
     "base_uri": "https://localhost:8080/"
    },
    "id": "qUzgsT6bIMLR",
    "outputId": "e89be6a0-5520-43c1-c045-a7179fa1c002"
   },
   "outputs": [
    {
     "data": {
      "text/plain": [
       "(3627, 500)"
      ]
     },
     "execution_count": 60,
     "metadata": {},
     "output_type": "execute_result"
    }
   ],
   "source": [
    "w2v_model.wv.vectors.shape"
   ]
  },
  {
   "cell_type": "code",
   "execution_count": null,
   "metadata": {
    "id": "4lyj-b9XKFma"
   },
   "outputs": [],
   "source": [
    "w2v_model.wv.vectors"
   ]
  },
  {
   "cell_type": "code",
   "execution_count": null,
   "metadata": {
    "id": "O79N8jFsIXOV"
   },
   "outputs": [],
   "source": [
    "w2v_model.wv.key_to_index"
   ]
  },
  {
   "cell_type": "markdown",
   "metadata": {
    "id": "D6q4oCv6l6yT"
   },
   "source": [
    "### TF-IDF"
   ]
  },
  {
   "cell_type": "markdown",
   "metadata": {
    "id": "7Vh3DwdzqxeZ"
   },
   "source": [
    "Creating Trigrams Using bigrams as inputs in order to provide more contextual meaning vs creating trigrams from scratch. This means that we can consider the relationship between words already captured in the bigrams to provide better overall context. "
   ]
  },
  {
   "cell_type": "code",
   "execution_count": 90,
   "metadata": {
    "id": "9w4qvi8vr30a"
   },
   "outputs": [],
   "source": [
    "from gensim.models.phrases import Phrases, Phraser\n",
    "from nltk import bigrams, trigrams\n",
    "\n",
    "words = [row.split() for row in train['overview']]\n",
    "\n",
    "# First create bigrams\n",
    "bigram_phrases = Phrases(words, min_count=30, progress_per=10000)\n",
    "bigram = Phraser(bigram_phrases)\n",
    "bigram_sentences = bigram[words]\n",
    "\n"
   ]
  },
  {
   "cell_type": "code",
   "execution_count": 91,
   "metadata": {
    "id": "lQDIhFkz58wL"
   },
   "outputs": [],
   "source": [
    "# Next create trigrams using the bigrams as inputs\n",
    "trigram_phrases = Phrases(bigram_sentences, min_count=30, progress_per=10000)\n",
    "trigram = Phraser(trigram_phrases)\n",
    "trigram_sentences = trigram[bigram_sentences]"
   ]
  },
  {
   "cell_type": "markdown",
   "metadata": {
    "id": "vkUHknEtu0xm"
   },
   "source": [
    "Visualizing the 20 most common trigrams:\n"
   ]
  },
  {
   "cell_type": "code",
   "execution_count": 92,
   "metadata": {
    "colab": {
     "base_uri": "https://localhost:8080/",
     "height": 533
    },
    "id": "CqmCWHbG5q_S",
    "outputId": "f2866c88-8983-4387-f300-e8c0e217485b"
   },
   "outputs": [
    {
     "data": {
      "image/png": "[encoded data removed]",
      "text/plain": [
       "<Figure size 2000x800 with 1 Axes>"
      ]
     },
     "metadata": {},
     "output_type": "display_data"
    }
   ],
   "source": [
    "from collections import Counter\n",
    "from nltk.collocations import TrigramAssocMeasures, TrigramCollocationFinder\n",
    "\n",
    "# Use 'words' as a list of tokenized sentences\n",
    "flat_words = [word for sentence in words for word in sentence]\n",
    "\n",
    "# Find trigram collocations\n",
    "trigram_measures = TrigramAssocMeasures()\n",
    "finder = TrigramCollocationFinder.from_words(flat_words)\n",
    "\n",
    "finder.apply_freq_filter(10)  # Only consider trigrams that appear at least 10 times\n",
    "\n",
    "# Get the top 20 trigrams by using Pointwise Mutual Information:\n",
    "top_trigrams = finder.nbest(trigram_measures.pmi, 20)\n",
    "\n",
    "# Plot of common trigrams:\n",
    "trigram_counts = Counter(finder.ngram_fd)\n",
    "trigram_freqs = [trigram_counts[trigram] for trigram in top_trigrams]\n",
    "\n",
    "plt.figure(figsize=(20, 8))\n",
    "plt.bar(['_'.join(trigram) for trigram in top_trigrams], trigram_freqs)\n",
    "plt.xticks(rotation=45)\n",
    "plt.xlabel('Trigrams')\n",
    "plt.ylabel('Frequency')\n",
    "plt.title('Top 20 Most Common Trigrams')\n",
    "plt.show()\n",
    "\n"
   ]
  },
  {
   "cell_type": "markdown",
   "metadata": {
    "id": "O2KLWzzI--p6"
   },
   "source": [
    "The trigram new_york_city can likely be dropped given it's frequency relative to the other trigrams. Let's instead TFIDF vectorize our trigrams to look at ways to weight trigrams such as 'new_york_city' with less importance:"
   ]
  },
  {
   "cell_type": "code",
   "execution_count": 7,
   "metadata": {
    "colab": {
     "base_uri": "https://localhost:8080/"
    },
    "id": "Xhs9hfY498N-",
    "outputId": "33e6661e-f782-49ca-9800-b77ad931e456",
    "tags": []
   },
   "outputs": [
    {
     "name": "stderr",
     "output_type": "stream",
     "text": [
      "/Users/canxiuzhang/anaconda3/envs/nlp_3_9/lib/python3.9/site-packages/sklearn/feature_extraction/text.py:528: UserWarning: The parameter 'token_pattern' will not be used since 'tokenizer' is not None'\n",
      "  warnings.warn(\n"
     ]
    },
    {
     "ename": "ValueError",
     "evalue": "np.nan is an invalid document, expected byte or unicode string.",
     "output_type": "error",
     "traceback": [
      "\u001b[0;31m---------------------------------------------------------------------------\u001b[0m",
      "\u001b[0;31mValueError\u001b[0m                                Traceback (most recent call last)",
      "Cell \u001b[0;32mIn[7], line 12\u001b[0m\n\u001b[1;32m      9\u001b[0m text_data \u001b[38;5;241m=\u001b[39m train[\u001b[38;5;124m'\u001b[39m\u001b[38;5;124moverview\u001b[39m\u001b[38;5;124m'\u001b[39m]\n\u001b[1;32m     11\u001b[0m vectorizer \u001b[38;5;241m=\u001b[39m TfidfVectorizer(tokenizer\u001b[38;5;241m=\u001b[39mtrigram_tokenizer, ngram_range\u001b[38;5;241m=\u001b[39m(\u001b[38;5;241m1\u001b[39m, \u001b[38;5;241m1\u001b[39m), min_df\u001b[38;5;241m=\u001b[39m\u001b[38;5;241m3\u001b[39m)\n\u001b[0;32m---> 12\u001b[0m X \u001b[38;5;241m=\u001b[39m \u001b[43mvectorizer\u001b[49m\u001b[38;5;241;43m.\u001b[39;49m\u001b[43mfit_transform\u001b[49m\u001b[43m(\u001b[49m\u001b[43mtext_data\u001b[49m\u001b[43m)\u001b[49m\n\u001b[1;32m     14\u001b[0m \u001b[38;5;66;03m# X is the TF-IDF feature matrix\u001b[39;00m\n",
      "File \u001b[0;32m~/anaconda3/envs/nlp_3_9/lib/python3.9/site-packages/sklearn/feature_extraction/text.py:2133\u001b[0m, in \u001b[0;36mTfidfVectorizer.fit_transform\u001b[0;34m(self, raw_documents, y)\u001b[0m\n\u001b[1;32m   2126\u001b[0m \u001b[38;5;28mself\u001b[39m\u001b[38;5;241m.\u001b[39m_check_params()\n\u001b[1;32m   2127\u001b[0m \u001b[38;5;28mself\u001b[39m\u001b[38;5;241m.\u001b[39m_tfidf \u001b[38;5;241m=\u001b[39m TfidfTransformer(\n\u001b[1;32m   2128\u001b[0m     norm\u001b[38;5;241m=\u001b[39m\u001b[38;5;28mself\u001b[39m\u001b[38;5;241m.\u001b[39mnorm,\n\u001b[1;32m   2129\u001b[0m     use_idf\u001b[38;5;241m=\u001b[39m\u001b[38;5;28mself\u001b[39m\u001b[38;5;241m.\u001b[39muse_idf,\n\u001b[1;32m   2130\u001b[0m     smooth_idf\u001b[38;5;241m=\u001b[39m\u001b[38;5;28mself\u001b[39m\u001b[38;5;241m.\u001b[39msmooth_idf,\n\u001b[1;32m   2131\u001b[0m     sublinear_tf\u001b[38;5;241m=\u001b[39m\u001b[38;5;28mself\u001b[39m\u001b[38;5;241m.\u001b[39msublinear_tf,\n\u001b[1;32m   2132\u001b[0m )\n\u001b[0;32m-> 2133\u001b[0m X \u001b[38;5;241m=\u001b[39m \u001b[38;5;28;43msuper\u001b[39;49m\u001b[43m(\u001b[49m\u001b[43m)\u001b[49m\u001b[38;5;241;43m.\u001b[39;49m\u001b[43mfit_transform\u001b[49m\u001b[43m(\u001b[49m\u001b[43mraw_documents\u001b[49m\u001b[43m)\u001b[49m\n\u001b[1;32m   2134\u001b[0m \u001b[38;5;28mself\u001b[39m\u001b[38;5;241m.\u001b[39m_tfidf\u001b[38;5;241m.\u001b[39mfit(X)\n\u001b[1;32m   2135\u001b[0m \u001b[38;5;66;03m# X is already a transformed view of raw_documents so\u001b[39;00m\n\u001b[1;32m   2136\u001b[0m \u001b[38;5;66;03m# we set copy to False\u001b[39;00m\n",
      "File \u001b[0;32m~/anaconda3/envs/nlp_3_9/lib/python3.9/site-packages/sklearn/feature_extraction/text.py:1388\u001b[0m, in \u001b[0;36mCountVectorizer.fit_transform\u001b[0;34m(self, raw_documents, y)\u001b[0m\n\u001b[1;32m   1380\u001b[0m             warnings\u001b[38;5;241m.\u001b[39mwarn(\n\u001b[1;32m   1381\u001b[0m                 \u001b[38;5;124m\"\u001b[39m\u001b[38;5;124mUpper case characters found in\u001b[39m\u001b[38;5;124m\"\u001b[39m\n\u001b[1;32m   1382\u001b[0m                 \u001b[38;5;124m\"\u001b[39m\u001b[38;5;124m vocabulary while \u001b[39m\u001b[38;5;124m'\u001b[39m\u001b[38;5;124mlowercase\u001b[39m\u001b[38;5;124m'\u001b[39m\u001b[38;5;124m\"\u001b[39m\n\u001b[1;32m   1383\u001b[0m                 \u001b[38;5;124m\"\u001b[39m\u001b[38;5;124m is True. These entries will not\u001b[39m\u001b[38;5;124m\"\u001b[39m\n\u001b[1;32m   1384\u001b[0m                 \u001b[38;5;124m\"\u001b[39m\u001b[38;5;124m be matched with any documents\u001b[39m\u001b[38;5;124m\"\u001b[39m\n\u001b[1;32m   1385\u001b[0m             )\n\u001b[1;32m   1386\u001b[0m             \u001b[38;5;28;01mbreak\u001b[39;00m\n\u001b[0;32m-> 1388\u001b[0m vocabulary, X \u001b[38;5;241m=\u001b[39m \u001b[38;5;28;43mself\u001b[39;49m\u001b[38;5;241;43m.\u001b[39;49m\u001b[43m_count_vocab\u001b[49m\u001b[43m(\u001b[49m\u001b[43mraw_documents\u001b[49m\u001b[43m,\u001b[49m\u001b[43m \u001b[49m\u001b[38;5;28;43mself\u001b[39;49m\u001b[38;5;241;43m.\u001b[39;49m\u001b[43mfixed_vocabulary_\u001b[49m\u001b[43m)\u001b[49m\n\u001b[1;32m   1390\u001b[0m \u001b[38;5;28;01mif\u001b[39;00m \u001b[38;5;28mself\u001b[39m\u001b[38;5;241m.\u001b[39mbinary:\n\u001b[1;32m   1391\u001b[0m     X\u001b[38;5;241m.\u001b[39mdata\u001b[38;5;241m.\u001b[39mfill(\u001b[38;5;241m1\u001b[39m)\n",
      "File \u001b[0;32m~/anaconda3/envs/nlp_3_9/lib/python3.9/site-packages/sklearn/feature_extraction/text.py:1275\u001b[0m, in \u001b[0;36mCountVectorizer._count_vocab\u001b[0;34m(self, raw_documents, fixed_vocab)\u001b[0m\n\u001b[1;32m   1273\u001b[0m \u001b[38;5;28;01mfor\u001b[39;00m doc \u001b[38;5;129;01min\u001b[39;00m raw_documents:\n\u001b[1;32m   1274\u001b[0m     feature_counter \u001b[38;5;241m=\u001b[39m {}\n\u001b[0;32m-> 1275\u001b[0m     \u001b[38;5;28;01mfor\u001b[39;00m feature \u001b[38;5;129;01min\u001b[39;00m \u001b[43manalyze\u001b[49m\u001b[43m(\u001b[49m\u001b[43mdoc\u001b[49m\u001b[43m)\u001b[49m:\n\u001b[1;32m   1276\u001b[0m         \u001b[38;5;28;01mtry\u001b[39;00m:\n\u001b[1;32m   1277\u001b[0m             feature_idx \u001b[38;5;241m=\u001b[39m vocabulary[feature]\n",
      "File \u001b[0;32m~/anaconda3/envs/nlp_3_9/lib/python3.9/site-packages/sklearn/feature_extraction/text.py:106\u001b[0m, in \u001b[0;36m_analyze\u001b[0;34m(doc, analyzer, tokenizer, ngrams, preprocessor, decoder, stop_words)\u001b[0m\n\u001b[1;32m     84\u001b[0m \u001b[38;5;250m\u001b[39m\u001b[38;5;124;03m\"\"\"Chain together an optional series of text processing steps to go from\u001b[39;00m\n\u001b[1;32m     85\u001b[0m \u001b[38;5;124;03ma single document to ngrams, with or without tokenizing or preprocessing.\u001b[39;00m\n\u001b[1;32m     86\u001b[0m \n\u001b[0;32m   (...)\u001b[0m\n\u001b[1;32m    102\u001b[0m \u001b[38;5;124;03m    A sequence of tokens, possibly with pairs, triples, etc.\u001b[39;00m\n\u001b[1;32m    103\u001b[0m \u001b[38;5;124;03m\"\"\"\u001b[39;00m\n\u001b[1;32m    105\u001b[0m \u001b[38;5;28;01mif\u001b[39;00m decoder \u001b[38;5;129;01mis\u001b[39;00m \u001b[38;5;129;01mnot\u001b[39;00m \u001b[38;5;28;01mNone\u001b[39;00m:\n\u001b[0;32m--> 106\u001b[0m     doc \u001b[38;5;241m=\u001b[39m \u001b[43mdecoder\u001b[49m\u001b[43m(\u001b[49m\u001b[43mdoc\u001b[49m\u001b[43m)\u001b[49m\n\u001b[1;32m    107\u001b[0m \u001b[38;5;28;01mif\u001b[39;00m analyzer \u001b[38;5;129;01mis\u001b[39;00m \u001b[38;5;129;01mnot\u001b[39;00m \u001b[38;5;28;01mNone\u001b[39;00m:\n\u001b[1;32m    108\u001b[0m     doc \u001b[38;5;241m=\u001b[39m analyzer(doc)\n",
      "File \u001b[0;32m~/anaconda3/envs/nlp_3_9/lib/python3.9/site-packages/sklearn/feature_extraction/text.py:239\u001b[0m, in \u001b[0;36m_VectorizerMixin.decode\u001b[0;34m(self, doc)\u001b[0m\n\u001b[1;32m    236\u001b[0m     doc \u001b[38;5;241m=\u001b[39m doc\u001b[38;5;241m.\u001b[39mdecode(\u001b[38;5;28mself\u001b[39m\u001b[38;5;241m.\u001b[39mencoding, \u001b[38;5;28mself\u001b[39m\u001b[38;5;241m.\u001b[39mdecode_error)\n\u001b[1;32m    238\u001b[0m \u001b[38;5;28;01mif\u001b[39;00m doc \u001b[38;5;129;01mis\u001b[39;00m np\u001b[38;5;241m.\u001b[39mnan:\n\u001b[0;32m--> 239\u001b[0m     \u001b[38;5;28;01mraise\u001b[39;00m \u001b[38;5;167;01mValueError\u001b[39;00m(\n\u001b[1;32m    240\u001b[0m         \u001b[38;5;124m\"\u001b[39m\u001b[38;5;124mnp.nan is an invalid document, expected byte or unicode string.\u001b[39m\u001b[38;5;124m\"\u001b[39m\n\u001b[1;32m    241\u001b[0m     )\n\u001b[1;32m    243\u001b[0m \u001b[38;5;28;01mreturn\u001b[39;00m doc\n",
      "\u001b[0;31mValueError\u001b[0m: np.nan is an invalid document, expected byte or unicode string."
     ]
    }
   ],
   "source": [
    "from nltk import trigrams\n",
    "from sklearn.feature_extraction.text import TfidfVectorizer\n",
    "\n",
    "def trigram_tokenizer(text):\n",
    "    words = text.split()\n",
    "    trigram_list = ['_'.join(trigram) for trigram in trigrams(words)]\n",
    "    return trigram_list\n",
    "\n",
    "text_data = train['overview']\n",
    "\n",
    "vectorizer = TfidfVectorizer(tokenizer=trigram_tokenizer, ngram_range=(1, 1), min_df=3)\n",
    "X = vectorizer.fit_transform(text_data)\n",
    "\n",
    "# X is the TF-IDF feature matrix"
   ]
  },
  {
   "cell_type": "code",
   "execution_count": 94,
   "metadata": {
    "colab": {
     "base_uri": "https://localhost:8080/"
    },
    "id": "XxtiIZ6H2Cd1",
    "outputId": "b49829b6-bb90-468f-942f-c86421ef6253"
   },
   "outputs": [
    {
     "data": {
      "text/plain": [
       "(7606, 536)"
      ]
     },
     "execution_count": 94,
     "metadata": {},
     "output_type": "execute_result"
    }
   ],
   "source": [
    "X.shape"
   ]
  },
  {
   "cell_type": "code",
   "execution_count": 95,
   "metadata": {
    "colab": {
     "base_uri": "https://localhost:8080/"
    },
    "id": "0ndjFgkAWeiQ",
    "outputId": "66fe20d0-48a3-4910-8f51-2db3636d0153"
   },
   "outputs": [
    {
     "data": {
      "text/plain": [
       "<class 'scipy.sparse._csr.csr_matrix'>"
      ]
     },
     "execution_count": 95,
     "metadata": {},
     "output_type": "execute_result"
    }
   ],
   "source": [
    "type(X)"
   ]
  },
  {
   "cell_type": "markdown",
   "metadata": {
    "id": "Q_OBIO0LN-TU"
   },
   "source": [
    "Showing a dataframe of TFIDF trigram summations across the corpus of documents:\n",
    "\n",
    "\n",
    "\n",
    "\n"
   ]
  },
  {
   "cell_type": "code",
   "execution_count": 96,
   "metadata": {
    "colab": {
     "base_uri": "https://localhost:8080/"
    },
    "id": "JCUZElYf4IPs",
    "outputId": "7aa37f12-551a-4935-a218-35e8df419873"
   },
   "outputs": [
    {
     "name": "stdout",
     "output_type": "stream",
     "text": [
      "                     trigram  tfidf_sum\n",
      "329            new_york_city  75.525700\n",
      "505             world_war_ii  52.309962\n",
      "28           base_true_story  29.580844\n",
      "221      high_school_student  19.412933\n",
      "514            year_old_girl  19.095293\n",
      "519             year_old_son  18.490906\n",
      "76            come_face_face  17.438809\n",
      "509             year_old_boy  16.480256\n",
      "317            must_find_way  15.431585\n",
      "164           game_cat_mouse  12.032969\n",
      "72            come_age_story  11.135220\n",
      "360  president_united_states  10.820122\n",
      "104          dream_come_true  10.573899\n",
      "512        year_old_daughter  10.323865\n",
      "255         life_turn_upside   9.833271\n",
      "220       high_school_senior   9.399393\n",
      "425           start_new_life   9.172799\n",
      "504        world_turn_upside   8.739557\n",
      "392     secret_service_agent   7.927693\n",
      "327             new_year_eve   7.718533\n"
     ]
    }
   ],
   "source": [
    "import numpy as np\n",
    "import pandas as pd\n",
    "\n",
    "# Sum the TF-IDF values for each trigram across all documents\n",
    "trigram_sums = np.sum(X, axis=0)\n",
    "trigram_sums = np.squeeze(np.asarray(trigram_sums))\n",
    "\n",
    "# Create a DataFrame with trigrams and their corresponding summed TF-IDF values\n",
    "trigram_scores = pd.DataFrame({\"trigram\": vectorizer.get_feature_names_out(), \"tfidf_sum\": trigram_sums})\n",
    "\n",
    "# Sort the DataFrame based on the summed TF-IDF values in descending order\n",
    "trigram_scores = trigram_scores.sort_values(by=\"tfidf_sum\", ascending=False)\n",
    "\n",
    "# Display the top 20 trigrams along with their summed TF-IDF scores\n",
    "top_20_trigrams = trigram_scores.head(20)\n",
    "print(top_20_trigrams)\n"
   ]
  },
  {
   "cell_type": "markdown",
   "metadata": {
    "id": "VVjfwUzjKvJ1"
   },
   "source": [
    "It seems using TFIDF trigram sum accross all documents (shown in the code block above) replicates the most frequently occuring trigrams across the corpus as seen in the 20 most common trigrams plot (also above). Instead, let's try using max TFIDF score to see if this is a more useful measure of trigram importance. "
   ]
  },
  {
   "cell_type": "code",
   "execution_count": 97,
   "metadata": {
    "colab": {
     "base_uri": "https://localhost:8080/"
    },
    "id": "Q5Fbgbz3EWaN",
    "outputId": "208f9681-fced-4e2a-adba-3f10d6daddf0"
   },
   "outputs": [
    {
     "name": "stderr",
     "output_type": "stream",
     "text": [
      "/usr/local/lib/python3.9/dist-packages/sklearn/feature_extraction/text.py:528: UserWarning: The parameter 'token_pattern' will not be used since 'tokenizer' is not None'\n",
      "  warnings.warn(\n"
     ]
    },
    {
     "name": "stdout",
     "output_type": "stream",
     "text": [
      "                                 trigram  tfidf_max\n",
      "174769         story_inspire_commandment   1.000000\n",
      "49724            documentary_voice_actor   1.000000\n",
      "49656           documentary_fraud_fakery   1.000000\n",
      "94135    investigate_corporate_executive   0.707107\n",
      "112679  magistrate_investigate_corporate   0.707107\n",
      "140348               play_transplant_set   0.707107\n",
      "164381       shakespeare_play_transplant   0.707107\n",
      "111364               love_sometimes_need   0.577350\n",
      "50764                    drama_set_world   0.577350\n",
      "109993             look_universe_fervent   0.577350\n",
      "109843             look_judicial_scandal   0.577350\n",
      "147136        rabbit_terrorize_southwest   0.577350\n",
      "55669                enjoy_karaoke_party   0.577350\n",
      "125265           mutant_rabbit_terrorize   0.577350\n",
      "205260                 world_weapon_deal   0.577350\n",
      "163817                  set_world_weapon   0.577350\n",
      "33655                  comedic_look_life   0.577350\n",
      "86065            hilarious_look_universe   0.577350\n",
      "98384              judicial_scandal_rock   0.577350\n",
      "106878                    life_steve_job   0.577350\n"
     ]
    }
   ],
   "source": [
    "from sklearn.feature_extraction.text import TfidfVectorizer\n",
    "\n",
    "def trigram_tokenizer(text):\n",
    "    words = text.split()\n",
    "    trigram_list = ['_'.join(trigram) for trigram in trigrams(words)]\n",
    "    return trigram_list\n",
    "\n",
    "text_data = train['overview']\n",
    "\n",
    "vectorizer = TfidfVectorizer(tokenizer=trigram_tokenizer, ngram_range=(1, 1))\n",
    "X = vectorizer.fit_transform(text_data)\n",
    "\n",
    "# Calculate the maximum TF-IDF value for each trigram across all documents\n",
    "trigram_max = np.max(X, axis=0).toarray().ravel()\n",
    "\n",
    "# Create a DataFrame with trigrams and their corresponding maximum TF-IDF values\n",
    "trigram_scores = pd.DataFrame({\"trigram\": vectorizer.get_feature_names_out(), \"tfidf_max\": trigram_max})\n",
    "\n",
    "# Sort the DataFrame based on the maximum TF-IDF values in descending order\n",
    "trigram_scores = trigram_scores.sort_values(by=\"tfidf_max\", ascending=False)\n",
    "\n",
    "# Display the top 20 trigrams along with their maximum TF-IDF scores\n",
    "top_20_trigrams = trigram_scores.head(20)\n",
    "print(top_20_trigrams)\n"
   ]
  },
  {
   "cell_type": "markdown",
   "metadata": {
    "id": "jK4U5j2lLs3u"
   },
   "source": [
    "Below, showing a dataframe of the lowest of the TFIDF maximum scores:  "
   ]
  },
  {
   "cell_type": "code",
   "execution_count": 98,
   "metadata": {
    "colab": {
     "base_uri": "https://localhost:8080/"
    },
    "id": "LYxMMDFNJWhG",
    "outputId": "e6cde2b9-6d86-4152-e204-c425b883f591"
   },
   "outputs": [
    {
     "name": "stdout",
     "output_type": "stream",
     "text": [
      "                           trigram  tfidf_max\n",
      "134620               pack_step_way   0.098411\n",
      "78213                 go_wild_mary   0.098411\n",
      "36662        coolest_mischief_make   0.098411\n",
      "128250               new_love_girl   0.098411\n",
      "24016      california_adventure_go   0.098411\n",
      "84049   heart_hollywood_disastrous   0.098411\n",
      "169383               son_girl_arch   0.098411\n",
      "140577           plot_every_action   0.098411\n",
      "49231            diver_sister_team   0.098411\n",
      "128256              new_love_newly   0.098411\n",
      "60612        fabulously_funny_love   0.098411\n",
      "132540            one_surfer_other   0.098411\n",
      "199388                way_got_find   0.098411\n",
      "133765            other_high_diver   0.098411\n",
      "8083               arch_rival_girl   0.098411\n",
      "73320        full_outrageous_event   0.098411\n",
      "60439         eye_catch_california   0.098411\n",
      "111057             love_girl_paint   0.098411\n",
      "111407          love_strike_comedy   0.098411\n",
      "138079           personal_ad_giant   0.098411\n"
     ]
    }
   ],
   "source": [
    "\n",
    "#Sort the DataFrame based on the maximum TF-IDF values in ascending order\n",
    "#This shows us the lowest maximum scores\n",
    "trigram_scores = trigram_scores.sort_values(by=\"tfidf_max\", ascending=True)\n",
    "\n",
    "# Display the bottom 20 trigrams along with their maximum TF-IDF scores\n",
    "bottom_20_trigrams = trigram_scores.head(20)\n",
    "print(bottom_20_trigrams)"
   ]
  },
  {
   "cell_type": "code",
   "execution_count": 99,
   "metadata": {
    "id": "RQfUoUtOpT3i"
   },
   "outputs": [],
   "source": [
    "#Create the TFIDF Matrix for the test dataset as well:\n",
    "test_text_data = test['overview']\n",
    "X_test = vectorizer.transform(test_text_data)"
   ]
  },
  {
   "cell_type": "code",
   "execution_count": 101,
   "metadata": {
    "colab": {
     "base_uri": "https://localhost:8080/"
    },
    "id": "GJmTPzHaWWYJ",
    "outputId": "3095db2d-ba8b-4e05-95ef-d1f276d945bb"
   },
   "outputs": [
    {
     "data": {
      "text/plain": [
       "(3260, 208795)"
      ]
     },
     "execution_count": 101,
     "metadata": {},
     "output_type": "execute_result"
    }
   ],
   "source": [
    "X_test.shape"
   ]
  },
  {
   "cell_type": "code",
   "execution_count": 102,
   "metadata": {
    "colab": {
     "base_uri": "https://localhost:8080/"
    },
    "id": "gKYEwZtpWt6p",
    "outputId": "04f342f3-7d6a-4ae4-ed2e-f149325272f8"
   },
   "outputs": [
    {
     "data": {
      "text/plain": [
       "(7606, 208795)"
      ]
     },
     "execution_count": 102,
     "metadata": {},
     "output_type": "execute_result"
    }
   ],
   "source": [
    "X.shape"
   ]
  },
  {
   "cell_type": "markdown",
   "metadata": {},
   "source": [
    "### doc2vector"
   ]
  },
  {
   "cell_type": "code",
   "execution_count": 30,
   "metadata": {
    "tags": []
   },
   "outputs": [],
   "source": [
    "from gensim.models.doc2vec import Doc2Vec, TaggedDocument\n",
    "import numpy as np"
   ]
  },
  {
   "cell_type": "code",
   "execution_count": 31,
   "metadata": {
    "tags": []
   },
   "outputs": [],
   "source": [
    "from gensim.models.phrases import Phrases, Phraser\n",
    "from nltk import bigrams\n",
    "\n",
    "words = [row.split() for row in train['overview']]\n",
    "phrases = Phrases(words, min_count=30, progress_per=10000)\n",
    "bigram = Phraser(phrases)\n",
    "sentences = bigram[words]"
   ]
  },
  {
   "cell_type": "code",
   "execution_count": 32,
   "metadata": {
    "tags": []
   },
   "outputs": [
    {
     "data": {
      "text/plain": [
       "<gensim.interfaces.TransformedCorpus at 0x7ff11e97f040>"
      ]
     },
     "execution_count": 32,
     "metadata": {},
     "output_type": "execute_result"
    }
   ],
   "source": [
    "sentences"
   ]
  },
  {
   "cell_type": "code",
   "execution_count": 56,
   "metadata": {
    "tags": []
   },
   "outputs": [],
   "source": [
    "def get_documents(overviews):\n",
    "    texts = []\n",
    "    for row in overviews:\n",
    "        word_array = row.split(\" \")\n",
    "        texts.append([x for x in word_array if x])\n",
    "    documents = [TaggedDocument(doc, [i]) for i, doc in enumerate(texts)]\n",
    "    return texts, documents"
   ]
  },
  {
   "cell_type": "code",
   "execution_count": 57,
   "metadata": {
    "tags": []
   },
   "outputs": [],
   "source": [
    "train_texts, train_documents = get_documents(train['overview'])"
   ]
  },
  {
   "cell_type": "code",
   "execution_count": 75,
   "metadata": {
    "tags": []
   },
   "outputs": [],
   "source": [
    "model = Doc2Vec(train_documents, vector_size=100, dm=1, dm_concat=1, window=2, min_count=1, workers=4)"
   ]
  },
  {
   "cell_type": "code",
   "execution_count": 76,
   "metadata": {
    "tags": []
   },
   "outputs": [],
   "source": [
    "d2v_train_vectors = [model.infer_vector(text) for text in train_texts] \n",
    "d2v_train_vectors = np.array(d2v_train_vectors)"
   ]
  },
  {
   "cell_type": "code",
   "execution_count": 77,
   "metadata": {
    "tags": []
   },
   "outputs": [],
   "source": [
    "test_texts, test_documents = get_documents(test['overview'])\n",
    "d2v_test_vectors = [model.infer_vector(text) for text in test_texts] \n",
    "d2v_test_vectors = np.array(d2v_test_vectors)"
   ]
  },
  {
   "cell_type": "code",
   "execution_count": 78,
   "metadata": {
    "tags": []
   },
   "outputs": [
    {
     "data": {
      "text/plain": [
       "(7606, 100)"
      ]
     },
     "execution_count": 78,
     "metadata": {},
     "output_type": "execute_result"
    }
   ],
   "source": [
    "d2v_train_vectors.shape"
   ]
  },
  {
   "cell_type": "code",
   "execution_count": 79,
   "metadata": {
    "tags": []
   },
   "outputs": [
    {
     "data": {
      "text/plain": [
       "(3260, 100)"
      ]
     },
     "execution_count": 79,
     "metadata": {},
     "output_type": "execute_result"
    }
   ],
   "source": [
    "d2v_test_vectors.shape"
   ]
  },
  {
   "cell_type": "markdown",
   "metadata": {},
   "source": [
    "### doc2vec - ngrams"
   ]
  },
  {
   "cell_type": "code",
   "execution_count": null,
   "metadata": {},
   "outputs": [],
   "source": [
    "from gensim.models.phrases import Phrases, Phraser\n",
    "from nltk import bigrams\n",
    "\n",
    "words = [row.split() for row in train['overview']]\n",
    "phrases = Phrases(words, min_count=30, progress_per=10000)\n",
    "bigram = Phraser(phrases)\n",
    "sentences = bigram[words]\n",
    "\n",
    "w2v_model.build_vocab(sentences, progress_per=10000)\n",
    "\n",
    "w2v_model.train(sentences, total_examples=w2v_model.corpus_count, epochs=30, report_delay=1)\n",
    "\n",
    "tokenizer = ToktokTokenizer()\n",
    "nlp = spacy.load('en_core_web_sm')\n",
    "\n",
    "# tokenize train reviews & encode train labels\n",
    "tokenized_train = [tokenizer.tokenize(text)\n",
    "                   for text in train_text]\n",
    "y_train = train.drop(labels = ['id','overview', 'genres'], axis=1)\n",
    "# tokenize test reviews & encode test labels\n",
    "tokenized_test = [tokenizer.tokenize(text)\n",
    "                   for text in test_text]\n",
    "y_test = test.drop(labels = ['id','overview', 'genres'], axis=1)\n",
    "\n",
    "# build word2vec model\n",
    "w2v_num_features = 500\n",
    "w2v_model = gensim.models.Word2Vec(tokenized_train, vector_size=w2v_num_features, window=150,\n",
    "                                   min_count=10, sample=1e-3)  \n",
    "\n",
    "def averaged_word2vec_vectorizer(corpus, model, num_features):\n",
    "    vocabulary = set(model.wv.index_to_key)\n",
    "    \n",
    "    def average_word_vectors(words, model, vocabulary, num_features):\n",
    "        feature_vector = np.zeros((num_features,), dtype=\"float64\")\n",
    "        nwords = 0.\n",
    "        \n",
    "        for word in words:\n",
    "            if word in vocabulary: \n",
    "                nwords = nwords + 1.\n",
    "                feature_vector = np.add(feature_vector, model.wv[word])\n",
    "        if nwords:\n",
    "            feature_vector = np.divide(feature_vector, nwords)\n",
    "\n",
    "        return feature_vector\n",
    "\n",
    "    features = [average_word_vectors(tokenized_sentence, model, vocabulary, num_features)\n",
    "                    for tokenized_sentence in corpus]\n",
    "    return np.array(features)\n",
    "\n",
    "# generate averaged word vector features from word2vec model\n",
    "avg_wv_train_features = averaged_word2vec_vectorizer(corpus=tokenized_train, model=w2v_model, num_features=500)\n",
    "avg_wv_test_features = averaged_word2vec_vectorizer(corpus=tokenized_test, model=w2v_model, num_features=500)"
   ]
  },
  {
   "cell_type": "markdown",
   "metadata": {
    "id": "ti0fYSfFr3X1"
   },
   "source": [
    "# Baseline and Benchmark of Features"
   ]
  },
  {
   "cell_type": "markdown",
   "metadata": {
    "id": "fezvcga0Oh-Z"
   },
   "source": [
    "# Using pipeline for applying logistic regression and one vs rest classifier"
   ]
  },
  {
   "cell_type": "markdown",
   "metadata": {
    "id": "gu6n5SMu4rKG"
   },
   "source": [
    "OneVsRest\n",
    "1. Traditional two-class and multi-class problems can both be cast into multi-label ones by restricting each instance to have only one label. On the other hand, the generality of multi-label problems inevitably makes it more difficult to learn. An intuitive approach to solving multi-label problem is to decompose it into multiple independent binary classification problems (one per category).\n",
    "2. In an “one-to-rest” strategy, one could build multiple independent classifiers and, for an unseen instance, choose the class for which the confidence is maximized.\n",
    "3. The main assumption here is that the labels are mutually exclusive. You do not consider any underlying correlation between the classes in this method.\n",
    "4. For instance, it is more like asking simple questions, say, “is the comment toxic or not”, “is the comment threatening or not?”, etc. Also there might be an extensive case of overfitting here, since most of the comments are unlabeled, i,e., most of the comments are clean comments."
   ]
  },
  {
   "cell_type": "code",
   "execution_count": 30,
   "metadata": {
    "id": "2Y2KRSyDIt_w",
    "tags": []
   },
   "outputs": [],
   "source": [
    "from sklearn.linear_model import LogisticRegression\n",
    "from sklearn.pipeline import Pipeline\n",
    "from sklearn.metrics import accuracy_score, confusion_matrix, roc_curve, auc, roc_auc_score, f1_score, precision_score, recall_score\n",
    "from sklearn.multiclass import OneVsRestClassifier\n",
    "from sklearn.metrics import confusion_matrix,ConfusionMatrixDisplay"
   ]
  },
  {
   "cell_type": "code",
   "execution_count": 32,
   "metadata": {
    "id": "MYULPtAUIt_w",
    "tags": []
   },
   "outputs": [],
   "source": [
    "from IPython.display import Markdown, display\n",
    "def printmd(string):\n",
    "    display(Markdown(string))\n",
    "#printmd('**bold**')"
   ]
  },
  {
   "cell_type": "markdown",
   "metadata": {
    "id": "obkPwQRPPsxs"
   },
   "source": [
    "### word2vec"
   ]
  },
  {
   "cell_type": "code",
   "execution_count": 74,
   "metadata": {
    "colab": {
     "base_uri": "https://localhost:8080/",
     "height": 545
    },
    "id": "23bpdpj7mRlw",
    "outputId": "7144d5c3-7dc1-4fe4-8ba5-60ea8865aba1"
   },
   "outputs": [
    {
     "data": {
      "image/png": "[encoded data removed]",
      "text/plain": [
       "<Figure size 1000x600 with 1 Axes>"
      ]
     },
     "metadata": {},
     "output_type": "display_data"
    }
   ],
   "source": [
    "#Plotting the y genre columns:\n",
    "\n",
    "genre_columns = ['Drama', 'Romance', 'Action', 'Thriller', 'Comedy']\n",
    "plot_df = data[genre_columns]\n",
    "\n",
    "# Calculate the sum of each column\n",
    "column_sums = plot_df.sum(axis=0)\n",
    "\n",
    "# Set the width of the bars\n",
    "bar_width = 0.5\n",
    "\n",
    "# Set the x-axis positions for the bars\n",
    "x = np.arange(len(column_sums))\n",
    "\n",
    "# Create a figure and axis\n",
    "fig, ax = plt.subplots(figsize=(10, 6))\n",
    "\n",
    "# Plot the bars for each column\n",
    "ax.bar(x, column_sums, width=bar_width)\n",
    "\n",
    "# Set the x-axis tick positions and labels\n",
    "ax.set_xticks(x)\n",
    "ax.set_xticklabels(column_sums.index)\n",
    "\n",
    "# Add labels and title\n",
    "ax.set_ylabel('Count')\n",
    "ax.set_title('Count of Each Genre')\n",
    "\n",
    "# Show the plot\n",
    "plt.show()\n"
   ]
  },
  {
   "cell_type": "code",
   "execution_count": 77,
   "metadata": {
    "colab": {
     "base_uri": "https://localhost:8080/"
    },
    "id": "MJj76hT1VQCL",
    "outputId": "0f78b46a-fc84-4085-d2c7-af80a79c355b"
   },
   "outputs": [
    {
     "name": "stdout",
     "output_type": "stream",
     "text": [
      "Looking in indexes: https://pypi.org/simple, https://us-python.pkg.dev/colab-wheels/public/simple/\n",
      "Collecting scikit-multilearn\n",
      "  Downloading scikit_multilearn-0.2.0-py3-none-any.whl (89 kB)\n",
      "\u001b[2K     \u001b[90m━━━━━━━━━━━━━━━━━━━━━━━━━━━━━━━━━━━━━━━━\u001b[0m \u001b[32m89.4/89.4 kB\u001b[0m \u001b[31m12.4 MB/s\u001b[0m eta \u001b[36m0:00:00\u001b[0m\n",
      "\u001b[?25hInstalling collected packages: scikit-multilearn\n",
      "Successfully installed scikit-multilearn-0.2.0\n"
     ]
    }
   ],
   "source": [
    "!pip install scikit-multilearn"
   ]
  },
  {
   "cell_type": "code",
   "execution_count": 104,
   "metadata": {
    "colab": {
     "base_uri": "https://localhost:8080/"
    },
    "id": "xa_jOmf1mFmr",
    "outputId": "143c44e1-551d-4b3d-c3f0-c6a17284a554",
    "tags": []
   },
   "outputs": [
    {
     "name": "stdout",
     "output_type": "stream",
     "text": [
      "(7606, 500)\n",
      "(7606, 5)\n",
      "7606\n",
      "9\n",
      "(7597, 500)\n",
      "7597\n"
     ]
    }
   ],
   "source": [
    "X_train = avg_wv_train_features\n",
    "y_train = train[categories]\n",
    "\n",
    "print(X_train.shape)\n",
    "print(y_train.shape)\n",
    "import numpy as np\n",
    "from sklearn.datasets import make_multilabel_classification\n",
    "from sklearn.model_selection import train_test_split\n",
    "from skmultilearn.problem_transform import LabelPowerset\n",
    "from imblearn.over_sampling import SMOTE\n",
    "\n",
    "lp = LabelPowerset()\n",
    "y_train_single_label = lp.transform(y_train)\n",
    "print(len(y_train_single_label))\n",
    "\n",
    "count = {}\n",
    "for i in y_train_single_label:\n",
    "  count[i] = 0\n",
    "\n",
    "for i in y_train_single_label:\n",
    "  count[i] += 1\n",
    "\n",
    "# Apply SMOTE to the transformed dataset\n",
    "smote = SMOTE(random_state=42)\n",
    "remove_index = []\n",
    "\n",
    "y_new = []\n",
    "for i in range(7606):\n",
    "  power_label = y_train_single_label[i]\n",
    "  if count[power_label] < 6:\n",
    "    remove_index.append(i)\n",
    "  else:\n",
    "    y_new.append(y_train_single_label[i])\n",
    "\n",
    "print(len(remove_index))\n",
    "X_new = np.delete(X_train, remove_index, axis=0)\n",
    "\n",
    "print(X_new.shape)\n",
    "print(len(y_new))\n",
    "X_train_resampled, y_train_single_label_resampled = smote.fit_resample(X_new, y_new)\n",
    "y_train_resampled = lp.inverse_transform(y_train_single_label_resampled)\n",
    "y_df = pd.DataFrame(y_train_resampled.toarray(), columns=categories)"
   ]
  },
  {
   "cell_type": "code",
   "execution_count": 108,
   "metadata": {
    "colab": {
     "base_uri": "https://localhost:8080/"
    },
    "id": "rnx-FcyvuCi2",
    "outputId": "f618ba51-6249-466d-bc20-8498ffa78fa6",
    "tags": []
   },
   "outputs": [
    {
     "name": "stdout",
     "output_type": "stream",
     "text": [
      "(32451, 5)\n",
      "(32451, 500)\n"
     ]
    }
   ],
   "source": [
    "print(y_train_resampled.shape)\n",
    "print(X_train_resampled.shape)"
   ]
  },
  {
   "cell_type": "code",
   "execution_count": 109,
   "metadata": {
    "tags": []
   },
   "outputs": [
    {
     "data": {
      "text/plain": [
       "<class 'numpy.ndarray'>"
      ]
     },
     "execution_count": 109,
     "metadata": {},
     "output_type": "execute_result"
    }
   ],
   "source": [
    "type(y_train_resampled)"
   ]
  },
  {
   "cell_type": "code",
   "execution_count": 110,
   "metadata": {
    "tags": []
   },
   "outputs": [],
   "source": [
    "# X_train_resampled = np.array(X_train_resampled)\n",
    "# y_train_resampled = y_train_resampled.toarray()\n",
    "np.savetxt('../X_train_resampled.csv', X_train_resampled, delimiter=',')\n",
    "np.savetxt('../y_train_resampled.csv', y_train_resampled, delimiter=',')"
   ]
  },
  {
   "cell_type": "code",
   "execution_count": 82,
   "metadata": {
    "colab": {
     "base_uri": "https://localhost:8080/",
     "height": 1000
    },
    "id": "miZMdRIwzhuC",
    "outputId": "5b26b073-6094-4810-8372-2964a4247cf9"
   },
   "outputs": [
    {
     "data": {
      "text/markdown": [
       "**Processing Action overview...**"
      ],
      "text/plain": [
       "<IPython.core.display.Markdown object>"
      ]
     },
     "metadata": {},
     "output_type": "display_data"
    },
    {
     "data": {
      "image/png": "[encoded data removed]",
      "text/plain": [
       "<Figure size 640x480 with 2 Axes>"
      ]
     },
     "metadata": {},
     "output_type": "display_data"
    },
    {
     "name": "stdout",
     "output_type": "stream",
     "text": [
      "Test accuracy is 0.6901840490797546\n",
      "Test f1 is 0.511605415860735\n",
      "Test precision score is 0.3898305084745763\n",
      "Test recall score is 0.7440225035161744\n",
      "Test roc auc score is 0.7095946177839797\n",
      "\n",
      "\n"
     ]
    },
    {
     "data": {
      "text/markdown": [
       "**Processing Comedy overview...**"
      ],
      "text/plain": [
       "<IPython.core.display.Markdown object>"
      ]
     },
     "metadata": {},
     "output_type": "display_data"
    },
    {
     "data": {
      "image/png": "[encoded data removed]",
      "text/plain": [
       "<Figure size 640x480 with 2 Axes>"
      ]
     },
     "metadata": {},
     "output_type": "display_data"
    },
    {
     "name": "stdout",
     "output_type": "stream",
     "text": [
      "Test accuracy is 0.6457055214723927\n",
      "Test f1 is 0.5440189498618239\n",
      "Test precision score is 0.48692579505300354\n",
      "Test recall score is 0.6162790697674418\n",
      "Test roc auc score is 0.638671747768875\n",
      "\n",
      "\n"
     ]
    },
    {
     "data": {
      "text/markdown": [
       "**Processing Drama overview...**"
      ],
      "text/plain": [
       "<IPython.core.display.Markdown object>"
      ]
     },
     "metadata": {},
     "output_type": "display_data"
    },
    {
     "data": {
      "image/png": "[encoded data removed]",
      "text/plain": [
       "<Figure size 640x480 with 2 Axes>"
      ]
     },
     "metadata": {},
     "output_type": "display_data"
    },
    {
     "name": "stdout",
     "output_type": "stream",
     "text": [
      "Test accuracy is 0.6098159509202454\n",
      "Test f1 is 0.5646817248459959\n",
      "Test precision score is 0.5496335776149234\n",
      "Test recall score is 0.5805770584095707\n",
      "Test roc auc score is 0.6064929881498643\n",
      "\n",
      "\n"
     ]
    },
    {
     "data": {
      "text/markdown": [
       "**Processing Thriller overview...**"
      ],
      "text/plain": [
       "<IPython.core.display.Markdown object>"
      ]
     },
     "metadata": {},
     "output_type": "display_data"
    },
    {
     "data": {
      "image/png": "[encoded data removed]",
      "text/plain": [
       "<Figure size 640x480 with 2 Axes>"
      ]
     },
     "metadata": {},
     "output_type": "display_data"
    },
    {
     "name": "stdout",
     "output_type": "stream",
     "text": [
      "Test accuracy is 0.7257668711656442\n",
      "Test f1 is 0.4844290657439446\n",
      "Test precision score is 0.4883720930232558\n",
      "Test recall score is 0.4805491990846682\n",
      "Test roc auc score is 0.6480700731383106\n",
      "\n",
      "\n"
     ]
    },
    {
     "data": {
      "text/markdown": [
       "**Processing Romance overview...**"
      ],
      "text/plain": [
       "<IPython.core.display.Markdown object>"
      ]
     },
     "metadata": {},
     "output_type": "display_data"
    },
    {
     "data": {
      "image/png": "[encoded data removed]",
      "text/plain": [
       "<Figure size 640x480 with 2 Axes>"
      ]
     },
     "metadata": {},
     "output_type": "display_data"
    },
    {
     "name": "stdout",
     "output_type": "stream",
     "text": [
      "Test accuracy is 0.7128834355828221\n",
      "Test f1 is 0.44418052256532065\n",
      "Test precision score is 0.3300970873786408\n",
      "Test recall score is 0.6787658802177858\n",
      "Test roc auc score is 0.6992943465319272\n",
      "\n",
      "\n",
      "CPU times: user 1.8 s, sys: 1.11 s, total: 2.91 s\n",
      "Wall time: 30.8 s\n"
     ]
    }
   ],
   "source": [
    "%%time\n",
    "\n",
    "# from sklearn.dummy import DummyClassifier\n",
    "from sklearn.metrics import confusion_matrix,ConfusionMatrixDisplay\n",
    "\n",
    "# Using pipeline for applying logistic regression and one vs rest classifier\n",
    "LogReg_pipeline = Pipeline([\n",
    "                ('clf', OneVsRestClassifier(LogisticRegression(solver='sag'), n_jobs=-1)),\n",
    "            ])\n",
    "\n",
    "# dummy_pipeline = Pipeline([\n",
    "#                 ('clf', OneVsRestClassifier(DummyClassifier(), n_jobs=-1)),\n",
    "#             ])\n",
    "\n",
    "for category in categories:\n",
    "    printmd('**Processing {} overview...**'.format(category))\n",
    "    \n",
    "    # Training logistic regression model on train data\n",
    "    model = LogReg_pipeline.fit(X_train_resampled, y_df[category])\n",
    "    \n",
    "    # calculating test accuracy\n",
    "    prediction = LogReg_pipeline.predict(avg_wv_test_features)\n",
    "\n",
    "    cm = confusion_matrix(test[category], prediction)\n",
    "    disp = ConfusionMatrixDisplay(confusion_matrix=cm)\n",
    "    disp.plot()\n",
    "    plt.show()\n",
    "\n",
    "    print('Test accuracy is {}'.format(accuracy_score(test[category], prediction)))\n",
    "    print('Test f1 is {}'.format(f1_score(test[category], prediction)))\n",
    "    print('Test precision score is {}'.format(precision_score(test[category], prediction)))\n",
    "    print('Test recall score is {}'.format(recall_score(test[category], prediction)))\n",
    "    print('Test roc auc score is {}'.format(roc_auc_score(test[category], prediction)))\n",
    "    print(\"\\n\")"
   ]
  },
  {
   "cell_type": "markdown",
   "metadata": {
    "id": "V88K9c1HPi4e"
   },
   "source": [
    "### GloVe"
   ]
  },
  {
   "cell_type": "code",
   "execution_count": 83,
   "metadata": {
    "colab": {
     "base_uri": "https://localhost:8080/"
    },
    "id": "vsicW45TxUWe",
    "outputId": "eeb7b7f7-b5f2-4806-ab4b-d39e25122b23"
   },
   "outputs": [
    {
     "name": "stdout",
     "output_type": "stream",
     "text": [
      "(7606, 96)\n",
      "(7606, 5)\n",
      "7606\n",
      "9\n",
      "(7597, 96)\n",
      "7597\n"
     ]
    }
   ],
   "source": [
    "X_train = train_glove_features\n",
    "y_train = train[categories]\n",
    "\n",
    "print(X_train.shape)\n",
    "print(y_train.shape)\n",
    "import numpy as np\n",
    "from sklearn.datasets import make_multilabel_classification\n",
    "from sklearn.model_selection import train_test_split\n",
    "from skmultilearn.problem_transform import LabelPowerset\n",
    "from imblearn.over_sampling import SMOTE\n",
    "\n",
    "lp = LabelPowerset()\n",
    "y_train_single_label = lp.transform(y_train)\n",
    "print(len(y_train_single_label))\n",
    "\n",
    "count = {}\n",
    "for i in y_train_single_label:\n",
    "  count[i] = 0\n",
    "\n",
    "for i in y_train_single_label:\n",
    "  count[i] += 1\n",
    "\n",
    "# Apply SMOTE to the transformed dataset\n",
    "smote = SMOTE(random_state=42)\n",
    "remove_index = []\n",
    "\n",
    "y_new = []\n",
    "for i in range(7606):\n",
    "  power_label = y_train_single_label[i]\n",
    "  if count[power_label] < 6:\n",
    "    remove_index.append(i)\n",
    "  else:\n",
    "    y_new.append(y_train_single_label[i])\n",
    "\n",
    "print(len(remove_index))\n",
    "X_new = np.delete(X_train, remove_index, axis=0)\n",
    "\n",
    "print(X_new.shape)\n",
    "print(len(y_new))\n",
    "X_train_resampled, y_train_single_label_resampled = smote.fit_resample(X_new, y_new)\n",
    "y_train_resampled = lp.inverse_transform(y_train_single_label_resampled)\n",
    "y_df = pd.DataFrame(y_train_resampled.toarray(), columns=categories)"
   ]
  },
  {
   "cell_type": "code",
   "execution_count": 84,
   "metadata": {
    "colab": {
     "base_uri": "https://localhost:8080/",
     "height": 1000
    },
    "id": "DJF6rvRTKeCh",
    "outputId": "bdbb15ae-cc9e-4a8a-e276-720b1e2a4b17"
   },
   "outputs": [
    {
     "data": {
      "text/markdown": [
       "**Processing Action overview...**"
      ],
      "text/plain": [
       "<IPython.core.display.Markdown object>"
      ]
     },
     "metadata": {},
     "output_type": "display_data"
    },
    {
     "data": {
      "image/png": "[encoded data removed]",
      "text/plain": [
       "<Figure size 640x480 with 2 Axes>"
      ]
     },
     "metadata": {},
     "output_type": "display_data"
    },
    {
     "name": "stdout",
     "output_type": "stream",
     "text": [
      "Test accuracy is 0.6205521472392638\n",
      "Test f1 is 0.3691993880673127\n",
      "Test precision score is 0.2896\n",
      "Test recall score is 0.509142053445851\n",
      "Test roc auc score is 0.5803850714463464\n",
      "\n",
      "\n"
     ]
    },
    {
     "data": {
      "text/markdown": [
       "**Processing Comedy overview...**"
      ],
      "text/plain": [
       "<IPython.core.display.Markdown object>"
      ]
     },
     "metadata": {},
     "output_type": "display_data"
    },
    {
     "data": {
      "image/png": "[encoded data removed]",
      "text/plain": [
       "<Figure size 640x480 with 2 Axes>"
      ]
     },
     "metadata": {},
     "output_type": "display_data"
    },
    {
     "name": "stdout",
     "output_type": "stream",
     "text": [
      "Test accuracy is 0.5530674846625767\n",
      "Test f1 is 0.4279544562230075\n",
      "Test precision score is 0.3813855843247026\n",
      "Test recall score is 0.4874776386404293\n",
      "Test roc auc score is 0.5373896129710083\n",
      "\n",
      "\n"
     ]
    },
    {
     "data": {
      "text/markdown": [
       "**Processing Drama overview...**"
      ],
      "text/plain": [
       "<IPython.core.display.Markdown object>"
      ]
     },
     "metadata": {},
     "output_type": "display_data"
    },
    {
     "data": {
      "image/png": "[encoded data removed]",
      "text/plain": [
       "<Figure size 640x480 with 2 Axes>"
      ]
     },
     "metadata": {},
     "output_type": "display_data"
    },
    {
     "name": "stdout",
     "output_type": "stream",
     "text": [
      "Test accuracy is 0.5319018404907976\n",
      "Test f1 is 0.4886058981233244\n",
      "Test precision score is 0.46641074856046066\n",
      "Test recall score is 0.5130190007037297\n",
      "Test roc auc score is 0.5297558298787817\n",
      "\n",
      "\n"
     ]
    },
    {
     "data": {
      "text/markdown": [
       "**Processing Thriller overview...**"
      ],
      "text/plain": [
       "<IPython.core.display.Markdown object>"
      ]
     },
     "metadata": {},
     "output_type": "display_data"
    },
    {
     "data": {
      "image/png": "[encoded data removed]",
      "text/plain": [
       "<Figure size 640x480 with 2 Axes>"
      ]
     },
     "metadata": {},
     "output_type": "display_data"
    },
    {
     "name": "stdout",
     "output_type": "stream",
     "text": [
      "Test accuracy is 0.6095092024539878\n",
      "Test f1 is 0.366351418616227\n",
      "Test precision score is 0.32422907488986785\n",
      "Test recall score is 0.42105263157894735\n",
      "Test roc auc score is 0.5497970618079145\n",
      "\n",
      "\n"
     ]
    },
    {
     "data": {
      "text/markdown": [
       "**Processing Romance overview...**"
      ],
      "text/plain": [
       "<IPython.core.display.Markdown object>"
      ]
     },
     "metadata": {},
     "output_type": "display_data"
    },
    {
     "data": {
      "image/png": "[encoded data removed]",
      "text/plain": [
       "<Figure size 640x480 with 2 Axes>"
      ]
     },
     "metadata": {},
     "output_type": "display_data"
    },
    {
     "name": "stdout",
     "output_type": "stream",
     "text": [
      "Test accuracy is 0.6426380368098159\n",
      "Test f1 is 0.2759477936606588\n",
      "Test precision score is 0.20982986767485823\n",
      "Test recall score is 0.4029038112522686\n",
      "Test roc auc score is 0.5471514257442591\n",
      "\n",
      "\n",
      "CPU times: user 1.59 s, sys: 757 ms, total: 2.35 s\n",
      "Wall time: 20.1 s\n"
     ]
    }
   ],
   "source": [
    "%%time\n",
    "from sklearn.metrics import confusion_matrix,ConfusionMatrixDisplay\n",
    "# Using pipeline for applying logistic regression and one vs rest classifier\n",
    "LogReg_pipeline = Pipeline([\n",
    "                ('clf', OneVsRestClassifier(LogisticRegression(solver='sag'), n_jobs=-1)),\n",
    "            ])\n",
    "\n",
    "for category in categories:\n",
    "    printmd('**Processing {} overview...**'.format(category))\n",
    "    \n",
    "    # Training logistic regression model on train data\n",
    "    model = LogReg_pipeline.fit(X_train_resampled, y_df[category])\n",
    "    \n",
    "    # calculating test accuracy\n",
    "    prediction = LogReg_pipeline.predict(test_glove_features)\n",
    "    cm = confusion_matrix(test[category], prediction)\n",
    "    disp = ConfusionMatrixDisplay(confusion_matrix=cm)\n",
    "    disp.plot()\n",
    "    plt.show()\n",
    "    print('Test accuracy is {}'.format(accuracy_score(test[category], prediction)))\n",
    "    print('Test f1 is {}'.format(f1_score(test[category], prediction)))\n",
    "    print('Test precision score is {}'.format(precision_score(test[category], prediction)))\n",
    "    print('Test recall score is {}'.format(recall_score(test[category], prediction)))\n",
    "    print('Test roc auc score is {}'.format(roc_auc_score(test[category], prediction)))\n",
    "    print(\"\\n\")"
   ]
  },
  {
   "cell_type": "markdown",
   "metadata": {
    "id": "_3v3HvspPU2F"
   },
   "source": [
    "### TD-IDF"
   ]
  },
  {
   "cell_type": "code",
   "execution_count": 24,
   "metadata": {
    "tags": []
   },
   "outputs": [],
   "source": [
    "from sklearn.feature_extraction.text import TfidfVectorizer\n",
    "vectorizer = TfidfVectorizer(strip_accents='unicode', analyzer='word', ngram_range=(1,3), norm='l2')\n",
    "vectorizer.fit(train_text)\n",
    "vectorizer.fit(test_text)\n",
    "\n",
    "x_train = vectorizer.transform(train_text)\n",
    "y_train = train.drop(labels = ['id','overview', 'genres'], axis=1)\n",
    "x_test = vectorizer.transform(test_text)\n",
    "y_test = test.drop(labels = ['id','overview', 'genres'], axis=1)"
   ]
  },
  {
   "cell_type": "code",
   "execution_count": 25,
   "metadata": {
    "tags": []
   },
   "outputs": [
    {
     "data": {
      "text/plain": [
       "(7606, 185395)"
      ]
     },
     "execution_count": 25,
     "metadata": {},
     "output_type": "execute_result"
    }
   ],
   "source": [
    "x_train.shape"
   ]
  },
  {
   "cell_type": "code",
   "execution_count": 104,
   "metadata": {
    "colab": {
     "base_uri": "https://localhost:8080/"
    },
    "id": "44hjIclgBW53",
    "outputId": "ab54e3a6-348c-4916-b074-9b1521e33a59"
   },
   "outputs": [
    {
     "data": {
      "text/plain": [
       "<class 'scipy.sparse._csr.csr_matrix'>"
      ]
     },
     "execution_count": 104,
     "metadata": {},
     "output_type": "execute_result"
    }
   ],
   "source": [
    "# type(X_test)\n",
    "type(X)\n",
    "# X.shape"
   ]
  },
  {
   "cell_type": "code",
   "execution_count": 26,
   "metadata": {
    "colab": {
     "base_uri": "https://localhost:8080/"
    },
    "id": "2jOL8jVn1ojE",
    "outputId": "b6a9b22b-d335-4c7b-c57b-6c0e7caab16a",
    "tags": []
   },
   "outputs": [
    {
     "name": "stdout",
     "output_type": "stream",
     "text": [
      "(7606, 185395)\n",
      "(7606, 5)\n",
      "7606\n",
      "9\n"
     ]
    }
   ],
   "source": [
    "X_train = x_train\n",
    "y_train = train[categories]\n",
    "\n",
    "print(X_train.shape)\n",
    "print(y_train.shape)\n",
    "import numpy as np\n",
    "from sklearn.datasets import make_multilabel_classification\n",
    "from sklearn.model_selection import train_test_split\n",
    "from skmultilearn.problem_transform import LabelPowerset\n",
    "from imblearn.over_sampling import SMOTE\n",
    "\n",
    "lp = LabelPowerset()\n",
    "y_train_single_label = lp.transform(y_train)\n",
    "print(len(y_train_single_label))\n",
    "\n",
    "count = {}\n",
    "for i in y_train_single_label:\n",
    "  count[i] = 0\n",
    "\n",
    "for i in y_train_single_label:\n",
    "  count[i] += 1\n",
    "\n",
    "# Apply SMOTE to the transformed dataset\n",
    "smote = SMOTE(random_state=42)\n",
    "remove_index = []\n",
    "\n",
    "y_new = []\n",
    "for i in range(7606):\n",
    "  power_label = y_train_single_label[i]\n",
    "  if count[power_label] < 6:\n",
    "    remove_index.append(i)\n",
    "  else:\n",
    "    y_new.append(y_train_single_label[i])\n",
    "\n",
    "print(len(remove_index))\n",
    "\n"
   ]
  },
  {
   "cell_type": "code",
   "execution_count": 27,
   "metadata": {
    "colab": {
     "base_uri": "https://localhost:8080/"
    },
    "id": "Oy_jJQeYYhRI",
    "outputId": "637230b0-e528-4f63-afeb-587732697805",
    "tags": []
   },
   "outputs": [
    {
     "name": "stdout",
     "output_type": "stream",
     "text": [
      "(7597, 185395)\n"
     ]
    }
   ],
   "source": [
    "def delete_row_csr(mat, i):\n",
    "    n = mat.indptr[i+1] - mat.indptr[i]\n",
    "    if n > 0:\n",
    "        mat.data[mat.indptr[i]:-n] = mat.data[mat.indptr[i+1]:]\n",
    "        mat.data = mat.data[:-n]\n",
    "        mat.indices[mat.indptr[i]:-n] = mat.indices[mat.indptr[i+1]:]\n",
    "        mat.indices = mat.indices[:-n]\n",
    "    mat.indptr[i:-1] = mat.indptr[i+1:]\n",
    "    mat.indptr[i:] -= n\n",
    "    mat.indptr = mat.indptr[:-1]\n",
    "    mat._shape = (mat._shape[0]-1, mat._shape[1])\n",
    "\n",
    "for i in remove_index:\n",
    "    delete_row_csr(X_train, i)\n",
    "\n",
    "print(X_train.shape)\n"
   ]
  },
  {
   "cell_type": "code",
   "execution_count": 28,
   "metadata": {
    "colab": {
     "base_uri": "https://localhost:8080/"
    },
    "id": "Iw5T0YrPY22o",
    "outputId": "ffbc5e5d-d499-4aee-eb78-ed90a0cf67c4",
    "tags": []
   },
   "outputs": [
    {
     "name": "stdout",
     "output_type": "stream",
     "text": [
      "7597\n"
     ]
    }
   ],
   "source": [
    "print(len(y_new))\n",
    "X_train_resampled, y_train_single_label_resampled = smote.fit_resample(X_train, y_new)\n",
    "y_train_resampled = lp.inverse_transform(y_train_single_label_resampled)\n",
    "y_df = pd.DataFrame(y_train_resampled.toarray(), columns=categories)"
   ]
  },
  {
   "cell_type": "code",
   "execution_count": 33,
   "metadata": {
    "colab": {
     "base_uri": "https://localhost:8080/",
     "height": 1000
    },
    "id": "eraADa41vYSW",
    "outputId": "2cd2b45f-7665-4ce0-fd0b-bc6bc9878e87",
    "tags": []
   },
   "outputs": [
    {
     "data": {
      "text/markdown": [
       "**Processing Action overview...**"
      ],
      "text/plain": [
       "<IPython.core.display.Markdown object>"
      ]
     },
     "metadata": {},
     "output_type": "display_data"
    },
    {
     "data": {
      "image/png": "[encoded data removed]",
      "text/plain": [
       "<Figure size 640x480 with 2 Axes>"
      ]
     },
     "metadata": {},
     "output_type": "display_data"
    },
    {
     "name": "stdout",
     "output_type": "stream",
     "text": [
      "Test accuracy is 0.8190184049079755\n",
      "Test f1 is 0.39918533604887985\n",
      "Test precision score is 0.7232472324723247\n",
      "Test recall score is 0.27566807313642755\n",
      "Test roc auc score is 0.6231223849401243\n",
      "\n",
      "\n"
     ]
    },
    {
     "data": {
      "text/markdown": [
       "**Processing Comedy overview...**"
      ],
      "text/plain": [
       "<IPython.core.display.Markdown object>"
      ]
     },
     "metadata": {},
     "output_type": "display_data"
    },
    {
     "data": {
      "image/png": "[encoded data removed]",
      "text/plain": [
       "<Figure size 640x480 with 2 Axes>"
      ]
     },
     "metadata": {},
     "output_type": "display_data"
    },
    {
     "name": "stdout",
     "output_type": "stream",
     "text": [
      "Test accuracy is 0.7570552147239263\n",
      "Test f1 is 0.5967413441955193\n",
      "Test precision score is 0.6926713947990544\n",
      "Test recall score is 0.5241502683363148\n",
      "Test roc auc score is 0.7013841911242732\n",
      "\n",
      "\n"
     ]
    },
    {
     "data": {
      "text/markdown": [
       "**Processing Drama overview...**"
      ],
      "text/plain": [
       "<IPython.core.display.Markdown object>"
      ]
     },
     "metadata": {},
     "output_type": "display_data"
    },
    {
     "data": {
      "image/png": "[encoded data removed]",
      "text/plain": [
       "<Figure size 640x480 with 2 Axes>"
      ]
     },
     "metadata": {},
     "output_type": "display_data"
    },
    {
     "name": "stdout",
     "output_type": "stream",
     "text": [
      "Test accuracy is 0.6785276073619632\n",
      "Test f1 is 0.6265146115466856\n",
      "Test precision score is 0.6346570397111914\n",
      "Test recall score is 0.6185784658691063\n",
      "Test roc auc score is 0.671714464038414\n",
      "\n",
      "\n"
     ]
    },
    {
     "data": {
      "text/markdown": [
       "**Processing Thriller overview...**"
      ],
      "text/plain": [
       "<IPython.core.display.Markdown object>"
      ]
     },
     "metadata": {},
     "output_type": "display_data"
    },
    {
     "data": {
      "image/png": "[encoded data removed]",
      "text/plain": [
       "<Figure size 640x480 with 2 Axes>"
      ]
     },
     "metadata": {},
     "output_type": "display_data"
    },
    {
     "name": "stdout",
     "output_type": "stream",
     "text": [
      "Test accuracy is 0.7607361963190185\n",
      "Test f1 is 0.342327150084317\n",
      "Test precision score is 0.6506410256410257\n",
      "Test recall score is 0.2322654462242563\n",
      "Test roc auc score is 0.5932911472529496\n",
      "\n",
      "\n"
     ]
    },
    {
     "data": {
      "text/markdown": [
       "**Processing Romance overview...**"
      ],
      "text/plain": [
       "<IPython.core.display.Markdown object>"
      ]
     },
     "metadata": {},
     "output_type": "display_data"
    },
    {
     "data": {
      "image/png": "[encoded data removed]",
      "text/plain": [
       "<Figure size 640x480 with 2 Axes>"
      ]
     },
     "metadata": {},
     "output_type": "display_data"
    },
    {
     "name": "stdout",
     "output_type": "stream",
     "text": [
      "Test accuracy is 0.8469325153374233\n",
      "Test f1 is 0.20667726550079493\n",
      "Test precision score is 0.8333333333333334\n",
      "Test recall score is 0.11796733212341198\n",
      "Test roc auc score is 0.5565842566855524\n",
      "\n",
      "\n",
      "CPU times: user 1.54 s, sys: 391 ms, total: 1.93 s\n",
      "Wall time: 21.9 s\n"
     ]
    }
   ],
   "source": [
    "%%time\n",
    "\n",
    "# Using pipeline for applying logistic regression and one vs rest classifier\n",
    "LogReg_pipeline = Pipeline([\n",
    "                ('clf', OneVsRestClassifier(LogisticRegression(solver='sag'), n_jobs=-1)),\n",
    "            ])\n",
    "\n",
    "for category in categories:\n",
    "    printmd('**Processing {} overview...**'.format(category))\n",
    "    \n",
    "    # Training logistic regression model on train data\n",
    "    model = LogReg_pipeline.fit(X_train_resampled, y_df[category])\n",
    "    \n",
    "    # calculating test accuracy\n",
    "    prediction = LogReg_pipeline.predict(x_test)\n",
    "    cm = confusion_matrix(test[category], prediction)\n",
    "    disp = ConfusionMatrixDisplay(confusion_matrix=cm)\n",
    "    disp.plot()\n",
    "    plt.show()\n",
    "    print('Test accuracy is {}'.format(accuracy_score(test[category], prediction)))\n",
    "    print('Test f1 is {}'.format(f1_score(test[category], prediction)))\n",
    "    print('Test precision score is {}'.format(precision_score(test[category], prediction)))\n",
    "    print('Test recall score is {}'.format(recall_score(test[category], prediction)))\n",
    "    print('Test roc auc score is {}'.format(roc_auc_score(test[category], prediction)))\n",
    "    print(\"\\n\")"
   ]
  },
  {
   "cell_type": "markdown",
   "metadata": {},
   "source": [
    "### doc2vec"
   ]
  },
  {
   "cell_type": "code",
   "execution_count": 80,
   "metadata": {
    "id": "rt1OzsTKbZ0o",
    "tags": []
   },
   "outputs": [
    {
     "name": "stdout",
     "output_type": "stream",
     "text": [
      "(7606, 100)\n",
      "(7606, 5)\n",
      "7606\n",
      "9\n",
      "(7597, 100)\n",
      "7597\n"
     ]
    }
   ],
   "source": [
    "X_train = d2v_train_vectors\n",
    "y_train = train[categories]\n",
    "\n",
    "print(X_train.shape)\n",
    "print(y_train.shape)\n",
    "import numpy as np\n",
    "from sklearn.datasets import make_multilabel_classification\n",
    "from sklearn.model_selection import train_test_split\n",
    "from skmultilearn.problem_transform import LabelPowerset\n",
    "from imblearn.over_sampling import SMOTE\n",
    "\n",
    "lp = LabelPowerset()\n",
    "y_train_single_label = lp.transform(y_train)\n",
    "print(len(y_train_single_label))\n",
    "\n",
    "count = {}\n",
    "for i in y_train_single_label:\n",
    "  count[i] = 0\n",
    "\n",
    "for i in y_train_single_label:\n",
    "  count[i] += 1\n",
    "\n",
    "# Apply SMOTE to the transformed dataset\n",
    "smote = SMOTE(random_state=42)\n",
    "remove_index = []\n",
    "\n",
    "y_new = []\n",
    "for i in range(7606):\n",
    "  power_label = y_train_single_label[i]\n",
    "  if count[power_label] < 6:\n",
    "    remove_index.append(i)\n",
    "  else:\n",
    "    y_new.append(y_train_single_label[i])\n",
    "\n",
    "print(len(remove_index))\n",
    "X_new = np.delete(X_train, remove_index, axis=0)\n",
    "\n",
    "print(X_new.shape)\n",
    "print(len(y_new))\n",
    "X_train_resampled, y_train_single_label_resampled = smote.fit_resample(X_new, y_new)\n",
    "y_train_resampled = lp.inverse_transform(y_train_single_label_resampled)\n",
    "y_df = pd.DataFrame(y_train_resampled.toarray(), columns=categories)"
   ]
  },
  {
   "cell_type": "code",
   "execution_count": 81,
   "metadata": {
    "tags": []
   },
   "outputs": [
    {
     "data": {
      "text/markdown": [
       "**Processing Action overview...**"
      ],
      "text/plain": [
       "<IPython.core.display.Markdown object>"
      ]
     },
     "metadata": {},
     "output_type": "display_data"
    },
    {
     "data": {
      "image/png": "[encoded data removed]",
      "text/plain": [
       "<Figure size 640x480 with 2 Axes>"
      ]
     },
     "metadata": {},
     "output_type": "display_data"
    },
    {
     "name": "stdout",
     "output_type": "stream",
     "text": [
      "Test accuracy is 0.7236196319018405\n",
      "Test f1 is 0.4608019150209456\n",
      "Test precision score is 0.4010416666666667\n",
      "Test recall score is 0.5414908579465542\n",
      "Test roc auc score is 0.6579560998245914\n",
      "\n",
      "\n"
     ]
    },
    {
     "data": {
      "text/markdown": [
       "**Processing Comedy overview...**"
      ],
      "text/plain": [
       "<IPython.core.display.Markdown object>"
      ]
     },
     "metadata": {},
     "output_type": "display_data"
    },
    {
     "data": {
      "image/png": "[encoded data removed]",
      "text/plain": [
       "<Figure size 640x480 with 2 Axes>"
      ]
     },
     "metadata": {},
     "output_type": "display_data"
    },
    {
     "name": "stdout",
     "output_type": "stream",
     "text": [
      "Test accuracy is 0.6254601226993866\n",
      "Test f1 is 0.4546672621706119\n",
      "Test precision score is 0.45405887600356826\n",
      "Test recall score is 0.4552772808586762\n",
      "Test roc auc score is 0.5847814975721953\n",
      "\n",
      "\n"
     ]
    },
    {
     "data": {
      "text/markdown": [
       "**Processing Drama overview...**"
      ],
      "text/plain": [
       "<IPython.core.display.Markdown object>"
      ]
     },
     "metadata": {},
     "output_type": "display_data"
    },
    {
     "data": {
      "image/png": "[encoded data removed]",
      "text/plain": [
       "<Figure size 640x480 with 2 Axes>"
      ]
     },
     "metadata": {},
     "output_type": "display_data"
    },
    {
     "name": "stdout",
     "output_type": "stream",
     "text": [
      "Test accuracy is 0.5730061349693252\n",
      "Test f1 is 0.4666666666666667\n",
      "Test precision score is 0.5121951219512195\n",
      "Test recall score is 0.42857142857142855\n",
      "Test roc auc score is 0.5565913151557523\n",
      "\n",
      "\n"
     ]
    },
    {
     "data": {
      "text/markdown": [
       "**Processing Thriller overview...**"
      ],
      "text/plain": [
       "<IPython.core.display.Markdown object>"
      ]
     },
     "metadata": {},
     "output_type": "display_data"
    },
    {
     "data": {
      "image/png": "[encoded data removed]",
      "text/plain": [
       "<Figure size 640x480 with 2 Axes>"
      ]
     },
     "metadata": {},
     "output_type": "display_data"
    },
    {
     "name": "stdout",
     "output_type": "stream",
     "text": [
      "Test accuracy is 0.7049079754601227\n",
      "Test f1 is 0.3712418300653595\n",
      "Test precision score is 0.4329268292682927\n",
      "Test recall score is 0.32494279176201374\n",
      "Test roc auc score is 0.5845166599212416\n",
      "\n",
      "\n"
     ]
    },
    {
     "data": {
      "text/markdown": [
       "**Processing Romance overview...**"
      ],
      "text/plain": [
       "<IPython.core.display.Markdown object>"
      ]
     },
     "metadata": {},
     "output_type": "display_data"
    },
    {
     "data": {
      "image/png": "[encoded data removed]",
      "text/plain": [
       "<Figure size 640x480 with 2 Axes>"
      ]
     },
     "metadata": {},
     "output_type": "display_data"
    },
    {
     "name": "stdout",
     "output_type": "stream",
     "text": [
      "Test accuracy is 0.7441717791411043\n",
      "Test f1 is 0.3208469055374593\n",
      "Test precision score is 0.29098966026587886\n",
      "Test recall score is 0.35753176043557167\n",
      "Test roc auc score is 0.5901723032521158\n",
      "\n",
      "\n",
      "CPU times: user 1.67 s, sys: 267 ms, total: 1.94 s\n",
      "Wall time: 12.2 s\n"
     ]
    }
   ],
   "source": [
    "%%time\n",
    "\n",
    "# Using pipeline for applying logistic regression and one vs rest classifier\n",
    "LogReg_pipeline = Pipeline([\n",
    "                ('clf', OneVsRestClassifier(LogisticRegression(solver='sag'), n_jobs=-1)),\n",
    "            ])\n",
    "\n",
    "for category in categories:\n",
    "    printmd('**Processing {} overview...**'.format(category))\n",
    "    \n",
    "    # Training logistic regression model on train data\n",
    "    model = LogReg_pipeline.fit(X_train_resampled, y_df[category])\n",
    "    \n",
    "    # calculating test accuracy\n",
    "    prediction = LogReg_pipeline.predict(d2v_test_vectors)\n",
    "    cm = confusion_matrix(test[category], prediction)\n",
    "    disp = ConfusionMatrixDisplay(confusion_matrix=cm)\n",
    "    disp.plot()\n",
    "    plt.show()\n",
    "    print('Test accuracy is {}'.format(accuracy_score(test[category], prediction)))\n",
    "    print('Test f1 is {}'.format(f1_score(test[category], prediction)))\n",
    "    print('Test precision score is {}'.format(precision_score(test[category], prediction)))\n",
    "    print('Test recall score is {}'.format(recall_score(test[category], prediction)))\n",
    "    print('Test roc auc score is {}'.format(roc_auc_score(test[category], prediction)))\n",
    "    print(\"\\n\")"
   ]
  },
  {
   "cell_type": "markdown",
   "metadata": {},
   "source": [
    "# 4. Classifiers"
   ]
  },
  {
   "cell_type": "code",
   "execution_count": 5,
   "metadata": {
    "tags": []
   },
   "outputs": [],
   "source": [
    "from sklearn.metrics import accuracy_score, classification_report\n",
    "import numpy as np\n",
    "import pandas as pd\n",
    "\n",
    "categories = ['Action', 'Comedy', 'Drama', 'Thriller', 'Romance']\n",
    "train = pd.read_csv('../train.csv', keep_default_na=False, na_values=[''])\n",
    "test = pd.read_csv('../test.csv', keep_default_na=False, na_values=[''])\n",
    "avg_wv_train_features = np.loadtxt('../avg_wv_train_features.csv', delimiter=',')\n",
    "avg_wv_test_features = np.loadtxt('../avg_wv_test_features.csv', delimiter=',')\n",
    "x_train_resampled = np.loadtxt('../X_train_resampled.csv', delimiter=',')\n",
    "y_train_resampled = np.loadtxt('../y_train_resampled.csv', delimiter=',')\n",
    "\n",
    "x_train = avg_wv_train_features\n",
    "x_test = avg_wv_test_features\n",
    "y_train = train[categories]\n",
    "y_test = test[categories]"
   ]
  },
  {
   "cell_type": "markdown",
   "metadata": {},
   "source": [
    "## Classifier Chains - before resample"
   ]
  },
  {
   "cell_type": "code",
   "execution_count": 112,
   "metadata": {
    "tags": []
   },
   "outputs": [
    {
     "name": "stdout",
     "output_type": "stream",
     "text": [
      "Accuracy =  0.18957055214723925\n",
      "\n",
      "\n",
      "Classification Report:\n",
      "               precision    recall  f1-score   support\n",
      "\n",
      "           0       0.54      0.17      0.26       711\n",
      "           1       0.64      0.23      0.34      1118\n",
      "           2       0.52      0.63      0.57      1421\n",
      "           3       0.51      0.22      0.30       874\n",
      "           4       0.58      0.07      0.13       551\n",
      "\n",
      "   micro avg       0.54      0.32      0.40      4675\n",
      "   macro avg       0.56      0.26      0.32      4675\n",
      "weighted avg       0.56      0.32      0.37      4675\n",
      " samples avg       0.40      0.29      0.31      4675\n",
      "\n"
     ]
    }
   ],
   "source": [
    "from skmultilearn.problem_transform import ClassifierChain\n",
    "from sklearn.linear_model import LogisticRegression\n",
    "# initialize classifier chains multi-label classifier\n",
    "classifier = ClassifierChain(LogisticRegression())\n",
    "# Training logistic regression model on train data\n",
    "classifier.fit(x_train, y_train)\n",
    "# predict\n",
    "predictions = classifier.predict(x_test)\n",
    "# accuracy\n",
    "print(\"Accuracy = \",accuracy_score(y_test,predictions))\n",
    "print(\"\\n\")\n",
    "\n",
    "# Calculate and print the classification report\n",
    "report = classification_report(y_test, predictions, zero_division=0)\n",
    "print(\"Classification Report:\\n\", report)\n"
   ]
  },
  {
   "cell_type": "markdown",
   "metadata": {},
   "source": [
    "## Classifier Chains - after resample"
   ]
  },
  {
   "cell_type": "code",
   "execution_count": 113,
   "metadata": {
    "tags": []
   },
   "outputs": [
    {
     "name": "stdout",
     "output_type": "stream",
     "text": [
      "Accuracy =  0.13098159509202453\n",
      "\n",
      "\n",
      "Classification Report:\n",
      "               precision    recall  f1-score   support\n",
      "\n",
      "           0       0.39      0.74      0.51       711\n",
      "           1       0.49      0.59      0.54      1118\n",
      "           2       0.54      0.62      0.57      1421\n",
      "           3       0.49      0.51      0.50       874\n",
      "           4       0.34      0.66      0.45       551\n",
      "\n",
      "   micro avg       0.45      0.61      0.52      4675\n",
      "   macro avg       0.45      0.62      0.51      4675\n",
      "weighted avg       0.47      0.61      0.53      4675\n",
      " samples avg       0.44      0.54      0.45      4675\n",
      "\n"
     ]
    }
   ],
   "source": [
    "from skmultilearn.problem_transform import ClassifierChain\n",
    "from sklearn.linear_model import LogisticRegression\n",
    "# initialize classifier chains multi-label classifier\n",
    "classifier = ClassifierChain(LogisticRegression())\n",
    "# Training logistic regression model on train data\n",
    "classifier.fit(x_train_resampled, y_train_resampled)\n",
    "# predict\n",
    "predictions = classifier.predict(x_test)\n",
    "# accuracy\n",
    "print(\"Accuracy = \",accuracy_score(y_test,predictions))\n",
    "print(\"\\n\")\n",
    "\n",
    "# Calculate and print the classification report\n",
    "report = classification_report(y_test, predictions, zero_division=0)\n",
    "print(\"Classification Report:\\n\", report)"
   ]
  },
  {
   "cell_type": "markdown",
   "metadata": {},
   "source": [
    "## Binary Relevance - before resample"
   ]
  },
  {
   "cell_type": "code",
   "execution_count": 114,
   "metadata": {
    "tags": []
   },
   "outputs": [
    {
     "name": "stdout",
     "output_type": "stream",
     "text": [
      "Accuracy =  0.09018404907975461\n",
      "Classification Report:\n",
      "               precision    recall  f1-score   support\n",
      "\n",
      "           0       0.33      0.73      0.45       711\n",
      "           1       0.43      0.60      0.50      1118\n",
      "           2       0.50      0.53      0.52      1421\n",
      "           3       0.34      0.74      0.46       874\n",
      "           4       0.26      0.67      0.38       551\n",
      "\n",
      "   micro avg       0.37      0.63      0.47      4675\n",
      "   macro avg       0.37      0.65      0.46      4675\n",
      "weighted avg       0.40      0.63      0.48      4675\n",
      " samples avg       0.34      0.54      0.39      4675\n",
      "\n"
     ]
    }
   ],
   "source": [
    "# using binary relevance\n",
    "from skmultilearn.problem_transform import BinaryRelevance\n",
    "from sklearn.naive_bayes import GaussianNB\n",
    "# initialize binary relevance multi-label classifier\n",
    "# with a gaussian naive bayes base classifier\n",
    "classifier = BinaryRelevance(GaussianNB())\n",
    "# train\n",
    "classifier.fit(x_train, y_train)\n",
    "# predict\n",
    "predictions = classifier.predict(x_test)\n",
    "# accuracy\n",
    "print(\"Accuracy = \",accuracy_score(y_test,predictions))\n",
    "\n",
    "# Calculate and print the classification report\n",
    "report = classification_report(y_test, predictions, zero_division=0)\n",
    "print(\"Classification Report:\\n\", report)"
   ]
  },
  {
   "cell_type": "markdown",
   "metadata": {},
   "source": [
    "## Binary Relevance - after resample"
   ]
  },
  {
   "cell_type": "code",
   "execution_count": 115,
   "metadata": {
    "tags": []
   },
   "outputs": [
    {
     "name": "stdout",
     "output_type": "stream",
     "text": [
      "Accuracy =  0.07668711656441718\n",
      "Classification Report:\n",
      "               precision    recall  f1-score   support\n",
      "\n",
      "           0       0.32      0.74      0.45       711\n",
      "           1       0.39      0.67      0.50      1118\n",
      "           2       0.51      0.57      0.54      1421\n",
      "           3       0.33      0.66      0.44       874\n",
      "           4       0.25      0.73      0.37       551\n",
      "\n",
      "   micro avg       0.36      0.66      0.46      4675\n",
      "   macro avg       0.36      0.67      0.46      4675\n",
      "weighted avg       0.39      0.66      0.48      4675\n",
      " samples avg       0.37      0.57      0.41      4675\n",
      "\n"
     ]
    }
   ],
   "source": [
    "# using binary relevance\n",
    "from skmultilearn.problem_transform import BinaryRelevance\n",
    "from sklearn.naive_bayes import GaussianNB\n",
    "# initialize binary relevance multi-label classifier\n",
    "# with a gaussian naive bayes base classifier\n",
    "classifier = BinaryRelevance(GaussianNB())\n",
    "# train\n",
    "classifier.fit(x_train_resampled, y_train_resampled)\n",
    "# predict\n",
    "predictions = classifier.predict(x_test)\n",
    "# accuracy\n",
    "print(\"Accuracy = \",accuracy_score(y_test,predictions))\n",
    "\n",
    "# Calculate and print the classification report\n",
    "report = classification_report(y_test, predictions, zero_division=0)\n",
    "print(\"Classification Report:\\n\", report)"
   ]
  },
  {
   "cell_type": "markdown",
   "metadata": {},
   "source": [
    "## Label Powerset - before resample"
   ]
  },
  {
   "cell_type": "code",
   "execution_count": 120,
   "metadata": {
    "tags": []
   },
   "outputs": [
    {
     "name": "stdout",
     "output_type": "stream",
     "text": [
      "Accuracy =  0.20889570552147238\n",
      "\n",
      "\n",
      "Classification Report:\n",
      "               precision    recall  f1-score   support\n",
      "\n",
      "           0       0.57      0.19      0.28       711\n",
      "           1       0.46      0.53      0.50      1118\n",
      "           2       0.61      0.37      0.46      1421\n",
      "           3       0.52      0.16      0.24       874\n",
      "           4       0.50      0.03      0.05       551\n",
      "\n",
      "   micro avg       0.53      0.30      0.38      4675\n",
      "   macro avg       0.53      0.25      0.31      4675\n",
      "weighted avg       0.54      0.30      0.35      4675\n",
      " samples avg       0.38      0.28      0.30      4675\n",
      "\n"
     ]
    }
   ],
   "source": [
    "# using Label Powerset\n",
    "from skmultilearn.problem_transform import LabelPowerset\n",
    "# initialize label powerset multi-label classifier\n",
    "classifier = LabelPowerset(LogisticRegression())\n",
    "# train\n",
    "classifier.fit(x_train, y_train)\n",
    "# predict\n",
    "predictions = classifier.predict(x_test)\n",
    "# accuracy\n",
    "print(\"Accuracy = \",accuracy_score(y_test,predictions))\n",
    "print(\"\\n\")\n",
    "\n",
    "# Calculate and print the classification report\n",
    "report = classification_report(y_test, predictions, zero_division=0)\n",
    "print(\"Classification Report:\\n\", report)"
   ]
  },
  {
   "cell_type": "markdown",
   "metadata": {},
   "source": [
    "## Label Powerset - after resample"
   ]
  },
  {
   "cell_type": "code",
   "execution_count": 117,
   "metadata": {
    "tags": []
   },
   "outputs": [
    {
     "name": "stdout",
     "output_type": "stream",
     "text": [
      "Accuracy =  0.09018404907975461\n",
      "\n",
      "\n",
      "Classification Report:\n",
      "               precision    recall  f1-score   support\n",
      "\n",
      "           0       0.33      0.77      0.46       711\n",
      "           1       0.42      0.57      0.49      1118\n",
      "           2       0.50      0.41      0.45      1421\n",
      "           3       0.36      0.44      0.39       874\n",
      "           4       0.24      0.79      0.37       551\n",
      "\n",
      "   micro avg       0.36      0.55      0.44      4675\n",
      "   macro avg       0.37      0.60      0.43      4675\n",
      "weighted avg       0.40      0.55      0.44      4675\n",
      " samples avg       0.34      0.47      0.37      4675\n",
      "\n"
     ]
    }
   ],
   "source": [
    "# using Label Powerset\n",
    "from skmultilearn.problem_transform import LabelPowerset\n",
    "# initialize label powerset multi-label classifier\n",
    "classifier = LabelPowerset(LogisticRegression())\n",
    "# train\n",
    "classifier.fit(x_train_resampled, y_train_resampled)\n",
    "# predict\n",
    "predictions = classifier.predict(x_test)\n",
    "# accuracy\n",
    "print(\"Accuracy = \",accuracy_score(y_test,predictions))\n",
    "print(\"\\n\")\n",
    "\n",
    "# Calculate and print the classification report\n",
    "report = classification_report(y_test, predictions, zero_division=0)\n",
    "print(\"Classification Report:\\n\", report)"
   ]
  },
  {
   "cell_type": "markdown",
   "metadata": {},
   "source": [
    "## Adapted Algorithm - before resample"
   ]
  },
  {
   "cell_type": "code",
   "execution_count": 7,
   "metadata": {
    "tags": []
   },
   "outputs": [],
   "source": [
    "y_train = y_train.values"
   ]
  },
  {
   "cell_type": "code",
   "execution_count": 8,
   "metadata": {
    "tags": []
   },
   "outputs": [
    {
     "name": "stdout",
     "output_type": "stream",
     "text": [
      "(7606, 500)\n",
      "(7606, 5)\n",
      "(3260, 500)\n",
      "<class 'numpy.ndarray'>\n",
      "<class 'numpy.ndarray'>\n",
      "<class 'numpy.ndarray'>\n"
     ]
    }
   ],
   "source": [
    "print(x_train.shape)\n",
    "print(y_train.shape)\n",
    "print(x_test.shape)\n",
    "print(type(x_train))\n",
    "print(type(y_train))\n",
    "print(type(x_test))"
   ]
  },
  {
   "cell_type": "code",
   "execution_count": null,
   "metadata": {
    "tags": []
   },
   "outputs": [],
   "source": [
    "!pip uninstall scikit-learn -y\n",
    "!pip install scikit-learn==0.24.1"
   ]
  },
  {
   "cell_type": "code",
   "execution_count": 9,
   "metadata": {
    "tags": []
   },
   "outputs": [
    {
     "name": "stderr",
     "output_type": "stream",
     "text": [
      "/Users/canxiuzhang/anaconda3/envs/nlp_3_9/lib/python3.9/site-packages/sklearn/utils/validation.py:70: FutureWarning: Pass n_neighbors=10 as keyword args. From version 1.0 (renaming of 0.25) passing these as positional arguments will result in an error\n",
      "  warnings.warn(f\"Pass {args_msg} as keyword args. From version \"\n"
     ]
    },
    {
     "name": "stdout",
     "output_type": "stream",
     "text": [
      "Accuracy =  0.1705521472392638\n"
     ]
    }
   ],
   "source": [
    "from skmultilearn.adapt import MLkNN\n",
    "from scipy.sparse import csr_matrix, lil_matrix\n",
    "\n",
    "n_neighbors = 10\n",
    "classifier_new = MLkNN(k=n_neighbors, s=n_neighbors//2) # n_neighbors is the number of output classes\n",
    "# Note that this classifier can throw up errors when handling sparse matrices.\n",
    "x_train = csr_matrix(lil_matrix(x_train))\n",
    "y_train = csr_matrix(lil_matrix(y_train))\n",
    "x_test = csr_matrix(lil_matrix(x_test))\n",
    "# train\n",
    "classifier_new.fit(x_train, y_train)\n",
    "# predict\n",
    "predictions_new = classifier_new.predict(x_test)\n",
    "# accuracy\n",
    "print(\"Accuracy = \",accuracy_score(y_test,predictions_new))"
   ]
  },
  {
   "cell_type": "code",
   "execution_count": 11,
   "metadata": {
    "tags": []
   },
   "outputs": [
    {
     "name": "stdout",
     "output_type": "stream",
     "text": [
      "Classification Report:\n",
      "               precision    recall  f1-score   support\n",
      "\n",
      "           0       0.49      0.36      0.42       711\n",
      "           1       0.51      0.30      0.38      1118\n",
      "           2       0.52      0.52      0.52      1421\n",
      "           3       0.47      0.30      0.37       874\n",
      "           4       0.45      0.17      0.24       551\n",
      "\n",
      "   micro avg       0.50      0.36      0.42      4675\n",
      "   macro avg       0.49      0.33      0.39      4675\n",
      "weighted avg       0.50      0.36      0.41      4675\n",
      " samples avg       0.37      0.32      0.32      4675\n",
      "\n"
     ]
    }
   ],
   "source": [
    "# Calculate and print the classification report\n",
    "report = classification_report(y_test, predictions_new, zero_division=0)\n",
    "print(\"Classification Report:\\n\", report)"
   ]
  },
  {
   "cell_type": "markdown",
   "metadata": {},
   "source": [
    "## Adapted Algorithm - after resample"
   ]
  },
  {
   "cell_type": "code",
   "execution_count": 12,
   "metadata": {
    "tags": []
   },
   "outputs": [
    {
     "name": "stderr",
     "output_type": "stream",
     "text": [
      "/Users/canxiuzhang/anaconda3/envs/nlp_3_9/lib/python3.9/site-packages/sklearn/utils/validation.py:70: FutureWarning: Pass n_neighbors=10 as keyword args. From version 1.0 (renaming of 0.25) passing these as positional arguments will result in an error\n",
      "  warnings.warn(f\"Pass {args_msg} as keyword args. From version \"\n"
     ]
    },
    {
     "ename": "ValueError",
     "evalue": "Inexact indices into sparse matrices are not allowed",
     "output_type": "error",
     "traceback": [
      "\u001b[0;31m---------------------------------------------------------------------------\u001b[0m",
      "\u001b[0;31mTypeError\u001b[0m                                 Traceback (most recent call last)",
      "File \u001b[0;32m~/anaconda3/envs/nlp_3_9/lib/python3.9/site-packages/scipy/sparse/_sputils.py:225\u001b[0m, in \u001b[0;36misintlike\u001b[0;34m(x)\u001b[0m\n\u001b[1;32m    224\u001b[0m \u001b[38;5;28;01mtry\u001b[39;00m:\n\u001b[0;32m--> 225\u001b[0m     \u001b[43moperator\u001b[49m\u001b[38;5;241;43m.\u001b[39;49m\u001b[43mindex\u001b[49m\u001b[43m(\u001b[49m\u001b[43mx\u001b[49m\u001b[43m)\u001b[49m\n\u001b[1;32m    226\u001b[0m \u001b[38;5;28;01mexcept\u001b[39;00m (\u001b[38;5;167;01mTypeError\u001b[39;00m, \u001b[38;5;167;01mValueError\u001b[39;00m):\n",
      "\u001b[0;31mTypeError\u001b[0m: 'numpy.float64' object cannot be interpreted as an integer",
      "\nDuring handling of the above exception, another exception occurred:\n",
      "\u001b[0;31mValueError\u001b[0m                                Traceback (most recent call last)",
      "Cell \u001b[0;32mIn[12], line 11\u001b[0m\n\u001b[1;32m      9\u001b[0m x_test \u001b[38;5;241m=\u001b[39m csr_matrix(lil_matrix(x_test))\n\u001b[1;32m     10\u001b[0m \u001b[38;5;66;03m# train\u001b[39;00m\n\u001b[0;32m---> 11\u001b[0m \u001b[43mclassifier_new\u001b[49m\u001b[38;5;241;43m.\u001b[39;49m\u001b[43mfit\u001b[49m\u001b[43m(\u001b[49m\u001b[43mx_train\u001b[49m\u001b[43m,\u001b[49m\u001b[43m \u001b[49m\u001b[43my_train\u001b[49m\u001b[43m)\u001b[49m\n\u001b[1;32m     12\u001b[0m \u001b[38;5;66;03m# predict\u001b[39;00m\n\u001b[1;32m     13\u001b[0m predictions_new \u001b[38;5;241m=\u001b[39m classifier_new\u001b[38;5;241m.\u001b[39mpredict(x_test)\n",
      "File \u001b[0;32m~/anaconda3/envs/nlp_3_9/lib/python3.9/site-packages/skmultilearn/adapt/mlknn.py:218\u001b[0m, in \u001b[0;36mMLkNN.fit\u001b[0;34m(self, X, y)\u001b[0m\n\u001b[1;32m    216\u001b[0m \u001b[38;5;28mself\u001b[39m\u001b[38;5;241m.\u001b[39m_prior_prob_true, \u001b[38;5;28mself\u001b[39m\u001b[38;5;241m.\u001b[39m_prior_prob_false \u001b[38;5;241m=\u001b[39m \u001b[38;5;28mself\u001b[39m\u001b[38;5;241m.\u001b[39m_compute_prior(\u001b[38;5;28mself\u001b[39m\u001b[38;5;241m.\u001b[39m_label_cache)\n\u001b[1;32m    217\u001b[0m \u001b[38;5;66;03m# Computing the posterior probabilities\u001b[39;00m\n\u001b[0;32m--> 218\u001b[0m \u001b[38;5;28mself\u001b[39m\u001b[38;5;241m.\u001b[39m_cond_prob_true, \u001b[38;5;28mself\u001b[39m\u001b[38;5;241m.\u001b[39m_cond_prob_false \u001b[38;5;241m=\u001b[39m \u001b[38;5;28;43mself\u001b[39;49m\u001b[38;5;241;43m.\u001b[39;49m\u001b[43m_compute_cond\u001b[49m\u001b[43m(\u001b[49m\u001b[43mX\u001b[49m\u001b[43m,\u001b[49m\u001b[43m \u001b[49m\u001b[38;5;28;43mself\u001b[39;49m\u001b[38;5;241;43m.\u001b[39;49m\u001b[43m_label_cache\u001b[49m\u001b[43m)\u001b[49m\n\u001b[1;32m    219\u001b[0m \u001b[38;5;28;01mreturn\u001b[39;00m \u001b[38;5;28mself\u001b[39m\n",
      "File \u001b[0;32m~/anaconda3/envs/nlp_3_9/lib/python3.9/site-packages/skmultilearn/adapt/mlknn.py:180\u001b[0m, in \u001b[0;36mMLkNN._compute_cond\u001b[0;34m(self, X, y)\u001b[0m\n\u001b[1;32m    178\u001b[0m             c[label, deltas[\u001b[38;5;241m0\u001b[39m, label]] \u001b[38;5;241m+\u001b[39m\u001b[38;5;241m=\u001b[39m \u001b[38;5;241m1\u001b[39m\n\u001b[1;32m    179\u001b[0m         \u001b[38;5;28;01melse\u001b[39;00m:\n\u001b[0;32m--> 180\u001b[0m             cn[label, deltas[\u001b[38;5;241m0\u001b[39m, label]] \u001b[38;5;241m+\u001b[39m\u001b[38;5;241m=\u001b[39m \u001b[38;5;241m1\u001b[39m\n\u001b[1;32m    182\u001b[0m c_sum \u001b[38;5;241m=\u001b[39m c\u001b[38;5;241m.\u001b[39msum(axis\u001b[38;5;241m=\u001b[39m\u001b[38;5;241m1\u001b[39m)\n\u001b[1;32m    183\u001b[0m cn_sum \u001b[38;5;241m=\u001b[39m cn\u001b[38;5;241m.\u001b[39msum(axis\u001b[38;5;241m=\u001b[39m\u001b[38;5;241m1\u001b[39m)\n",
      "File \u001b[0;32m~/anaconda3/envs/nlp_3_9/lib/python3.9/site-packages/scipy/sparse/_lil.py:210\u001b[0m, in \u001b[0;36mlil_matrix.__getitem__\u001b[0;34m(self, key)\u001b[0m\n\u001b[1;32m    208\u001b[0m     \u001b[38;5;28;01mreturn\u001b[39;00m \u001b[38;5;28mself\u001b[39m\u001b[38;5;241m.\u001b[39m_get_intXint(\u001b[38;5;241m*\u001b[39mkey)\n\u001b[1;32m    209\u001b[0m \u001b[38;5;66;03m# Everything else takes the normal path.\u001b[39;00m\n\u001b[0;32m--> 210\u001b[0m \u001b[38;5;28;01mreturn\u001b[39;00m \u001b[43mIndexMixin\u001b[49m\u001b[38;5;241;43m.\u001b[39;49m\u001b[38;5;21;43m__getitem__\u001b[39;49m\u001b[43m(\u001b[49m\u001b[38;5;28;43mself\u001b[39;49m\u001b[43m,\u001b[49m\u001b[43m \u001b[49m\u001b[43mkey\u001b[49m\u001b[43m)\u001b[49m\n",
      "File \u001b[0;32m~/anaconda3/envs/nlp_3_9/lib/python3.9/site-packages/scipy/sparse/_index.py:47\u001b[0m, in \u001b[0;36mIndexMixin.__getitem__\u001b[0;34m(self, key)\u001b[0m\n\u001b[1;32m     46\u001b[0m \u001b[38;5;28;01mdef\u001b[39;00m \u001b[38;5;21m__getitem__\u001b[39m(\u001b[38;5;28mself\u001b[39m, key):\n\u001b[0;32m---> 47\u001b[0m     row, col \u001b[38;5;241m=\u001b[39m \u001b[38;5;28;43mself\u001b[39;49m\u001b[38;5;241;43m.\u001b[39;49m\u001b[43m_validate_indices\u001b[49m\u001b[43m(\u001b[49m\u001b[43mkey\u001b[49m\u001b[43m)\u001b[49m\n\u001b[1;32m     49\u001b[0m     \u001b[38;5;66;03m# Dispatch to specialized methods.\u001b[39;00m\n\u001b[1;32m     50\u001b[0m     \u001b[38;5;28;01mif\u001b[39;00m \u001b[38;5;28misinstance\u001b[39m(row, INT_TYPES):\n",
      "File \u001b[0;32m~/anaconda3/envs/nlp_3_9/lib/python3.9/site-packages/scipy/sparse/_index.py:161\u001b[0m, in \u001b[0;36mIndexMixin._validate_indices\u001b[0;34m(self, key)\u001b[0m\n\u001b[1;32m    158\u001b[0m \u001b[38;5;28;01melif\u001b[39;00m \u001b[38;5;129;01mnot\u001b[39;00m \u001b[38;5;28misinstance\u001b[39m(row, \u001b[38;5;28mslice\u001b[39m):\n\u001b[1;32m    159\u001b[0m     row \u001b[38;5;241m=\u001b[39m \u001b[38;5;28mself\u001b[39m\u001b[38;5;241m.\u001b[39m_asindices(row, M)\n\u001b[0;32m--> 161\u001b[0m \u001b[38;5;28;01mif\u001b[39;00m \u001b[43misintlike\u001b[49m\u001b[43m(\u001b[49m\u001b[43mcol\u001b[49m\u001b[43m)\u001b[49m:\n\u001b[1;32m    162\u001b[0m     col \u001b[38;5;241m=\u001b[39m \u001b[38;5;28mint\u001b[39m(col)\n\u001b[1;32m    163\u001b[0m     \u001b[38;5;28;01mif\u001b[39;00m col \u001b[38;5;241m<\u001b[39m \u001b[38;5;241m-\u001b[39mN \u001b[38;5;129;01mor\u001b[39;00m col \u001b[38;5;241m>\u001b[39m\u001b[38;5;241m=\u001b[39m N:\n",
      "File \u001b[0;32m~/anaconda3/envs/nlp_3_9/lib/python3.9/site-packages/scipy/sparse/_sputils.py:233\u001b[0m, in \u001b[0;36misintlike\u001b[0;34m(x)\u001b[0m\n\u001b[1;32m    231\u001b[0m     \u001b[38;5;28;01mif\u001b[39;00m loose_int:\n\u001b[1;32m    232\u001b[0m         msg \u001b[38;5;241m=\u001b[39m \u001b[38;5;124m\"\u001b[39m\u001b[38;5;124mInexact indices into sparse matrices are not allowed\u001b[39m\u001b[38;5;124m\"\u001b[39m\n\u001b[0;32m--> 233\u001b[0m         \u001b[38;5;28;01mraise\u001b[39;00m \u001b[38;5;167;01mValueError\u001b[39;00m(msg)\n\u001b[1;32m    234\u001b[0m     \u001b[38;5;28;01mreturn\u001b[39;00m loose_int\n\u001b[1;32m    235\u001b[0m \u001b[38;5;28;01mreturn\u001b[39;00m \u001b[38;5;28;01mTrue\u001b[39;00m\n",
      "\u001b[0;31mValueError\u001b[0m: Inexact indices into sparse matrices are not allowed"
     ]
    }
   ],
   "source": [
    "from skmultilearn.adapt import MLkNN\n",
    "from scipy.sparse import csr_matrix, lil_matrix\n",
    "\n",
    "n_neighbors = 10\n",
    "classifier_new = MLkNN(k=n_neighbors, s=n_neighbors//2) # n_neighbors is the number of output classes\n",
    "# Note that this classifier can throw up errors when handling sparse matrices.\n",
    "x_train = csr_matrix(lil_matrix(x_train_resampled))\n",
    "y_train = csr_matrix(lil_matrix(y_train_resampled))\n",
    "x_test = csr_matrix(lil_matrix(x_test))\n",
    "# train\n",
    "classifier_new.fit(x_train, y_train)\n",
    "# predict\n",
    "predictions_new = classifier_new.predict(x_test)\n",
    "# accuracy\n",
    "print(\"Accuracy = \",accuracy_score(y_test,predictions_new))\n",
    "\n",
    "# Calculate and print the classification report\n",
    "report = classification_report(y_test, predictions_new, zero_division=0)\n",
    "print(\"Classification Report:\\n\", report)"
   ]
  },
  {
   "cell_type": "markdown",
   "metadata": {},
   "source": [
    "1. use selected features\n",
    "2. hyper parameter tuning\n",
    "3. ** try w2v from google\n",
    "4. ensemble - one line for now"
   ]
  }
 ],
 "metadata": {
  "accelerator": "GPU",
  "colab": {
   "include_colab_link": true,
   "provenance": [],
   "toc_visible": true
  },
  "gpuClass": "standard",
  "kernelspec": {
   "display_name": "nlp_3_9",
   "language": "python",
   "name": "nlp_3_9"
  },
  "language_info": {
   "codemirror_mode": {
    "name": "ipython",
    "version": 3
   },
   "file_extension": ".py",
   "mimetype": "text/x-python",
   "name": "python",
   "nbconvert_exporter": "python",
   "pygments_lexer": "ipython3",
   "version": "3.9.16"
  }
 },
 "nbformat": 4,
 "nbformat_minor": 4
}
