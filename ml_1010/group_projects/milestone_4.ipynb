{
 "cells": [
  {
   "cell_type": "markdown",
   "metadata": {
    "colab_type": "text",
    "id": "view-in-github"
   },
   "source": [
    "<a href=\"https://colab.research.google.com/github/canxiu-zhang/ML_YUniv/blob/main/ml_1010/group_projects/milestone_4.ipynb\" target=\"_parent\"><img src=\"https://colab.research.google.com/assets/colab-badge.svg\" alt=\"Open In Colab\"/></a>"
   ]
  },
  {
   "cell_type": "code",
   "execution_count": 11,
   "metadata": {
    "tags": []
   },
   "outputs": [],
   "source": [
    "import numpy as np\n",
    "import pandas as pd\n",
    "\n",
    "categories = ['Action', 'Comedy', 'Drama', 'Thriller', 'Romance']\n",
    "train = pd.read_csv('train.csv', keep_default_na=False, na_values=[''])\n",
    "test = pd.read_csv('test.csv', keep_default_na=False, na_values=[''])\n",
    "avg_wv_train_features = np.loadtxt('avg_wv_train_features.csv', delimiter=',')\n",
    "avg_wv_test_features = np.loadtxt('avg_wv_test_features.csv', delimiter=',')\n",
    "x_train_resampled = np.loadtxt('X_train_resampled.csv', delimiter=',')\n",
    "y_train_resampled = np.loadtxt('y_train_resampled.csv', delimiter=',')\n",
    "\n",
    "x_train = avg_wv_train_features\n",
    "x_test = avg_wv_test_features\n",
    "y_train = train[categories]\n",
    "y_test = test[categories]\n",
    "\n",
    "top_50_features = [474, 148, 252, 257, 400, 71, 319, 92, 163, 124, 254, 10, 454, 293, 426, 33, 336, 411, 165, 121, 65, 284, 117, 245, 160, 201, 235, 145, 401, 288, 475, 466, 212, 46, 19, 409, 297, 134, 41, 443, 295, 316, 63, 263, 194, 452, 106, 248, 128, 422]\n",
    "top_15_features = [90,69,122,190,84,124,99,17,3,286,210,253,241,346,40]\n",
    "x_train_resampled_selected = x_train_resampled[:, top_50_features]\n",
    "x_test_selected = x_test[:, top_50_features]"
   ]
  },
  {
   "cell_type": "code",
   "execution_count": 3,
   "metadata": {
    "tags": []
   },
   "outputs": [
    {
     "name": "stderr",
     "output_type": "stream",
     "text": [
      "2023-05-03 23:35:42.185765: I tensorflow/core/platform/cpu_feature_guard.cc:193] This TensorFlow binary is optimized with oneAPI Deep Neural Network Library (oneDNN) to use the following CPU instructions in performance-critical operations:  AVX2 FMA\n",
      "To enable them in other operations, rebuild TensorFlow with the appropriate compiler flags.\n"
     ]
    }
   ],
   "source": [
    "from sklearn.preprocessing import MultiLabelBinarizer\n",
    "from keras.models import Sequential\n",
    "from keras.layers import Dense"
   ]
  },
  {
   "cell_type": "code",
   "execution_count": 5,
   "metadata": {
    "tags": []
   },
   "outputs": [],
   "source": [
    "# Step 2: Preprocess the data\n",
    "# mlb = MultiLabelBinarizer()\n",
    "# y_train_resampled = mlb.fit_transform(y_train_resampled)\n",
    "# y_test = mlb.transform(y_test.values)"
   ]
  },
  {
   "cell_type": "code",
   "execution_count": 12,
   "metadata": {
    "tags": []
   },
   "outputs": [
    {
     "data": {
      "text/plain": [
       "(32451, 5)"
      ]
     },
     "execution_count": 12,
     "metadata": {},
     "output_type": "execute_result"
    }
   ],
   "source": [
    "y_train_resampled.shape"
   ]
  },
  {
   "cell_type": "code",
   "execution_count": 13,
   "metadata": {
    "tags": []
   },
   "outputs": [],
   "source": [
    "# Step 3: Define the model architecture\n",
    "model = Sequential()\n",
    "model.add(Dense(64, input_shape=(50,), activation='relu'))\n",
    "model.add(Dense(32, activation='relu'))\n",
    "model.add(Dense(5, activation='sigmoid'))"
   ]
  },
  {
   "cell_type": "code",
   "execution_count": 14,
   "metadata": {
    "tags": []
   },
   "outputs": [],
   "source": [
    "# Step 4: Compile the model\n",
    "model.compile(loss='binary_crossentropy', optimizer='adam', metrics=['accuracy'])\n"
   ]
  },
  {
   "cell_type": "code",
   "execution_count": 15,
   "metadata": {
    "tags": []
   },
   "outputs": [
    {
     "name": "stdout",
     "output_type": "stream",
     "text": [
      "Epoch 1/50\n",
      "812/812 [==============================] - 3s 2ms/step - loss: 0.6535 - accuracy: 0.2985 - val_loss: 0.8205 - val_accuracy: 0.0860\n",
      "Epoch 2/50\n",
      "812/812 [==============================] - 2s 2ms/step - loss: 0.6291 - accuracy: 0.3909 - val_loss: 0.8601 - val_accuracy: 0.1357\n",
      "Epoch 3/50\n",
      "812/812 [==============================] - 1s 2ms/step - loss: 0.6210 - accuracy: 0.3506 - val_loss: 0.8543 - val_accuracy: 0.1542\n",
      "Epoch 4/50\n",
      "812/812 [==============================] - 1s 2ms/step - loss: 0.6163 - accuracy: 0.3262 - val_loss: 0.8481 - val_accuracy: 0.0724\n",
      "Epoch 5/50\n",
      "812/812 [==============================] - 1s 2ms/step - loss: 0.6130 - accuracy: 0.3053 - val_loss: 0.8540 - val_accuracy: 0.0652\n",
      "Epoch 6/50\n",
      "812/812 [==============================] - 2s 2ms/step - loss: 0.6099 - accuracy: 0.3027 - val_loss: 0.8557 - val_accuracy: 0.0599\n",
      "Epoch 7/50\n",
      "812/812 [==============================] - 2s 2ms/step - loss: 0.6070 - accuracy: 0.2998 - val_loss: 0.8442 - val_accuracy: 0.0410\n",
      "Epoch 8/50\n",
      "812/812 [==============================] - 2s 2ms/step - loss: 0.6046 - accuracy: 0.3100 - val_loss: 0.8622 - val_accuracy: 0.0633\n",
      "Epoch 9/50\n",
      "812/812 [==============================] - 2s 2ms/step - loss: 0.6022 - accuracy: 0.3101 - val_loss: 0.8410 - val_accuracy: 0.0904\n",
      "Epoch 10/50\n",
      "812/812 [==============================] - 2s 2ms/step - loss: 0.6007 - accuracy: 0.3073 - val_loss: 0.8311 - val_accuracy: 0.1388\n",
      "Epoch 11/50\n",
      "812/812 [==============================] - 2s 2ms/step - loss: 0.5997 - accuracy: 0.3121 - val_loss: 0.8266 - val_accuracy: 0.1168\n",
      "Epoch 12/50\n",
      "812/812 [==============================] - 3s 4ms/step - loss: 0.5988 - accuracy: 0.3090 - val_loss: 0.8401 - val_accuracy: 0.1031\n",
      "Epoch 13/50\n",
      "812/812 [==============================] - 3s 3ms/step - loss: 0.5978 - accuracy: 0.3098 - val_loss: 0.8497 - val_accuracy: 0.0961\n",
      "Epoch 14/50\n",
      "812/812 [==============================] - 1s 2ms/step - loss: 0.5971 - accuracy: 0.3119 - val_loss: 0.8407 - val_accuracy: 0.1249\n",
      "Epoch 15/50\n",
      "812/812 [==============================] - 1s 2ms/step - loss: 0.5968 - accuracy: 0.3158 - val_loss: 0.8119 - val_accuracy: 0.0880\n",
      "Epoch 16/50\n",
      "812/812 [==============================] - 1s 2ms/step - loss: 0.5959 - accuracy: 0.3142 - val_loss: 0.8382 - val_accuracy: 0.0944\n",
      "Epoch 17/50\n",
      "812/812 [==============================] - 1s 2ms/step - loss: 0.5950 - accuracy: 0.3201 - val_loss: 0.8486 - val_accuracy: 0.0753\n",
      "Epoch 18/50\n",
      "812/812 [==============================] - 2s 2ms/step - loss: 0.5943 - accuracy: 0.3204 - val_loss: 0.8497 - val_accuracy: 0.0838\n",
      "Epoch 19/50\n",
      "812/812 [==============================] - 1s 2ms/step - loss: 0.5934 - accuracy: 0.3268 - val_loss: 0.8598 - val_accuracy: 0.1174\n",
      "Epoch 20/50\n",
      "812/812 [==============================] - 1s 2ms/step - loss: 0.5928 - accuracy: 0.3269 - val_loss: 0.8219 - val_accuracy: 0.1098\n",
      "Epoch 21/50\n",
      "812/812 [==============================] - 1s 2ms/step - loss: 0.5915 - accuracy: 0.3290 - val_loss: 0.8432 - val_accuracy: 0.1032\n",
      "Epoch 22/50\n",
      "812/812 [==============================] - 1s 2ms/step - loss: 0.5915 - accuracy: 0.3319 - val_loss: 0.8223 - val_accuracy: 0.0943\n",
      "Epoch 23/50\n",
      "812/812 [==============================] - 1s 2ms/step - loss: 0.5905 - accuracy: 0.3317 - val_loss: 0.8499 - val_accuracy: 0.1015\n",
      "Epoch 24/50\n",
      "812/812 [==============================] - 2s 2ms/step - loss: 0.5894 - accuracy: 0.3332 - val_loss: 0.8614 - val_accuracy: 0.1390\n",
      "Epoch 25/50\n",
      "812/812 [==============================] - 1s 2ms/step - loss: 0.5889 - accuracy: 0.3327 - val_loss: 0.8402 - val_accuracy: 0.0951\n",
      "Epoch 26/50\n",
      "812/812 [==============================] - 1s 2ms/step - loss: 0.5878 - accuracy: 0.3329 - val_loss: 0.8244 - val_accuracy: 0.1232\n",
      "Epoch 27/50\n",
      "812/812 [==============================] - 2s 3ms/step - loss: 0.5870 - accuracy: 0.3310 - val_loss: 0.7529 - val_accuracy: 0.1174\n",
      "Epoch 28/50\n",
      "812/812 [==============================] - 2s 2ms/step - loss: 0.5863 - accuracy: 0.3334 - val_loss: 0.8688 - val_accuracy: 0.1875\n",
      "Epoch 29/50\n",
      "812/812 [==============================] - 1s 2ms/step - loss: 0.5857 - accuracy: 0.3426 - val_loss: 0.8376 - val_accuracy: 0.1117\n",
      "Epoch 30/50\n",
      "812/812 [==============================] - 2s 2ms/step - loss: 0.5849 - accuracy: 0.3412 - val_loss: 0.8207 - val_accuracy: 0.1468\n",
      "Epoch 31/50\n",
      "812/812 [==============================] - 1s 2ms/step - loss: 0.5842 - accuracy: 0.3359 - val_loss: 0.7659 - val_accuracy: 0.1960\n",
      "Epoch 32/50\n",
      "812/812 [==============================] - 2s 2ms/step - loss: 0.5835 - accuracy: 0.3384 - val_loss: 0.8207 - val_accuracy: 0.0910\n",
      "Epoch 33/50\n",
      "812/812 [==============================] - 1s 2ms/step - loss: 0.5830 - accuracy: 0.3346 - val_loss: 0.8461 - val_accuracy: 0.1365\n",
      "Epoch 34/50\n",
      "812/812 [==============================] - 2s 2ms/step - loss: 0.5823 - accuracy: 0.3401 - val_loss: 0.8473 - val_accuracy: 0.1727\n",
      "Epoch 35/50\n",
      "812/812 [==============================] - 1s 2ms/step - loss: 0.5817 - accuracy: 0.3385 - val_loss: 0.8486 - val_accuracy: 0.1015\n",
      "Epoch 36/50\n",
      "812/812 [==============================] - 1s 2ms/step - loss: 0.5810 - accuracy: 0.3392 - val_loss: 0.7932 - val_accuracy: 0.1892\n",
      "Epoch 37/50\n",
      "812/812 [==============================] - 2s 2ms/step - loss: 0.5801 - accuracy: 0.3379 - val_loss: 0.8256 - val_accuracy: 0.1685\n",
      "Epoch 38/50\n",
      "812/812 [==============================] - 1s 2ms/step - loss: 0.5803 - accuracy: 0.3420 - val_loss: 0.9066 - val_accuracy: 0.0858\n",
      "Epoch 39/50\n",
      "812/812 [==============================] - 1s 2ms/step - loss: 0.5790 - accuracy: 0.3408 - val_loss: 0.8016 - val_accuracy: 0.1997\n",
      "Epoch 40/50\n",
      "812/812 [==============================] - 1s 2ms/step - loss: 0.5787 - accuracy: 0.3392 - val_loss: 0.8401 - val_accuracy: 0.1405\n",
      "Epoch 41/50\n",
      "812/812 [==============================] - 1s 2ms/step - loss: 0.5779 - accuracy: 0.3459 - val_loss: 0.8399 - val_accuracy: 0.1782\n",
      "Epoch 42/50\n",
      "812/812 [==============================] - 2s 2ms/step - loss: 0.5778 - accuracy: 0.3435 - val_loss: 0.8365 - val_accuracy: 0.2559\n",
      "Epoch 43/50\n",
      "812/812 [==============================] - 1s 2ms/step - loss: 0.5765 - accuracy: 0.3442 - val_loss: 0.8359 - val_accuracy: 0.2544\n",
      "Epoch 44/50\n",
      "812/812 [==============================] - 1s 2ms/step - loss: 0.5766 - accuracy: 0.3428 - val_loss: 0.8350 - val_accuracy: 0.2040\n",
      "Epoch 45/50\n",
      "812/812 [==============================] - 1s 2ms/step - loss: 0.5755 - accuracy: 0.3504 - val_loss: 0.8876 - val_accuracy: 0.0511\n",
      "Epoch 46/50\n",
      "812/812 [==============================] - 1s 2ms/step - loss: 0.5753 - accuracy: 0.3462 - val_loss: 0.8393 - val_accuracy: 0.1516\n",
      "Epoch 47/50\n",
      "812/812 [==============================] - 2s 2ms/step - loss: 0.5746 - accuracy: 0.3470 - val_loss: 0.8165 - val_accuracy: 0.1676\n",
      "Epoch 48/50\n",
      "812/812 [==============================] - 2s 2ms/step - loss: 0.5739 - accuracy: 0.3482 - val_loss: 0.8072 - val_accuracy: 0.1490\n",
      "Epoch 49/50\n",
      "812/812 [==============================] - 2s 2ms/step - loss: 0.5737 - accuracy: 0.3470 - val_loss: 0.7879 - val_accuracy: 0.1487\n",
      "Epoch 50/50\n",
      "812/812 [==============================] - 1s 2ms/step - loss: 0.5731 - accuracy: 0.3498 - val_loss: 0.8083 - val_accuracy: 0.1388\n"
     ]
    },
    {
     "data": {
      "text/plain": [
       "<keras.callbacks.History at 0x7f819ea70220>"
      ]
     },
     "execution_count": 15,
     "metadata": {},
     "output_type": "execute_result"
    }
   ],
   "source": [
    "# Step 5: Train the model\n",
    "model.fit(x_train_resampled_selected, y_train_resampled, epochs=50, batch_size=32, validation_split=0.2)\n"
   ]
  },
  {
   "cell_type": "code",
   "execution_count": 17,
   "metadata": {
    "tags": []
   },
   "outputs": [
    {
     "name": "stdout",
     "output_type": "stream",
     "text": [
      "102/102 [==============================] - 0s 1ms/step - loss: 0.5750 - accuracy: 0.3567\n",
      "Test accuracy: 0.35674846172332764\n"
     ]
    }
   ],
   "source": [
    "# Step 6: Evaluate the model on the test set\n",
    "scores = model.evaluate(x_test_selected, y_test)\n",
    "print(\"Test accuracy:\", scores[1])"
   ]
  }
 ],
 "metadata": {
  "colab": {
   "authorship_tag": "ABX9TyN27WrpLtCQ9yYLBZQ8coLq",
   "include_colab_link": true,
   "provenance": []
  },
  "kernelspec": {
   "display_name": "nlp_3_9",
   "language": "python",
   "name": "nlp_3_9"
  },
  "language_info": {
   "codemirror_mode": {
    "name": "ipython",
    "version": 3
   },
   "file_extension": ".py",
   "mimetype": "text/x-python",
   "name": "python",
   "nbconvert_exporter": "python",
   "pygments_lexer": "ipython3",
   "version": "3.9.16"
  }
 },
 "nbformat": 4,
 "nbformat_minor": 4
}
